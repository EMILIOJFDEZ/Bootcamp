{
 "cells": [
  {
   "cell_type": "markdown",
   "metadata": {
    "vscode": {
     "languageId": "plaintext"
    }
   },
   "source": [
    "Cargar el dataset FuelConsumptionCo2.csv en numpy\n",
    "\n",
    "lo habitual es cargarlo con pandas"
   ]
  },
  {
   "cell_type": "markdown",
   "metadata": {},
   "source": [
    "## CARGA DE DATOS\n",
    "\n",
    "* pickle.load\n",
    "* numpy.genfromtxt"
   ]
  },
  {
   "cell_type": "code",
   "execution_count": 1,
   "metadata": {
    "ExecuteTime": {
     "end_time": "2024-12-18T14:39:44.698784Z",
     "start_time": "2024-12-18T14:39:44.691211Z"
    }
   },
   "outputs": [],
   "source": [
    "import numpy as np\n",
    "import matplotlib.pyplot as plt\n",
    "from scipy import stats\n",
    "\n",
    "import pickle as pkl"
   ]
  },
  {
   "cell_type": "code",
   "execution_count": null,
   "metadata": {
    "ExecuteTime": {
     "end_time": "2024-12-18T14:39:44.810094Z",
     "start_time": "2024-12-18T14:39:44.774906Z"
    }
   },
   "outputs": [],
   "source": [
    "with open(\"../Data/FUELCONSUMPTION_CITY.pkl\", \"br\") as f:\n",
    "    city_consumption = pkl.load(f)\n",
    "    \n",
    "city_consumption"
   ]
  },
  {
   "cell_type": "code",
   "execution_count": null,
   "metadata": {
    "ExecuteTime": {
     "end_time": "2024-12-18T14:39:45.592556Z",
     "start_time": "2024-12-18T14:39:45.562175Z"
    }
   },
   "outputs": [],
   "source": [
    "print(city_consumption.dtype)"
   ]
  },
  {
   "cell_type": "code",
   "execution_count": 4,
   "metadata": {
    "ExecuteTime": {
     "end_time": "2024-12-18T14:39:45.786646Z",
     "start_time": "2024-12-18T14:39:45.713267Z"
    }
   },
   "outputs": [],
   "source": [
    "\n",
    "# Cargamos la columna 8 del CSV en un array de numpy: es la columna de consumo de combustible por ciudad\n",
    "# city_consumption = np.genfromtxt(\"../Data/FuelConsumptionCo2.csv\", usecols=(8), delimiter=\",\", skip_header=1) # float64\n",
    "city_consumption = np.genfromtxt(\"../Data/FuelConsumptionCo2.csv\", usecols=(8), delimiter=\",\", skip_header=1, dtype=np.float32)\n",
    "road_consumption = np.genfromtxt(\"../Data/FuelConsumptionCo2.csv\", usecols=(9), delimiter=\",\", skip_header=1, dtype=np.float32)\n",
    "manufacturers = np.genfromtxt(\"../Data/FuelConsumptionCo2.csv\", usecols=(1), delimiter=\",\", skip_header=1, dtype=str)"
   ]
  },
  {
   "cell_type": "code",
   "execution_count": null,
   "metadata": {
    "ExecuteTime": {
     "end_time": "2024-12-18T14:39:45.911916Z",
     "start_time": "2024-12-18T14:39:45.894387Z"
    }
   },
   "outputs": [],
   "source": [
    "print(city_consumption.dtype)\n",
    "print(city_consumption.shape)"
   ]
  },
  {
   "cell_type": "code",
   "execution_count": null,
   "metadata": {
    "ExecuteTime": {
     "end_time": "2024-12-18T14:39:46.122896Z",
     "start_time": "2024-12-18T14:39:46.104260Z"
    }
   },
   "outputs": [],
   "source": [
    "manufacturers"
   ]
  },
  {
   "cell_type": "code",
   "execution_count": null,
   "metadata": {
    "ExecuteTime": {
     "end_time": "2024-12-18T14:39:46.295400Z",
     "start_time": "2024-12-18T14:39:46.282049Z"
    }
   },
   "outputs": [],
   "source": [
    "print(manufacturers.dtype)\n",
    "print(manufacturers.shape)"
   ]
  },
  {
   "cell_type": "markdown",
   "metadata": {},
   "source": [
    "## MEDIA"
   ]
  },
  {
   "cell_type": "code",
   "execution_count": null,
   "metadata": {
    "ExecuteTime": {
     "end_time": "2024-12-18T14:39:46.448077Z",
     "start_time": "2024-12-18T14:39:46.432695Z"
    }
   },
   "outputs": [],
   "source": [
    "print(f\"Consumo medio en ciudad: {np.mean(city_consumption)}\")\n",
    "print(f\"Consumo medio en carretera: {np.mean(road_consumption)}\")\n",
    "# print(f\"Consumo medio en ciudad: {np.around(np.mean(city_consumption), 2):.2f}\")\n",
    "# print(f\"Consumo medio en ciudad: {round(np.mean(city_consumption), 2):.2f}\")"
   ]
  },
  {
   "cell_type": "markdown",
   "metadata": {},
   "source": [
    "## MEDIANA"
   ]
  },
  {
   "cell_type": "code",
   "execution_count": null,
   "metadata": {
    "ExecuteTime": {
     "end_time": "2024-12-18T14:39:46.734199Z",
     "start_time": "2024-12-18T14:39:46.605988Z"
    }
   },
   "outputs": [],
   "source": [
    "print(f\"Mediana de combustible en ciudad: {np.median(city_consumption)}\")\n",
    "print(f\"Mediana de combustible en carretera: {np.median(road_consumption)}\")"
   ]
  },
  {
   "cell_type": "markdown",
   "metadata": {},
   "source": [
    "## MÁXIMO Y MÍNIMO"
   ]
  },
  {
   "cell_type": "code",
   "execution_count": null,
   "metadata": {
    "ExecuteTime": {
     "end_time": "2024-12-18T14:39:46.966454Z",
     "start_time": "2024-12-18T14:39:46.938580Z"
    }
   },
   "outputs": [],
   "source": [
    "print(f\"Coche que más consume en ciudad: {np.max(city_consumption)}\")\n",
    "print(f\"Coche que más consume en carretera: {np.max(road_consumption)}\")"
   ]
  },
  {
   "cell_type": "code",
   "execution_count": null,
   "metadata": {
    "ExecuteTime": {
     "end_time": "2024-12-18T14:39:47.106486Z",
     "start_time": "2024-12-18T14:39:47.082029Z"
    }
   },
   "outputs": [],
   "source": [
    "print(f\"Coche que menos consume en ciudad: {np.min(city_consumption)}\")\n",
    "print(f\"Coche que menos consume en carretera : {np.min(road_consumption)}\")"
   ]
  },
  {
   "cell_type": "markdown",
   "metadata": {},
   "source": [
    "## HISTOGRAMA"
   ]
  },
  {
   "cell_type": "code",
   "execution_count": null,
   "metadata": {
    "ExecuteTime": {
     "end_time": "2024-12-18T14:39:48.599993Z",
     "start_time": "2024-12-18T14:39:47.266941Z"
    }
   },
   "outputs": [],
   "source": [
    "plt.hist(city_consumption, bins=30)\n",
    "\n",
    "plt.grid()"
   ]
  },
  {
   "cell_type": "code",
   "execution_count": null,
   "metadata": {
    "ExecuteTime": {
     "end_time": "2024-12-18T14:39:49.756504Z",
     "start_time": "2024-12-18T14:39:49.222904Z"
    }
   },
   "outputs": [],
   "source": [
    "plt.hist(road_consumption, bins=30)\n",
    "plt.grid()"
   ]
  },
  {
   "cell_type": "code",
   "execution_count": null,
   "metadata": {
    "ExecuteTime": {
     "end_time": "2024-12-18T14:39:50.631256Z",
     "start_time": "2024-12-18T14:39:49.987739Z"
    }
   },
   "outputs": [],
   "source": [
    "# superponer los gráficos\n",
    "plt.hist(city_consumption, bins=30)\n",
    "plt.hist(road_consumption, bins=30)\n",
    "plt.xlabel(\"Consumo en litros a los 100 km hora\")\n",
    "plt.ylabel(\"Número de coches\")\n",
    "plt.axvline(20, color='red') # Limite de compra\n",
    "plt.grid()"
   ]
  },
  {
   "cell_type": "markdown",
   "metadata": {},
   "source": [
    "## CUARTILES\n",
    "\n",
    "* Q1 25 %\n",
    "* Q2 50 % (mediana)\n",
    "* Q3 75 %"
   ]
  },
  {
   "cell_type": "code",
   "execution_count": null,
   "metadata": {
    "ExecuteTime": {
     "end_time": "2024-12-18T14:39:50.735929Z",
     "start_time": "2024-12-18T14:39:50.721146Z"
    }
   },
   "outputs": [],
   "source": [
    "print(np.quantile(a = city_consumption, q = 0.5, interpolation = \"lower\"))\n",
    "print(np.median(city_consumption))"
   ]
  },
  {
   "cell_type": "code",
   "execution_count": null,
   "metadata": {
    "ExecuteTime": {
     "end_time": "2024-12-18T14:39:51.035900Z",
     "start_time": "2024-12-18T14:39:51.009666Z"
    }
   },
   "outputs": [],
   "source": [
    "print(np.quantile(a = city_consumption, q = [0.25, 0.50, 0.75], interpolation = \"lower\"))\n",
    "# primer cuartil (Q1): 10,2 L/ 100 km - El 25 % de los coches consumen menos de 10,2 litros\n",
    "# Mediana (Q2): 12,6 L / 100 km - El 50 % de los coches consumen menos de 12,6 litros\n",
    "# Tercer cuartil (Q3): 15,5 L / 100 km - El 75 % consumen menos de 15,5 litros\n",
    "# Esto nos interesa para poder detectar valores anómalos o que están muy alejados del 50 % central de los datos."
   ]
  },
  {
   "cell_type": "code",
   "execution_count": 17,
   "metadata": {
    "ExecuteTime": {
     "end_time": "2024-12-18T14:39:51.381926Z",
     "start_time": "2024-12-18T14:39:51.370053Z"
    }
   },
   "outputs": [],
   "source": [
    "\n",
    "\n",
    "# numeros = [0.10 ,0.20, 0.30 ,0.40, 0.50]\n",
    "# for i in numeros:\n",
    "#    percentage = np.quantile(a = city_consumption, q = i, interpolation = \"lower\")\n",
    "#    if percentage >= 8:\n",
    "#        break\n",
    "    "
   ]
  },
  {
   "cell_type": "code",
   "execution_count": null,
   "metadata": {
    "ExecuteTime": {
     "end_time": "2024-12-18T14:39:51.575989Z",
     "start_time": "2024-12-18T14:39:51.552656Z"
    }
   },
   "outputs": [],
   "source": [
    "# Filtros: máscara booleana\n",
    "city_consumption[city_consumption >= 26]\n",
    "# df[df[\"city_consumption\"] >= 26]"
   ]
  },
  {
   "cell_type": "code",
   "execution_count": null,
   "metadata": {
    "ExecuteTime": {
     "end_time": "2024-12-18T14:39:51.830556Z",
     "start_time": "2024-12-18T14:39:51.810649Z"
    }
   },
   "outputs": [],
   "source": [
    "# rango \n",
    "print(f\"Rango consumo ciudad: {np.max(city_consumption) - np.min(city_consumption)}\")\n",
    "print(f\"Rango consumo carretera: {np.max(road_consumption) - np.min(road_consumption)}\")"
   ]
  },
  {
   "cell_type": "markdown",
   "metadata": {},
   "source": [
    "## IQR\n",
    "\n",
    "* Q3 - Q1 \n",
    "\n",
    "Nos puede servir para filtrar outliers / atípicos."
   ]
  },
  {
   "cell_type": "code",
   "execution_count": null,
   "metadata": {
    "ExecuteTime": {
     "end_time": "2024-12-18T14:39:52.141418Z",
     "start_time": "2024-12-18T14:39:52.116380Z"
    }
   },
   "outputs": [],
   "source": [
    "# rango intercuartílico IQR: amplitud entre el primer cuartil (Q1) y el tercer cuartil (Q3): variabilidad central de los datos\n",
    "# lo usaremos para calcular valores que sean anómalos, que están muy alejados de ese 50 % central de los datos\n",
    "# cómo están distribuidos alrededor de la mediana\n",
    "# 1.5 veces el IQR alejado se puede considerar un outlier o valor anómalo\n",
    "\n",
    "Q1 = np.quantile(a = city_consumption, q = 0.25, interpolation = \"lower\")\n",
    "Q3 = np.quantile(a = city_consumption, q = 0.75, interpolation = \"lower\")\n",
    "\n",
    "IQR = Q3 - Q1\n",
    "print(IQR)\n",
    "\n",
    "# def remove_outliers(array):"
   ]
  },
  {
   "cell_type": "code",
   "execution_count": null,
   "metadata": {
    "ExecuteTime": {
     "end_time": "2024-12-18T14:39:53.331202Z",
     "start_time": "2024-12-18T14:39:52.524456Z"
    }
   },
   "outputs": [],
   "source": [
    "# pintar media, mediana, q1, q3, min, max en un histograma\n",
    "city_mean = np.mean(city_consumption)\n",
    "city_median = np.median(city_consumption)\n",
    "city_min = np.min(city_consumption)\n",
    "city_max = np.max(city_consumption)\n",
    "city_q1 = np.quantile(a = city_consumption, q = 0.25, interpolation = \"lower\")\n",
    "city_q3 = np.quantile(a = city_consumption, q = 0.75, interpolation = \"lower\")\n",
    "\n",
    "plt.figure(figsize=(10, 6))\n",
    "plt.hist(city_consumption, bins=25, color='skyblue', alpha=0.5)\n",
    "plt.axvline(city_mean, color='red', linestyle='dashed', linewidth=1, label=f'mean: {city_mean:.1f}')\n",
    "plt.axvline(city_median, color='green', linestyle='dashed', linewidth=1, label=f'median: {city_median:.1f}')\n",
    "# plt.axvline(city_min, color='orange', linestyle='dashed', linewidth=1, label=f'min: {city_min:.1f}')\n",
    "# plt.axvline(city_max, color='orange', linestyle='dashed', linewidth=1, label=f'max: {city_max:.1f}')\n",
    "plt.axvline(city_q1, color='purple', linestyle='dashed', linewidth=1, label=f'Q1: {city_q1:.1f}')\n",
    "plt.axvline(city_q3, color='purple', linestyle='dashed', linewidth=1, label=f'Q3: {city_q3:.1f}')\n",
    "# plt.grid()\n",
    "plt.legend(loc=0) # https://matplotlib.org/stable/api/_as_gen/matplotlib.pyplot.legend.html\n",
    "plt.show()"
   ]
  },
  {
   "cell_type": "code",
   "execution_count": null,
   "metadata": {
    "ExecuteTime": {
     "end_time": "2024-12-18T14:39:54.079523Z",
     "start_time": "2024-12-18T14:39:53.617730Z"
    }
   },
   "outputs": [],
   "source": [
    "# punto y coma para evitar que muestre textos encima del gráfico, solo cuando es la última línea de la celda\n",
    "# calcula y muestra la mediana, la media, rango IQR\n",
    "# los puntos negros serían valores anómalos, outliers\n",
    "plt.boxplot(city_consumption, showmeans=True);"
   ]
  },
  {
   "cell_type": "markdown",
   "metadata": {},
   "source": [
    "## FILTRAR DATOS"
   ]
  },
  {
   "cell_type": "code",
   "execution_count": null,
   "metadata": {
    "ExecuteTime": {
     "end_time": "2024-12-18T14:39:54.157449Z",
     "start_time": "2024-12-18T14:39:54.137190Z"
    }
   },
   "outputs": [],
   "source": [
    "# Filtrar usando percentiles\n",
    "# print(np.quantile(city_consumption, 0.5))\n",
    "# print(np.percentile(city_consumption, 50))\n",
    "\n",
    "percentil_10 = np.percentile(city_consumption, 10)\n",
    "percentil_90 = np.percentile(city_consumption, 90)\n",
    "print(f\"percentil 10: {percentil_10}\")\n",
    "print(f\"percentil 90: {percentil_90}\")\n",
    "\n",
    "#Coches en el 10 % inferior (10 % de coches que menos consumen)\n",
    "coches_menor_consumo = city_consumption[city_consumption <= percentil_10]\n",
    "\n",
    "# 10 % coches que más consumen\n",
    "coches_mayor_consumo = city_consumption[city_consumption >= percentil_90]\n",
    "\n",
    "print(\"10 % coches menor consumo\")\n",
    "# print(coches_menor_consumo.shape)\n",
    "print(f\"media: {np.mean(coches_menor_consumo)}\")\n",
    "print(\"10 % coches mayor consumo\")\n",
    "# print(coches_mayor_consumo.shape)\n",
    "print(f\"media: {np.mean(coches_mayor_consumo)}\")"
   ]
  },
  {
   "cell_type": "markdown",
   "metadata": {},
   "source": [
    "## DISPERSIÓN\n",
    "\n",
    "* Se usa normalmente la desviación estándar: std"
   ]
  },
  {
   "cell_type": "code",
   "execution_count": null,
   "metadata": {
    "ExecuteTime": {
     "end_time": "2024-12-18T14:39:54.345351Z",
     "start_time": "2024-12-18T14:39:54.319436Z"
    }
   },
   "outputs": [],
   "source": [
    "# # Varianza: mide la dispersión de los consumos con rescpecto a la media\n",
    "np.var(city_consumption)"
   ]
  },
  {
   "cell_type": "code",
   "execution_count": null,
   "metadata": {
    "ExecuteTime": {
     "end_time": "2024-12-18T14:39:54.468287Z",
     "start_time": "2024-12-18T14:39:54.452419Z"
    }
   },
   "outputs": [],
   "source": [
    "# desciación estándar: raíz cuadrada de la varianza, permite una mejor interpretación ya que estaría en las mismas unidades con las que estamos trabajando\n",
    "np.std(city_consumption)\n",
    "# de media, los consumos se desvían 4,1 Litros de la media\n"
   ]
  },
  {
   "cell_type": "code",
   "execution_count": null,
   "metadata": {
    "ExecuteTime": {
     "end_time": "2024-12-18T14:39:54.701283Z",
     "start_time": "2024-12-18T14:39:54.675918Z"
    }
   },
   "outputs": [],
   "source": [
    "manufacturers"
   ]
  },
  {
   "cell_type": "markdown",
   "metadata": {},
   "source": [
    "## MODA"
   ]
  },
  {
   "cell_type": "code",
   "execution_count": null,
   "metadata": {
    "ExecuteTime": {
     "end_time": "2024-12-18T14:39:54.887066Z",
     "start_time": "2024-12-18T14:39:54.849573Z"
    }
   },
   "outputs": [],
   "source": [
    "from collections import Counter\n",
    "contador = Counter(manufacturers)\n",
    "contador.items()\n",
    "\n",
    "# 10 mas frecuentes\n",
    "contador.most_common(10)\n",
    "\n",
    "# 10 menos frecuentes\n",
    "manufaturers_sorted = sorted(contador.items(), key=lambda item: item[1])\n",
    "manufaturers_sorted[:10]\n",
    "# 10 mas frecuentes:\n",
    "# manufaturers_sorted = sorted(contador.items(), key=lambda item: item[1], reverse=True)"
   ]
  },
  {
   "cell_type": "code",
   "execution_count": null,
   "metadata": {
    "ExecuteTime": {
     "end_time": "2024-12-18T14:39:55.232223Z",
     "start_time": "2024-12-18T14:39:55.135026Z"
    }
   },
   "outputs": [],
   "source": [
    "for position, vehicle in enumerate(contador.items()):\n",
    "    \n",
    "    if 20 > position > 10:\n",
    "        print(f\"{vehicle[0]} {vehicle[1]}\")"
   ]
  },
  {
   "cell_type": "code",
   "execution_count": null,
   "metadata": {
    "ExecuteTime": {
     "end_time": "2024-12-18T14:39:55.600998Z",
     "start_time": "2024-12-18T14:39:55.576207Z"
    }
   },
   "outputs": [],
   "source": [
    "\n",
    "\n",
    "# Mostrar los 5 fabricantes que más coches tienen en este dataset\n",
    "top_10 = contador.most_common(10)\n",
    "for fabricante, count in top_10:\n",
    "    print(f\"Fabricante {fabricante} tiene {count} coches\")"
   ]
  },
  {
   "cell_type": "code",
   "execution_count": null,
   "metadata": {
    "ExecuteTime": {
     "end_time": "2024-12-18T14:39:55.774757Z",
     "start_time": "2024-12-18T14:39:55.744277Z"
    }
   },
   "outputs": [],
   "source": [
    "top_10"
   ]
  },
  {
   "cell_type": "code",
   "execution_count": null,
   "metadata": {
    "ExecuteTime": {
     "end_time": "2024-12-18T14:39:56.002729Z",
     "start_time": "2024-12-18T14:39:55.974985Z"
    }
   },
   "outputs": [],
   "source": [
    "fabricantes, conteos =  zip(*top_10) # se puede con un for guardando en dos listas independientes\n",
    "\n",
    "print(fabricantes)\n",
    "print(conteos)"
   ]
  },
  {
   "cell_type": "code",
   "execution_count": null,
   "metadata": {
    "ExecuteTime": {
     "end_time": "2024-12-18T14:39:57.034475Z",
     "start_time": "2024-12-18T14:39:56.112781Z"
    }
   },
   "outputs": [],
   "source": [
    "# plt.figure(figsize=(12, 8))\n",
    "plt.bar(fabricantes, conteos, color='orange')\n",
    "plt.xticks(rotation=60)\n",
    "plt.grid()"
   ]
  },
  {
   "cell_type": "code",
   "execution_count": null,
   "metadata": {
    "ExecuteTime": {
     "end_time": "2024-12-18T14:39:58.006182Z",
     "start_time": "2024-12-18T14:39:57.276547Z"
    }
   },
   "outputs": [],
   "source": [
    "plt.barh(fabricantes, conteos, color='orange')\n",
    "plt.xticks(rotation=60)\n",
    "plt.grid()"
   ]
  },
  {
   "cell_type": "code",
   "execution_count": null,
   "metadata": {
    "ExecuteTime": {
     "end_time": "2024-12-18T14:39:58.232131Z",
     "start_time": "2024-12-18T14:39:58.206733Z"
    }
   },
   "outputs": [],
   "source": [
    "conteos"
   ]
  },
  {
   "cell_type": "code",
   "execution_count": 35,
   "metadata": {},
   "outputs": [],
   "source": [
    "# TODO moda de cilindros"
   ]
  },
  {
   "cell_type": "markdown",
   "metadata": {},
   "source": [
    "## FILTRO OUTLIERS CON IQR"
   ]
  },
  {
   "cell_type": "code",
   "execution_count": 36,
   "metadata": {
    "ExecuteTime": {
     "end_time": "2024-12-18T14:46:22.382608Z",
     "start_time": "2024-12-18T14:46:22.376007Z"
    }
   },
   "outputs": [],
   "source": [
    "# metodo para ver outliers\n",
    "\n",
    "def filtrar_outliers(array, k=1.5):\n",
    "    # array_copy = array.copy()\n",
    "    # calcular el Q1\n",
    "    Q1 = np.percentile(array, 25)\n",
    "    # calcular el Q3\n",
    "    Q3 = np.percentile(array, 75)\n",
    "    # calcular IQR\n",
    "    IQR = Q3 - Q1\n",
    "    # Calcular limites inferior y superior: 1.5 veces el IQR\n",
    "    limite_inferior = Q1 - IQR * k\n",
    "    print(f\"limite inferior {limite_inferior}\")\n",
    "\n",
    "    limite_superior = Q3 + IQR * k\n",
    "    print(f\"limite superior {limite_superior}\")\n",
    "\n",
    "    # Filtro sobre array de 1.5 veces el IQR para límite inferior y límite superior\n",
    "    # nos quedamos solo con lo que está entre el límite inferior y el límite superior\n",
    "    array_sin_outliers = array[(array >= limite_inferior) & (array <= limite_superior)]\n",
    "    return array_sin_outliers"
   ]
  },
  {
   "cell_type": "code",
   "execution_count": null,
   "metadata": {
    "ExecuteTime": {
     "end_time": "2024-12-18T14:49:03.177437Z",
     "start_time": "2024-12-18T14:49:03.147452Z"
    }
   },
   "outputs": [],
   "source": [
    "# array_sin_outliers = filtrar_outliers(city_consumption)\n",
    "city_consumption_no_outliers = filtrar_outliers(city_consumption, k=1.5)\n",
    "print(city_consumption.shape) # 1067\n",
    "print(city_consumption_no_outliers.shape) # 1041"
   ]
  },
  {
   "cell_type": "code",
   "execution_count": null,
   "metadata": {
    "ExecuteTime": {
     "end_time": "2024-12-18T14:51:48.376658Z",
     "start_time": "2024-12-18T14:51:45.250108Z"
    }
   },
   "outputs": [],
   "source": [
    "plt.hist(city_consumption, bins = 40, color = \"skyblue\", alpha=0.5)\n",
    "plt.hist(city_consumption_no_outliers, bins = 30, color = \"red\");"
   ]
  },
  {
   "cell_type": "markdown",
   "metadata": {},
   "source": [
    "el city_consumption tenemos más datos que en city_consumption_no_outliers, por lo que al pintarlos en un histograma las frecuencias de aparacición son diferentes porque se calculan sobre el total.\n",
    "\n",
    "Trabaja con frecuencias de aparición."
   ]
  },
  {
   "cell_type": "markdown",
   "metadata": {},
   "source": [
    "## VISTAS VS. COPIAS"
   ]
  },
  {
   "cell_type": "code",
   "execution_count": null,
   "metadata": {
    "ExecuteTime": {
     "end_time": "2024-12-18T14:56:35.472879Z",
     "start_time": "2024-12-18T14:56:35.443360Z"
    }
   },
   "outputs": [],
   "source": [
    "# VISTAS: REFERENCIAS AL MISMO ARRAY ORIGINAL POR LO QUE MODIFICAS UNA VISTA MODIFICAS EL ARRAY ORIGINAL:\n",
    "# crear una vista:\n",
    "array = np.array([1, 2, 3, 4, 5])\n",
    "vista = array[:2] # sclicing, devuelve una vista, apunta al mismo array no es una copia\n",
    "print(f\"array: {array}\")\n",
    "print(f\"array: {vista}\")\n",
    "\n",
    "vista[0] = 666 # modificamos la vista y se modifica el array\n",
    "print(f\"array: {array}\") # ha sido modificado\n",
    "print(f\"array: {vista}\") # ha sido modificado"
   ]
  },
  {
   "cell_type": "code",
   "execution_count": null,
   "metadata": {
    "ExecuteTime": {
     "end_time": "2024-12-18T15:01:22.396709Z",
     "start_time": "2024-12-18T15:01:22.389779Z"
    }
   },
   "outputs": [],
   "source": [
    "# COPIA DE UN ARRAY, SI LO MODIFICO, NO MODIFICA EL ARRAY ORIGINAL\n",
    "# filtro de máscara booleana\n",
    "array = np.array([10, 20, 30, 40, 50])\n",
    "array_filtrado = array[(array >= 15) & (array <= 45)] # crea una copia, NO una vista\n",
    "\n",
    "print(f\"array: {array}\")\n",
    "print(f\"array_filtrado: {array_filtrado}\")\n",
    "\n",
    "array_filtrado[0] = 666 # modificar la copia, no afecta al original\n",
    "print(f\"array: {array}\")\n",
    "print(f\"array_filtrado: {array_filtrado}\") # Vemos que solo modifica la copia, y no el original"
   ]
  },
  {
   "cell_type": "code",
   "execution_count": null,
   "metadata": {},
   "outputs": [],
   "source": [
    "array = np.array([10, 20, 30, 40, 50])\n",
    "array_copia = array.copy() # crea una copia, NO una vista\n",
    "\n",
    "print(f\"array: {array}\")\n",
    "print(f\"array_copia: {array_copia}\")\n",
    "\n",
    "array_copia[0] = 666 # modificar la copia, no afecta al original\n",
    "print(f\"array: {array}\")\n",
    "print(f\"array_filtrado: {array_copia}\") # Vemos que solo modifica la copia, y no el original"
   ]
  },
  {
   "cell_type": "markdown",
   "metadata": {},
   "source": [
    "* Cuando operaciones en un array, como el slicing, devuelve una vista, hay que tener cuidado porque si modificas la vista esto afecta al array original y podemos perder los datos originales.\n",
    "\n",
    "* Cuando hacemos otras operaciones como filtrado, se genera una copia, y no hay problema en modificarla porque no afecta al array original."
   ]
  },
  {
   "cell_type": "markdown",
   "metadata": {},
   "source": [
    "## CORRELACIÓN"
   ]
  },
  {
   "cell_type": "code",
   "execution_count": null,
   "metadata": {},
   "outputs": [],
   "source": [
    "city_consumption = np.genfromtxt(\"../Data/FuelConsumptionCo2.csv\", usecols=(8), delimiter=\",\", skip_header=1,)\n",
    "road_consumption = np.genfromtxt(\"../Data/FuelConsumptionCo2.csv\", usecols=(9), delimiter=\",\", skip_header=1,)\n",
    "co2_emissions = np.genfromtxt(\"../Data/FuelConsumptionCo2.csv\", usecols=(12), delimiter=\",\", skip_header=1,)\n",
    "engine_cc = np.genfromtxt(\"../Data/FuelConsumptionCo2.csv\", usecols=(4), delimiter=\",\", skip_header=1,)\n",
    "cylinders = np.genfromtxt(\"../Data/FuelConsumptionCo2.csv\", usecols=(5), delimiter=\",\", skip_header=1, dtype=np.int8)\n",
    "\n",
    "print(co2_emissions)\n",
    "print(engine_cc)\n",
    "print(cylinders)"
   ]
  },
  {
   "cell_type": "code",
   "execution_count": null,
   "metadata": {},
   "outputs": [],
   "source": [
    "stats.pearsonr(cylinders, city_consumption)[0]"
   ]
  },
  {
   "cell_type": "markdown",
   "metadata": {},
   "source": [
    "* 1: correlación positiva\n",
    "* 0: no hay correlación\n",
    "* -1: correlación negativa\n",
    "\n",
    "0,79 lo interpretaríamos como que hay una correlación positiva entre cilindros y consumo de combustible en ciudad. Es decir, que cuántos más cilindros mayor consumo."
   ]
  },
  {
   "cell_type": "code",
   "execution_count": null,
   "metadata": {},
   "outputs": [],
   "source": [
    "# calcular todas las correlaciones para la columna cylinders\n",
    "print(f\" cylinders / cylinders {stats.pearsonr(cylinders, cylinders)[0]}\") # 1 porque es la misma variable\n",
    "print(f\" cylinders / city_consumption {stats.pearsonr(cylinders, city_consumption)[0]}\") \n",
    "print(f\" cylinders / road_consumption {stats.pearsonr(cylinders, road_consumption)[0]}\") \n",
    "print(f\" cylinders / engine_cc {stats.pearsonr(cylinders, engine_cc)[0]}\") \n",
    "print(f\" cylinders / co2_emissions {stats.pearsonr(cylinders, co2_emissions)[0]}\") "
   ]
  },
  {
   "cell_type": "code",
   "execution_count": null,
   "metadata": {},
   "outputs": [],
   "source": [
    "print(f\" co2_emissions / cylinders {stats.pearsonr(co2_emissions, cylinders)[0]}\") \n",
    "print(f\" co2_emissions / city_consumption {stats.pearsonr(co2_emissions, city_consumption)[0]}\") \n",
    "print(f\" co2_emissions / road_consumption {stats.pearsonr(co2_emissions, road_consumption)[0]}\") \n",
    "print(f\" co2_emissions / engine_cc {stats.pearsonr(co2_emissions, engine_cc)[0]}\") \n",
    "print(f\" co2_emissions / co2_emissions {stats.pearsonr(co2_emissions, co2_emissions)[0]}\")  # 1 porque es la misma variable"
   ]
  },
  {
   "cell_type": "code",
   "execution_count": null,
   "metadata": {},
   "outputs": [],
   "source": [
    "columnas = [engine_cc, city_consumption, road_consumption, cylinders, co2_emissions] # 5 columnas del CSV\n",
    "\n",
    "matriz_lista = list()\n",
    "\n",
    "for columna1 in columnas:\n",
    "    fila = list()\n",
    "    for columna2 in columnas:\n",
    "        fila.append(stats.pearsonr(columna1, columna2)[0])\n",
    "    \n",
    "    matriz_lista.append(fila)\n",
    "    \n",
    "matriz = np.array(matriz_lista)\n",
    "print(matriz)"
   ]
  },
  {
   "cell_type": "code",
   "execution_count": null,
   "metadata": {},
   "outputs": [],
   "source": [
    "column_names = ['engine_cc', 'city_consumption', 'road_consumption', 'cylinders', 'co2_emissions']\n",
    "plt.imshow(matriz, cmap='viridis')\n",
    "# plt.imshow(matriz, cmap='viridis', vmin=-1, vmax=1)\n",
    "plt.colorbar(label='correlación')\n",
    "plt.xticks(range(len(column_names)), column_names, rotation=45)\n",
    "plt.yticks(range(len(column_names)), column_names)\n",
    "plt.gca().xaxis.set_ticks_position('top')"
   ]
  },
  {
   "cell_type": "code",
   "execution_count": null,
   "metadata": {},
   "outputs": [],
   "source": [
    "# pip install seaborn\n",
    "import seaborn as sns\n",
    "# plt.figure(figsize= (10,8))\n",
    "sns.heatmap(matriz, annot=True, cmap='viridis', xticklabels=column_names, yticklabels=column_names)"
   ]
  },
  {
   "cell_type": "markdown",
   "metadata": {},
   "source": [
    "## ESTANDARIZACIÓN"
   ]
  },
  {
   "cell_type": "code",
   "execution_count": null,
   "metadata": {},
   "outputs": [],
   "source": [
    "# plt.figure(figsize=(12,10))\n",
    "plt.hist(city_consumption, bins=30, color=\"skyblue\", alpha=0.7, label=\"Consumo combustible ciudad (original)\")\n",
    "plt.hist(co2_emissions, bins=30, color=\"red\",  alpha=0.7, label=\"Emisiones CO2 (original)\")\n",
    "plt.legend();"
   ]
  },
  {
   "cell_type": "code",
   "execution_count": null,
   "metadata": {},
   "outputs": [],
   "source": [
    "# estandarizar y volver a pintar el histograma\n",
    "mean_city_consumption = np.mean(city_consumption)\n",
    "mean_co2_emissions = np.mean(co2_emissions)\n",
    "\n",
    "median_city_consumption = np.median(city_consumption)\n",
    "median_co2_emissions = np.median(co2_emissions)\n",
    "\n",
    "std_city_consumption = np.std(city_consumption)\n",
    "std_co2_emissions = np.std(co2_emissions)\n",
    "\n",
    "print(f\"Media original city_consumption: {mean_city_consumption}\")\n",
    "print(f\"Mediana original city_consumption: {median_city_consumption}\")\n",
    "print(f\"Desviación estandar original city_consumption: {std_city_consumption}\")\n",
    "\n",
    "print(f\"Media original co2_emissions: {mean_co2_emissions}\")\n",
    "print(f\"Mediana original co2_emissions: {median_co2_emissions}\")\n",
    "print(f\"Desviación estandar original co2_emissions: {std_co2_emissions}\")\n"
   ]
  },
  {
   "cell_type": "code",
   "execution_count": null,
   "metadata": {},
   "outputs": [],
   "source": [
    "city_consumption_standard = (city_consumption - mean_city_consumption) / std_city_consumption\n",
    "co2_emissions_standard = (co2_emissions - mean_co2_emissions) / std_co2_emissions\n",
    "\n",
    "print(city_consumption_standard[:5])\n",
    "print(co2_emissions_standard[:5])"
   ]
  },
  {
   "cell_type": "code",
   "execution_count": null,
   "metadata": {},
   "outputs": [],
   "source": [
    "# estandarizar y volver a pintar el histograma\n",
    "mean_city_consumption = np.mean(city_consumption_standard)\n",
    "mean_co2_emissions = np.mean(co2_emissions_standard)\n",
    "\n",
    "median_city_consumption = np.median(city_consumption_standard)\n",
    "median_co2_emissions = np.median(co2_emissions_standard)\n",
    "\n",
    "std_city_consumption = np.std(city_consumption_standard)\n",
    "std_co2_emissions = np.std(co2_emissions_standard)\n",
    "\n",
    "print(f\"Media estandarizado city_consumption: {mean_city_consumption}\")\n",
    "print(f\"Mediana estandarizado city_consumption: {median_city_consumption}\")\n",
    "print(f\"Desviación estandar estandarizado city_consumption: {std_city_consumption}\")\n",
    "\n",
    "print(f\"Media estandarizado co2_emissions: {mean_co2_emissions}\")\n",
    "print(f\"Mediana estandarizado co2_emissions: {median_co2_emissions}\")\n",
    "print(f\"Desviación estandar estandarizado co2_emissions: {std_co2_emissions}\")\n"
   ]
  },
  {
   "cell_type": "code",
   "execution_count": null,
   "metadata": {},
   "outputs": [],
   "source": [
    "plt.hist(city_consumption_standard, bins=30, color=\"skyblue\", alpha=0.7, label=\"Consumo combustible ciudad (standard)\")\n",
    "plt.hist(co2_emissions_standard, bins=30, color=\"red\",  alpha=0.7, label=\"Emisiones CO2 (standard)\")\n",
    "plt.legend();"
   ]
  },
  {
   "cell_type": "code",
   "execution_count": null,
   "metadata": {},
   "outputs": [],
   "source": [
    "# opcional: mostrar los dos gráficos juntos\n",
    "plt.figure(figsize=(10, 4))\n",
    "plt.subplot(1, 2, 1) # Primer gráfico\n",
    "plt.hist(city_consumption, bins=30, alpha=0.7, label='consumo original')\n",
    "plt.hist(co2_emissions, bins=30, alpha=0.7, label='emisiones co2 original')\n",
    "plt.title(\"Distribuciones originales\")\n",
    "plt.xlabel(\"Unidades originales\")\n",
    "plt.ylabel(\"Frecuencia\")\n",
    "plt.legend()\n",
    "\n",
    "plt.subplot(1, 2, 2) # Segundo gráfico\n",
    "plt.hist(city_consumption_standard, bins=30, alpha=0.7, label='consumo estandarizado')\n",
    "plt.hist(co2_emissions_standard, bins=30, alpha=0.7, label='emisiones co2 estandarizadas')\n",
    "plt.title(\"Distribuciones estandarizadas \\n (mean = median = mode = 0, std = 1)\")\n",
    "plt.xlabel(\"Unidades estandarizadas\")\n",
    "plt.ylabel(\"Frecuencia\")\n",
    "plt.legend();"
   ]
  },
  {
   "cell_type": "markdown",
   "metadata": {},
   "source": [
    "## ASIMETRÍA Y CURTOSIS"
   ]
  },
  {
   "cell_type": "code",
   "execution_count": null,
   "metadata": {},
   "outputs": [],
   "source": [
    "# coeficiente de asimetría (skewness)\n",
    "\n",
    "print(f\"Coeficiente de asimetría city_consumption: {stats.skew(city_consumption)}\")\n",
    "print(f\"Coeficiente de asimetría co2_emissions: {stats.skew(co2_emissions)}\")"
   ]
  },
  {
   "cell_type": "markdown",
   "metadata": {},
   "source": [
    "Interpretación:\n",
    "\n",
    "* Cercano a 0 es que no hay asimetría, es decir, que la distribución es simétrica, OK.\n",
    "* Si es positivo o negativo formará una cola"
   ]
  },
  {
   "cell_type": "code",
   "execution_count": null,
   "metadata": {},
   "outputs": [],
   "source": [
    "# curtosis:\n",
    "print(f\"Curtosis city_consumption: {stats.kurtosis(city_consumption)}\")\n",
    "print(f\"Curtosis co2_emissions: {stats.kurtosis(co2_emissions)}\")"
   ]
  },
  {
   "cell_type": "markdown",
   "metadata": {},
   "source": [
    "Interpretación:\n",
    "\n",
    "1. Leptocúrtica ($k_3 > 0$): Decaimiento rápido, cola ligera.\n",
    "2. Mesocúrtica ($k_3=0$): Curva normal.\n",
    "3. Paticúrtica ($k_3<0$ ): Decaimiento lento.\n",
    "\n"
   ]
  },
  {
   "cell_type": "code",
   "execution_count": null,
   "metadata": {},
   "outputs": [],
   "source": [
    "sns.kdeplot(city_consumption_standard, label=\"city_consumption\")\n",
    "sns.kdeplot(co2_emissions_standard, label='co2_emissions')\n",
    "plt.legend();"
   ]
  },
  {
   "cell_type": "code",
   "execution_count": null,
   "metadata": {},
   "outputs": [],
   "source": [
    "sns.kdeplot(city_consumption, label=\"city_consumption\")\n",
    "plt.legend();"
   ]
  },
  {
   "cell_type": "code",
   "execution_count": null,
   "metadata": {},
   "outputs": [],
   "source": [
    "sns.kdeplot(co2_emissions, label=\"co2_emissions\", color='orange')\n",
    "# plt.plot(co2_emissions, label=\"co2_emissions\", color='orange') # este no serviría para pintar el histograma en curva\n",
    "plt.legend();"
   ]
  },
  {
   "cell_type": "code",
   "execution_count": null,
   "metadata": {},
   "outputs": [],
   "source": [
    "# ilustrar asimetría negativa, cero y positiva:\n",
    "# opcional\n",
    "# generar datos ficticios\n",
    "from scipy.stats import skewnorm\n",
    "\n",
    "x = np.linspace(-5, 5, 100)\n",
    "\n",
    "negative_skew = skewnorm.pdf(x, a=-20) # a < 0 para asimetría negativa\n",
    "zero_skew = skewnorm.pdf(x, a=0) # a = 0 para simetría perfecta\n",
    "positive_skew = skewnorm.pdf(x, a=20) # a > 0 para asimetría positiva\n",
    "\n",
    "plt.plot(x, negative_skew, label='Asimetría negativa')\n",
    "plt.plot(x, zero_skew, label='Asimetría cero') # campana de gauss\n",
    "plt.plot(x, positive_skew, label='Asimetría positiva')\n",
    "plt.legend()\n",
    "plt.title(\"Comparación de asimetrías\");"
   ]
  },
  {
   "cell_type": "code",
   "execution_count": null,
   "metadata": {},
   "outputs": [],
   "source": [
    "# ilustrar curtosis negativa, cero y positiva con datos ficticios\n",
    "\n",
    "x = np.linspace(-5, 5, 1000)\n",
    "\n",
    "platicurtic = np.exp(-0.2 * x**2) # más aplanada (Menor que cero)\n",
    "mesocurtic = np.exp(-0.5 * x**2) # estandar (0)\n",
    "leptocurtic = np.exp(-0.9 * x**2) # más alta, en pico (Mayor que cero)\n",
    "\n",
    "plt.plot(x, platicurtic, color=\"blue\", label=\"Distribución Platicúrtica\")\n",
    "plt.plot(x, mesocurtic, color=\"green\", label=\"Distribución Mesocúrtica\")\n",
    "plt.plot(x, leptocurtic, color=\"red\", label=\"Distribución Leptocúrtica\")\n",
    "plt.legend()\n",
    "plt.title(\"Curtosis\")"
   ]
  },
  {
   "cell_type": "markdown",
   "metadata": {},
   "source": [
    "## TRANSFORMAR DISTRIBUCIONES DE DATOS\n",
    "\n",
    "Mitigar, reducir asimetría e impacto de outliers.\n",
    "\n",
    "* np.sqrt (suave)\n",
    "* np.log (fuerte)"
   ]
  },
  {
   "cell_type": "code",
   "execution_count": 75,
   "metadata": {},
   "outputs": [],
   "source": [
    "# Transformación de datos: no se trata de escalar datos, se trata de alterar su forma atenuando el impacto de los valores outliers\n",
    "\n",
    "# Función Raíz: más suave que la logarítmica , ayuda a reducir la asimetría, pero en menor medida que la logarítmica\n",
    "city_consumption_sqrt = np.sqrt(city_consumption)\n",
    "co2_emissions_sqrt = np.sqrt(co2_emissions)\n",
    "\n",
    "# Función logaritmo: comprime las diferencias entre valores grandes y valores pequeños, es más fuerte que la de la raíz\n",
    "city_consumption_log = np.log(city_consumption)\n",
    "co2_emissions_log = np.log(co2_emissions)"
   ]
  },
  {
   "cell_type": "code",
   "execution_count": null,
   "metadata": {},
   "outputs": [],
   "source": [
    "sns.kdeplot(city_consumption_standard, label=\"distribución original\") # tienen la distribución original\n",
    "sns.kdeplot(city_consumption_sqrt, label=\"distribución transformada sqrt\") # se corrige el impacto de los outliers\n",
    "sns.kdeplot(city_consumption_log, label=\"distribución transformada log\") # se corrige el impacto de los outliers\n",
    "plt.legend();"
   ]
  },
  {
   "cell_type": "code",
   "execution_count": null,
   "metadata": {},
   "outputs": [],
   "source": [
    "sns.kdeplot(co2_emissions_standard, label=\"distribución original\") # tienen la distribución original\n",
    "sns.kdeplot(co2_emissions_sqrt, label=\"distribución transformada sqrt\") # se corrige el impacto de los outliers\n",
    "sns.kdeplot(co2_emissions_log, label=\"distribución transformada log\") # se corrige el impacto de los outliers\n",
    "plt.legend();"
   ]
  },
  {
   "cell_type": "markdown",
   "metadata": {},
   "source": [
    "* **Estandarización** los datos no cambian solo se colocan en una escala entorno al 0 para compararlos con otros datos. Pero la distribución original se mantiene, es decir, si hay asimetría la seguirá habiendo, no la corrige.\n",
    "\n",
    "* **Transformación de distribución de datos**: Para corregir la asimetría se usa una función matemática, que puede ser la raíz, o logaritmo. Esto sí cambia la distribución porque compacta los valores, mitigando el impacto de los outliers.\n",
    "\n",
    "Normalmente queremos hacer primero una transformación de la distribución para eliminar la asimetría y luego aplicar una estandarización para poder poner datos en una escala que se puedan comparar con otros.\n",
    "\n",
    "Este método tiene la ventaja de que no requiere eliminar outliers, ya que los compacta y mitiga su impacto. Tiene la ventaja de que no elimina datos. El otro método de tratar outliers de Tukey sí elimina datos outliers y no quita asimetría."
   ]
  },
  {
   "cell_type": "markdown",
   "metadata": {},
   "source": [
    "\n",
    "## CONTRASTE DE HIPÓTESIS\n",
    "\n",
    "Ejercicio 12:\n",
    "\n",
    "- Realiza un contraste de hipótesis y comprueba si se gasta más combustible en la ciudad que en la autovía.\n",
    "    - **fuel_city**: gasto en ciudad\n",
    "    - **fuel_hwy**: gasto en autovía\n",
    "    - $H_0$: el gasto de combustible en la ciudad es igual o menor al gasto en la autovía.\n",
    "    - $H_1$: el gasto de combustible en la ciudad es mayor al gasto en la autovía.\n",
    "    \n",
    "_**Pista**: hay que aplicar una prueba **t de Student** para **muestras pareadas** `stats.ttest_rel()`, o una prueba **Wilcoxon** para **muestras pareadas** `stats.wilcoxon()`, dependiendo de si se cumplen los supuestos de normalidad y homogeneidad de varianzas. Pueden especificar el parámetro `alternative` con el argumento `\"greater\"` para un contraste de tipo `a>b`._"
   ]
  },
  {
   "cell_type": "markdown",
   "metadata": {},
   "source": [
    "Son pareadas porque ambos combustibles pertenecen al mismo coche por tanto en realidad son datos de la misma entidad, es decir, de una misma fila."
   ]
  },
  {
   "cell_type": "code",
   "execution_count": null,
   "metadata": {},
   "outputs": [],
   "source": [
    "print(city_consumption[:5])\n",
    "print(road_consumption[:5])"
   ]
  },
  {
   "cell_type": "code",
   "execution_count": 85,
   "metadata": {},
   "outputs": [],
   "source": [
    "# nivel de significancia para aceptar o rechazar pruebas\n",
    "alpha = 0.05"
   ]
  },
  {
   "cell_type": "code",
   "execution_count": null,
   "metadata": {},
   "outputs": [],
   "source": [
    "# normalidad: combina skew y curtosis para saber si los datos tienen una distribución normal\n",
    "_, p_city = stats.normaltest(city_consumption)\n",
    "_, p_road = stats.normaltest(road_consumption)\n",
    "# se puede añadir a mayores la prueba de stats.shapiro\n",
    "\n",
    "print(\"pruebas de normalidad\")\n",
    "print(f\"p_city {p_city} y p_road {p_road}\")"
   ]
  },
  {
   "cell_type": "code",
   "execution_count": null,
   "metadata": {},
   "outputs": [],
   "source": [
    "# homogeneidad de varianzas: es decir, que las varianza\n",
    "# de city_consumption sea similar a la varianza de road_consumption\n",
    "_, p_var = stats.levene(city_consumption, road_consumption)\n",
    "\n",
    "print(\"prueba de varianza\")\n",
    "print(f\"p_var {p_var}\")"
   ]
  },
  {
   "cell_type": "code",
   "execution_count": null,
   "metadata": {},
   "outputs": [],
   "source": [
    "# comprobar valores p obtenidos versus significancia (a):\n",
    "# and porque se deben cumplir todas\n",
    "suposiciones = p_city > alpha and p_road > alpha and p_var > alpha\n",
    "if suposiciones:\n",
    "    print(\"Se cumple la asunción de NORMALIDAD Y HOMOGENEIDAD DE VARIANZAS\")\n",
    "else:\n",
    "    print(\"NO se cumple la asunción de NORMALIDAD Y HOMOGENEIDAD DE VARIANZAS\")    "
   ]
  },
  {
   "cell_type": "code",
   "execution_count": null,
   "metadata": {},
   "outputs": [],
   "source": [
    "print(f\"mean_city_consumption {np.mean(city_consumption)}\")\n",
    "print(f\"mean_road_consumption {np.mean(road_consumption)}\")"
   ]
  },
  {
   "cell_type": "code",
   "execution_count": null,
   "metadata": {},
   "outputs": [],
   "source": [
    "# contraste de hipótesis:\n",
    "if suposiciones:\n",
    "    # prueba paramétrica\n",
    "    _, p = stats.ttest_rel(city_consumption, road_consumption, alternative=\"greater\")\n",
    "else: \n",
    "    # prueba no parámetrica\n",
    "    _, p = stats.wilcoxon(city_consumption, road_consumption, alternative=\"greater\")\n",
    "\n",
    "print(f\"contraste de hipótesis p-value: {p}\")"
   ]
  },
  {
   "cell_type": "code",
   "execution_count": null,
   "metadata": {},
   "outputs": [],
   "source": [
    "if p < alpha:\n",
    "    print(\"H1 VERDADERO (H alternativa): El consumo en city es mayor que en road. RECHAZAMOS H0 (H Nula).\")\n",
    "else:\n",
    "    print(\"H0 VERDADERO (H nula): El consumo en city es menor o igual que en road. RECHAZAMOS H1 (H alternativa).\")"
   ]
  },
  {
   "cell_type": "markdown",
   "metadata": {},
   "source": [
    "Si p < a, la probabilidad de que el resultado sea H0 es tan pequeña que la rechazamos.\n",
    "\n",
    "No significa que H1 sea absolutamente verdadero, sino que hay suficiente evidencia para preferir H1 en vez de H0."
   ]
  }
 ],
 "metadata": {
  "kernelspec": {
   "display_name": "base",
   "language": "python",
   "name": "python3"
  },
  "language_info": {
   "codemirror_mode": {
    "name": "ipython",
    "version": 3
   },
   "file_extension": ".py",
   "mimetype": "text/x-python",
   "name": "python",
   "nbconvert_exporter": "python",
   "pygments_lexer": "ipython3",
   "version": "3.12.7"
  }
 },
 "nbformat": 4,
 "nbformat_minor": 2
}
