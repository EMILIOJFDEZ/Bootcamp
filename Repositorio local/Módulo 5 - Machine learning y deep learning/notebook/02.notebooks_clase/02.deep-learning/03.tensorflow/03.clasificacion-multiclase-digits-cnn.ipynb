{
 "cells": [
  {
   "cell_type": "code",
   "execution_count": 1,
   "metadata": {},
   "outputs": [],
   "source": [
    "import numpy as np\n",
    "import tensorflow as tf\n",
    "from tensorflow.keras.datasets import mnist\n",
    "import matplotlib.pyplot as plt\n",
    "import pandas as pd\n",
    "import random\n",
    "import seaborn as sns"
   ]
  },
  {
   "cell_type": "code",
   "execution_count": 2,
   "metadata": {},
   "outputs": [],
   "source": [
    "keras = tf.keras"
   ]
  },
  {
   "cell_type": "code",
   "execution_count": 3,
   "metadata": {},
   "outputs": [
    {
     "name": "stdout",
     "output_type": "stream",
     "text": [
      "x_train (60000, 28, 28)\n"
     ]
    }
   ],
   "source": [
    "#devuelve imágenes dígitos escritos a mano en escala de grises \n",
    "(X_train, y_train), (X_test, y_test) = mnist.load_data()\n",
    "print('x_train', X_train.shape)"
   ]
  },
  {
   "cell_type": "code",
   "execution_count": 4,
   "metadata": {},
   "outputs": [
    {
     "data": {
      "text/plain": [
       "array([[  0,   0,   0,   0,   0,   0,   0,   0,   0,   0,   0,   0,   0,\n",
       "          0,   0,   0,   0,   0,   0,   0,   0,   0,   0,   0,   0,   0,\n",
       "          0,   0],\n",
       "       [  0,   0,   0,   0,   0,   0,   0,   0,   0,   0,   0,   0,   0,\n",
       "          0,   0,   0,   0,   0,   0,   0,   0,   0,   0,   0,   0,   0,\n",
       "          0,   0],\n",
       "       [  0,   0,   0,   0,   0,   0,   0,   0,   0,   0,   0,   0,   0,\n",
       "          0,   0,   0,   0,   0,   0,   0,   0,   0,   0,   0,   0,   0,\n",
       "          0,   0],\n",
       "       [  0,   0,   0,   0,   0,   0,   0,   0,   0,   0,   0,   0,   0,\n",
       "          0,   0,   0,   0,   0,   0,   0,   0,   0,   0,   0,   0,   0,\n",
       "          0,   0],\n",
       "       [  0,   0,   0,   0,   0,   0,   0,   0,   0,   0,   0,   0,   0,\n",
       "          0,   0,  51, 159, 253, 159,  50,   0,   0,   0,   0,   0,   0,\n",
       "          0,   0],\n",
       "       [  0,   0,   0,   0,   0,   0,   0,   0,   0,   0,   0,   0,   0,\n",
       "          0,  48, 238, 252, 252, 252, 237,   0,   0,   0,   0,   0,   0,\n",
       "          0,   0],\n",
       "       [  0,   0,   0,   0,   0,   0,   0,   0,   0,   0,   0,   0,   0,\n",
       "         54, 227, 253, 252, 239, 233, 252,  57,   6,   0,   0,   0,   0,\n",
       "          0,   0],\n",
       "       [  0,   0,   0,   0,   0,   0,   0,   0,   0,   0,   0,  10,  60,\n",
       "        224, 252, 253, 252, 202,  84, 252, 253, 122,   0,   0,   0,   0,\n",
       "          0,   0],\n",
       "       [  0,   0,   0,   0,   0,   0,   0,   0,   0,   0,   0, 163, 252,\n",
       "        252, 252, 253, 252, 252,  96, 189, 253, 167,   0,   0,   0,   0,\n",
       "          0,   0],\n",
       "       [  0,   0,   0,   0,   0,   0,   0,   0,   0,   0,  51, 238, 253,\n",
       "        253, 190, 114, 253, 228,  47,  79, 255, 168,   0,   0,   0,   0,\n",
       "          0,   0],\n",
       "       [  0,   0,   0,   0,   0,   0,   0,   0,   0,  48, 238, 252, 252,\n",
       "        179,  12,  75, 121,  21,   0,   0, 253, 243,  50,   0,   0,   0,\n",
       "          0,   0],\n",
       "       [  0,   0,   0,   0,   0,   0,   0,   0,  38, 165, 253, 233, 208,\n",
       "         84,   0,   0,   0,   0,   0,   0, 253, 252, 165,   0,   0,   0,\n",
       "          0,   0],\n",
       "       [  0,   0,   0,   0,   0,   0,   0,   7, 178, 252, 240,  71,  19,\n",
       "         28,   0,   0,   0,   0,   0,   0, 253, 252, 195,   0,   0,   0,\n",
       "          0,   0],\n",
       "       [  0,   0,   0,   0,   0,   0,   0,  57, 252, 252,  63,   0,   0,\n",
       "          0,   0,   0,   0,   0,   0,   0, 253, 252, 195,   0,   0,   0,\n",
       "          0,   0],\n",
       "       [  0,   0,   0,   0,   0,   0,   0, 198, 253, 190,   0,   0,   0,\n",
       "          0,   0,   0,   0,   0,   0,   0, 255, 253, 196,   0,   0,   0,\n",
       "          0,   0],\n",
       "       [  0,   0,   0,   0,   0,   0,  76, 246, 252, 112,   0,   0,   0,\n",
       "          0,   0,   0,   0,   0,   0,   0, 253, 252, 148,   0,   0,   0,\n",
       "          0,   0],\n",
       "       [  0,   0,   0,   0,   0,   0,  85, 252, 230,  25,   0,   0,   0,\n",
       "          0,   0,   0,   0,   0,   7, 135, 253, 186,  12,   0,   0,   0,\n",
       "          0,   0],\n",
       "       [  0,   0,   0,   0,   0,   0,  85, 252, 223,   0,   0,   0,   0,\n",
       "          0,   0,   0,   0,   7, 131, 252, 225,  71,   0,   0,   0,   0,\n",
       "          0,   0],\n",
       "       [  0,   0,   0,   0,   0,   0,  85, 252, 145,   0,   0,   0,   0,\n",
       "          0,   0,   0,  48, 165, 252, 173,   0,   0,   0,   0,   0,   0,\n",
       "          0,   0],\n",
       "       [  0,   0,   0,   0,   0,   0,  86, 253, 225,   0,   0,   0,   0,\n",
       "          0,   0, 114, 238, 253, 162,   0,   0,   0,   0,   0,   0,   0,\n",
       "          0,   0],\n",
       "       [  0,   0,   0,   0,   0,   0,  85, 252, 249, 146,  48,  29,  85,\n",
       "        178, 225, 253, 223, 167,  56,   0,   0,   0,   0,   0,   0,   0,\n",
       "          0,   0],\n",
       "       [  0,   0,   0,   0,   0,   0,  85, 252, 252, 252, 229, 215, 252,\n",
       "        252, 252, 196, 130,   0,   0,   0,   0,   0,   0,   0,   0,   0,\n",
       "          0,   0],\n",
       "       [  0,   0,   0,   0,   0,   0,  28, 199, 252, 252, 253, 252, 252,\n",
       "        233, 145,   0,   0,   0,   0,   0,   0,   0,   0,   0,   0,   0,\n",
       "          0,   0],\n",
       "       [  0,   0,   0,   0,   0,   0,   0,  25, 128, 252, 253, 252, 141,\n",
       "         37,   0,   0,   0,   0,   0,   0,   0,   0,   0,   0,   0,   0,\n",
       "          0,   0],\n",
       "       [  0,   0,   0,   0,   0,   0,   0,   0,   0,   0,   0,   0,   0,\n",
       "          0,   0,   0,   0,   0,   0,   0,   0,   0,   0,   0,   0,   0,\n",
       "          0,   0],\n",
       "       [  0,   0,   0,   0,   0,   0,   0,   0,   0,   0,   0,   0,   0,\n",
       "          0,   0,   0,   0,   0,   0,   0,   0,   0,   0,   0,   0,   0,\n",
       "          0,   0],\n",
       "       [  0,   0,   0,   0,   0,   0,   0,   0,   0,   0,   0,   0,   0,\n",
       "          0,   0,   0,   0,   0,   0,   0,   0,   0,   0,   0,   0,   0,\n",
       "          0,   0],\n",
       "       [  0,   0,   0,   0,   0,   0,   0,   0,   0,   0,   0,   0,   0,\n",
       "          0,   0,   0,   0,   0,   0,   0,   0,   0,   0,   0,   0,   0,\n",
       "          0,   0]], dtype=uint8)"
      ]
     },
     "execution_count": 4,
     "metadata": {},
     "output_type": "execute_result"
    }
   ],
   "source": [
    "# una imagen de un solo digito en concreto\n",
    "# cada valor de pixel tiene un número entre 0 y 255 (escala de 8 bits)\n",
    "# se puede normalizar a escala 0-1 diviendo entre 256, con eso logramos más eficiencia en el entrenamiento\n",
    "single_image = X_train[1]\n",
    "single_image"
   ]
  },
  {
   "cell_type": "code",
   "execution_count": 5,
   "metadata": {},
   "outputs": [
    {
     "data": {
      "text/plain": [
       "(28, 28)"
      ]
     },
     "execution_count": 5,
     "metadata": {},
     "output_type": "execute_result"
    }
   ],
   "source": [
    "single_image.shape # es una imagen de 28x28 px"
   ]
  },
  {
   "cell_type": "code",
   "execution_count": 6,
   "metadata": {},
   "outputs": [
    {
     "data": {
      "text/plain": [
       "<matplotlib.image.AxesImage at 0x1da64a35c70>"
      ]
     },
     "execution_count": 6,
     "metadata": {},
     "output_type": "execute_result"
    },
    {
     "data": {
      "image/png": "[encoded data removed]",
      "text/plain": [
       "<Figure size 640x480 with 1 Axes>"
      ]
     },
     "metadata": {},
     "output_type": "display_data"
    }
   ],
   "source": [
    "plt.imshow(single_image, cmap='viridis')"
   ]
  },
  {
   "cell_type": "code",
   "execution_count": 7,
   "metadata": {},
   "outputs": [
    {
     "data": {
      "text/plain": [
       "array([5, 0, 4, ..., 5, 6, 8], dtype=uint8)"
      ]
     },
     "execution_count": 7,
     "metadata": {},
     "output_type": "execute_result"
    }
   ],
   "source": [
    "y_train # indica el dígito real que hay en la imagen"
   ]
  },
  {
   "cell_type": "code",
   "execution_count": 8,
   "metadata": {},
   "outputs": [
    {
     "data": {
      "text/plain": [
       "array([[0., 0., 0., 0., 0., 1., 0., 0., 0., 0.]])"
      ]
     },
     "execution_count": 8,
     "metadata": {},
     "output_type": "execute_result"
    }
   ],
   "source": [
    "# pasamos la salida \"y\" a one-hot para poder usar métricas de clasificación en el entrenamiento\n",
    "# hay 10 clases: 0 1 2 3 4 5 6 7 8 9\n",
    "y_train_onehot = keras.utils.to_categorical(y_train, num_classes=10)\n",
    "y_test_onehot = keras.utils.to_categorical(y_test, num_classes=10)\n",
    "y_train_onehot[:1]"
   ]
  },
  {
   "cell_type": "code",
   "execution_count": null,
   "metadata": {},
   "outputs": [],
   "source": [
    "# opcional: normalizar la entrada X a [0 - 1] para que tarde menos la red neuronal en entrenar\n",
    "X_train = X_train.astype(\"float32\") / 255.0\n",
    "X_test = X_test.astype(\"float32\") / 255.0\n",
    "X_train[:5]"
   ]
  },
  {
   "cell_type": "code",
   "execution_count": null,
   "metadata": {},
   "outputs": [
    {
     "data": {
      "text/plain": [
       "array([[0., 0., 0., ..., 0., 0., 0.],\n",
       "       [0., 0., 0., ..., 0., 0., 0.],\n",
       "       [0., 0., 0., ..., 0., 0., 0.],\n",
       "       ...,\n",
       "       [0., 0., 0., ..., 0., 0., 0.],\n",
       "       [0., 0., 0., ..., 0., 0., 0.],\n",
       "       [0., 0., 0., ..., 0., 0., 0.]], dtype=float32)"
      ]
     },
     "execution_count": 12,
     "metadata": {},
     "output_type": "execute_result"
    }
   ],
   "source": [
    "# aplanar la entrada manualmente , para que tenga 2D ya que las capas Dense necesitan 2D en la X\n",
    "# X_train_flatten = X_train.reshape(-1, 28*28)\n",
    "# X_test_flatten = X_test.reshape(-1, 28*28)\n",
    "# X_train_flatten[:10]\n",
    "# alternativa: aplanarla en el modelo con una capa Flatten"
   ]
  },
  {
   "cell_type": "markdown",
   "metadata": {},
   "source": [
    "## Red neuronal normal\n",
    "\n",
    "Al aplanar las imágenes 28x28 -> 784, la red pierde información espacial de los píxeles, es decir, no aprovecha la estructura 2D de las imágenes."
   ]
  },
  {
   "cell_type": "code",
   "execution_count": null,
   "metadata": {},
   "outputs": [
    {
     "name": "stdout",
     "output_type": "stream",
     "text": [
      "WARNING:tensorflow:From c:\\dev\\mod5-machine-learning-y-deep-learning\\.venv\\Lib\\site-packages\\keras\\src\\backend\\common\\global_state.py:82: The name tf.reset_default_graph is deprecated. Please use tf.compat.v1.reset_default_graph instead.\n",
      "\n"
     ]
    },
    {
     "name": "stderr",
     "output_type": "stream",
     "text": [
      "c:\\dev\\mod5-machine-learning-y-deep-learning\\.venv\\Lib\\site-packages\\keras\\src\\layers\\reshaping\\flatten.py:37: UserWarning: Do not pass an `input_shape`/`input_dim` argument to a layer. When using Sequential models, prefer using an `Input(shape)` object as the first layer in the model instead.\n",
      "  super().__init__(**kwargs)\n"
     ]
    },
    {
     "name": "stdout",
     "output_type": "stream",
     "text": [
      "Epoch 1/10\n",
      "\u001b[1m1500/1500\u001b[0m \u001b[32m━━━━━━━━━━━━━━━━━━━━\u001b[0m\u001b[37m\u001b[0m \u001b[1m8s\u001b[0m 4ms/step - accuracy: 0.8515 - auc: 0.9760 - loss: 0.5337 - precision: 0.9269 - recall: 0.7563 - val_accuracy: 0.9528 - val_auc: 0.9965 - val_loss: 0.1624 - val_precision: 0.9617 - val_recall: 0.9447\n",
      "Epoch 2/10\n",
      "\u001b[1m1500/1500\u001b[0m \u001b[32m━━━━━━━━━━━━━━━━━━━━\u001b[0m\u001b[37m\u001b[0m \u001b[1m6s\u001b[0m 4ms/step - accuracy: 0.9552 - auc: 0.9971 - loss: 0.1509 - precision: 0.9635 - recall: 0.9475 - val_accuracy: 0.9623 - val_auc: 0.9970 - val_loss: 0.1345 - val_precision: 0.9683 - val_recall: 0.9580\n",
      "Epoch 3/10\n",
      "\u001b[1m1500/1500\u001b[0m \u001b[32m━━━━━━━━━━━━━━━━━━━━\u001b[0m\u001b[37m\u001b[0m \u001b[1m6s\u001b[0m 4ms/step - accuracy: 0.9690 - auc: 0.9982 - loss: 0.1067 - precision: 0.9741 - recall: 0.9647 - val_accuracy: 0.9649 - val_auc: 0.9972 - val_loss: 0.1235 - val_precision: 0.9694 - val_recall: 0.9613\n",
      "Epoch 4/10\n",
      "\u001b[1m1500/1500\u001b[0m \u001b[32m━━━━━━━━━━━━━━━━━━━━\u001b[0m\u001b[37m\u001b[0m \u001b[1m7s\u001b[0m 5ms/step - accuracy: 0.9765 - auc: 0.9987 - loss: 0.0814 - precision: 0.9803 - recall: 0.9729 - val_accuracy: 0.9684 - val_auc: 0.9969 - val_loss: 0.1177 - val_precision: 0.9718 - val_recall: 0.9650\n",
      "Epoch 5/10\n",
      "\u001b[1m1500/1500\u001b[0m \u001b[32m━━━━━━━━━━━━━━━━━━━━\u001b[0m\u001b[37m\u001b[0m \u001b[1m7s\u001b[0m 5ms/step - accuracy: 0.9813 - auc: 0.9992 - loss: 0.0635 - precision: 0.9841 - recall: 0.9793 - val_accuracy: 0.9660 - val_auc: 0.9969 - val_loss: 0.1203 - val_precision: 0.9684 - val_recall: 0.9641\n",
      "Epoch 6/10\n",
      "\u001b[1m1500/1500\u001b[0m \u001b[32m━━━━━━━━━━━━━━━━━━━━\u001b[0m\u001b[37m\u001b[0m \u001b[1m5s\u001b[0m 4ms/step - accuracy: 0.9851 - auc: 0.9994 - loss: 0.0514 - precision: 0.9873 - recall: 0.9833 - val_accuracy: 0.9687 - val_auc: 0.9963 - val_loss: 0.1219 - val_precision: 0.9721 - val_recall: 0.9669\n",
      "Epoch 7/10\n",
      "\u001b[1m1500/1500\u001b[0m \u001b[32m━━━━━━━━━━━━━━━━━━━━\u001b[0m\u001b[37m\u001b[0m \u001b[1m16s\u001b[0m 11ms/step - accuracy: 0.9881 - auc: 0.9995 - loss: 0.0409 - precision: 0.9895 - recall: 0.9867 - val_accuracy: 0.9668 - val_auc: 0.9953 - val_loss: 0.1376 - val_precision: 0.9689 - val_recall: 0.9649\n",
      "Epoch 8/10\n",
      "\u001b[1m1500/1500\u001b[0m \u001b[32m━━━━━━━━━━━━━━━━━━━━\u001b[0m\u001b[37m\u001b[0m \u001b[1m7s\u001b[0m 4ms/step - accuracy: 0.9892 - auc: 0.9997 - loss: 0.0347 - precision: 0.9904 - recall: 0.9884 - val_accuracy: 0.9688 - val_auc: 0.9957 - val_loss: 0.1307 - val_precision: 0.9707 - val_recall: 0.9681\n",
      "Epoch 9/10\n",
      "\u001b[1m1500/1500\u001b[0m \u001b[32m━━━━━━━━━━━━━━━━━━━━\u001b[0m\u001b[37m\u001b[0m \u001b[1m16s\u001b[0m 11ms/step - accuracy: 0.9907 - auc: 0.9998 - loss: 0.0292 - precision: 0.9917 - recall: 0.9899 - val_accuracy: 0.9652 - val_auc: 0.9945 - val_loss: 0.1539 - val_precision: 0.9673 - val_recall: 0.9641\n",
      "Epoch 10/10\n",
      "\u001b[1m1500/1500\u001b[0m \u001b[32m━━━━━━━━━━━━━━━━━━━━\u001b[0m\u001b[37m\u001b[0m \u001b[1m13s\u001b[0m 9ms/step - accuracy: 0.9916 - auc: 0.9998 - loss: 0.0273 - precision: 0.9921 - recall: 0.9905 - val_accuracy: 0.9693 - val_auc: 0.9955 - val_loss: 0.1340 - val_precision: 0.9708 - val_recall: 0.9688\n",
      "Restoring model weights from the end of the best epoch: 4.\n"
     ]
    },
    {
     "data": {
      "text/plain": [
       "<keras.src.callbacks.history.History at 0x1da67d0c530>"
      ]
     },
     "execution_count": 11,
     "metadata": {},
     "output_type": "execute_result"
    }
   ],
   "source": [
    "# 0. random state\n",
    "keras.backend.clear_session()\n",
    "seed = 42\n",
    "tf.random.set_seed(seed)\n",
    "np.random.seed(seed)\n",
    "random.seed(seed)\n",
    "\n",
    "# Arquitectura\n",
    "model = keras.Sequential([\n",
    "    keras.layers.Flatten(input_shape=(28, 28)),  # Convierte (28, 28) en (784,) para aplanar la imagen y poder leerla con capas Dense\n",
    "    keras.layers.Dense(64, activation='relu'),\n",
    "    keras.layers.Dense(64, activation='relu'),\n",
    "    keras.layers.Dense(10, activation='softmax') # clasificación multiclase con 10 neuronas\n",
    "])\n",
    "\n",
    "# Alternativa usando también Sequential pero agregando las capas por separado\n",
    "# model = keras.Sequential()\n",
    "# model.add(keras.layers.Dense(64, activation='relu'))\n",
    "# model.add(keras.layers.Dense(64, activation='relu'))\n",
    "# model.add(keras.layers.Dense(10, activation='softmax') )\n",
    "\n",
    "# Compile\n",
    "model.compile(\n",
    "    loss=keras.losses.CategoricalCrossentropy(), \n",
    "    optimizer=keras.optimizers.Adam(),\n",
    "    metrics=[\n",
    "        'accuracy',\n",
    "        keras.metrics.Precision(),\n",
    "        keras.metrics.Recall(),\n",
    "        keras.metrics.AUC()\n",
    "        ]\n",
    ")\n",
    "\n",
    "\n",
    "# Opcional: para interrumpir el fit automáticamente si no mejora tras X epochs\n",
    "early_stop = keras.callbacks.EarlyStopping(\n",
    "    monitor='val_loss', # métrica a revisar para decidir interrumpir el fit\n",
    "    patience=10, # numero de epochs que tienen que transcurrir sin mejora para interrumpir fit\n",
    "    mode='min', # 'min' para minimizar el val_loss, 'max' si queremos maximizar\n",
    "    verbose=1,\n",
    "    restore_best_weights=True # restaura los mejores pesos del epoch antes de ver que no mejora\n",
    ")\n",
    "\n",
    "# entrenar\n",
    "model.fit(X_train, y_train_onehot, validation_split=0.2, epochs=10, verbose=1, batch_size=32, callbacks=[early_stop]) "
   ]
  },
  {
   "cell_type": "code",
   "execution_count": 13,
   "metadata": {},
   "outputs": [
    {
     "data": {
      "text/html": [
       "<pre style=\"white-space:pre;overflow-x:auto;line-height:normal;font-family:Menlo,'DejaVu Sans Mono',consolas,'Courier New',monospace\"><span style=\"font-weight: bold\">Model: \"sequential\"</span>\n",
       "</pre>\n"
      ],
      "text/plain": [
       "\u001b[1mModel: \"sequential\"\u001b[0m\n"
      ]
     },
     "metadata": {},
     "output_type": "display_data"
    },
    {
     "data": {
      "text/html": [
       "<pre style=\"white-space:pre;overflow-x:auto;line-height:normal;font-family:Menlo,'DejaVu Sans Mono',consolas,'Courier New',monospace\">┏━━━━━━━━━━━━━━━━━━━━━━━━━━━━━━━━━┳━━━━━━━━━━━━━━━━━━━━━━━━┳━━━━━━━━━━━━━━━┓\n",
       "┃<span style=\"font-weight: bold\"> Layer (type)                    </span>┃<span style=\"font-weight: bold\"> Output Shape           </span>┃<span style=\"font-weight: bold\">       Param # </span>┃\n",
       "┡━━━━━━━━━━━━━━━━━━━━━━━━━━━━━━━━━╇━━━━━━━━━━━━━━━━━━━━━━━━╇━━━━━━━━━━━━━━━┩\n",
       "│ flatten (<span style=\"color: #0087ff; text-decoration-color: #0087ff\">Flatten</span>)               │ (<span style=\"color: #00d7ff; text-decoration-color: #00d7ff\">None</span>, <span style=\"color: #00af00; text-decoration-color: #00af00\">784</span>)            │             <span style=\"color: #00af00; text-decoration-color: #00af00\">0</span> │\n",
       "├─────────────────────────────────┼────────────────────────┼───────────────┤\n",
       "│ dense (<span style=\"color: #0087ff; text-decoration-color: #0087ff\">Dense</span>)                   │ (<span style=\"color: #00d7ff; text-decoration-color: #00d7ff\">None</span>, <span style=\"color: #00af00; text-decoration-color: #00af00\">64</span>)             │        <span style=\"color: #00af00; text-decoration-color: #00af00\">50,240</span> │\n",
       "├─────────────────────────────────┼────────────────────────┼───────────────┤\n",
       "│ dense_1 (<span style=\"color: #0087ff; text-decoration-color: #0087ff\">Dense</span>)                 │ (<span style=\"color: #00d7ff; text-decoration-color: #00d7ff\">None</span>, <span style=\"color: #00af00; text-decoration-color: #00af00\">64</span>)             │         <span style=\"color: #00af00; text-decoration-color: #00af00\">4,160</span> │\n",
       "├─────────────────────────────────┼────────────────────────┼───────────────┤\n",
       "│ dense_2 (<span style=\"color: #0087ff; text-decoration-color: #0087ff\">Dense</span>)                 │ (<span style=\"color: #00d7ff; text-decoration-color: #00d7ff\">None</span>, <span style=\"color: #00af00; text-decoration-color: #00af00\">10</span>)             │           <span style=\"color: #00af00; text-decoration-color: #00af00\">650</span> │\n",
       "└─────────────────────────────────┴────────────────────────┴───────────────┘\n",
       "</pre>\n"
      ],
      "text/plain": [
       "┏━━━━━━━━━━━━━━━━━━━━━━━━━━━━━━━━━┳━━━━━━━━━━━━━━━━━━━━━━━━┳━━━━━━━━━━━━━━━┓\n",
       "┃\u001b[1m \u001b[0m\u001b[1mLayer (type)                   \u001b[0m\u001b[1m \u001b[0m┃\u001b[1m \u001b[0m\u001b[1mOutput Shape          \u001b[0m\u001b[1m \u001b[0m┃\u001b[1m \u001b[0m\u001b[1m      Param #\u001b[0m\u001b[1m \u001b[0m┃\n",
       "┡━━━━━━━━━━━━━━━━━━━━━━━━━━━━━━━━━╇━━━━━━━━━━━━━━━━━━━━━━━━╇━━━━━━━━━━━━━━━┩\n",
       "│ flatten (\u001b[38;5;33mFlatten\u001b[0m)               │ (\u001b[38;5;45mNone\u001b[0m, \u001b[38;5;34m784\u001b[0m)            │             \u001b[38;5;34m0\u001b[0m │\n",
       "├─────────────────────────────────┼────────────────────────┼───────────────┤\n",
       "│ dense (\u001b[38;5;33mDense\u001b[0m)                   │ (\u001b[38;5;45mNone\u001b[0m, \u001b[38;5;34m64\u001b[0m)             │        \u001b[38;5;34m50,240\u001b[0m │\n",
       "├─────────────────────────────────┼────────────────────────┼───────────────┤\n",
       "│ dense_1 (\u001b[38;5;33mDense\u001b[0m)                 │ (\u001b[38;5;45mNone\u001b[0m, \u001b[38;5;34m64\u001b[0m)             │         \u001b[38;5;34m4,160\u001b[0m │\n",
       "├─────────────────────────────────┼────────────────────────┼───────────────┤\n",
       "│ dense_2 (\u001b[38;5;33mDense\u001b[0m)                 │ (\u001b[38;5;45mNone\u001b[0m, \u001b[38;5;34m10\u001b[0m)             │           \u001b[38;5;34m650\u001b[0m │\n",
       "└─────────────────────────────────┴────────────────────────┴───────────────┘\n"
      ]
     },
     "metadata": {},
     "output_type": "display_data"
    },
    {
     "data": {
      "text/html": [
       "<pre style=\"white-space:pre;overflow-x:auto;line-height:normal;font-family:Menlo,'DejaVu Sans Mono',consolas,'Courier New',monospace\"><span style=\"font-weight: bold\"> Total params: </span><span style=\"color: #00af00; text-decoration-color: #00af00\">165,152</span> (645.13 KB)\n",
       "</pre>\n"
      ],
      "text/plain": [
       "\u001b[1m Total params: \u001b[0m\u001b[38;5;34m165,152\u001b[0m (645.13 KB)\n"
      ]
     },
     "metadata": {},
     "output_type": "display_data"
    },
    {
     "data": {
      "text/html": [
       "<pre style=\"white-space:pre;overflow-x:auto;line-height:normal;font-family:Menlo,'DejaVu Sans Mono',consolas,'Courier New',monospace\"><span style=\"font-weight: bold\"> Trainable params: </span><span style=\"color: #00af00; text-decoration-color: #00af00\">55,050</span> (215.04 KB)\n",
       "</pre>\n"
      ],
      "text/plain": [
       "\u001b[1m Trainable params: \u001b[0m\u001b[38;5;34m55,050\u001b[0m (215.04 KB)\n"
      ]
     },
     "metadata": {},
     "output_type": "display_data"
    },
    {
     "data": {
      "text/html": [
       "<pre style=\"white-space:pre;overflow-x:auto;line-height:normal;font-family:Menlo,'DejaVu Sans Mono',consolas,'Courier New',monospace\"><span style=\"font-weight: bold\"> Non-trainable params: </span><span style=\"color: #00af00; text-decoration-color: #00af00\">0</span> (0.00 B)\n",
       "</pre>\n"
      ],
      "text/plain": [
       "\u001b[1m Non-trainable params: \u001b[0m\u001b[38;5;34m0\u001b[0m (0.00 B)\n"
      ]
     },
     "metadata": {},
     "output_type": "display_data"
    },
    {
     "data": {
      "text/html": [
       "<pre style=\"white-space:pre;overflow-x:auto;line-height:normal;font-family:Menlo,'DejaVu Sans Mono',consolas,'Courier New',monospace\"><span style=\"font-weight: bold\"> Optimizer params: </span><span style=\"color: #00af00; text-decoration-color: #00af00\">110,102</span> (430.09 KB)\n",
       "</pre>\n"
      ],
      "text/plain": [
       "\u001b[1m Optimizer params: \u001b[0m\u001b[38;5;34m110,102\u001b[0m (430.09 KB)\n"
      ]
     },
     "metadata": {},
     "output_type": "display_data"
    }
   ],
   "source": [
    "model.summary()"
   ]
  },
  {
   "cell_type": "code",
   "execution_count": 14,
   "metadata": {},
   "outputs": [
    {
     "data": {
      "text/html": [
       "<div>\n",
       "<style scoped>\n",
       "    .dataframe tbody tr th:only-of-type {\n",
       "        vertical-align: middle;\n",
       "    }\n",
       "\n",
       "    .dataframe tbody tr th {\n",
       "        vertical-align: top;\n",
       "    }\n",
       "\n",
       "    .dataframe thead th {\n",
       "        text-align: right;\n",
       "    }\n",
       "</style>\n",
       "<table border=\"1\" class=\"dataframe\">\n",
       "  <thead>\n",
       "    <tr style=\"text-align: right;\">\n",
       "      <th></th>\n",
       "      <th>accuracy</th>\n",
       "      <th>auc</th>\n",
       "      <th>loss</th>\n",
       "      <th>precision</th>\n",
       "      <th>recall</th>\n",
       "      <th>val_accuracy</th>\n",
       "      <th>val_auc</th>\n",
       "      <th>val_loss</th>\n",
       "      <th>val_precision</th>\n",
       "      <th>val_recall</th>\n",
       "    </tr>\n",
       "  </thead>\n",
       "  <tbody>\n",
       "    <tr>\n",
       "      <th>0</th>\n",
       "      <td>0.912917</td>\n",
       "      <td>0.992709</td>\n",
       "      <td>0.308012</td>\n",
       "      <td>0.945123</td>\n",
       "      <td>0.877271</td>\n",
       "      <td>0.952833</td>\n",
       "      <td>0.996546</td>\n",
       "      <td>0.162430</td>\n",
       "      <td>0.961738</td>\n",
       "      <td>0.944667</td>\n",
       "    </tr>\n",
       "    <tr>\n",
       "      <th>1</th>\n",
       "      <td>0.957583</td>\n",
       "      <td>0.997309</td>\n",
       "      <td>0.142725</td>\n",
       "      <td>0.965213</td>\n",
       "      <td>0.950896</td>\n",
       "      <td>0.962333</td>\n",
       "      <td>0.996994</td>\n",
       "      <td>0.134494</td>\n",
       "      <td>0.968329</td>\n",
       "      <td>0.958000</td>\n",
       "    </tr>\n",
       "    <tr>\n",
       "      <th>2</th>\n",
       "      <td>0.970479</td>\n",
       "      <td>0.998201</td>\n",
       "      <td>0.103162</td>\n",
       "      <td>0.975103</td>\n",
       "      <td>0.966083</td>\n",
       "      <td>0.964917</td>\n",
       "      <td>0.997249</td>\n",
       "      <td>0.123499</td>\n",
       "      <td>0.969412</td>\n",
       "      <td>0.961333</td>\n",
       "    </tr>\n",
       "    <tr>\n",
       "      <th>3</th>\n",
       "      <td>0.976542</td>\n",
       "      <td>0.998685</td>\n",
       "      <td>0.079817</td>\n",
       "      <td>0.980053</td>\n",
       "      <td>0.973458</td>\n",
       "      <td>0.968417</td>\n",
       "      <td>0.996935</td>\n",
       "      <td>0.117727</td>\n",
       "      <td>0.971803</td>\n",
       "      <td>0.965000</td>\n",
       "    </tr>\n",
       "    <tr>\n",
       "      <th>4</th>\n",
       "      <td>0.981396</td>\n",
       "      <td>0.999070</td>\n",
       "      <td>0.063317</td>\n",
       "      <td>0.984150</td>\n",
       "      <td>0.979208</td>\n",
       "      <td>0.966000</td>\n",
       "      <td>0.996863</td>\n",
       "      <td>0.120310</td>\n",
       "      <td>0.968360</td>\n",
       "      <td>0.964083</td>\n",
       "    </tr>\n",
       "  </tbody>\n",
       "</table>\n",
       "</div>"
      ],
      "text/plain": [
       "   accuracy       auc      loss  precision    recall  val_accuracy   val_auc  \\\n",
       "0  0.912917  0.992709  0.308012   0.945123  0.877271      0.952833  0.996546   \n",
       "1  0.957583  0.997309  0.142725   0.965213  0.950896      0.962333  0.996994   \n",
       "2  0.970479  0.998201  0.103162   0.975103  0.966083      0.964917  0.997249   \n",
       "3  0.976542  0.998685  0.079817   0.980053  0.973458      0.968417  0.996935   \n",
       "4  0.981396  0.999070  0.063317   0.984150  0.979208      0.966000  0.996863   \n",
       "\n",
       "   val_loss  val_precision  val_recall  \n",
       "0  0.162430       0.961738    0.944667  \n",
       "1  0.134494       0.968329    0.958000  \n",
       "2  0.123499       0.969412    0.961333  \n",
       "3  0.117727       0.971803    0.965000  \n",
       "4  0.120310       0.968360    0.964083  "
      ]
     },
     "execution_count": 14,
     "metadata": {},
     "output_type": "execute_result"
    }
   ],
   "source": [
    "df_history = pd.DataFrame(model.history.history)\n",
    "df_history.head()"
   ]
  },
  {
   "cell_type": "code",
   "execution_count": 15,
   "metadata": {},
   "outputs": [
    {
     "data": {
      "image/png": "[encoded data removed]",
      "text/plain": [
       "<Figure size 700x500 with 1 Axes>"
      ]
     },
     "metadata": {},
     "output_type": "display_data"
    },
    {
     "data": {
      "image/png": "[encoded data removed]",
      "text/plain": [
       "<Figure size 700x500 with 1 Axes>"
      ]
     },
     "metadata": {},
     "output_type": "display_data"
    },
    {
     "data": {
      "image/png": "[encoded data removed]",
      "text/plain": [
       "<Figure size 700x500 with 1 Axes>"
      ]
     },
     "metadata": {},
     "output_type": "display_data"
    },
    {
     "data": {
      "image/png": "[encoded data removed]",
      "text/plain": [
       "<Figure size 700x500 with 1 Axes>"
      ]
     },
     "metadata": {},
     "output_type": "display_data"
    },
    {
     "data": {
      "image/png": "[encoded data removed]",
      "text/plain": [
       "<Figure size 700x500 with 1 Axes>"
      ]
     },
     "metadata": {},
     "output_type": "display_data"
    }
   ],
   "source": [
    "def plot_history(df_history):\n",
    "    train_metrics = [col for col in df_history.columns if not col.startswith('val_')]\n",
    "    for metric in train_metrics:\n",
    "        plt.figure(figsize=(7, 5))\n",
    "        plt.plot(df_history[metric], label=f'{metric} train')\n",
    "        \n",
    "        val_metric = f'val_{metric}'\n",
    "        if val_metric in df_history.columns:\n",
    "            plt.plot(df_history[val_metric], label=f'{metric} val test')\n",
    "            \n",
    "        plt.title(metric)\n",
    "        plt.xlabel('epochs')\n",
    "        plt.ylabel(metric)\n",
    "        plt.legend()\n",
    "        plt.show()\n",
    "        \n",
    "plot_history(df_history)"
   ]
  },
  {
   "cell_type": "code",
   "execution_count": 17,
   "metadata": {},
   "outputs": [
    {
     "name": "stdout",
     "output_type": "stream",
     "text": [
      "\u001b[1m313/313\u001b[0m \u001b[32m━━━━━━━━━━━━━━━━━━━━\u001b[0m\u001b[37m\u001b[0m \u001b[1m1s\u001b[0m 2ms/step\n"
     ]
    },
    {
     "data": {
      "text/plain": [
       "array([[1.30393147e-07, 7.76449660e-09, 6.37956618e-05, 2.35291183e-04,\n",
       "        3.29171196e-12, 6.29647730e-08, 1.71107188e-13, 9.99700546e-01,\n",
       "        6.58660468e-08, 1.56653954e-07],\n",
       "       [1.73480430e-07, 7.81357303e-05, 9.99724925e-01, 1.10847344e-04,\n",
       "        1.08617804e-09, 6.02752261e-05, 1.34866987e-05, 4.81158535e-09,\n",
       "        1.20763552e-05, 1.23039317e-12],\n",
       "       [6.26301335e-06, 9.77540672e-01, 1.12225791e-03, 3.26847257e-05,\n",
       "        7.65689838e-05, 1.62096439e-05, 2.55516090e-04, 2.06145551e-02,\n",
       "        3.33997159e-04, 1.29991838e-06],\n",
       "       [9.99640346e-01, 2.72496709e-06, 2.58113054e-04, 4.90822786e-05,\n",
       "        1.33277024e-06, 2.75881121e-06, 6.48743890e-06, 2.67217856e-05,\n",
       "        1.07450633e-05, 1.71740919e-06],\n",
       "       [1.51593949e-05, 6.46680855e-05, 2.98504347e-07, 1.24940726e-07,\n",
       "        9.97949183e-01, 9.52977246e-07, 4.72423653e-06, 2.08763595e-05,\n",
       "        2.99138537e-06, 1.94106053e-03]], dtype=float32)"
      ]
     },
     "execution_count": 17,
     "metadata": {},
     "output_type": "execute_result"
    }
   ],
   "source": [
    "model.predict(X_test)[:5] # probabilidades"
   ]
  },
  {
   "cell_type": "code",
   "execution_count": 22,
   "metadata": {},
   "outputs": [
    {
     "name": "stdout",
     "output_type": "stream",
     "text": [
      "\u001b[1m313/313\u001b[0m \u001b[32m━━━━━━━━━━━━━━━━━━━━\u001b[0m\u001b[37m\u001b[0m \u001b[1m1s\u001b[0m 2ms/step\n"
     ]
    },
    {
     "data": {
      "text/plain": [
       "array([7, 2, 1, 0, 4])"
      ]
     },
     "execution_count": 22,
     "metadata": {},
     "output_type": "execute_result"
    }
   ],
   "source": [
    "y_pred = np.argmax(model.predict(X_test), axis=1)\n",
    "y_pred[:5]"
   ]
  },
  {
   "cell_type": "code",
   "execution_count": 25,
   "metadata": {},
   "outputs": [
    {
     "name": "stdout",
     "output_type": "stream",
     "text": [
      "              precision    recall  f1-score   support\n",
      "\n",
      "           0       0.97      0.99      0.98       980\n",
      "           1       0.99      0.98      0.99      1135\n",
      "           2       0.98      0.97      0.97      1032\n",
      "           3       0.93      0.98      0.96      1010\n",
      "           4       0.99      0.95      0.97       982\n",
      "           5       0.97      0.96      0.96       892\n",
      "           6       0.98      0.97      0.98       958\n",
      "           7       0.95      0.98      0.97      1028\n",
      "           8       0.95      0.95      0.95       974\n",
      "           9       0.96      0.94      0.95      1009\n",
      "\n",
      "    accuracy                           0.97     10000\n",
      "   macro avg       0.97      0.97      0.97     10000\n",
      "weighted avg       0.97      0.97      0.97     10000\n",
      "\n"
     ]
    }
   ],
   "source": [
    "from sklearn.metrics import classification_report\n",
    "\n",
    "print(classification_report(y_test, y_pred))"
   ]
  },
  {
   "cell_type": "code",
   "execution_count": 26,
   "metadata": {},
   "outputs": [
    {
     "data": {
      "text/html": [
       "<div>\n",
       "<style scoped>\n",
       "    .dataframe tbody tr th:only-of-type {\n",
       "        vertical-align: middle;\n",
       "    }\n",
       "\n",
       "    .dataframe tbody tr th {\n",
       "        vertical-align: top;\n",
       "    }\n",
       "\n",
       "    .dataframe thead th {\n",
       "        text-align: right;\n",
       "    }\n",
       "</style>\n",
       "<table border=\"1\" class=\"dataframe\">\n",
       "  <thead>\n",
       "    <tr style=\"text-align: right;\">\n",
       "      <th></th>\n",
       "      <th>real</th>\n",
       "      <th>prediccion</th>\n",
       "    </tr>\n",
       "  </thead>\n",
       "  <tbody>\n",
       "    <tr>\n",
       "      <th>0</th>\n",
       "      <td>7</td>\n",
       "      <td>7</td>\n",
       "    </tr>\n",
       "    <tr>\n",
       "      <th>1</th>\n",
       "      <td>2</td>\n",
       "      <td>2</td>\n",
       "    </tr>\n",
       "    <tr>\n",
       "      <th>2</th>\n",
       "      <td>1</td>\n",
       "      <td>1</td>\n",
       "    </tr>\n",
       "    <tr>\n",
       "      <th>3</th>\n",
       "      <td>0</td>\n",
       "      <td>0</td>\n",
       "    </tr>\n",
       "    <tr>\n",
       "      <th>4</th>\n",
       "      <td>4</td>\n",
       "      <td>4</td>\n",
       "    </tr>\n",
       "  </tbody>\n",
       "</table>\n",
       "</div>"
      ],
      "text/plain": [
       "   real  prediccion\n",
       "0     7           7\n",
       "1     2           2\n",
       "2     1           1\n",
       "3     0           0\n",
       "4     4           4"
      ]
     },
     "execution_count": 26,
     "metadata": {},
     "output_type": "execute_result"
    }
   ],
   "source": [
    "df_comparison = pd.DataFrame({'real': y_test, 'prediccion': y_pred})\n",
    "df_comparison.head()"
   ]
  },
  {
   "cell_type": "code",
   "execution_count": 28,
   "metadata": {},
   "outputs": [
    {
     "data": {
      "text/plain": [
       "<matplotlib.image.AxesImage at 0x1da6e973c50>"
      ]
     },
     "execution_count": 28,
     "metadata": {},
     "output_type": "execute_result"
    },
    {
     "data": {
      "image/png": "[encoded data removed]",
      "text/plain": [
       "<Figure size 640x480 with 1 Axes>"
      ]
     },
     "metadata": {},
     "output_type": "display_data"
    }
   ],
   "source": [
    "plt.imshow(X_test[0].reshape(28,28), cmap='viridis')"
   ]
  },
  {
   "cell_type": "code",
   "execution_count": 37,
   "metadata": {},
   "outputs": [
    {
     "data": {
      "text/plain": [
       "(10000, 28, 28)"
      ]
     },
     "execution_count": 37,
     "metadata": {},
     "output_type": "execute_result"
    }
   ],
   "source": [
    "X_test.shape"
   ]
  },
  {
   "cell_type": "code",
   "execution_count": 41,
   "metadata": {},
   "outputs": [
    {
     "data": {
      "text/plain": [
       "(28, 28)"
      ]
     },
     "execution_count": 41,
     "metadata": {},
     "output_type": "execute_result"
    }
   ],
   "source": [
    "X_test[0].shape"
   ]
  },
  {
   "cell_type": "code",
   "execution_count": 42,
   "metadata": {},
   "outputs": [
    {
     "data": {
      "text/plain": [
       "(1, 28, 28)"
      ]
     },
     "execution_count": 42,
     "metadata": {},
     "output_type": "execute_result"
    }
   ],
   "source": [
    "# pasar una imagen a 3D para que luego el Flatten haga su trabajo\n",
    "image_to_predict = X_test[0].reshape(1, 28, 28)\n",
    "image_to_predict.shape"
   ]
  },
  {
   "cell_type": "code",
   "execution_count": 43,
   "metadata": {},
   "outputs": [
    {
     "name": "stdout",
     "output_type": "stream",
     "text": [
      "\u001b[1m1/1\u001b[0m \u001b[32m━━━━━━━━━━━━━━━━━━━━\u001b[0m\u001b[37m\u001b[0m \u001b[1m0s\u001b[0m 55ms/step\n"
     ]
    },
    {
     "data": {
      "text/plain": [
       "array([[1.3039340e-07, 7.7644966e-09, 6.3795727e-05, 2.3529118e-04,\n",
       "        3.2917308e-12, 6.2964894e-08, 1.7110785e-13, 9.9970055e-01,\n",
       "        6.5866175e-08, 1.5665441e-07]], dtype=float32)"
      ]
     },
     "execution_count": 43,
     "metadata": {},
     "output_type": "execute_result"
    }
   ],
   "source": [
    "# hacer una prediccion\n",
    "model.predict(image_to_predict)"
   ]
  },
  {
   "cell_type": "code",
   "execution_count": null,
   "metadata": {},
   "outputs": [
    {
     "name": "stdout",
     "output_type": "stream",
     "text": [
      "\u001b[1m1/1\u001b[0m \u001b[32m━━━━━━━━━━━━━━━━━━━━\u001b[0m\u001b[37m\u001b[0m \u001b[1m0s\u001b[0m 56ms/step\n"
     ]
    },
    {
     "data": {
      "text/plain": [
       "array([7])"
      ]
     },
     "execution_count": 44,
     "metadata": {},
     "output_type": "execute_result"
    }
   ],
   "source": [
    "np.argmax(model.predict(image_to_predict), axis=1) #el modelo predice que la imagen es el número 7"
   ]
  },
  {
   "cell_type": "markdown",
   "metadata": {},
   "source": [
    "## Red neuronal de convolución: CNN\n",
    "\n",
    "* ``Conv2D``:\n",
    "    * ``filters``: \n",
    "        * indica el número de filtros (o kernels) que se aplican en la capa convolucional. Cada filtro extrae un tipo de característica o patrón diferente de la imagen (bordes verticales, horizontales, texturas específicas, etc.).\n",
    "        * Regla general: Se suele empezar con un número relativamente bajo de filtros (por ejemplo, 16 o 32) en las primeras capas y aumentar en capas posteriores (64, 128, 256, ...).  \n",
    "        * A mayor número de filtros, la red puede aprender características más variadas, pero también aumenta el número de parámetros y el costo computacional.\n",
    "    * ``kernel_size``:\n",
    "        * determina el tamaño del filtro (o ventana) que se va a desplazar sobre la imagen para extraer características. Por ejemplo, kernel_size=(3,3) significa que cada filtro es de 3×3 píxeles.\n",
    "        * Regla general: valores pequeños como (3,3) o (5,5) suelen ser los más utilizados.\n",
    "        * Kernel grande (por ejemplo, 7×7, 11×11): cubre más área en una sola convolución, pero a veces aprende características demasiado globales de la imagen.\n",
    "        * Kernel pequeño (3×3): fuerza a la red a aprender rasgos locales (pequeños bordes, esquinas), y apilando varias capas convolucionales se capturan patrones más complejos.\n",
    "        * (3,3) es prácticamente un estándar en muchas arquitecturas modernas (VGG, ResNet, etc.).\n",
    "* ``MaxPooling2D``:\n",
    "    * En el concepto de pooling o agrupamiento, vamos a tomar grupos de píxeles (por ejemplo, grupos de 2x2 píxeles) y realizar una agregación sobre ellos. \n",
    "    * Una de las posibles agregaciones que podemos hacer es tomar el valor máximo de los píxeles del grupo (esto se conoce como Max Pooling). Otra agregación común es tomar el promedio (Average Pooling).\n",
    "    * ``pool_size``: \n",
    "        * es el tamaño (alto × ancho) de la ventana con la que se hace la operación de pooling (por ejemplo, pool_size=(2,2) significa que cada “región” de 2×2 se resumirá en un único valor, típicamente el máximo —max pooling—).\n",
    "        * Regla general: (2,2) se usa a menudo para reducir a la mitad el tamaño espacial (altura y ancho) de la representación después de cada bloque convolucional.\n",
    "        * Reduce la dimensionalidad: disminuye el número de parámetros de las capas siguientes y la memoria requerida.\n",
    "        * Introduce cierta invariancia a pequeñas traslaciones (si el objeto o característica se mueve un poco dentro de ese 2×2, el resultado tras el pooling no cambia).\n",
    "        * Cuidado: un pool_size demasiado grande reduce la imagen muy rápido y puede perder detalles importantes.\n",
    "\n",
    "* ``Flatten()``:\n",
    "    * toma una entrada con forma (por ejemplo) [batch_size, altura, anchura, canales] y la aplana en [batch_size, altura*anchura*canales].\n",
    "    * Convierte el mapa de características 2D o 3D que sale de la última capa convolucional en un vector 1D, para poder conectarlo con capas totalmente conectadas (Dense).\n",
    "    * se utiliza justo antes de capas densas (fully connected), porque Dense espera una entrada en forma de vector.\n",
    "    * Entrada: un tensor con dimensiones [batch_size, alto, ancho, canales].\n",
    "    * Salida: un tensor con dimensiones [batch_size, alto × ancho × canales].\n",
    "\n",
    "* padding:\n",
    "    * Es la práctica de “rellenar” (o “padear”) los bordes de la imagen (o del mapa de características) con valores, por lo general ceros, antes de aplicar la operación de convolución.\n",
    "    * Visualmente, si tienes una matriz de entrada 5×5 y haces un padding de 1 píxel alrededor, la entrada efectiva se vuelve 7×7 (agregas 1 fila de ceros en la parte superior, 1 fila de ceros en la parte inferior, 1 columna de ceros a la izquierda y 1 columna de ceros a la derecha).\n",
    "    * ¿Por qué usarlo?\n",
    "        * Sin padding, la convolución en los bordes se realiza con menos valores que en el centro, perdiendo información cerca de los bordes de la imagen.\n",
    "        * Con padding, la convolución dispone de información más completa para cada posición.\n",
    "        * Con padding apropiado, se puede mantener el mismo tamaño de la entrada en la salida, algo llamado comúnmente “same padding”.\n",
    "    * ejemplo: ``layers.Conv2D(filters=32, kernel_size=(3,3), padding='same')``\n",
    "    * valid (sin padding) y same (con padding para conservar dimensiones).\n",
    "    * Por defecto es padding = 'valid' por lo que sí se reduce un poco la entrada.\n",
    "\n",
    "\n",
    "Ventajas:\n",
    "\n",
    "* La CNN utiliza capas convolucionales y de pooling para extraer características locales (bordes, texturas) antes de combinar la información en la parte final de la red.\n",
    "* Esto permite una mejor generalización y un número de parámetros menor que un MLP de arquitectura equivalente en profundidad, gracias a la “compartición de pesos” y los “campos receptivos locales”.\n",
    "* Menor número de parámetros gracias al uso de kernels compartidos.\n",
    "* Explotación de la estructura espacial: los filtros “ven” pequeñas regiones (3×3, 5×5, etc.) y pueden reconocer patrones sin perder información espacial.\n",
    "* Invarianza a traslaciones: el mismo filtro se desplaza por toda la imagen."
   ]
  },
  {
   "cell_type": "code",
   "execution_count": null,
   "metadata": {},
   "outputs": [
    {
     "data": {
      "text/plain": [
       "(60000, 28, 28)"
      ]
     },
     "execution_count": 47,
     "metadata": {},
     "output_type": "execute_result"
    }
   ],
   "source": [
    "X_train.shape # 3D, pero necesitamos 4D para la CNN"
   ]
  },
  {
   "cell_type": "code",
   "execution_count": null,
   "metadata": {},
   "outputs": [
    {
     "data": {
      "text/plain": [
       "(60000, 28, 28, 1)"
      ]
     },
     "execution_count": 48,
     "metadata": {},
     "output_type": "execute_result"
    }
   ],
   "source": [
    "# Redimensionar X para CNN ( canal de color = 1) 4D\n",
    "# num_samples, 28, 28, 1 canal de color (1 para escala de grises o 3 para RGB)\n",
    "# Las capas CNN esperan entradas en formato 4D (batch_size, height, width, channels)\n",
    "X_train_cnn = X_train.reshape(-1, 28, 28, 1)\n",
    "X_test_cnn = X_test.reshape(-1, 28, 28, 1)\n",
    "X_train_cnn.shape"
   ]
  },
  {
   "cell_type": "code",
   "execution_count": null,
   "metadata": {},
   "outputs": [],
   "source": [
    "keras.backend.clear_session()\n",
    "seed = 42\n",
    "tf.random.set_seed(seed)\n",
    "np.random.seed(seed)\n",
    "random.seed(seed)\n",
    "\n",
    "# Arquitectura\n",
    "model = keras.Sequential([\n",
    "    #primera capa convolucional\n",
    "    keras.layers.Conv2D(filters=16, kernel_size=(3,3), activation='relu'),\n",
    "    keras.layers.MaxPooling2D(pool_size=(2,2)),\n",
    "    \n",
    "    keras.layers.Conv2D(filters=32, kernel_size=(3,3), activation='relu'),\n",
    "    keras.layers.MaxPooling2D(pool_size=(2,2)),\n",
    "    \n",
    "    keras.layers.Flatten(), # aplanado\n",
    "    keras.layers.Dense(64, activation='relu'),\n",
    "    keras.layers.Dense(64, activation='relu'),\n",
    "    keras.layers.Dense(10, activation='softmax') # clasificación multiclase con 10 neuronas\n",
    "])\n",
    "\n",
    "# Alternativa usando también Sequential pero agregando las capas por separado\n",
    "# model = keras.Sequential()\n",
    "# model.add(keras.layers.Dense(64, activation='relu'))\n",
    "# model.add(keras.layers.Dense(64, activation='relu'))\n",
    "# model.add(keras.layers.Dense(10, activation='softmax') )\n",
    "\n",
    "# Compile\n",
    "model.compile(\n",
    "    loss=keras.losses.CategoricalCrossentropy(), \n",
    "    optimizer=keras.optimizers.Adam(),\n",
    "    metrics=[\n",
    "        'accuracy',\n",
    "        keras.metrics.Precision(),\n",
    "        keras.metrics.Recall(),\n",
    "        keras.metrics.AUC()\n",
    "        ]\n",
    ")\n",
    "\n",
    "\n",
    "# Opcional: para interrumpir el fit automáticamente si no mejora tras X epochs\n",
    "early_stop = keras.callbacks.EarlyStopping(\n",
    "    monitor='val_loss', # métrica a revisar para decidir interrumpir el fit\n",
    "    patience=10, # numero de epochs que tienen que transcurrir sin mejora para interrumpir fit\n",
    "    mode='min', # 'min' para minimizar el val_loss, 'max' si queremos maximizar\n",
    "    verbose=1,\n",
    "    restore_best_weights=True # restaura los mejores pesos del epoch antes de ver que no mejora\n",
    ")\n",
    "\n",
    "# entrenar\n",
    "model.fit(X_train_cnn, y_train_onehot, validation_split=0.2, epochs=10, verbose=1, batch_size=32, callbacks=[early_stop]) "
   ]
  }
 ],
 "metadata": {
  "kernelspec": {
   "display_name": ".venv",
   "language": "python",
   "name": "python3"
  },
  "language_info": {
   "codemirror_mode": {
    "name": "ipython",
    "version": 3
   },
   "file_extension": ".py",
   "mimetype": "text/x-python",
   "name": "python",
   "nbconvert_exporter": "python",
   "pygments_lexer": "ipython3",
   "version": "3.12.6"
  }
 },
 "nbformat": 4,
 "nbformat_minor": 2
}
