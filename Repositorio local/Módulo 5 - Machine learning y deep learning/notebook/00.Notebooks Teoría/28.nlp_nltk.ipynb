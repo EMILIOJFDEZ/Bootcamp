{
 "cells": [
  {
   "cell_type": "markdown",
   "id": "bdfdde55",
   "metadata": {},
   "source": [
    "## Natural Language Processing (NLP)\n",
    "\n",
    "El procesamiento del lenguaje natural (**NLP**), se define ampliamente como la manipulación automática del lenguaje natural, como el habla y el texto, por parte del software.\n",
    "\n",
    "El estudio de **NLP** existe desde hace más de 50 años y surgió del campo de la lingüística con el auge de los ordenadores.\n",
    "\n",
    "**El lenguaje natural se refiere a la forma en que nosotros, los humanos, nos comunicamos entre nosotros.**\n",
    "\n",
    "Dada la importancia de este tipo de datos, debemos tener métodos para comprender y razonar sobre el lenguaje natural, tal como lo hacemos con otros tipos de datos.\n",
    "\n",
    "En Python, tenemos la librería **NLTK** (**Natural Language ToolKit**), éste es un modulo que contiene herramientas para el manejo del lenguaje natural.\n",
    "\n",
    "```python\n",
    "pip install nltk\n",
    "```\n",
    "\n",
    "_**Documentación:** https://www.nltk.org/_"
   ]
  },
  {
   "cell_type": "code",
   "execution_count": 2,
   "id": "9852379e",
   "metadata": {},
   "outputs": [],
   "source": [
    "import numpy as np\n",
    "import pandas as pd\n",
    "\n",
    "import matplotlib # Para ver la versión\n",
    "import matplotlib.pyplot as plt\n",
    "import seaborn as sns\n",
    "\n",
    "import nltk"
   ]
  },
  {
   "cell_type": "code",
   "execution_count": 3,
   "id": "00f858d4-1a36-43ae-99cb-87e72767bdc8",
   "metadata": {},
   "outputs": [
    {
     "name": "stdout",
     "output_type": "stream",
     "text": [
      "numpy==1.20.3\n",
      "pandas==1.2.4\n",
      "matplotlib==3.4.2\n",
      "seaborn==0.11.1\n",
      "nltk==3.7\n"
     ]
    }
   ],
   "source": [
    "# Versiones\n",
    "\n",
    "print(f\"numpy=={np.__version__}\")\n",
    "print(f\"pandas=={pd.__version__}\")\n",
    "print(f\"matplotlib=={matplotlib.__version__}\")\n",
    "print(f\"seaborn=={sns.__version__}\")\n",
    "print(f\"nltk=={nltk.__version__}\")"
   ]
  },
  {
   "cell_type": "code",
   "execution_count": null,
   "id": "0bd7760d",
   "metadata": {},
   "outputs": [],
   "source": [
    "# Para descargar paquetes\n",
    "\n",
    "nltk.download([\"all\", \"stopwords\", \"omw-1.4\", \"movie_reviews\", \"porter_test\", \"punkt\", \"spanish_grammars\", \"vader_lexicon\", \"averaged_perceptron_tagger\"])\n",
    "\n",
    "# De corpora descargar: wordnet, stopwords, omw-1.4, movie_reviews\n",
    "# De models descargar: porter_test, punkt, spanish_grammars, vader_lexicon, averaged_perceptron_tagger"
   ]
  },
  {
   "cell_type": "code",
   "execution_count": 5,
   "id": "90aa4fe2",
   "metadata": {},
   "outputs": [
    {
     "name": "stdout",
     "output_type": "stream",
     "text": [
      "el artículo 1 españa se constituye en un estado social y democrático de derecho, que propugna como valores superiores de su ordenamiento jurídico la libertad, la justicia, la igualdad y el pluralismo político.\n",
      "el artículo 2 la constitución se fundamenta en la indisoluble unidad de la nación española, patria común e indivisible de todos los españoles, y reconoce y garantiza el derecho a la autonomía de las nacionalidades y regiones que la integran y la solidaridad entre todas ellas.\n",
      "los artículos 3,3.4 el castellano es la lengua española oficial del estado. todos los españoles tienen el deber de conocerla y el derecho a usarla.\n",
      "el artículo 4 la bandera de españa está formada por tres franjas horizontales, roja, amarilla y roja, siendo la amarilla de doble anchura que cada una de las rojas.\n",
      "el artículo 5 la capital del estado es la villa de madrid.\n",
      "el artículo 6 los partidos políticos expresan el pluralismo político, concurren a la formación y manifestación de la voluntad popular y son instrumento fundamental para la participación política. su creación y el ejercicio de su actividad son libres dentro del respeto a la constitución y a la ley. su estructura interna y funcionamiento deberán ser democráticos.\n"
     ]
    }
   ],
   "source": [
    "# Abrimos el archivo .txt\n",
    "\n",
    "with open(file = \"../Data/constitucion.txt\", mode = \"r\", encoding = \"latin-1\") as file: \n",
    "    texto = file.read()\n",
    "    \n",
    "texto = texto.lower()\n",
    "\n",
    "print(texto)"
   ]
  },
  {
   "cell_type": "markdown",
   "id": "5042797d",
   "metadata": {},
   "source": [
    "### Tokenizar\n",
    "\n",
    "Separar palabras del texto en entidades llamadas **tokens**, con las que trabajaremos luego. Estos tokens pueden tener cualquier tamaño, pueden ser elementos de **n-palabras**."
   ]
  },
  {
   "cell_type": "code",
   "execution_count": 6,
   "id": "4629e91e",
   "metadata": {},
   "outputs": [
    {
     "name": "stdout",
     "output_type": "stream",
     "text": [
      "el <class 'str'>\n",
      "artículo <class 'str'>\n",
      "1 <class 'str'>\n",
      "españa <class 'str'>\n",
      "se <class 'str'>\n"
     ]
    }
   ],
   "source": [
    "# Usando nltk.word_tokenize() convertimos en tokens cada palabra del archivo\n",
    "\n",
    "tokens = nltk.word_tokenize(text = texto, language = \"spanish\")\n",
    "\n",
    "\n",
    "for token in tokens[:5]: \n",
    "    print(token, type(token))\n",
    "    \n",
    "# tokens es una lista de strings"
   ]
  },
  {
   "cell_type": "code",
   "execution_count": 13,
   "id": "5185061c",
   "metadata": {},
   "outputs": [
    {
     "data": {
      "text/plain": [
       "['el artículo 1 españa se constituye en un estado social y democrático de derecho, que propugna como valores superiores de su ordenamiento jurídico la libertad, la justicia, la igualdad y el pluralismo político.',\n",
       " 'el artículo 2 la constitución se fundamenta en la indisoluble unidad de la nación española, patria común e indivisible de todos los españoles, y reconoce y garantiza el derecho a la autonomía de las nacionalidades y regiones que la integran y la solidaridad entre todas ellas.',\n",
       " 'los artículos 3,3.4 el castellano es la lengua española oficial del estado.',\n",
       " 'todos los españoles tienen el deber de conocerla y el derecho a usarla.',\n",
       " 'el artículo 4 la bandera de españa está formada por tres franjas horizontales, roja, amarilla y roja, siendo la amarilla de doble anchura que cada una de las rojas.',\n",
       " 'el artículo 5 la capital del estado es la villa de madrid.',\n",
       " 'el artículo 6 los partidos políticos expresan el pluralismo político, concurren a la formación y manifestación de la voluntad popular y son instrumento fundamental para la participación política.',\n",
       " 'su creación y el ejercicio de su actividad son libres dentro del respeto a la constitución y a la ley.',\n",
       " 'su estructura interna y funcionamiento deberán ser democráticos.']"
      ]
     },
     "execution_count": 13,
     "metadata": {},
     "output_type": "execute_result"
    }
   ],
   "source": [
    "from nltk.tokenize import sent_tokenize\n",
    "\n",
    "frases = sent_tokenize(text = texto) # Crea tokens de oranciones \n",
    "frases"
   ]
  },
  {
   "cell_type": "code",
   "execution_count": 14,
   "id": "ecfac0e2",
   "metadata": {},
   "outputs": [
    {
     "data": {
      "text/plain": [
       "'el artículo 1 españa se constituye en un estado social y democrático de derecho, que propugna como valores superiores de su ordenamiento jurídico la libertad, la justicia, la igualdad y el pluralismo político.'"
      ]
     },
     "execution_count": 14,
     "metadata": {},
     "output_type": "execute_result"
    }
   ],
   "source": [
    "frases[0]"
   ]
  },
  {
   "cell_type": "markdown",
   "id": "255da5da",
   "metadata": {},
   "source": [
    "### Total de palabras y Palabras únicas"
   ]
  },
  {
   "cell_type": "code",
   "execution_count": 19,
   "id": "1c131700",
   "metadata": {
    "scrolled": true
   },
   "outputs": [
    {
     "name": "stdout",
     "output_type": "stream",
     "text": [
      "Total de palabras en el texto: 219\n",
      "Total de palabras diferentes en el texto: 115\n"
     ]
    }
   ],
   "source": [
    "total_palabras = len(tokens)\n",
    "\n",
    "print(f\"Total de palabras en el texto: {total_palabras}\")\n",
    "\n",
    "palabras_diferentes = len(set(tokens))\n",
    "\n",
    "print(f\"Total de palabras diferentes en el texto: {palabras_diferentes}\")"
   ]
  },
  {
   "cell_type": "markdown",
   "id": "58eab682",
   "metadata": {},
   "source": [
    "### Riqueza Léxica\n",
    "\n",
    "La riqueza léxica es la relación que existe entre la extensión de un texto y el número de palabras distintas que contiene. "
   ]
  },
  {
   "cell_type": "code",
   "execution_count": 20,
   "id": "4d6a098a",
   "metadata": {},
   "outputs": [
    {
     "name": "stdout",
     "output_type": "stream",
     "text": [
      "Riqueza Lexica: 0.5251141552511416\n"
     ]
    }
   ],
   "source": [
    "riqueza_lexica = palabras_diferentes / total_palabras\n",
    "\n",
    "print(f\"Riqueza Lexica: {riqueza_lexica}\")"
   ]
  },
  {
   "cell_type": "code",
   "execution_count": 22,
   "id": "273d7ae6",
   "metadata": {},
   "outputs": [],
   "source": [
    "# Funcion para calcular la riqueza lexica\n",
    "\n",
    "def riqueza_lexica_fun(tokens):\n",
    "    \n",
    "    total_palabras = len(tokens)\n",
    "    palabras_diferentes = len(set(tokens))\n",
    "    \n",
    "    riqueza_lexica = palabras_diferentes / total_palabras\n",
    "    \n",
    "    return riqueza_lexica"
   ]
  },
  {
   "cell_type": "code",
   "execution_count": 23,
   "id": "7991d232",
   "metadata": {},
   "outputs": [
    {
     "data": {
      "text/plain": [
       "0.5251141552511416"
      ]
     },
     "execution_count": 23,
     "metadata": {},
     "output_type": "execute_result"
    }
   ],
   "source": [
    "riqueza_lexica_fun(tokens)"
   ]
  },
  {
   "cell_type": "markdown",
   "id": "c2aae5b7",
   "metadata": {},
   "source": [
    "### .Text()\n",
    "\n",
    "Transforma un objeto string a un objeto **`Text`** para ser manipulado por **`NLTK`**."
   ]
  },
  {
   "cell_type": "code",
   "execution_count": 24,
   "id": "7a0c45a1",
   "metadata": {},
   "outputs": [
    {
     "data": {
      "text/plain": [
       "<Text: el artículo 1 españa se constituye en un...>"
      ]
     },
     "execution_count": 24,
     "metadata": {},
     "output_type": "execute_result"
    }
   ],
   "source": [
    "texto_nltk = nltk.Text(tokens)\n",
    "\n",
    "texto_nltk"
   ]
  },
  {
   "cell_type": "code",
   "execution_count": 25,
   "id": "7a87ee4d",
   "metadata": {},
   "outputs": [
    {
     "data": {
      "text/plain": [
       "nltk.text.Text"
      ]
     },
     "execution_count": 25,
     "metadata": {},
     "output_type": "execute_result"
    }
   ],
   "source": [
    "type(texto_nltk)"
   ]
  },
  {
   "cell_type": "markdown",
   "id": "9b29f204",
   "metadata": {},
   "source": [
    "### .concordance()\n",
    "\n",
    "Retorna las concordancias de una palabras (todas las veces que aparece en el texto)."
   ]
  },
  {
   "cell_type": "code",
   "execution_count": 26,
   "id": "dc224249",
   "metadata": {},
   "outputs": [
    {
     "name": "stdout",
     "output_type": "stream",
     "text": [
      "Displaying 5 of 5 matches:\n",
      "el artículo 1 españa se constituye en un estad\n",
      "ldad y el pluralismo político . el artículo 2 la constitución se fundamenta en\n",
      "nocerla y el derecho a usarla . el artículo 4 la bandera de españa está formad\n",
      "ura que cada una de las rojas . el artículo 5 la capital del estado es la vill\n",
      " estado es la villa de madrid . el artículo 6 los partidos políticos expresan \n"
     ]
    }
   ],
   "source": [
    "texto_nltk.concordance(word = \"artículo\")"
   ]
  },
  {
   "cell_type": "code",
   "execution_count": 27,
   "id": "9f3ef300",
   "metadata": {},
   "outputs": [
    {
     "name": "stdout",
     "output_type": "stream",
     "text": [
      "Displaying 2 of 2 matches:\n",
      "ismo político . el artículo 2 la constitución se fundamenta en la indisoluble \n",
      "n libres dentro del respeto a la constitución y a la ley . su estructura inter\n"
     ]
    }
   ],
   "source": [
    "texto_nltk.concordance(word = \"constitución\")"
   ]
  },
  {
   "cell_type": "markdown",
   "id": "1fb23646",
   "metadata": {},
   "source": [
    "### .similar()\n",
    "\n",
    "Encuentra otras palabras que aparecen en el mismo contexto que la palabra especificada, muestra las palabras más similares primero."
   ]
  },
  {
   "cell_type": "code",
   "execution_count": 28,
   "id": "1a4383dc",
   "metadata": {
    "scrolled": true
   },
   "outputs": [
    {
     "name": "stdout",
     "output_type": "stream",
     "text": [
      "igualdad integran formación\n"
     ]
    }
   ],
   "source": [
    "texto_nltk.similar(word = \"constitución\")"
   ]
  },
  {
   "cell_type": "code",
   "execution_count": null,
   "id": "c09ce413",
   "metadata": {
    "scrolled": true
   },
   "outputs": [],
   "source": [
    "# Abrimos el archivo \"edgar_allan_poe.txt\"\n",
    "\n",
    "with open(file = \"../Data/edgar_allan_poe.txt\", mode = \"r\", encoding = \"utf-8\") as archivo: \n",
    "    texto = archivo.read() \n",
    "\n",
    "print(texto)"
   ]
  },
  {
   "cell_type": "code",
   "execution_count": 30,
   "id": "a09216c3",
   "metadata": {},
   "outputs": [],
   "source": [
    "# Tokenizar\n",
    "\n",
    "tokens = nltk.word_tokenize(text = texto, language = \"spanish\")"
   ]
  },
  {
   "cell_type": "code",
   "execution_count": 32,
   "id": "c70730ca",
   "metadata": {},
   "outputs": [
    {
     "data": {
      "text/plain": [
       "13932"
      ]
     },
     "execution_count": 32,
     "metadata": {},
     "output_type": "execute_result"
    }
   ],
   "source": [
    "len(tokens)"
   ]
  },
  {
   "cell_type": "code",
   "execution_count": null,
   "id": "751f7cfd",
   "metadata": {},
   "outputs": [],
   "source": [
    "frases = sent_tokenize(text = texto) # Crea tokens de oranciones \n",
    "frases"
   ]
  },
  {
   "cell_type": "code",
   "execution_count": 34,
   "id": "5e61a9a9",
   "metadata": {},
   "outputs": [
    {
     "name": "stdout",
     "output_type": "stream",
     "text": [
      "Total de palabras en el texto: 13932\n",
      "Total de palabras diferentes en el texto: 3695\n",
      "Riqueza Lexica: 0.2652167671547517\n"
     ]
    }
   ],
   "source": [
    "total_palabras = len(tokens)\n",
    "\n",
    "print(f\"Total de palabras en el texto: {total_palabras}\")\n",
    "\n",
    "palabras_diferentes = len(set(tokens))\n",
    "\n",
    "print(f\"Total de palabras diferentes en el texto: {palabras_diferentes}\")\n",
    "\n",
    "print(f\"Riqueza Lexica: {riqueza_lexica_fun(tokens)}\")"
   ]
  },
  {
   "cell_type": "code",
   "execution_count": 35,
   "id": "2cef3c20",
   "metadata": {},
   "outputs": [],
   "source": [
    "# .Text()\n",
    "\n",
    "texto_nltk = nltk.Text(tokens = tokens)"
   ]
  },
  {
   "cell_type": "code",
   "execution_count": 36,
   "id": "d3d59408",
   "metadata": {},
   "outputs": [
    {
     "name": "stdout",
     "output_type": "stream",
     "text": [
      "Displaying 3 of 3 matches:\n",
      "un lado la gigantesca Madona de la Libertad , que tiene por peana un islote . \n",
      "dora . A ti , Nuestra Señora de la Libertad . A ti , cuyas mamas de bronce ali\n",
      "ormidable , de ojos azules . Ave , Libertad , llena de fuerza ; el Señor es co\n"
     ]
    }
   ],
   "source": [
    "# .concordance()\n",
    "\n",
    "texto_nltk.concordance(word = \"libertad\")"
   ]
  },
  {
   "cell_type": "code",
   "execution_count": 37,
   "id": "2e5f0c22",
   "metadata": {},
   "outputs": [
    {
     "name": "stdout",
     "output_type": "stream",
     "text": [
      "bruma campana primera bajo muchacha voz cabeza libertad alma\n",
      "salutación isla fuerza pecho ciudad piedra impresión angustia\n",
      "exactitud naturaleza muerte\n"
     ]
    }
   ],
   "source": [
    "# .similar()\n",
    "\n",
    "texto_nltk.similar(word = \"madre\")"
   ]
  },
  {
   "cell_type": "markdown",
   "id": "3647ddf0",
   "metadata": {},
   "source": [
    "### .text.ContextIndex() y .similar_words()\n",
    "\n",
    "**`.text.ContextIndex`** y **`.similar_words`** son utilizados para encontrar palabras similares.\n",
    "\n",
    "**Simililares no significa que sean sinónimos, sino que son palabras que van a encontrarse en un contexto similar o tienen similitud con la palabra de busqueda.**\n"
   ]
  },
  {
   "cell_type": "code",
   "execution_count": 38,
   "id": "7548c25c",
   "metadata": {
    "scrolled": true
   },
   "outputs": [
    {
     "data": {
      "text/plain": [
       "['alma',\n",
       " 'fuerza',\n",
       " 'luz',\n",
       " 'campana',\n",
       " 'querida',\n",
       " 'lecho',\n",
       " 'corazón',\n",
       " 'cerebro',\n",
       " 'pecho',\n",
       " 'isla',\n",
       " 'voz',\n",
       " 'belleza',\n",
       " '_steamer_',\n",
       " 'salutación',\n",
       " 'memoria',\n",
       " 'compañera',\n",
       " 'Annie',\n",
       " 'alfabeto',\n",
       " 'juventud',\n",
       " 'espíritu']"
      ]
     },
     "execution_count": 38,
     "metadata": {},
     "output_type": "execute_result"
    }
   ],
   "source": [
    "idx = nltk.text.ContextIndex(tokens = tokens)\n",
    "\n",
    "palabras_similares = idx.similar_words(word = \"madre\")\n",
    "palabras_similares"
   ]
  },
  {
   "cell_type": "code",
   "execution_count": null,
   "id": "fed8a6ff",
   "metadata": {},
   "outputs": [],
   "source": [
    "# Si quisieramos encontrar las palabras similares de más de una palabra podemos usar el siguiente bucle:\n",
    "\n",
    "similares = list()\n",
    "\n",
    "for word in nltk.word_tokenize(\"naturaleza madre\"):\n",
    "    similares.append(nltk.text.ContextIndex(tokens).similar_words(word))\n",
    "    \n",
    "pd.DataFrame(data = similares, index = [\"naturaleza\", \"madre\"]).T"
   ]
  },
  {
   "cell_type": "markdown",
   "id": "dcd53cd7",
   "metadata": {},
   "source": [
    "### .dispersion_plot()"
   ]
  },
  {
   "cell_type": "code",
   "execution_count": 40,
   "id": "d27ce8d9-263a-499c-9584-9bc55983aaf7",
   "metadata": {},
   "outputs": [
    {
     "data": {
      "text/plain": [
       "'3.7'"
      ]
     },
     "execution_count": 40,
     "metadata": {},
     "output_type": "execute_result"
    }
   ],
   "source": [
    "nltk.__version__"
   ]
  },
  {
   "cell_type": "code",
   "execution_count": 39,
   "id": "7feb206e",
   "metadata": {},
   "outputs": [
    {
     "data": {
      "image/png": "[encoded data removed]",
      "text/plain": [
       "<Figure size 432x288 with 1 Axes>"
      ]
     },
     "metadata": {
      "needs_background": "light"
     },
     "output_type": "display_data"
    }
   ],
   "source": [
    "# Usando .dispersion_plot() podemos generar una gráfica donde se muestra el número de aparición de una palabra \n",
    "\n",
    "tokens = nltk.word_tokenize(text = texto, language = \"spanish\") \n",
    "texto_nltk = nltk.Text(tokens = tokens) \n",
    "\n",
    "lista_palabras = [\"las\", \"los\", \"el\", \"ella\", \"ensueño\", \"resplandor\", \"padre\", \"madre\", \"libertad\"] \n",
    "\n",
    "texto_nltk.dispersion_plot(words = lista_palabras)"
   ]
  },
  {
   "cell_type": "markdown",
   "id": "ed917dac",
   "metadata": {},
   "source": [
    "### .FreqDist()\n",
    "\n",
    "Retorna un diccionario donde las llaves son la palabras del texto y el valor son las veces que aparece en el texto."
   ]
  },
  {
   "cell_type": "code",
   "execution_count": 41,
   "id": "714745a6",
   "metadata": {},
   "outputs": [
    {
     "data": {
      "text/plain": [
       "FreqDist({',': 1078, 'de': 639, 'la': 414, 'y': 367, 'que': 345, '.': 309, 'en': 299, 'el': 290, 'a': 179, 'un': 153, ...})"
      ]
     },
     "execution_count": 41,
     "metadata": {},
     "output_type": "execute_result"
    }
   ],
   "source": [
    "distribucion = nltk.FreqDist(samples = texto_nltk)\n",
    "\n",
    "distribucion"
   ]
  },
  {
   "cell_type": "code",
   "execution_count": null,
   "id": "aae8d90d",
   "metadata": {},
   "outputs": [],
   "source": [
    "distribucion.most_common()"
   ]
  },
  {
   "cell_type": "code",
   "execution_count": 43,
   "id": "305e4611",
   "metadata": {},
   "outputs": [
    {
     "data": {
      "image/png": "[encoded data removed]",
      "text/plain": [
       "<Figure size 432x288 with 1 Axes>"
      ]
     },
     "metadata": {
      "needs_background": "light"
     },
     "output_type": "display_data"
    },
    {
     "data": {
      "text/plain": [
       "<AxesSubplot:xlabel='Samples', ylabel='Counts'>"
      ]
     },
     "execution_count": 43,
     "metadata": {},
     "output_type": "execute_result"
    }
   ],
   "source": [
    "distribucion.plot(20)"
   ]
  },
  {
   "cell_type": "code",
   "execution_count": 44,
   "id": "4def0fb9",
   "metadata": {
    "scrolled": true
   },
   "outputs": [
    {
     "data": {
      "image/png": "[encoded data removed]",
      "text/plain": [
       "<Figure size 432x288 with 1 Axes>"
      ]
     },
     "metadata": {
      "needs_background": "light"
     },
     "output_type": "display_data"
    }
   ],
   "source": [
    "lista_palabras = [\",\", \"de\", \"la\", \"y\", \"que\", \".\", \"en\", \"el\", \"a\"]\n",
    "texto_nltk.dispersion_plot(words = lista_palabras)"
   ]
  },
  {
   "cell_type": "markdown",
   "id": "4e12909a",
   "metadata": {},
   "source": [
    "### Hapax\n",
    "\n",
    "Un hapax es una palabra que aparece únicamente una vez en el texto."
   ]
  },
  {
   "cell_type": "code",
   "execution_count": null,
   "id": "b369149f",
   "metadata": {
    "scrolled": true
   },
   "outputs": [],
   "source": [
    "# .Text()\n",
    "texto_nltk = nltk.Text(tokens = tokens)\n",
    "\n",
    "# .FreqDist()\n",
    "distribucion = nltk.FreqDist(samples = texto_nltk)\n",
    "\n",
    "# .hapaxes\n",
    "hapaxes = distribucion.hapaxes()\n",
    "\n",
    "for hapax in hapaxes: \n",
    "    print(hapax)"
   ]
  },
  {
   "cell_type": "code",
   "execution_count": 47,
   "id": "b377ebd2",
   "metadata": {},
   "outputs": [
    {
     "name": "stdout",
     "output_type": "stream",
     "text": [
      "2499\n"
     ]
    }
   ],
   "source": [
    "print(len(hapaxes))"
   ]
  },
  {
   "cell_type": "code",
   "execution_count": null,
   "id": "ac1a3044",
   "metadata": {},
   "outputs": [],
   "source": [
    "texto_nltk.dispersion_plot(words = hapaxes[:30])"
   ]
  },
  {
   "cell_type": "markdown",
   "id": "935f3e7d",
   "metadata": {},
   "source": [
    "### STOPWORDS\n",
    "\n",
    "Las **`stopwords`** (palabras funcionales o palabras vacias) son las palabras sin significado como artículos, pronombres, preposiciones, etc. que son filtradas antes o después del procesamiento de datos **NLP**."
   ]
  },
  {
   "cell_type": "code",
   "execution_count": 48,
   "id": "09a344ca",
   "metadata": {},
   "outputs": [
    {
     "name": "stdout",
     "output_type": "stream",
     "text": [
      "de | la | que | el | en | y | a | los | del | se | las | por | un | para | con | no | una | su | al | lo | como | más | pero | sus | le | ya | o | este | sí | porque | esta | entre | cuando | muy | sin | sobre | también | me | hasta | hay | donde | quien | desde | todo | nos | durante | todos | uno | les | ni | contra | otros | ese | eso | ante | ellos | e | esto | mí | antes | algunos | qué | unos | yo | otro | otras | otra | él | tanto | esa | estos | mucho | quienes | nada | muchos | cual | poco | ella | estar | estas | algunas | algo | nosotros | mi | mis | tú | te | ti | tu | tus | ellas | nosotras | vosotros | vosotras | os | mío | mía | míos | mías | tuyo | tuya | tuyos | tuyas | suyo | suya | suyos | suyas | nuestro | nuestra | nuestros | nuestras | vuestro | vuestra | vuestros | vuestras | esos | esas | estoy | estás | está | estamos | estáis | están | esté | estés | estemos | estéis | estén | estaré | estarás | estará | estaremos | estaréis | estarán | estaría | estarías | estaríamos | estaríais | estarían | estaba | estabas | estábamos | estabais | estaban | estuve | estuviste | estuvo | estuvimos | estuvisteis | estuvieron | estuviera | estuvieras | estuviéramos | estuvierais | estuvieran | estuviese | estuvieses | estuviésemos | estuvieseis | estuviesen | estando | estado | estada | estados | estadas | estad | he | has | ha | hemos | habéis | han | haya | hayas | hayamos | hayáis | hayan | habré | habrás | habrá | habremos | habréis | habrán | habría | habrías | habríamos | habríais | habrían | había | habías | habíamos | habíais | habían | hube | hubiste | hubo | hubimos | hubisteis | hubieron | hubiera | hubieras | hubiéramos | hubierais | hubieran | hubiese | hubieses | hubiésemos | hubieseis | hubiesen | habiendo | habido | habida | habidos | habidas | soy | eres | es | somos | sois | son | sea | seas | seamos | seáis | sean | seré | serás | será | seremos | seréis | serán | sería | serías | seríamos | seríais | serían | era | eras | éramos | erais | eran | fui | fuiste | fue | fuimos | fuisteis | fueron | fuera | fueras | fuéramos | fuerais | fueran | fuese | fueses | fuésemos | fueseis | fuesen | sintiendo | sentido | sentida | sentidos | sentidas | siente | sentid | tengo | tienes | tiene | tenemos | tenéis | tienen | tenga | tengas | tengamos | tengáis | tengan | tendré | tendrás | tendrá | tendremos | tendréis | tendrán | tendría | tendrías | tendríamos | tendríais | tendrían | tenía | tenías | teníamos | teníais | tenían | tuve | tuviste | tuvo | tuvimos | tuvisteis | tuvieron | tuviera | tuvieras | tuviéramos | tuvierais | tuvieran | tuviese | tuvieses | tuviésemos | tuvieseis | tuviesen | teniendo | tenido | tenida | tenidos | tenidas | tened | "
     ]
    }
   ],
   "source": [
    "stopwords = nltk.corpus.stopwords.words(\"spanish\")\n",
    "\n",
    "for stopword in stopwords:\n",
    "    print(stopword, end = \" | \")"
   ]
  },
  {
   "cell_type": "code",
   "execution_count": 56,
   "id": "00d09d94",
   "metadata": {},
   "outputs": [
    {
     "name": "stdout",
     "output_type": "stream",
     "text": [
      "Tamaño original: 13910\n",
      "Tamaño despues de stopwords: 8276\n"
     ]
    }
   ],
   "source": [
    "tokens = nltk.word_tokenize(text = texto.lower(), language = \"spanish\")\n",
    "\n",
    "tokens_limpios = [token for token in tokens if token not in stopwords]\n",
    "        \n",
    "print(f\"Tamaño original: {len(tokens)}\") \n",
    "print(f\"Tamaño despues de stopwords: {len(tokens_limpios)}\")"
   ]
  },
  {
   "cell_type": "code",
   "execution_count": 57,
   "id": "f37d617e-cd20-4f6b-9fdc-9bae67636da7",
   "metadata": {},
   "outputs": [
    {
     "data": {
      "text/plain": [
       "0.5949676491732566"
      ]
     },
     "execution_count": 57,
     "metadata": {},
     "output_type": "execute_result"
    }
   ],
   "source": [
    "8276/13910"
   ]
  },
  {
   "cell_type": "code",
   "execution_count": 58,
   "id": "812fb362",
   "metadata": {},
   "outputs": [
    {
     "data": {
      "image/png": "[encoded data removed]",
      "text/plain": [
       "<Figure size 432x288 with 1 Axes>"
      ]
     },
     "metadata": {
      "needs_background": "light"
     },
     "output_type": "display_data"
    }
   ],
   "source": [
    "nltk.FreqDist(nltk.Text(tokens_limpios)).plot(20)\n",
    "\n",
    "plt.show()"
   ]
  },
  {
   "cell_type": "code",
   "execution_count": 59,
   "id": "ca0f6e48",
   "metadata": {},
   "outputs": [
    {
     "name": "stdout",
     "output_type": "stream",
     "text": [
      "6258\n"
     ]
    }
   ],
   "source": [
    "# Eliminamos elementos de tamaño 2 o menor:\n",
    "\n",
    "tokens_limpios = [token for token in tokens_limpios if len(token) > 2]\n",
    "\n",
    "            \n",
    "print(len(tokens_limpios))"
   ]
  },
  {
   "cell_type": "code",
   "execution_count": 60,
   "id": "7ce9bbac",
   "metadata": {},
   "outputs": [
    {
     "data": {
      "image/png": "[encoded data removed]",
      "text/plain": [
       "<Figure size 432x288 with 1 Axes>"
      ]
     },
     "metadata": {
      "needs_background": "light"
     },
     "output_type": "display_data"
    }
   ],
   "source": [
    "nltk.FreqDist(nltk.Text(tokens_limpios)).plot(20)\n",
    "\n",
    "plt.show()"
   ]
  },
  {
   "cell_type": "code",
   "execution_count": null,
   "id": "0e666a4c-56bd-4ba3-a93e-8bcfe15d0790",
   "metadata": {},
   "outputs": [],
   "source": [
    "#No he tenido ni un problema. Buen producto.\n",
    "\n",
    "#No tenido problema buen producto"
   ]
  },
  {
   "cell_type": "markdown",
   "id": "9bbac901",
   "metadata": {},
   "source": [
    "### Stemming\n",
    "\n",
    "Reducir palabras a su raíz (pueden no tener significado):\n",
    " + Organise, organising, organisation --> organis\n",
    " + intelligence, intelligently --> intelligen\n",
    " \n",
    " Para hacer stemming usamos el algoritmo _**Porter Stemmer:** https://tartarus.org/martin/PorterStemmer/_"
   ]
  },
  {
   "cell_type": "code",
   "execution_count": 67,
   "id": "8f189a0a",
   "metadata": {},
   "outputs": [],
   "source": [
    "from nltk.stem import PorterStemmer"
   ]
  },
  {
   "cell_type": "code",
   "execution_count": 68,
   "id": "97691202",
   "metadata": {},
   "outputs": [
    {
     "data": {
      "text/plain": [
       "'hi dear students, how are you doing? we are almost finishing the bootcamp. we hope you are learning and enjoying the course.'"
      ]
     },
     "execution_count": 68,
     "metadata": {},
     "output_type": "execute_result"
    }
   ],
   "source": [
    "texto = \"hi dear students, how are you doing? we are almost finishing the bootcamp. we hope you are learning and enjoying the course.\"\n",
    "texto"
   ]
  },
  {
   "cell_type": "code",
   "execution_count": 69,
   "id": "52bb820e",
   "metadata": {},
   "outputs": [
    {
     "data": {
      "text/plain": [
       "'hi dear student , how are you do ? we are almost finish the bootcamp . we hope you are learn and enjoy the cours .'"
      ]
     },
     "execution_count": 69,
     "metadata": {},
     "output_type": "execute_result"
    }
   ],
   "source": [
    "# Inicializamos un objeto PorterStemmer()\n",
    "stemmer = PorterStemmer()\n",
    "\n",
    "\" \".join([stemmer.stem(word) for word in nltk.word_tokenize(text = texto, language = \"english\")])"
   ]
  },
  {
   "cell_type": "markdown",
   "id": "81847143",
   "metadata": {},
   "source": [
    "### Lematización\n",
    "Similar al stemming, pero reduce la palabra a una raíz que sí tiene significado:\n",
    "+ going, goes, gone --> go\n",
    "+ intelligence, intelligently --> intelligent"
   ]
  },
  {
   "cell_type": "code",
   "execution_count": 71,
   "id": "e50e4d97",
   "metadata": {},
   "outputs": [],
   "source": [
    "from nltk.stem import WordNetLemmatizer"
   ]
  },
  {
   "cell_type": "code",
   "execution_count": 72,
   "id": "a5a3ab09",
   "metadata": {},
   "outputs": [
    {
     "data": {
      "text/plain": [
       "'hi dear students, how are you doing? we are almost finishing the bootcamp. we hope you are learning and enjoying the course.'"
      ]
     },
     "execution_count": 72,
     "metadata": {},
     "output_type": "execute_result"
    }
   ],
   "source": [
    "texto = \"hi dear students, how are you doing? we are almost finishing the bootcamp. we hope you are learning and enjoying the course.\"\n",
    "texto"
   ]
  },
  {
   "cell_type": "code",
   "execution_count": 73,
   "id": "5c286a32",
   "metadata": {},
   "outputs": [
    {
     "data": {
      "text/plain": [
       "'hi dear students , how be you do ? we be almost finish the bootcamp . we hope you be learn and enjoy the course .'"
      ]
     },
     "execution_count": 73,
     "metadata": {},
     "output_type": "execute_result"
    }
   ],
   "source": [
    "# Inicializamos un objeto WordNetLemmatizer()\n",
    "lemmatizer = WordNetLemmatizer()\n",
    "\n",
    "\" \".join([lemmatizer.lemmatize(word, pos = \"v\") for word in nltk.word_tokenize(text = texto, language = \"english\")])"
   ]
  },
  {
   "cell_type": "markdown",
   "id": "0cc9f130",
   "metadata": {},
   "source": [
    "### Analisis de Sentimiento"
   ]
  },
  {
   "cell_type": "code",
   "execution_count": 74,
   "id": "4ec4c3fd",
   "metadata": {},
   "outputs": [],
   "source": [
    "from nltk.sentiment.vader import SentimentIntensityAnalyzer\n",
    "\n",
    "sia = SentimentIntensityAnalyzer()"
   ]
  },
  {
   "cell_type": "code",
   "execution_count": 75,
   "id": "5add9a5a",
   "metadata": {},
   "outputs": [],
   "source": [
    "texto = \"\"\"The National Guard has been released in Minneapolis to do the job that the Democrat Mayor couldn’t do.\n",
    "           Should have been used 2 days ago & there would not have been damage & Police Headquarters would not have\n",
    "           been taken over & ruined. Great job by the National Guard. No games!\"\"\"\n",
    "\n",
    "tokens = nltk.word_tokenize(text = texto)"
   ]
  },
  {
   "cell_type": "code",
   "execution_count": null,
   "id": "608f6f2d",
   "metadata": {},
   "outputs": [],
   "source": [
    "for token in tokens:\n",
    "    ss = sia.polarity_scores(token)\n",
    "    print(token)\n",
    "    print(ss)"
   ]
  },
  {
   "cell_type": "code",
   "execution_count": 80,
   "id": "f6012e04",
   "metadata": {},
   "outputs": [
    {
     "data": {
      "text/plain": [
       "{'neg': 0.266, 'neu': 0.432, 'pos': 0.302, 'compound': 0.128}"
      ]
     },
     "execution_count": 80,
     "metadata": {},
     "output_type": "execute_result"
    }
   ],
   "source": [
    "sia.polarity_scores(\"I love this product. Why do you hate it?\")"
   ]
  },
  {
   "cell_type": "code",
   "execution_count": null,
   "id": "c905ce1d",
   "metadata": {},
   "outputs": [],
   "source": [
    "################################################################################################################################"
   ]
  }
 ],
 "metadata": {
  "kernelspec": {
   "display_name": "Python 3 (ipykernel)",
   "language": "python",
   "name": "python3"
  },
  "language_info": {
   "codemirror_mode": {
    "name": "ipython",
    "version": 3
   },
   "file_extension": ".py",
   "mimetype": "text/x-python",
   "name": "python",
   "nbconvert_exporter": "python",
   "pygments_lexer": "ipython3",
   "version": "3.11.7"
  }
 },
 "nbformat": 4,
 "nbformat_minor": 5
}
