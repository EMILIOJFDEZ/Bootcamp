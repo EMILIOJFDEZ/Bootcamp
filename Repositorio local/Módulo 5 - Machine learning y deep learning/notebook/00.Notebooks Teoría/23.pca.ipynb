{
 "cells": [
  {
   "cell_type": "markdown",
   "id": "08aa15aa",
   "metadata": {},
   "source": [
    "## Principal Component Analysis (PCA)\n",
    "\n",
    "_Análisis de componente Principal_\n",
    "\n",
    "\n",
    "\n",
    "Cuando utilizamos algoritmos de selección de características (**Feature Selection**) mantenemos las características originales y seleccionamos las que mejoran el rendimiento de los clasificadores.\n",
    "Mientras que en el contexto de **reducción de dimensionalidad** se puede entender como la comprensión de los datos con el objetivo de mantener la mayor de la información.\n",
    "\n",
    "**Principales razones para aplicar reducción de dimensionalidad:**\n",
    "\n",
    "1. Almacenamiento.\n",
    "2. Eficiencia computacional.\n",
    "3. Mejorar el rendimiento predictivo, reduciendo la alta dimensionalidad.\n",
    "\n",
    "### PCA\n",
    "\n",
    "**PCA** se enfoca en encontrar o identificar patrones en los datos, basándose en la correlación entre los atributos del dataset. \n",
    "\n",
    "De esta forma encuentra las direcciones de varianza máxima en datos de alta dimensionalidad y los proyecta en un nuevo subespacio con dimensiones iguales o menores que el original.\n",
    "\n",
    "_**Documentación:** https://scikit-learn.org/stable/modules/generated/sklearn.decomposition.PCA.html_\n",
    "\n",
    "### PCA para Matrices Sparse\n",
    "\n",
    "_**Documentación:** https://scikit-learn.org/stable/modules/generated/sklearn.decomposition.SparsePCA.html_"
   ]
  },
  {
   "cell_type": "code",
   "execution_count": 1,
   "id": "ad3f97e7",
   "metadata": {},
   "outputs": [],
   "source": [
    "import numpy as np\n",
    "import pandas as pd\n",
    "\n",
    "import matplotlib # Para ver la versión\n",
    "import matplotlib.pyplot as plt\n",
    "import seaborn as sns\n",
    "\n",
    "import sklearn # Para ver la versión\n",
    "\n",
    "from sklearn import datasets\n",
    "\n",
    "# Escalado\n",
    "from sklearn.preprocessing import MinMaxScaler\n",
    "\n",
    "# GridSearchCV\n",
    "from sklearn.model_selection import GridSearchCV\n",
    "\n",
    "# Train, Test\n",
    "from sklearn.model_selection import train_test_split\n",
    "\n",
    "# Metricas\n",
    "from sklearn.metrics import jaccard_score\n",
    "from sklearn.metrics import accuracy_score\n",
    "from sklearn.metrics import precision_score\n",
    "from sklearn.metrics import recall_score\n",
    "from sklearn.metrics import f1_score\n",
    "from sklearn.metrics import roc_auc_score\n",
    "from sklearn.metrics import confusion_matrix\n",
    "from sklearn.metrics import classification_report\n",
    "\n",
    "# Clasificadores\n",
    "from sklearn.neighbors import KNeighborsClassifier\n",
    "from sklearn.neighbors import RadiusNeighborsClassifier\n",
    "from sklearn.neighbors import NearestCentroid\n",
    "from sklearn.naive_bayes import GaussianNB\n",
    "from sklearn.linear_model import LogisticRegression\n",
    "from sklearn.tree import DecisionTreeClassifier\n",
    "from sklearn.ensemble import RandomForestClassifier\n",
    "from sklearn.svm import SVC\n",
    "from sklearn.ensemble import AdaBoostClassifier\n",
    "from sklearn.ensemble import GradientBoostingClassifier\n",
    "\n",
    "# Validacion\n",
    "from sklearn.model_selection import StratifiedKFold"
   ]
  },
  {
   "cell_type": "code",
   "execution_count": 2,
   "id": "83e3b372-6d81-4e4c-9a56-5469af8ed093",
   "metadata": {},
   "outputs": [
    {
     "name": "stdout",
     "output_type": "stream",
     "text": [
      "numpy==1.20.3\n",
      "pandas==1.2.4\n",
      "matplotlib==3.4.2\n",
      "seaborn==0.11.1\n",
      "scikit-learn==1.5.1\n"
     ]
    }
   ],
   "source": [
    "# Versiones\n",
    "\n",
    "print(f\"numpy=={np.__version__}\")\n",
    "print(f\"pandas=={pd.__version__}\")\n",
    "print(f\"matplotlib=={matplotlib.__version__}\")\n",
    "print(f\"seaborn=={sns.__version__}\")\n",
    "print(f\"scikit-learn=={sklearn.__version__}\")"
   ]
  },
  {
   "cell_type": "code",
   "execution_count": 33,
   "id": "895abff0",
   "metadata": {},
   "outputs": [],
   "source": [
    "X, y = datasets.load_wine(return_X_y = True, as_frame = True)\n",
    "\n",
    "columnas = X.columns"
   ]
  },
  {
   "cell_type": "code",
   "execution_count": 34,
   "id": "bd697a36",
   "metadata": {},
   "outputs": [
    {
     "data": {
      "text/html": [
       "<div>\n",
       "<style scoped>\n",
       "    .dataframe tbody tr th:only-of-type {\n",
       "        vertical-align: middle;\n",
       "    }\n",
       "\n",
       "    .dataframe tbody tr th {\n",
       "        vertical-align: top;\n",
       "    }\n",
       "\n",
       "    .dataframe thead th {\n",
       "        text-align: right;\n",
       "    }\n",
       "</style>\n",
       "<table border=\"1\" class=\"dataframe\">\n",
       "  <thead>\n",
       "    <tr style=\"text-align: right;\">\n",
       "      <th></th>\n",
       "      <th>alcohol</th>\n",
       "      <th>malic_acid</th>\n",
       "      <th>ash</th>\n",
       "      <th>alcalinity_of_ash</th>\n",
       "      <th>magnesium</th>\n",
       "      <th>total_phenols</th>\n",
       "      <th>flavanoids</th>\n",
       "      <th>nonflavanoid_phenols</th>\n",
       "      <th>proanthocyanins</th>\n",
       "      <th>color_intensity</th>\n",
       "      <th>hue</th>\n",
       "      <th>od280/od315_of_diluted_wines</th>\n",
       "      <th>proline</th>\n",
       "    </tr>\n",
       "  </thead>\n",
       "  <tbody>\n",
       "    <tr>\n",
       "      <th>0</th>\n",
       "      <td>14.23</td>\n",
       "      <td>1.71</td>\n",
       "      <td>2.43</td>\n",
       "      <td>15.6</td>\n",
       "      <td>127.0</td>\n",
       "      <td>2.80</td>\n",
       "      <td>3.06</td>\n",
       "      <td>0.28</td>\n",
       "      <td>2.29</td>\n",
       "      <td>5.64</td>\n",
       "      <td>1.04</td>\n",
       "      <td>3.92</td>\n",
       "      <td>1065.0</td>\n",
       "    </tr>\n",
       "    <tr>\n",
       "      <th>1</th>\n",
       "      <td>13.20</td>\n",
       "      <td>1.78</td>\n",
       "      <td>2.14</td>\n",
       "      <td>11.2</td>\n",
       "      <td>100.0</td>\n",
       "      <td>2.65</td>\n",
       "      <td>2.76</td>\n",
       "      <td>0.26</td>\n",
       "      <td>1.28</td>\n",
       "      <td>4.38</td>\n",
       "      <td>1.05</td>\n",
       "      <td>3.40</td>\n",
       "      <td>1050.0</td>\n",
       "    </tr>\n",
       "    <tr>\n",
       "      <th>2</th>\n",
       "      <td>13.16</td>\n",
       "      <td>2.36</td>\n",
       "      <td>2.67</td>\n",
       "      <td>18.6</td>\n",
       "      <td>101.0</td>\n",
       "      <td>2.80</td>\n",
       "      <td>3.24</td>\n",
       "      <td>0.30</td>\n",
       "      <td>2.81</td>\n",
       "      <td>5.68</td>\n",
       "      <td>1.03</td>\n",
       "      <td>3.17</td>\n",
       "      <td>1185.0</td>\n",
       "    </tr>\n",
       "    <tr>\n",
       "      <th>3</th>\n",
       "      <td>14.37</td>\n",
       "      <td>1.95</td>\n",
       "      <td>2.50</td>\n",
       "      <td>16.8</td>\n",
       "      <td>113.0</td>\n",
       "      <td>3.85</td>\n",
       "      <td>3.49</td>\n",
       "      <td>0.24</td>\n",
       "      <td>2.18</td>\n",
       "      <td>7.80</td>\n",
       "      <td>0.86</td>\n",
       "      <td>3.45</td>\n",
       "      <td>1480.0</td>\n",
       "    </tr>\n",
       "    <tr>\n",
       "      <th>4</th>\n",
       "      <td>13.24</td>\n",
       "      <td>2.59</td>\n",
       "      <td>2.87</td>\n",
       "      <td>21.0</td>\n",
       "      <td>118.0</td>\n",
       "      <td>2.80</td>\n",
       "      <td>2.69</td>\n",
       "      <td>0.39</td>\n",
       "      <td>1.82</td>\n",
       "      <td>4.32</td>\n",
       "      <td>1.04</td>\n",
       "      <td>2.93</td>\n",
       "      <td>735.0</td>\n",
       "    </tr>\n",
       "    <tr>\n",
       "      <th>...</th>\n",
       "      <td>...</td>\n",
       "      <td>...</td>\n",
       "      <td>...</td>\n",
       "      <td>...</td>\n",
       "      <td>...</td>\n",
       "      <td>...</td>\n",
       "      <td>...</td>\n",
       "      <td>...</td>\n",
       "      <td>...</td>\n",
       "      <td>...</td>\n",
       "      <td>...</td>\n",
       "      <td>...</td>\n",
       "      <td>...</td>\n",
       "    </tr>\n",
       "    <tr>\n",
       "      <th>173</th>\n",
       "      <td>13.71</td>\n",
       "      <td>5.65</td>\n",
       "      <td>2.45</td>\n",
       "      <td>20.5</td>\n",
       "      <td>95.0</td>\n",
       "      <td>1.68</td>\n",
       "      <td>0.61</td>\n",
       "      <td>0.52</td>\n",
       "      <td>1.06</td>\n",
       "      <td>7.70</td>\n",
       "      <td>0.64</td>\n",
       "      <td>1.74</td>\n",
       "      <td>740.0</td>\n",
       "    </tr>\n",
       "    <tr>\n",
       "      <th>174</th>\n",
       "      <td>13.40</td>\n",
       "      <td>3.91</td>\n",
       "      <td>2.48</td>\n",
       "      <td>23.0</td>\n",
       "      <td>102.0</td>\n",
       "      <td>1.80</td>\n",
       "      <td>0.75</td>\n",
       "      <td>0.43</td>\n",
       "      <td>1.41</td>\n",
       "      <td>7.30</td>\n",
       "      <td>0.70</td>\n",
       "      <td>1.56</td>\n",
       "      <td>750.0</td>\n",
       "    </tr>\n",
       "    <tr>\n",
       "      <th>175</th>\n",
       "      <td>13.27</td>\n",
       "      <td>4.28</td>\n",
       "      <td>2.26</td>\n",
       "      <td>20.0</td>\n",
       "      <td>120.0</td>\n",
       "      <td>1.59</td>\n",
       "      <td>0.69</td>\n",
       "      <td>0.43</td>\n",
       "      <td>1.35</td>\n",
       "      <td>10.20</td>\n",
       "      <td>0.59</td>\n",
       "      <td>1.56</td>\n",
       "      <td>835.0</td>\n",
       "    </tr>\n",
       "    <tr>\n",
       "      <th>176</th>\n",
       "      <td>13.17</td>\n",
       "      <td>2.59</td>\n",
       "      <td>2.37</td>\n",
       "      <td>20.0</td>\n",
       "      <td>120.0</td>\n",
       "      <td>1.65</td>\n",
       "      <td>0.68</td>\n",
       "      <td>0.53</td>\n",
       "      <td>1.46</td>\n",
       "      <td>9.30</td>\n",
       "      <td>0.60</td>\n",
       "      <td>1.62</td>\n",
       "      <td>840.0</td>\n",
       "    </tr>\n",
       "    <tr>\n",
       "      <th>177</th>\n",
       "      <td>14.13</td>\n",
       "      <td>4.10</td>\n",
       "      <td>2.74</td>\n",
       "      <td>24.5</td>\n",
       "      <td>96.0</td>\n",
       "      <td>2.05</td>\n",
       "      <td>0.76</td>\n",
       "      <td>0.56</td>\n",
       "      <td>1.35</td>\n",
       "      <td>9.20</td>\n",
       "      <td>0.61</td>\n",
       "      <td>1.60</td>\n",
       "      <td>560.0</td>\n",
       "    </tr>\n",
       "  </tbody>\n",
       "</table>\n",
       "<p>178 rows × 13 columns</p>\n",
       "</div>"
      ],
      "text/plain": [
       "     alcohol  malic_acid   ash  alcalinity_of_ash  magnesium  total_phenols  \\\n",
       "0      14.23        1.71  2.43               15.6      127.0           2.80   \n",
       "1      13.20        1.78  2.14               11.2      100.0           2.65   \n",
       "2      13.16        2.36  2.67               18.6      101.0           2.80   \n",
       "3      14.37        1.95  2.50               16.8      113.0           3.85   \n",
       "4      13.24        2.59  2.87               21.0      118.0           2.80   \n",
       "..       ...         ...   ...                ...        ...            ...   \n",
       "173    13.71        5.65  2.45               20.5       95.0           1.68   \n",
       "174    13.40        3.91  2.48               23.0      102.0           1.80   \n",
       "175    13.27        4.28  2.26               20.0      120.0           1.59   \n",
       "176    13.17        2.59  2.37               20.0      120.0           1.65   \n",
       "177    14.13        4.10  2.74               24.5       96.0           2.05   \n",
       "\n",
       "     flavanoids  nonflavanoid_phenols  proanthocyanins  color_intensity   hue  \\\n",
       "0          3.06                  0.28             2.29             5.64  1.04   \n",
       "1          2.76                  0.26             1.28             4.38  1.05   \n",
       "2          3.24                  0.30             2.81             5.68  1.03   \n",
       "3          3.49                  0.24             2.18             7.80  0.86   \n",
       "4          2.69                  0.39             1.82             4.32  1.04   \n",
       "..          ...                   ...              ...              ...   ...   \n",
       "173        0.61                  0.52             1.06             7.70  0.64   \n",
       "174        0.75                  0.43             1.41             7.30  0.70   \n",
       "175        0.69                  0.43             1.35            10.20  0.59   \n",
       "176        0.68                  0.53             1.46             9.30  0.60   \n",
       "177        0.76                  0.56             1.35             9.20  0.61   \n",
       "\n",
       "     od280/od315_of_diluted_wines  proline  \n",
       "0                            3.92   1065.0  \n",
       "1                            3.40   1050.0  \n",
       "2                            3.17   1185.0  \n",
       "3                            3.45   1480.0  \n",
       "4                            2.93    735.0  \n",
       "..                            ...      ...  \n",
       "173                          1.74    740.0  \n",
       "174                          1.56    750.0  \n",
       "175                          1.56    835.0  \n",
       "176                          1.62    840.0  \n",
       "177                          1.60    560.0  \n",
       "\n",
       "[178 rows x 13 columns]"
      ]
     },
     "execution_count": 34,
     "metadata": {},
     "output_type": "execute_result"
    }
   ],
   "source": [
    "X"
   ]
  },
  {
   "cell_type": "code",
   "execution_count": 8,
   "id": "01dd5ed8",
   "metadata": {},
   "outputs": [
    {
     "data": {
      "text/plain": [
       "1    71\n",
       "0    59\n",
       "2    48\n",
       "Name: target, dtype: int64"
      ]
     },
     "execution_count": 8,
     "metadata": {},
     "output_type": "execute_result"
    }
   ],
   "source": [
    "y.value_counts()"
   ]
  },
  {
   "cell_type": "code",
   "execution_count": 9,
   "id": "d20a462e",
   "metadata": {},
   "outputs": [
    {
     "data": {
      "image/png": "[encoded data removed]",
      "text/plain": [
       "<Figure size 720x720 with 2 Axes>"
      ]
     },
     "metadata": {
      "needs_background": "light"
     },
     "output_type": "display_data"
    }
   ],
   "source": [
    "plt.figure(figsize = (10, 10))\n",
    "sns.heatmap(X.corr(), annot = True)\n",
    "plt.show()"
   ]
  },
  {
   "cell_type": "markdown",
   "id": "4f2d791d",
   "metadata": {},
   "source": [
    "### Modelo antes de PCA"
   ]
  },
  {
   "cell_type": "markdown",
   "id": "ce66b54f",
   "metadata": {},
   "source": [
    "### Train, Test"
   ]
  },
  {
   "cell_type": "code",
   "execution_count": 10,
   "id": "a9049c61",
   "metadata": {},
   "outputs": [
    {
     "name": "stdout",
     "output_type": "stream",
     "text": [
      "X_train: (124, 13), y_train: (124,)\n",
      "X_test: (54, 13),  y_test: (54,)\n"
     ]
    }
   ],
   "source": [
    "X_train, X_test, y_train, y_test = train_test_split(X, y, test_size = 0.3, random_state = 42, stratify = y)\n",
    "\n",
    "print(f\"X_train: {X_train.shape}, y_train: {y_train.shape}\")\n",
    "print(f\"X_test: {X_test.shape},  y_test: {y_test.shape}\")"
   ]
  },
  {
   "cell_type": "markdown",
   "id": "471a0e57",
   "metadata": {},
   "source": [
    "### Preprocesamiento"
   ]
  },
  {
   "cell_type": "code",
   "execution_count": 11,
   "id": "40c609f2",
   "metadata": {},
   "outputs": [],
   "source": [
    "from sklearn.preprocessing import StandardScaler"
   ]
  },
  {
   "cell_type": "code",
   "execution_count": 12,
   "id": "658752b1",
   "metadata": {},
   "outputs": [
    {
     "data": {
      "text/html": [
       "<div>\n",
       "<style scoped>\n",
       "    .dataframe tbody tr th:only-of-type {\n",
       "        vertical-align: middle;\n",
       "    }\n",
       "\n",
       "    .dataframe tbody tr th {\n",
       "        vertical-align: top;\n",
       "    }\n",
       "\n",
       "    .dataframe thead th {\n",
       "        text-align: right;\n",
       "    }\n",
       "</style>\n",
       "<table border=\"1\" class=\"dataframe\">\n",
       "  <thead>\n",
       "    <tr style=\"text-align: right;\">\n",
       "      <th></th>\n",
       "      <th>alcohol</th>\n",
       "      <th>malic_acid</th>\n",
       "      <th>ash</th>\n",
       "      <th>alcalinity_of_ash</th>\n",
       "      <th>magnesium</th>\n",
       "      <th>total_phenols</th>\n",
       "      <th>flavanoids</th>\n",
       "      <th>nonflavanoid_phenols</th>\n",
       "      <th>proanthocyanins</th>\n",
       "      <th>color_intensity</th>\n",
       "      <th>hue</th>\n",
       "      <th>od280/od315_of_diluted_wines</th>\n",
       "      <th>proline</th>\n",
       "    </tr>\n",
       "  </thead>\n",
       "  <tbody>\n",
       "    <tr>\n",
       "      <th>0</th>\n",
       "      <td>0.982686</td>\n",
       "      <td>-0.527640</td>\n",
       "      <td>0.173598</td>\n",
       "      <td>-1.087543</td>\n",
       "      <td>-0.727661</td>\n",
       "      <td>0.491455</td>\n",
       "      <td>0.791460</td>\n",
       "      <td>-0.596717</td>\n",
       "      <td>0.354587</td>\n",
       "      <td>0.255419</td>\n",
       "      <td>0.857462</td>\n",
       "      <td>0.437825</td>\n",
       "      <td>1.863180</td>\n",
       "    </tr>\n",
       "    <tr>\n",
       "      <th>1</th>\n",
       "      <td>0.957937</td>\n",
       "      <td>-0.745511</td>\n",
       "      <td>1.255504</td>\n",
       "      <td>0.839386</td>\n",
       "      <td>0.063252</td>\n",
       "      <td>1.131923</td>\n",
       "      <td>1.306553</td>\n",
       "      <td>-0.596717</td>\n",
       "      <td>1.343233</td>\n",
       "      <td>0.297587</td>\n",
       "      <td>1.032095</td>\n",
       "      <td>0.159563</td>\n",
       "      <td>1.749108</td>\n",
       "    </tr>\n",
       "    <tr>\n",
       "      <th>2</th>\n",
       "      <td>0.401078</td>\n",
       "      <td>-0.612894</td>\n",
       "      <td>1.777803</td>\n",
       "      <td>-1.235769</td>\n",
       "      <td>0.656436</td>\n",
       "      <td>0.491455</td>\n",
       "      <td>0.707363</td>\n",
       "      <td>-0.170491</td>\n",
       "      <td>-0.425924</td>\n",
       "      <td>-0.166255</td>\n",
       "      <td>0.595512</td>\n",
       "      <td>0.262081</td>\n",
       "      <td>0.429136</td>\n",
       "    </tr>\n",
       "    <tr>\n",
       "      <th>3</th>\n",
       "      <td>0.772317</td>\n",
       "      <td>-0.593949</td>\n",
       "      <td>-0.012937</td>\n",
       "      <td>-0.168547</td>\n",
       "      <td>0.392799</td>\n",
       "      <td>0.907759</td>\n",
       "      <td>1.243480</td>\n",
       "      <td>-1.193434</td>\n",
       "      <td>0.597412</td>\n",
       "      <td>0.803596</td>\n",
       "      <td>0.595512</td>\n",
       "      <td>0.408534</td>\n",
       "      <td>2.498722</td>\n",
       "    </tr>\n",
       "    <tr>\n",
       "      <th>4</th>\n",
       "      <td>-1.863482</td>\n",
       "      <td>0.107025</td>\n",
       "      <td>0.210905</td>\n",
       "      <td>0.098259</td>\n",
       "      <td>-0.266295</td>\n",
       "      <td>0.971806</td>\n",
       "      <td>0.822996</td>\n",
       "      <td>-0.340981</td>\n",
       "      <td>0.389276</td>\n",
       "      <td>-0.735516</td>\n",
       "      <td>-0.670576</td>\n",
       "      <td>1.155447</td>\n",
       "      <td>-0.401958</td>\n",
       "    </tr>\n",
       "    <tr>\n",
       "      <th>...</th>\n",
       "      <td>...</td>\n",
       "      <td>...</td>\n",
       "      <td>...</td>\n",
       "      <td>...</td>\n",
       "      <td>...</td>\n",
       "      <td>...</td>\n",
       "      <td>...</td>\n",
       "      <td>...</td>\n",
       "      <td>...</td>\n",
       "      <td>...</td>\n",
       "      <td>...</td>\n",
       "      <td>...</td>\n",
       "      <td>...</td>\n",
       "    </tr>\n",
       "    <tr>\n",
       "      <th>119</th>\n",
       "      <td>0.772317</td>\n",
       "      <td>0.277533</td>\n",
       "      <td>1.218197</td>\n",
       "      <td>1.432287</td>\n",
       "      <td>0.326889</td>\n",
       "      <td>-1.189771</td>\n",
       "      <td>-1.226864</td>\n",
       "      <td>0.255736</td>\n",
       "      <td>-0.113719</td>\n",
       "      <td>1.545743</td>\n",
       "      <td>-0.932526</td>\n",
       "      <td>-1.173163</td>\n",
       "      <td>0.005441</td>\n",
       "    </tr>\n",
       "    <tr>\n",
       "      <th>120</th>\n",
       "      <td>-1.083879</td>\n",
       "      <td>-0.849710</td>\n",
       "      <td>0.509362</td>\n",
       "      <td>0.839386</td>\n",
       "      <td>-1.057208</td>\n",
       "      <td>0.427409</td>\n",
       "      <td>0.297391</td>\n",
       "      <td>0.596717</td>\n",
       "      <td>-0.980953</td>\n",
       "      <td>-0.883102</td>\n",
       "      <td>-0.103019</td>\n",
       "      <td>0.862540</td>\n",
       "      <td>-1.184164</td>\n",
       "    </tr>\n",
       "    <tr>\n",
       "      <th>121</th>\n",
       "      <td>0.190709</td>\n",
       "      <td>-0.366606</td>\n",
       "      <td>1.442039</td>\n",
       "      <td>1.728737</td>\n",
       "      <td>1.051893</td>\n",
       "      <td>-0.149012</td>\n",
       "      <td>-0.764332</td>\n",
       "      <td>-0.852453</td>\n",
       "      <td>-0.079030</td>\n",
       "      <td>0.887931</td>\n",
       "      <td>-1.500083</td>\n",
       "      <td>-1.861495</td>\n",
       "      <td>-1.053796</td>\n",
       "    </tr>\n",
       "    <tr>\n",
       "      <th>122</th>\n",
       "      <td>-0.873510</td>\n",
       "      <td>2.304674</td>\n",
       "      <td>0.658590</td>\n",
       "      <td>0.394710</td>\n",
       "      <td>-0.727661</td>\n",
       "      <td>-1.461970</td>\n",
       "      <td>-1.615812</td>\n",
       "      <td>1.449170</td>\n",
       "      <td>-1.397225</td>\n",
       "      <td>-0.482511</td>\n",
       "      <td>-0.888867</td>\n",
       "      <td>-1.949367</td>\n",
       "      <td>-0.092335</td>\n",
       "    </tr>\n",
       "    <tr>\n",
       "      <th>123</th>\n",
       "      <td>-0.390899</td>\n",
       "      <td>-0.878128</td>\n",
       "      <td>-1.281378</td>\n",
       "      <td>-0.850383</td>\n",
       "      <td>-0.002658</td>\n",
       "      <td>-0.437222</td>\n",
       "      <td>-0.627674</td>\n",
       "      <td>1.449170</td>\n",
       "      <td>-1.709429</td>\n",
       "      <td>0.318670</td>\n",
       "      <td>0.115272</td>\n",
       "      <td>-1.480716</td>\n",
       "      <td>-0.972317</td>\n",
       "    </tr>\n",
       "  </tbody>\n",
       "</table>\n",
       "<p>124 rows × 13 columns</p>\n",
       "</div>"
      ],
      "text/plain": [
       "      alcohol  malic_acid       ash  alcalinity_of_ash  magnesium  \\\n",
       "0    0.982686   -0.527640  0.173598          -1.087543  -0.727661   \n",
       "1    0.957937   -0.745511  1.255504           0.839386   0.063252   \n",
       "2    0.401078   -0.612894  1.777803          -1.235769   0.656436   \n",
       "3    0.772317   -0.593949 -0.012937          -0.168547   0.392799   \n",
       "4   -1.863482    0.107025  0.210905           0.098259  -0.266295   \n",
       "..        ...         ...       ...                ...        ...   \n",
       "119  0.772317    0.277533  1.218197           1.432287   0.326889   \n",
       "120 -1.083879   -0.849710  0.509362           0.839386  -1.057208   \n",
       "121  0.190709   -0.366606  1.442039           1.728737   1.051893   \n",
       "122 -0.873510    2.304674  0.658590           0.394710  -0.727661   \n",
       "123 -0.390899   -0.878128 -1.281378          -0.850383  -0.002658   \n",
       "\n",
       "     total_phenols  flavanoids  nonflavanoid_phenols  proanthocyanins  \\\n",
       "0         0.491455    0.791460             -0.596717         0.354587   \n",
       "1         1.131923    1.306553             -0.596717         1.343233   \n",
       "2         0.491455    0.707363             -0.170491        -0.425924   \n",
       "3         0.907759    1.243480             -1.193434         0.597412   \n",
       "4         0.971806    0.822996             -0.340981         0.389276   \n",
       "..             ...         ...                   ...              ...   \n",
       "119      -1.189771   -1.226864              0.255736        -0.113719   \n",
       "120       0.427409    0.297391              0.596717        -0.980953   \n",
       "121      -0.149012   -0.764332             -0.852453        -0.079030   \n",
       "122      -1.461970   -1.615812              1.449170        -1.397225   \n",
       "123      -0.437222   -0.627674              1.449170        -1.709429   \n",
       "\n",
       "     color_intensity       hue  od280/od315_of_diluted_wines   proline  \n",
       "0           0.255419  0.857462                      0.437825  1.863180  \n",
       "1           0.297587  1.032095                      0.159563  1.749108  \n",
       "2          -0.166255  0.595512                      0.262081  0.429136  \n",
       "3           0.803596  0.595512                      0.408534  2.498722  \n",
       "4          -0.735516 -0.670576                      1.155447 -0.401958  \n",
       "..               ...       ...                           ...       ...  \n",
       "119         1.545743 -0.932526                     -1.173163  0.005441  \n",
       "120        -0.883102 -0.103019                      0.862540 -1.184164  \n",
       "121         0.887931 -1.500083                     -1.861495 -1.053796  \n",
       "122        -0.482511 -0.888867                     -1.949367 -0.092335  \n",
       "123         0.318670  0.115272                     -1.480716 -0.972317  \n",
       "\n",
       "[124 rows x 13 columns]"
      ]
     },
     "execution_count": 12,
     "metadata": {},
     "output_type": "execute_result"
    }
   ],
   "source": [
    "# Escalado\n",
    "\n",
    "x_scaler = StandardScaler()\n",
    "\n",
    "X_train = x_scaler.fit_transform(X_train)\n",
    "X_test = x_scaler.transform(X_test)\n",
    "\n",
    "pd.DataFrame(X_train, columns = columnas)"
   ]
  },
  {
   "cell_type": "markdown",
   "id": "493e511a",
   "metadata": {},
   "source": [
    "### Modelo"
   ]
  },
  {
   "cell_type": "code",
   "execution_count": 13,
   "id": "30f87053",
   "metadata": {},
   "outputs": [
    {
     "name": "stderr",
     "output_type": "stream",
     "text": [
      "/Users/federicollanes/miniforge3/envs/fede/lib/python3.9/site-packages/sklearn/ensemble/_weight_boosting.py:527: FutureWarning: The SAMME.R algorithm (the default) is deprecated and will be removed in 1.6. Use the SAMME algorithm to circumvent this warning.\n",
      "  warnings.warn(\n"
     ]
    },
    {
     "data": {
      "text/plain": [
       "0.8703703703703703"
      ]
     },
     "execution_count": 13,
     "metadata": {},
     "output_type": "execute_result"
    }
   ],
   "source": [
    "model = AdaBoostClassifier()\n",
    "model = model.fit(X_train, y_train)\n",
    "\n",
    "yhat = model.predict(X_test)\n",
    "\n",
    "accuracy_score(y_test, yhat)"
   ]
  },
  {
   "cell_type": "markdown",
   "id": "21dba339",
   "metadata": {},
   "source": [
    "### Modelo con PCA"
   ]
  },
  {
   "cell_type": "code",
   "execution_count": 15,
   "id": "5b7f3c0f",
   "metadata": {},
   "outputs": [],
   "source": [
    "from sklearn.decomposition import PCA"
   ]
  },
  {
   "cell_type": "code",
   "execution_count": 20,
   "id": "a9b5001f",
   "metadata": {},
   "outputs": [],
   "source": [
    "pca = PCA(n_components = 1)\n",
    "X_train = pca.fit_transform(X_train)\n",
    "X_test = pca.transform(X_test)"
   ]
  },
  {
   "cell_type": "code",
   "execution_count": 21,
   "id": "678e9a11",
   "metadata": {},
   "outputs": [
    {
     "data": {
      "text/plain": [
       "(124, 1)"
      ]
     },
     "execution_count": 21,
     "metadata": {},
     "output_type": "execute_result"
    }
   ],
   "source": [
    "X_train.shape"
   ]
  },
  {
   "cell_type": "code",
   "execution_count": 22,
   "id": "c1602127",
   "metadata": {},
   "outputs": [
    {
     "data": {
      "text/html": [
       "<div>\n",
       "<style scoped>\n",
       "    .dataframe tbody tr th:only-of-type {\n",
       "        vertical-align: middle;\n",
       "    }\n",
       "\n",
       "    .dataframe tbody tr th {\n",
       "        vertical-align: top;\n",
       "    }\n",
       "\n",
       "    .dataframe thead th {\n",
       "        text-align: right;\n",
       "    }\n",
       "</style>\n",
       "<table border=\"1\" class=\"dataframe\">\n",
       "  <thead>\n",
       "    <tr style=\"text-align: right;\">\n",
       "      <th></th>\n",
       "      <th>0</th>\n",
       "    </tr>\n",
       "  </thead>\n",
       "  <tbody>\n",
       "    <tr>\n",
       "      <th>0</th>\n",
       "      <td>2.184531</td>\n",
       "    </tr>\n",
       "    <tr>\n",
       "      <th>1</th>\n",
       "      <td>2.562591</td>\n",
       "    </tr>\n",
       "    <tr>\n",
       "      <th>2</th>\n",
       "      <td>1.399967</td>\n",
       "    </tr>\n",
       "    <tr>\n",
       "      <th>3</th>\n",
       "      <td>2.760675</td>\n",
       "    </tr>\n",
       "    <tr>\n",
       "      <th>4</th>\n",
       "      <td>0.746032</td>\n",
       "    </tr>\n",
       "    <tr>\n",
       "      <th>...</th>\n",
       "      <td>...</td>\n",
       "    </tr>\n",
       "    <tr>\n",
       "      <th>119</th>\n",
       "      <td>-2.213501</td>\n",
       "    </tr>\n",
       "    <tr>\n",
       "      <th>120</th>\n",
       "      <td>-0.461959</td>\n",
       "    </tr>\n",
       "    <tr>\n",
       "      <th>121</th>\n",
       "      <td>-1.859195</td>\n",
       "    </tr>\n",
       "    <tr>\n",
       "      <th>122</th>\n",
       "      <td>-4.020149</td>\n",
       "    </tr>\n",
       "    <tr>\n",
       "      <th>123</th>\n",
       "      <td>-1.833572</td>\n",
       "    </tr>\n",
       "  </tbody>\n",
       "</table>\n",
       "<p>124 rows × 1 columns</p>\n",
       "</div>"
      ],
      "text/plain": [
       "            0\n",
       "0    2.184531\n",
       "1    2.562591\n",
       "2    1.399967\n",
       "3    2.760675\n",
       "4    0.746032\n",
       "..        ...\n",
       "119 -2.213501\n",
       "120 -0.461959\n",
       "121 -1.859195\n",
       "122 -4.020149\n",
       "123 -1.833572\n",
       "\n",
       "[124 rows x 1 columns]"
      ]
     },
     "execution_count": 22,
     "metadata": {},
     "output_type": "execute_result"
    }
   ],
   "source": [
    "pd.DataFrame(X_train)"
   ]
  },
  {
   "cell_type": "markdown",
   "id": "50d794a3",
   "metadata": {},
   "source": [
    "### Modelo"
   ]
  },
  {
   "cell_type": "code",
   "execution_count": 23,
   "id": "8b5d1ee9",
   "metadata": {},
   "outputs": [
    {
     "name": "stderr",
     "output_type": "stream",
     "text": [
      "/Users/federicollanes/miniforge3/envs/fede/lib/python3.9/site-packages/sklearn/ensemble/_weight_boosting.py:527: FutureWarning: The SAMME.R algorithm (the default) is deprecated and will be removed in 1.6. Use the SAMME algorithm to circumvent this warning.\n",
      "  warnings.warn(\n"
     ]
    },
    {
     "data": {
      "text/plain": [
       "0.7777777777777778"
      ]
     },
     "execution_count": 23,
     "metadata": {},
     "output_type": "execute_result"
    }
   ],
   "source": [
    "model = AdaBoostClassifier()\n",
    "model = model.fit(X_train, y_train)\n",
    "\n",
    "yhat = model.predict(X_test)\n",
    "\n",
    "accuracy_score(y_test, yhat)"
   ]
  },
  {
   "cell_type": "code",
   "execution_count": null,
   "id": "74c5cbeb",
   "metadata": {},
   "outputs": [],
   "source": [
    "pca.explained_variance_"
   ]
  },
  {
   "cell_type": "markdown",
   "id": "943f097e",
   "metadata": {},
   "source": [
    "### Varianza del Modelo de PCA"
   ]
  },
  {
   "cell_type": "code",
   "execution_count": 25,
   "id": "2c36af5d",
   "metadata": {},
   "outputs": [],
   "source": [
    "# Datos\n",
    "X, y = datasets.load_wine(return_X_y = True, as_frame = True)\n",
    "\n",
    "# Escalado\n",
    "x_scaler = StandardScaler()\n",
    "X = x_scaler.fit_transform(X)\n",
    "\n",
    "# PCA\n",
    "pca = PCA()\n",
    "X = pca.fit_transform(X)"
   ]
  },
  {
   "cell_type": "code",
   "execution_count": 26,
   "id": "6d010fbb-42ae-4d8a-a063-c02f688a25ef",
   "metadata": {},
   "outputs": [
    {
     "data": {
      "text/plain": [
       "(178, 13)"
      ]
     },
     "execution_count": 26,
     "metadata": {},
     "output_type": "execute_result"
    }
   ],
   "source": [
    "X.shape"
   ]
  },
  {
   "cell_type": "code",
   "execution_count": 27,
   "id": "fbfc2914-4da8-4b16-863c-3052a545ef80",
   "metadata": {},
   "outputs": [
    {
     "data": {
      "image/png": "[encoded data removed]",
      "text/plain": [
       "<Figure size 576x432 with 1 Axes>"
      ]
     },
     "metadata": {
      "needs_background": "light"
     },
     "output_type": "display_data"
    },
    {
     "name": "stdout",
     "output_type": "stream",
     "text": [
      "[4.73243698 2.51108093 1.45424187 0.92416587 0.85804868 0.64528221\n",
      " 0.55414147 0.35046627 0.29051203 0.25232001 0.22706428 0.16972374\n",
      " 0.10396199]\n"
     ]
    }
   ],
   "source": [
    "# Grafico de las variancias\n",
    "plt.figure(figsize = (8, 6))\n",
    "\n",
    "plt.bar(range(1, X.shape[1] + 1), pca.explained_variance_ratio_)\n",
    "\n",
    "plt.ylabel(\"Varianza explicada\")\n",
    "plt.xlabel(\"PCA\")\n",
    "plt.show()\n",
    "\n",
    "\n",
    "print(pca.explained_variance_)"
   ]
  },
  {
   "cell_type": "code",
   "execution_count": 30,
   "id": "06a79d27-3be4-4b8e-a78b-5873dab7dfee",
   "metadata": {},
   "outputs": [
    {
     "data": {
      "image/png": "[encoded data removed]",
      "text/plain": [
       "<Figure size 576x432 with 1 Axes>"
      ]
     },
     "metadata": {
      "needs_background": "light"
     },
     "output_type": "display_data"
    },
    {
     "name": "stdout",
     "output_type": "stream",
     "text": [
      "[4.73243698 2.51108093 1.45424187 0.92416587 0.85804868 0.64528221\n",
      " 0.55414147 0.35046627 0.29051203 0.25232001 0.22706428 0.16972374\n",
      " 0.10396199]\n"
     ]
    }
   ],
   "source": [
    "# Grafico de las variancias\n",
    "plt.figure(figsize = (8, 6))\n",
    "\n",
    "plt.bar(range(1, X.shape[1] + 1), np.cumsum(pca.explained_variance_ratio_))\n",
    "\n",
    "plt.ylabel(\"Varianza explicada\")\n",
    "plt.xlabel(\"PCA\")\n",
    "plt.show()\n",
    "\n",
    "\n",
    "print(pca.explained_variance_)"
   ]
  },
  {
   "cell_type": "code",
   "execution_count": 31,
   "id": "ece3c343-f2f5-4a14-a271-34861940eb14",
   "metadata": {},
   "outputs": [
    {
     "data": {
      "text/plain": [
       "array([0.36198848, 0.55406338, 0.66529969, 0.73598999, 0.80162293,\n",
       "       0.85098116, 0.89336795, 0.92017544, 0.94239698, 0.96169717,\n",
       "       0.97906553, 0.99204785, 1.        ])"
      ]
     },
     "execution_count": 31,
     "metadata": {},
     "output_type": "execute_result"
    }
   ],
   "source": [
    "np.cumsum(pca.explained_variance_ratio_)"
   ]
  },
  {
   "cell_type": "code",
   "execution_count": null,
   "id": "d6cb5d8e",
   "metadata": {},
   "outputs": [],
   "source": [
    "def pca_n(n):\n",
    "    \n",
    "    print(f\"n = {n}\")\n",
    "    \n",
    "    # Datos\n",
    "    X, y = datasets.load_wine(return_X_y = True, as_frame = True)\n",
    "    \n",
    "    # Train, Test\n",
    "    X_train, X_test, y_train, y_test = train_test_split(X, y, test_size = 0.3, random_state = 42, stratify = y)\n",
    "\n",
    "    # Escalado\n",
    "    x_scaler = StandardScaler()\n",
    "    X_train = x_scaler.fit_transform(X_train)\n",
    "    X_test = x_scaler.transform(X_test)\n",
    "\n",
    "    # PCA\n",
    "    pca = PCA(n_components = n)\n",
    "    X_train = pca.fit_transform(X_train)\n",
    "    X_test = pca.transform(X_test)\n",
    "\n",
    "    # Grafico de las variancias\n",
    "    plt.figure(figsize = (8, 6))\n",
    "\n",
    "    plt.bar(range(1, X_train.shape[1] + 1), pca.explained_variance_ratio_)\n",
    "\n",
    "    plt.ylabel(\"Varianza explicada\")\n",
    "    plt.xlabel(\"PCA\")\n",
    "    plt.show()\n",
    "    \n",
    "    # Modelo\n",
    "    model = AdaBoostClassifier()\n",
    "    model = model.fit(X_train, y_train)\n",
    "\n",
    "    yhat = model.predict(X_test)\n",
    "\n",
    "    print(f\"Accuracy: {accuracy_score(y_test, yhat)}\")\n",
    "    print(\"*\"*100)"
   ]
  },
  {
   "cell_type": "code",
   "execution_count": null,
   "id": "e093e1de",
   "metadata": {},
   "outputs": [],
   "source": [
    "for n in range(1, 14):\n",
    "    pca_n(n)"
   ]
  },
  {
   "cell_type": "markdown",
   "id": "6abe6fe0-63fe-474a-bda1-74ecac17e5e4",
   "metadata": {},
   "source": [
    "# Con el dataset del vino"
   ]
  },
  {
   "cell_type": "code",
   "execution_count": 35,
   "id": "2037979b-c08e-477c-b978-7e73e4dc04b2",
   "metadata": {},
   "outputs": [],
   "source": [
    "X, y = datasets.load_wine(return_X_y = True, as_frame = True)\n",
    "\n",
    "columnas = X.columns"
   ]
  },
  {
   "cell_type": "code",
   "execution_count": 37,
   "id": "832182bc-25ed-4f15-aa6a-c898b2c8b67b",
   "metadata": {},
   "outputs": [],
   "source": [
    "# 1) Probar métodos de clustering. Kmeans y DBScan, probar ambos, elegir los mejores parámetros."
   ]
  },
  {
   "cell_type": "code",
   "execution_count": null,
   "id": "6fd1e956-5e36-41ea-9822-3c92cfa28726",
   "metadata": {},
   "outputs": [],
   "source": []
  },
  {
   "cell_type": "code",
   "execution_count": null,
   "id": "b09b7ae7-77da-4796-b7fe-717a2819007b",
   "metadata": {},
   "outputs": [],
   "source": []
  },
  {
   "cell_type": "code",
   "execution_count": null,
   "id": "4b800bab-d0bc-4649-a414-71a95dd21cae",
   "metadata": {},
   "outputs": [],
   "source": []
  },
  {
   "cell_type": "code",
   "execution_count": null,
   "id": "0dcd3918",
   "metadata": {},
   "outputs": [],
   "source": [
    "################################################################################################################################"
   ]
  }
 ],
 "metadata": {
  "kernelspec": {
   "display_name": "Python 3",
   "language": "python",
   "name": "python3"
  },
  "language_info": {
   "codemirror_mode": {
    "name": "ipython",
    "version": 3
   },
   "file_extension": ".py",
   "mimetype": "text/x-python",
   "name": "python",
   "nbconvert_exporter": "python",
   "pygments_lexer": "ipython3",
   "version": "3.9.4"
  }
 },
 "nbformat": 4,
 "nbformat_minor": 5
}
