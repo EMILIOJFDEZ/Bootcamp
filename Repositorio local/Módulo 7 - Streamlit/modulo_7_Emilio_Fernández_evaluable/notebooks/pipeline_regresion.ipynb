{
 "cells": [
  {
   "cell_type": "code",
   "execution_count": 1,
   "metadata": {},
   "outputs": [
    {
     "name": "stdout",
     "output_type": "stream",
     "text": [
      "R2 en train: 0.99743404541846\n",
      "Predicción para el nuevo dato: [391.19]\n"
     ]
    }
   ],
   "source": [
    "import pandas as pd\n",
    "import seaborn as sns\n",
    "from sklearn.pipeline import make_pipeline\n",
    "from sklearn.impute import SimpleImputer\n",
    "from sklearn.preprocessing import MinMaxScaler, OneHotEncoder\n",
    "from sklearn.ensemble import RandomForestRegressor\n",
    "from sklearn.compose import ColumnTransformer\n",
    "import joblib\n",
    "\n",
    "# Cargar dataset\n",
    "df = sns.load_dataset('diamonds')\n",
    "X = df.drop('price', axis=1)\n",
    "y = df['price'] \n",
    "\n",
    "# Definir columnas\n",
    "categorical_cols = ['cut', 'color', 'clarity']\n",
    "numerical_cols = ['carat', 'depth', 'table', 'x', 'y', 'z']\n",
    "\n",
    "# Pipeline para columnas numéricas\n",
    "numerical_pipeline = make_pipeline(\n",
    "    SimpleImputer(strategy='median'),\n",
    "    MinMaxScaler()\n",
    ")\n",
    "\n",
    "# Pipeline para columnas categóricas\n",
    "categorical_pipeline = make_pipeline(\n",
    "    SimpleImputer(strategy='most_frequent'),\n",
    "    OneHotEncoder(sparse_output=False)\n",
    ")\n",
    "\n",
    "# Transformación de columnas\n",
    "column_transformer = ColumnTransformer(\n",
    "    transformers=[\n",
    "        ('num', numerical_pipeline, numerical_cols),\n",
    "        ('cat', categorical_pipeline, categorical_cols)\n",
    "    ]\n",
    ")\n",
    "\n",
    "# Pipeline final con RandomForestRegressor\n",
    "pipeline = make_pipeline(column_transformer, RandomForestRegressor(random_state=42))\n",
    "\n",
    "# Entrenar el modelo\n",
    "pipeline.fit(X, y)\n",
    "\n",
    "# Mostrar R2 en el conjunto de entrenamiento\n",
    "print('R2 en train:', pipeline.score(X, y))\n",
    "\n",
    "# Guardar el modelo\n",
    "joblib.dump(pipeline, '../models/pipeline_regresion.joblib')\n",
    "\n",
    "# Predicción para un nuevo dato\n",
    "X_new = pd.DataFrame({\n",
    "    'carat': [0.23],\n",
    "    'cut': ['Ideal'],\n",
    "    'color': ['E'],\n",
    "    'clarity': ['SI2'],\n",
    "    'depth': [61.5],\n",
    "    'table': [55],\n",
    "    'x': [3.95],\n",
    "    'y': [3.98],\n",
    "    'z': [2.43],                 \n",
    "})\n",
    "\n",
    "y_pred = pipeline.predict(X_new)\n",
    "print('Predicción para el nuevo dato:', y_pred)"
   ]
  }
 ],
 "metadata": {
  "kernelspec": {
   "display_name": "Python 3",
   "language": "python",
   "name": "python3"
  },
  "language_info": {
   "codemirror_mode": {
    "name": "ipython",
    "version": 3
   },
   "file_extension": ".py",
   "mimetype": "text/x-python",
   "name": "python",
   "nbconvert_exporter": "python",
   "pygments_lexer": "ipython3",
   "version": "3.12.0"
  }
 },
 "nbformat": 4,
 "nbformat_minor": 2
}
