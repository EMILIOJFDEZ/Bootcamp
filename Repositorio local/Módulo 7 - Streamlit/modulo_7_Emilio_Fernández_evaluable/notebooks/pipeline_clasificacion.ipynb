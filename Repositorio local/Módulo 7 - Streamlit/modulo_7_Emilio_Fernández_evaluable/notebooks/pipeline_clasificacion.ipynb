{
 "cells": [
  {
   "cell_type": "code",
   "execution_count": null,
   "metadata": {},
   "outputs": [
    {
     "name": "stdout",
     "output_type": "stream",
     "text": [
      "Accuracy: 0.7560\n",
      "Reporte de clasificación:\n",
      "              precision    recall  f1-score   support\n",
      "\n",
      "        Fair       0.91      0.87      0.89       335\n",
      "        Good       0.74      0.65      0.69      1004\n",
      "       Ideal       0.82      0.91      0.86      4292\n",
      "     Premium       0.73      0.80      0.76      2775\n",
      "   Very Good       0.62      0.46      0.52      2382\n",
      "\n",
      "    accuracy                           0.76     10788\n",
      "   macro avg       0.76      0.74      0.75     10788\n",
      "weighted avg       0.75      0.76      0.75     10788\n",
      "\n",
      "Matriz de confusión:\n",
      "[[ 292   29    3    7    4]\n",
      " [  24  655   27   56  242]\n",
      " [   2   11 3918  179  182]\n",
      " [   0   15  308 2207  245]\n",
      " [   4  175  540  579 1084]]\n",
      "Predicción de clasificación para el nuevo dato: ['Ideal']\n"
     ]
    }
   ],
   "source": [
    "import pandas as pd\n",
    "import seaborn as sns\n",
    "from sklearn.pipeline import make_pipeline\n",
    "from sklearn.impute import SimpleImputer\n",
    "from sklearn.preprocessing import MinMaxScaler, OneHotEncoder, LabelEncoder\n",
    "from sklearn.ensemble import RandomForestClassifier\n",
    "from sklearn.compose import ColumnTransformer, make_column_transformer\n",
    "from sklearn.model_selection import train_test_split\n",
    "from sklearn.metrics import accuracy_score, classification_report, confusion_matrix\n",
    "import joblib\n",
    "df = sns.load_dataset('diamonds')\n",
    "X = df.drop('cut', axis=1)\n",
    "y = df['cut'] \n",
    "df.isna().sum()\n",
    "la_encoder = LabelEncoder()\n",
    "y_encoded = la_encoder.fit_transform(y)\n",
    "categorical_cols = ['color', 'clarity']\n",
    "numerical_cols = ['carat', 'depth', 'table', 'x', 'y', 'z']\n",
    "numerical_pipeline = make_pipeline(\n",
    "    SimpleImputer(strategy='median'),\n",
    "    MinMaxScaler()\n",
    ")\n",
    "categorical_pipeline = make_pipeline(\n",
    "    SimpleImputer(strategy='most_frequent'),\n",
    "    OneHotEncoder(sparse_output=False)\n",
    ")\n",
    "column_transformer = make_column_transformer(\n",
    "    (numerical_pipeline, numerical_cols),\n",
    "    (categorical_pipeline, categorical_cols)\n",
    ")\n",
    "pipeline = make_pipeline(\n",
    "    column_transformer,\n",
    "    RandomForestClassifier(random_state=42)\n",
    ")\n",
    "X_train, X_test, y_train, y_test = train_test_split(X, y_encoded, test_size=0.2, random_state=42)\n",
    "pipeline.fit(X_train, y_train)\n",
    "y_pred = pipeline.predict(X_test)\n",
    "accuracy = accuracy_score(y_test, y_pred)\n",
    "print(f\"Accuracy: {accuracy:.4f}\")\n",
    "print(\"Reporte de clasificación:\")\n",
    "print(classification_report(y_test, y_pred, target_names=la_encoder.classes_))\n",
    "print(\"Matriz de confusión:\")\n",
    "print(confusion_matrix(y_test, y_pred))\n",
    "joblib.dump(pipeline, '../models/pipeline_clasificacion.joblib')\n",
    "X_new = pd.DataFrame({\n",
    "    'carat': [0.23],\n",
    "    'color': ['E'],\n",
    "    'clarity': ['SI2'],\n",
    "    'depth': [61.5],\n",
    "    'table': [55],\n",
    "    'price': [326],\n",
    "    'x': [3.95],\n",
    "    'y': [3.98],\n",
    "    'z': [2.43],                 \n",
    "})\n",
    "y_pred_new = pipeline.predict(X_new)\n",
    "y_pred_label = la_encoder.inverse_transform(y_pred_new)\n",
    "print(\"Predicción de clasificación para el nuevo dato:\", y_pred_label)"
   ]
  }
 ],
 "metadata": {
  "kernelspec": {
   "display_name": "Python 3",
   "language": "python",
   "name": "python3"
  },
  "language_info": {
   "codemirror_mode": {
    "name": "ipython",
    "version": 3
   },
   "file_extension": ".py",
   "mimetype": "text/x-python",
   "name": "python",
   "nbconvert_exporter": "python",
   "pygments_lexer": "ipython3",
   "version": "3.12.0"
  }
 },
 "nbformat": 4,
 "nbformat_minor": 2
}
