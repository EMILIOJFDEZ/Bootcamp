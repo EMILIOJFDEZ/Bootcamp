{
 "cells": [
  {
   "cell_type": "code",
   "execution_count": 1,
   "metadata": {},
   "outputs": [
    {
     "name": "stdout",
     "output_type": "stream",
     "text": [
      "<class 'pandas.core.frame.DataFrame'>\n",
      "RangeIndex: 53940 entries, 0 to 53939\n",
      "Data columns (total 10 columns):\n",
      " #   Column   Non-Null Count  Dtype   \n",
      "---  ------   --------------  -----   \n",
      " 0   carat    53940 non-null  float64 \n",
      " 1   cut      53940 non-null  category\n",
      " 2   color    53940 non-null  category\n",
      " 3   clarity  53940 non-null  category\n",
      " 4   depth    53940 non-null  float64 \n",
      " 5   table    53940 non-null  float64 \n",
      " 6   price    53940 non-null  int64   \n",
      " 7   x        53940 non-null  float64 \n",
      " 8   y        53940 non-null  float64 \n",
      " 9   z        53940 non-null  float64 \n",
      "dtypes: category(3), float64(6), int64(1)\n",
      "memory usage: 3.0 MB\n",
      "R2 en train 0.99743404541846\n"
     ]
    },
    {
     "data": {
      "text/plain": [
       "array([391.19])"
      ]
     },
     "execution_count": 1,
     "metadata": {},
     "output_type": "execute_result"
    }
   ],
   "source": [
    "import pandas as pd\n",
    "import seaborn as sns\n",
    "from sklearn.pipeline import make_pipeline\n",
    "from sklearn.impute import SimpleImputer\n",
    "from sklearn.preprocessing import MinMaxScaler, OneHotEncoder\n",
    "from sklearn.ensemble import RandomForestRegressor\n",
    "from sklearn.compose import ColumnTransformer, make_column_selector, make_column_transformer\n",
    "import joblib\n",
    "\n",
    "df = sns.load_dataset('diamonds')\n",
    " \n",
    "X = df.drop('price', axis = 1)\n",
    "y = df['price'] \n",
    "\n",
    "df.info()\n",
    "\n",
    "categorical_cols = ['cut', 'color', 'clarity']\n",
    "numerical_cols = ['carat', 'depth', 'table', 'x', 'y', 'z']\n",
    "numerical_pipeline = make_pipeline(\n",
    "    SimpleImputer(strategy='median'),\n",
    "    MinMaxScaler()\n",
    ")\n",
    "categorical_pipeline = make_pipeline(\n",
    "    SimpleImputer(strategy='most_frequent'),\n",
    "    OneHotEncoder(sparse_output=False)\n",
    ")\n",
    "\n",
    "column_transformer =make_column_transformer(\n",
    "    (numerical_pipeline, numerical_cols),\n",
    "    (categorical_pipeline, categorical_cols)\n",
    ")\n",
    "\n",
    "pipeline = make_pipeline(\n",
    "    column_transformer,\n",
    "    RandomForestRegressor(random_state=42)\n",
    ")\n",
    "pipeline.fit(X, y)\n",
    "print('R2 en train', pipeline.score(X, y))\n",
    "\n",
    "joblib.dump(pipeline, '../models/pipeline_regresion.joblib')\n",
    "\n",
    "X_new = pd.DataFrame({\n",
    "            'carat': [0.23],\n",
    "            'cut': ['Ideal'],\n",
    "            'color': ['E'],\n",
    "            'clarity': ['SI2'],\n",
    "            'depth':[61.5],\n",
    "            'table': [55],\n",
    "            'x':[3.95],\n",
    "            'y':[3.98],\n",
    "            'z':[2.43],                 \n",
    "        })\n",
    "\n",
    "y_pred = pipeline.predict(X_new)\n",
    "\n",
    "y_pred"
   ]
  }
 ],
 "metadata": {
  "kernelspec": {
   "display_name": "Python 3",
   "language": "python",
   "name": "python3"
  },
  "language_info": {
   "codemirror_mode": {
    "name": "ipython",
    "version": 3
   },
   "file_extension": ".py",
   "mimetype": "text/x-python",
   "name": "python",
   "nbconvert_exporter": "python",
   "pygments_lexer": "ipython3",
   "version": "3.12.0"
  }
 },
 "nbformat": 4,
 "nbformat_minor": 2
}
