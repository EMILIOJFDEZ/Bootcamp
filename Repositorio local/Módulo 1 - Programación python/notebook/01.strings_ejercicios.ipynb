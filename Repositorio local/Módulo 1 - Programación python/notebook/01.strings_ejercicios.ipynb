{
 "cells": [
  {
   "cell_type": "markdown",
   "id": "18454d15",
   "metadata": {},
   "source": [
    "## Ejercicios - Strings"
   ]
  },
  {
   "cell_type": "code",
   "execution_count": null,
   "id": "bae6c2a9",
   "metadata": {},
   "outputs": [],
   "source": [
    "frase = \"Nunca confies en un ordenador que no puedas lanzar por una ventana -- Steve Wozniak\"\n",
    "\n",
    "print(frase)"
   ]
  },
  {
   "cell_type": "markdown",
   "id": "605874f4",
   "metadata": {},
   "source": [
    "### Ejercicio 1\n",
    "- Obtener el largo de la frase."
   ]
  },
  {
   "cell_type": "code",
   "execution_count": null,
   "id": "9ce4991c",
   "metadata": {},
   "outputs": [],
   "source": [
    "len(frase)"
   ]
  },
  {
   "cell_type": "markdown",
   "id": "8fe445bf",
   "metadata": {},
   "source": [
    "### Ejercicio 2\n",
    "- Obtener la frase **\"lanzar por una ventana\"** usando slicing."
   ]
  },
  {
   "cell_type": "code",
   "execution_count": null,
   "id": "aeebb1a6",
   "metadata": {},
   "outputs": [],
   "source": [
    "posicion_inicial = frase.index(\"lanzar por una ventana\")\n",
    "posicion_inicial"
   ]
  },
  {
   "cell_type": "code",
   "execution_count": null,
   "id": "eddc6915",
   "metadata": {},
   "outputs": [],
   "source": [
    "posicion_final = posicion_inicial + len(\"lanzar por una ventana\")\n",
    "posicion_final"
   ]
  },
  {
   "cell_type": "code",
   "execution_count": null,
   "id": "dd8049a0",
   "metadata": {},
   "outputs": [],
   "source": [
    "frase[44:66]"
   ]
  },
  {
   "cell_type": "code",
   "execution_count": null,
   "id": "293f63a0",
   "metadata": {},
   "outputs": [],
   "source": [
    "frase[posicion_inicial:posicion_final]"
   ]
  },
  {
   "cell_type": "code",
   "execution_count": null,
   "id": "432250e9-3939-462d-9cf4-8c9b7ee76af1",
   "metadata": {},
   "outputs": [],
   "source": [
    "frase[44:-17]"
   ]
  },
  {
   "cell_type": "markdown",
   "id": "e50eb318",
   "metadata": {},
   "source": [
    "### Ejercicio 3\n",
    "- Obtener la sección **\"confies en un ordenador\"** haciando slicing de derecha a izquierda, utilizando indexing negativo."
   ]
  },
  {
   "cell_type": "code",
   "execution_count": null,
   "id": "a5836806-b2a8-48b4-a602-c5662b0372a6",
   "metadata": {},
   "outputs": [],
   "source": [
    "# Utilizamos el método `index` para encontrar la posición exacta donde comienza esta sección.\n",
    "posicion_inicial_positiva = frase.index(\"confies en un ordenador\")\n",
    "# Restamos la longitud total de la frase (`len(frase)`) para obtener el índice equivalente negativo.\n",
    "posicion_inicial_negativa = posicion_inicial_positiva - len(frase)\n",
    "# Mostrar el resultado del índice inicial negativo\n",
    "posicion_inicial_negativa #También podemos poner \"print(posicion_inicial_negativa)\""
   ]
  },
  {
   "cell_type": "code",
   "execution_count": null,
   "id": "d04b0e7c-8447-4dfb-8061-660380b02b1e",
   "metadata": {},
   "outputs": [],
   "source": [
    "# Sumamos a la posición inicial positiva la longitud de la sección (\"confies en un ordenador\").\n",
    "posicion_final_positiva = posicion_inicial_positiva + len(\"confies en un ordenador\")\n",
    "# De nuevo, restamos la longitud total de la frase para obtener el índice equivalente negativo.\n",
    "posicion_final_negativa = posicion_final_positiva - len(frase)\n",
    "# Mostrar el resultado del índice final negativo\n",
    "print(posicion_final_negativa) #También podemos poner solamente \"posicion_inicial_negativa\""
   ]
  },
  {
   "cell_type": "code",
   "execution_count": null,
   "id": "9299725f",
   "metadata": {},
   "outputs": [],
   "source": [
    "# Utilizamos los índices negativos calculados para realizar el corte desde `-77` hasta `-54`.\n",
    "frase[-77:-54]"
   ]
  },
  {
   "cell_type": "markdown",
   "id": "f64534b8",
   "metadata": {},
   "source": [
    "### Ejercicio 4\n",
    "Haciendo slicing de la variable **frase**:\n",
    "\n",
    "1. Guardar en la variable: **subfrase1** la siguiente sección: **\"un ordenador\"**.\n",
    "2. Guardar en la variable: **subfrase2** la siguiente sección: **\"por una ventanza\"**.\n",
    "3. Guardar en la variable: **subfrase3** la siguiente sección: **\"Steve Wozniak\"**.\n",
    "\n",
    "\n",
    "- Crear la siguiente frase utilizando las variables: **subfrase1**, **subfrase2**, **subfrase3**: **\"un ordenador, por una ventana -- Steve Wozniak\"** y guardarla en una variable. Añade los caracteres que hagan falta para completar la cadena usando _**format**_. Guarda esta frase en la variable **nueva_frase**."
   ]
  },
  {
   "cell_type": "code",
   "execution_count": null,
   "id": "eae3f714",
   "metadata": {},
   "outputs": [],
   "source": [
    "# Calcular posiciones para \"un ordenador\"\n",
    "posicion_inicial_1 = frase.index(\"un ordenador\")  # Contamos dónde empieza\n",
    "posicion_final_1 = posicion_inicial_1 + len(\"un ordenador\")  # Suma la longitud\n",
    "\n",
    "# Calcular posiciones para \"por una ventana\"\n",
    "posicion_inicial_2 = frase.index(\"por una ventana\")\n",
    "posicion_final_2 = posicion_inicial_2 + len(\"por una ventana\")\n",
    "\n",
    "# Calcular posiciones para \"Steve Wozniak\"\n",
    "posicion_inicial_3 = frase.index(\"Steve Wozniak\")\n",
    "posicion_final_3 = posicion_inicial_3 + len(\"Steve Wozniak\")"
   ]
  },
  {
   "cell_type": "code",
   "execution_count": null,
   "id": "32dec2c4",
   "metadata": {},
   "outputs": [],
   "source": [
    "# Extraer subfrases usando slicing\n",
    "subfrase1 = frase[posicion_inicial_1:posicion_final_1]  # \"un ordenador\"\n",
    "subfrase2 = frase[posicion_inicial_2:posicion_final_2]  # \"por una ventana\"\n",
    "subfrase3 = frase[posicion_inicial_3:posicion_final_3]  # \"Steve Wozniak\""
   ]
  },
  {
   "cell_type": "code",
   "execution_count": null,
   "id": "2a36dfd5",
   "metadata": {},
   "outputs": [],
   "source": [
    "# Mostrar resultados\n",
    "print(\"Subfrase 1:\", subfrase1)  # \"un ordenador\"\n",
    "print(\"Subfrase 2:\", subfrase2)  # \"por una ventana\"\n",
    "print(\"Subfrase 3:\", subfrase3)  # \"Steve Wozniak\""
   ]
  },
  {
   "cell_type": "markdown",
   "id": "4ed01d93",
   "metadata": {},
   "source": [
    "### Ejercicio 5\n",
    "- Hacer stride de paso 2 con **nueva_frase**."
   ]
  },
  {
   "cell_type": "code",
   "execution_count": null,
   "id": "ac450c32-c881-4b26-a730-51d452febab0",
   "metadata": {},
   "outputs": [],
   "source": []
  },
  {
   "cell_type": "markdown",
   "id": "49f704a6",
   "metadata": {},
   "source": [
    "### Ejercicio 6\n",
    "- Obten las vocales de la palabra **\"Nunca\"** y **\"una\"**, haciendo slicing y stride a la **frase** original."
   ]
  },
  {
   "cell_type": "code",
   "execution_count": null,
   "id": "b043abed-e4b5-46cd-be2a-f596ccd29ddf",
   "metadata": {},
   "outputs": [],
   "source": []
  },
  {
   "cell_type": "markdown",
   "id": "0a42a1a3",
   "metadata": {},
   "source": [
    "### Ejercicio 7\n",
    "- Usando la variable **frase** encuentra el índice de la palabra **\"ordenador\"** y guardarlo en la variable **indice_1**.\n",
    "- Usando la variable **frase** encuentra el indice de la palabra **\"ventana\"** y guardalo en la variable **indice_2**."
   ]
  },
  {
   "cell_type": "code",
   "execution_count": null,
   "id": "99f07f56-0a2a-44fb-aba9-1d0f897cceaf",
   "metadata": {},
   "outputs": [],
   "source": []
  },
  {
   "cell_type": "markdown",
   "id": "1ba23cc3",
   "metadata": {},
   "source": [
    "### Ejercicio 8\n",
    "- Obtener la frase: **\"ordenador que no puedas lanzar por una ventana\"** haciendo slicing y utilizando las variables: **indice_1** y **indice_2**."
   ]
  },
  {
   "cell_type": "code",
   "execution_count": null,
   "id": "c3927f1c-93af-4010-8da3-c405c2192312",
   "metadata": {},
   "outputs": [],
   "source": []
  },
  {
   "cell_type": "markdown",
   "id": "4ce3d23c",
   "metadata": {},
   "source": [
    "### Ejercicio 9\n",
    "- Verificar si la **frase** original empieza con la cadena **\"nunca\"**."
   ]
  },
  {
   "cell_type": "code",
   "execution_count": null,
   "id": "9dcf4109-6445-4929-9047-63c380abe651",
   "metadata": {},
   "outputs": [],
   "source": []
  },
  {
   "cell_type": "markdown",
   "id": "67350650",
   "metadata": {},
   "source": [
    "### Ejercicio 10\n",
    "- Verificar si la **frase** original termina con **\".\"**"
   ]
  },
  {
   "cell_type": "code",
   "execution_count": null,
   "id": "b1cc403d-b71f-48e9-801f-fda37ff1bd51",
   "metadata": {},
   "outputs": [],
   "source": []
  },
  {
   "cell_type": "markdown",
   "id": "92e148d9",
   "metadata": {},
   "source": [
    "### Ejercicio 11\n",
    "- Separar la frase por la cadena **\"que\"** utilizando **.split()**."
   ]
  },
  {
   "cell_type": "code",
   "execution_count": null,
   "id": "18db891c-2cce-4660-8194-ad921ed92a22",
   "metadata": {},
   "outputs": [],
   "source": []
  },
  {
   "cell_type": "markdown",
   "id": "4bd93d27",
   "metadata": {},
   "source": [
    "### Ejercicio 12\n",
    "- Separar la frase por la letra **\"o\"** utilizando **.split()**"
   ]
  },
  {
   "cell_type": "code",
   "execution_count": null,
   "id": "922a9f36",
   "metadata": {},
   "outputs": [],
   "source": []
  },
  {
   "cell_type": "markdown",
   "id": "fb6a50cc",
   "metadata": {},
   "source": [
    "### Ejercicio 13\n",
    "- Cuenta cuantas veces aparecen las vocales en la **frase** original."
   ]
  },
  {
   "cell_type": "code",
   "execution_count": null,
   "id": "64cd99f1",
   "metadata": {},
   "outputs": [],
   "source": []
  },
  {
   "cell_type": "code",
   "execution_count": null,
   "id": "04bac0f8",
   "metadata": {},
   "outputs": [],
   "source": [
    "##############################################################################################################################"
   ]
  }
 ],
 "metadata": {
  "kernelspec": {
   "display_name": "Python 3",
   "language": "python",
   "name": "python3"
  },
  "language_info": {
   "codemirror_mode": {
    "name": "ipython",
    "version": 3
   },
   "file_extension": ".py",
   "mimetype": "text/x-python",
   "name": "python",
   "nbconvert_exporter": "python",
   "pygments_lexer": "ipython3",
   "version": "3.13.1"
  }
 },
 "nbformat": 4,
 "nbformat_minor": 5
}
