{
 "cells": [
  {
   "cell_type": "markdown",
   "id": "3b9c8335",
   "metadata": {},
   "source": [
    "## Ejercicios - random"
   ]
  },
  {
   "cell_type": "code",
   "execution_count": 1,
   "id": "ed13011e",
   "metadata": {},
   "outputs": [],
   "source": [
    "import random"
   ]
  },
  {
   "cell_type": "markdown",
   "id": "eca8b13f",
   "metadata": {},
   "source": [
    "### Ejercicio 1\n",
    "- Crea una lista de 10 numeros enteros aleatorios entre el rango de 10 y 20 utilizando la función random.randint()"
   ]
  },
  {
   "cell_type": "code",
   "execution_count": null,
   "id": "afeb807a",
   "metadata": {},
   "outputs": [],
   "source": [
    "''' Usamos una lista por comprensión para generar 10 números aleatorios entre 10 y 20,\n",
    "random.randint(a, b) devuelve un número entero aleatorio en el rango [a, b] '''\n",
    "\n",
    "lista_aleatoria = [random.randint(10, 20) for _ in range(10)]\n",
    "\n",
    "# Mostramos la lista generada\n",
    "print(\"Lista de números aleatorios entre 10 y 20 con random.randint():\", lista_aleatoria)"
   ]
  },
  {
   "cell_type": "markdown",
   "id": "fc1a19d0",
   "metadata": {},
   "source": [
    "### Ejercicio 2\n",
    "- Crea una lista de 10 numeros enteros aleatorios entre el rango de 10 y 20 sin utilizar la función random.randint()"
   ]
  },
  {
   "cell_type": "code",
   "execution_count": null,
   "id": "07139a13",
   "metadata": {},
   "outputs": [],
   "source": [
    "# Creamos una lista vacía para almacenar los números\n",
    "lista_aleatoria = []\n",
    "\n",
    "\"\"\" Usamos random.randrange() para generar 10 números aleatorios entre 10 y 20\n",
    "random.randrange(start, stop, step) genera un número aleatorio dentro de ese rango. \"\"\"\n",
    "for _ in range(10):\n",
    "    # Generamos un número aleatorio entre 10 y 20\n",
    "    num = random.randrange(10, 21)  # stop es exclusivo, por eso usamos 21 para que llegue hasta 20\n",
    "    lista_aleatoria.append(num)\n",
    "\n",
    "# Mostramos la lista generada\n",
    "print(\"Lista de números aleatorios entre 10 y 20 sin random.randint():\", lista_aleatoria)\n"
   ]
  },
  {
   "cell_type": "markdown",
   "id": "381a2b23",
   "metadata": {},
   "source": [
    "### Ejercicio 3\n",
    "- Genera una lista de 100 numero enteros aleatorios entre 0 y 100.\n",
    "- Genera otra lista con solo los números pares de la primera lista.\n",
    "\n",
    "- Extra: Hacer este ejercicio usando 1 solo bucle."
   ]
  },
  {
   "cell_type": "code",
   "execution_count": null,
   "id": "8ac4e27c",
   "metadata": {},
   "outputs": [],
   "source": [
    "# Lista de números aleatorios generados entre 0 y 100\n",
    "numeros_aleatorios = []\n",
    "\n",
    "# Lista de números pares\n",
    "numeros_pares = []\n",
    "\n",
    "# Usamos un solo bucle para generar 100 números aleatorios y filtrar los pares\n",
    "for _ in range(100):\n",
    "    # Generamos un número aleatorio entre 0 y 100 (inclusive)\n",
    "    num = random.randrange(0, 101)  # El valor máximo es 101 para incluir el 100\n",
    "    numeros_aleatorios.append(num)\n",
    "    \n",
    "    # Si el número es par, lo agregamos a la lista de números pares\n",
    "    if num % 2 == 0:\n",
    "        numeros_pares.append(num)\n",
    "\n",
    "# Mostrar las listas generadas\n",
    "print(\"Lista de 100 números aleatorios entre 0 y 100:\", numeros_aleatorios)\n",
    "print(\"Lista de números pares:\", numeros_pares)\n",
    "\n"
   ]
  }
 ],
 "metadata": {
  "kernelspec": {
   "display_name": "Python 3",
   "language": "python",
   "name": "python3"
  },
  "language_info": {
   "codemirror_mode": {
    "name": "ipython",
    "version": 3
   },
   "file_extension": ".py",
   "mimetype": "text/x-python",
   "name": "python",
   "nbconvert_exporter": "python",
   "pygments_lexer": "ipython3",
   "version": "3.13.1"
  }
 },
 "nbformat": 4,
 "nbformat_minor": 5
}
