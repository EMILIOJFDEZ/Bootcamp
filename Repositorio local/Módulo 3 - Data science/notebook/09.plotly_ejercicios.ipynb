{
 "cells": [
  {
   "cell_type": "markdown",
   "id": "f3ba530e",
   "metadata": {},
   "source": [
    "## Ejercicios plotly"
   ]
  },
  {
   "cell_type": "code",
   "execution_count": 1,
   "id": "eab5c268",
   "metadata": {},
   "outputs": [],
   "source": [
    "import numpy as np\n",
    "import pandas as pd\n",
    "\n",
    "import plotly # Para ver la versión\n",
    "import plotly.express as px\n",
    "\n",
    "from datetime import datetime"
   ]
  },
  {
   "cell_type": "code",
   "execution_count": null,
   "id": "5f993e74-3fce-487a-abf1-22927e48951e",
   "metadata": {},
   "outputs": [],
   "source": [
    "# Versiones\n",
    "\n",
    "print(f\"numpy=={np.__version__}\")\n",
    "print(f\"pandas=={pd.__version__}\")\n",
    "print(f\"plotly=={plotly.__version__}\")"
   ]
  },
  {
   "cell_type": "markdown",
   "id": "0159c8cc",
   "metadata": {},
   "source": [
    "**ref**: _https://www.kaggle.com/datasets/matthieugimbert/french-bakery-daily-sales_"
   ]
  },
  {
   "cell_type": "code",
   "execution_count": null,
   "id": "dcfc4643",
   "metadata": {},
   "outputs": [],
   "source": [
    "# datasets integrados en plotly:\n",
    "df = px.data.tips()\n",
    "df.head()"
   ]
  },
  {
   "cell_type": "code",
   "execution_count": null,
   "id": "cf9dc356",
   "metadata": {},
   "outputs": [],
   "source": [
    "df = px.data.iris()\n",
    "df.head()"
   ]
  },
  {
   "cell_type": "code",
   "execution_count": null,
   "id": "c150b5bf",
   "metadata": {},
   "outputs": [],
   "source": [
    "df = px.data.gapminder()\n",
    "df.head()"
   ]
  },
  {
   "cell_type": "markdown",
   "id": "5d78a17a",
   "metadata": {},
   "source": [
    "### Ejercicio 0:\n",
    "- Carga el DataFrame **`Bakery sales.csv`**."
   ]
  },
  {
   "cell_type": "code",
   "execution_count": null,
   "id": "ec679657",
   "metadata": {},
   "outputs": [],
   "source": [
    "# r'' para evitar problemas con rutas de archivos en windows, donde barras invertidas se pueden interpretar como caracteres de escape\n",
    "# df = pd.read_csv(r'..\\Data\\Bakery sales.csv')\n",
    "df = pd.read_csv('../Data/Bakery sales.csv')\n",
    "df.head()"
   ]
  },
  {
   "cell_type": "markdown",
   "id": "6293f5d2",
   "metadata": {},
   "source": [
    "### Ejercicio 1:\n",
    "- Transforma la columna **`unit_price`** a `float`.\n",
    "\n",
    "\n",
    "- Transforma la columna **`date`** a `datetime`.\n",
    "\n",
    "\n",
    "- Crea las columnas **`weekday`**, **`month`**, **`year`** y **`hour`**. Las columnas **`weekday`** y **`month`** deben estar representados por nombre, no por número."
   ]
  },
  {
   "cell_type": "code",
   "execution_count": null,
   "id": "17cb2103",
   "metadata": {},
   "outputs": [],
   "source": [
    "df.info()"
   ]
  },
  {
   "cell_type": "code",
   "execution_count": null,
   "id": "2df8126a",
   "metadata": {},
   "outputs": [],
   "source": [
    "# uso de apply para quitar ' €' y reemplazar , por . y convertir a float\n",
    "def formatear_precio(price):\n",
    "    numerical = price.split(' ')[0]\n",
    "    numerical_point = numerical.replace(',', '.')\n",
    "    return np.float32(numerical_point)\n",
    "    \n",
    "df['unit_price'].apply(formatear_precio)"
   ]
  },
  {
   "cell_type": "code",
   "execution_count": null,
   "id": "a1371a61",
   "metadata": {},
   "outputs": [],
   "source": [
    "df['unit_price'].str.replace(' €', '').str.replace(',','.').astype(np.float32)"
   ]
  },
  {
   "cell_type": "code",
   "execution_count": 10,
   "id": "4ad64dfa",
   "metadata": {},
   "outputs": [],
   "source": [
    "df['unit_price'] = df['unit_price'].apply(lambda price: np.float32(price.split(' ')[0].replace(',', '.')))"
   ]
  },
  {
   "cell_type": "code",
   "execution_count": null,
   "id": "9de71650",
   "metadata": {},
   "outputs": [],
   "source": [
    "# convertir la fecha a datetime\n",
    "# datetime.strptime('2021-01-02', '%Y-%m-%d')\n",
    "df['date'].apply(lambda fecha: datetime.strptime(fecha,'%Y-%m-%d'))"
   ]
  },
  {
   "cell_type": "code",
   "execution_count": null,
   "id": "809d29b1",
   "metadata": {},
   "outputs": [],
   "source": [
    "pd.to_datetime(df['date'])"
   ]
  },
  {
   "cell_type": "code",
   "execution_count": 13,
   "id": "7c555ee5",
   "metadata": {},
   "outputs": [],
   "source": [
    "df['date'] = df['date'].astype('datetime64[ns]')"
   ]
  },
  {
   "cell_type": "code",
   "execution_count": null,
   "id": "e09326d7",
   "metadata": {},
   "outputs": [],
   "source": [
    "df.info()"
   ]
  },
  {
   "cell_type": "code",
   "execution_count": null,
   "id": "020c536e",
   "metadata": {},
   "outputs": [],
   "source": [
    "# year:\n",
    "df['year'] = df['date'].dt.year\n",
    "df['year'].head(3)"
   ]
  },
  {
   "cell_type": "code",
   "execution_count": null,
   "id": "10176ead",
   "metadata": {},
   "outputs": [],
   "source": [
    "# hour (usaremos este para facilitar los gráficos)\n",
    "df['hour'] = df['time'].apply(lambda time: np.int32(time.split(':')[0]))\n",
    "df['hour'].head(3)"
   ]
  },
  {
   "cell_type": "code",
   "execution_count": null,
   "id": "fedc7f33",
   "metadata": {},
   "outputs": [],
   "source": [
    "# hour decimal\n",
    "df['time'].apply(lambda time: round(int(time.split(':')[0]) + int(time.split(':')[1]) / 60, 2))"
   ]
  },
  {
   "cell_type": "code",
   "execution_count": 18,
   "id": "bb11d40e",
   "metadata": {},
   "outputs": [],
   "source": [
    "#weekday: https://docs.python.org/3/library/datetime.html#strftime-and-strptime-format-codes\n",
    "# df['weekday'] = df['date'].apply(lambda date: date.strftime('%A'))\n",
    "df['weekday']= df['date'].dt.day_name()"
   ]
  },
  {
   "cell_type": "code",
   "execution_count": null,
   "id": "0a031079",
   "metadata": {},
   "outputs": [],
   "source": [
    "#month\n",
    "# df['month'] = df['date'].apply(lambda date: date.strftime('%B'))\n",
    "df['month']= df['date'].dt.month_name()\n",
    "df['month'].head()"
   ]
  },
  {
   "cell_type": "code",
   "execution_count": null,
   "id": "4dcd5a96",
   "metadata": {},
   "outputs": [],
   "source": [
    "df.head(6)"
   ]
  },
  {
   "cell_type": "markdown",
   "id": "ce1ccadc",
   "metadata": {},
   "source": [
    "### Ejercicio 2:\n",
    "\n",
    "¿A que hora se venden más productos?\n",
    "\n",
    "- Grafica un histograma usando la columna de `hour` y `quantity`.\n",
    "- Agrega el parámetro `color = year` y `nbins = 48`.\n",
    "- Haz que el eje X muestre todas las 24 horas del día."
   ]
  },
  {
   "cell_type": "code",
   "execution_count": null,
   "id": "be149328",
   "metadata": {},
   "outputs": [],
   "source": [
    "fig = px.histogram(df, x='hour', y='Quantity', color='year', nbins=48)\n",
    "fig.update_layout(xaxis= {\n",
    "    'range': [0, 24],\n",
    "    'tickvals': list(range(1, 25))\n",
    "})\n",
    "## 11 am es cuando más productos se venden"
   ]
  },
  {
   "cell_type": "markdown",
   "id": "c6c750f0",
   "metadata": {},
   "source": [
    "### Ejercicio 3:\n",
    "- Repite la gráfica anterior, pero quita el filtro por color y separa la gráfica en dos, usando el parámetro `facet_col`.\n",
    "- Agrega a esa gráfica un violin plot usando el parámetro `marginal`."
   ]
  },
  {
   "cell_type": "code",
   "execution_count": 22,
   "id": "5524448a",
   "metadata": {},
   "outputs": [],
   "source": [
    "# help(px.histogram)"
   ]
  },
  {
   "cell_type": "code",
   "execution_count": null,
   "id": "14a9c7ec",
   "metadata": {},
   "outputs": [],
   "source": [
    "fig = px.histogram(df, x='hour', y='Quantity', facet_col='year', nbins=48, marginal='rug')\n",
    "fig.update_layout(xaxis= {\n",
    "    'range': [0, 24],\n",
    "    'tickvals': list(range(1, 25))\n",
    "}, yaxis= {\n",
    "    'range': [0, 40_000]\n",
    "})\n",
    "# fig.update_layout(xaxis_matches='x', yaxis_matches='y')\n",
    "for axis in fig.layout:\n",
    "    if axis.startswith('xaxis') or axis.startswith('yaxis'):\n",
    "        fig.layout[axis].update(range=[0, 24] if axis.startswith('xaxis') else [0, 40000])\n",
    "        \n",
    "fig.show()"
   ]
  },
  {
   "cell_type": "markdown",
   "id": "73d86c3c",
   "metadata": {},
   "source": [
    "### Ejercicio 4:\n",
    "\n",
    "- Filtra el **DataFrame** por las filas donde la columna `article` tenga la palabra **\"BAGUETTE\"**.\n",
    "    - ```html\n",
    "      df[df[\"article\"].str.contains(\"\")]\n",
    "      ```\n",
    "    \n",
    "- Haz una gráfica de **`sunburst`**, separando por año y mes, mostrando la cantidad de elementos vendidos usando el filtro de **\"BAGUETTE\"**."
   ]
  },
  {
   "cell_type": "code",
   "execution_count": 24,
   "id": "4105c5e9",
   "metadata": {},
   "outputs": [],
   "source": [
    "df_baguette = df[df['article'].str.contains('BAGUETTE')]"
   ]
  },
  {
   "cell_type": "code",
   "execution_count": null,
   "id": "04837822",
   "metadata": {},
   "outputs": [],
   "source": [
    "px.sunburst(df_baguette, values='Quantity', path=['year', 'month'])"
   ]
  },
  {
   "cell_type": "code",
   "execution_count": null,
   "id": "3efc3bcf",
   "metadata": {},
   "outputs": [],
   "source": [
    "# otro ejemplo:\n",
    "df_countries = px.data.gapminder().query(\"year == 2007\")\n",
    "fig = px.sunburst(df_countries, path=['continent', 'country'], values='pop',\n",
    "                  color='lifeExp', hover_data=['iso_alpha'],\n",
    "                  color_continuous_scale='RdBu',\n",
    "                  color_continuous_midpoint=np.average(df_countries['lifeExp'], weights=df_countries['pop']))\n",
    "fig.show()"
   ]
  },
  {
   "cell_type": "markdown",
   "id": "3766aadd",
   "metadata": {},
   "source": [
    "### Ejercicio 5:\n",
    "- Calcula el precio total de cada fila, multiplicando las columnas `quantity` y `unit_price`. Crea una nueva columna `total_article_price` con esta información.\n",
    "\n",
    "- Elimina las filas donde `quantity` tiene un outlier.\n",
    "\n",
    "- Haz un violin plot con esa nueva columna."
   ]
  },
  {
   "cell_type": "code",
   "execution_count": null,
   "id": "9787fdc7",
   "metadata": {},
   "outputs": [],
   "source": [
    "df[\"total_article_price\"] = df[\"Quantity\"] * df[\"unit_price\"]\n",
    "df.head(4)"
   ]
  },
  {
   "cell_type": "code",
   "execution_count": null,
   "id": "40fa52d1",
   "metadata": {},
   "outputs": [],
   "source": [
    "Q1 = df['Quantity'].quantile(0.25)\n",
    "Q1"
   ]
  },
  {
   "cell_type": "code",
   "execution_count": null,
   "id": "8f2e5ca3",
   "metadata": {},
   "outputs": [],
   "source": [
    "Q3 = df['Quantity'].quantile(0.75)\n",
    "Q3"
   ]
  },
  {
   "cell_type": "code",
   "execution_count": null,
   "id": "757c5cbf",
   "metadata": {},
   "outputs": [],
   "source": [
    "IQR = Q3 - Q1\n",
    "IQR"
   ]
  },
  {
   "cell_type": "code",
   "execution_count": 31,
   "id": "de70e7b3",
   "metadata": {},
   "outputs": [],
   "source": [
    "lower_limit = Q1 - 1.5 * IQR\n",
    "upper_limit = Q3 + 1.5 * IQR\n",
    "filtro_outliers = (df['Quantity'] <= upper_limit) & (df['Quantity'] >= lower_limit)\n",
    "df_no_outliers = df[filtro_outliers]"
   ]
  },
  {
   "cell_type": "code",
   "execution_count": null,
   "id": "3b429634",
   "metadata": {},
   "outputs": [],
   "source": [
    "# violin plot\n",
    "px.violin(df, x='total_article_price')"
   ]
  },
  {
   "cell_type": "code",
   "execution_count": null,
   "id": "410a029b",
   "metadata": {},
   "outputs": [],
   "source": [
    "px.violin(df_no_outliers, x='total_article_price')"
   ]
  },
  {
   "cell_type": "markdown",
   "id": "5b27437e",
   "metadata": {},
   "source": [
    "### Ejercicio 6:\n",
    "- Agrupa el **DataFrame** por fecha y obten la suma de la columna **`total_article_price`**. Crea un **DataFrame** nuevo.\n",
    "- Busca la forma de quedarte con la columna **`weekday`** durante la agrupación.\n",
    "- Haz un line plot con este **DataFrame**, utiliza también la columna **`weekday`**."
   ]
  },
  {
   "cell_type": "code",
   "execution_count": null,
   "id": "23e057be",
   "metadata": {},
   "outputs": [],
   "source": [
    "df.groupby('date')['total_article_price'].sum().plot()"
   ]
  },
  {
   "cell_type": "code",
   "execution_count": null,
   "id": "0a9b21b9",
   "metadata": {},
   "outputs": [],
   "source": [
    "df_sales = df.groupby('date', as_index=False).agg({\n",
    "    'total_article_price': 'sum',\n",
    "    'weekday': 'min'\n",
    "})\n",
    "df_sales.head(3)"
   ]
  },
  {
   "cell_type": "code",
   "execution_count": null,
   "id": "d10f694f",
   "metadata": {},
   "outputs": [],
   "source": [
    "px.line(df_sales, x='date', y='total_article_price', color='weekday')"
   ]
  },
  {
   "cell_type": "markdown",
   "id": "4f71fe4f",
   "metadata": {},
   "source": [
    "### Ejercicio 7:\n",
    "- Crea un nuevo DataFrame agrupando por la columna **`ticket_number`**, que tenga como columnas la suma de **`quantity`**, **`total_article_price`** y el maximo de **`year`**. Renombra las columnas.\n",
    "\n",
    "- Haz un box plot usando la columnas **`quantity`** y **`year`**."
   ]
  },
  {
   "cell_type": "code",
   "execution_count": null,
   "id": "f4df92d0",
   "metadata": {},
   "outputs": [],
   "source": [
    "df_ticket = df.groupby(\"ticket_number\", as_index=False).agg(\n",
    "    {\"Quantity\": [\"sum\"], \"total_article_price\": [\"sum\"], \"year\": [\"max\"]}\n",
    ")\n",
    "df_ticket.head(5)"
   ]
  },
  {
   "cell_type": "code",
   "execution_count": null,
   "id": "1b0cb80f",
   "metadata": {},
   "outputs": [],
   "source": [
    "#CUIDADO, SOLO PARA CASOS EN LOS QUE SE USA AGG CON [] Y GENERA UN MULTIINDEX EN LOS NOMBRES DE LAS COLUMNAS\n",
    "df_ticket.columns = [x[0] for x in df_ticket.columns]\n",
    "df_ticket.head(5)"
   ]
  },
  {
   "cell_type": "code",
   "execution_count": null,
   "id": "eb1f8e43",
   "metadata": {},
   "outputs": [],
   "source": [
    "# MÁS RÁPIDO Y DIRECTO PORQUE NO HAY QUE RENOMBRAR COLUMNAS, NO USAMOS [] EN LAS AGREGACIONES\n",
    "df_ticket = df.groupby(\"ticket_number\", as_index=False).agg(\n",
    "    {\"Quantity\": \"sum\", \"total_article_price\": \"sum\", \"year\": \"max\"}\n",
    ")\n",
    "df_ticket.head(5)"
   ]
  },
  {
   "cell_type": "code",
   "execution_count": null,
   "id": "ecfe6440",
   "metadata": {},
   "outputs": [],
   "source": [
    "px.box(df_ticket[(df_ticket['Quantity'] >= 0) & (df_ticket['Quantity'] <= 20)], x='year', y='Quantity')"
   ]
  },
  {
   "cell_type": "code",
   "execution_count": null,
   "id": "53b2d8da",
   "metadata": {},
   "outputs": [],
   "source": [
    "# USANDO EL DATAFRAME SIN OUTLIERS\n",
    "px.box(\n",
    "    df_no_outliers.groupby(\"ticket_number\", as_index=False).agg(\n",
    "    {\"Quantity\": \"sum\", \"total_article_price\": \"sum\", \"year\": \"max\"}\n",
    "), x='year', y='Quantity')"
   ]
  },
  {
   "cell_type": "code",
   "execution_count": null,
   "id": "b5f6dca8",
   "metadata": {},
   "outputs": [],
   "source": [
    "df_ticket.describe()"
   ]
  },
  {
   "cell_type": "markdown",
   "id": "93da8acf",
   "metadata": {},
   "source": [
    "### Ejercicio 8:\n",
    "- Haz un pie plot mostrando el total vendido por día de la semana.\n",
    "- Haz un pie plot mostrando el total vendido por mes."
   ]
  },
  {
   "cell_type": "code",
   "execution_count": null,
   "id": "a4c5a621",
   "metadata": {},
   "outputs": [],
   "source": [
    "df.head()"
   ]
  },
  {
   "cell_type": "code",
   "execution_count": null,
   "id": "0438d2e3",
   "metadata": {},
   "outputs": [],
   "source": [
    "df.groupby(\"weekday\", as_index=False).agg({\"total_article_price\": \"sum\"}).sort_values('total_article_price',ascending=False)"
   ]
  },
  {
   "cell_type": "code",
   "execution_count": null,
   "id": "22fac86a",
   "metadata": {},
   "outputs": [],
   "source": [
    "# weekday\n",
    "px.pie(df, values = 'total_article_price', names='weekday')"
   ]
  },
  {
   "cell_type": "code",
   "execution_count": null,
   "id": "2b7c7f8e",
   "metadata": {},
   "outputs": [],
   "source": [
    "# month\n",
    "px.pie(df, values = 'total_article_price', names='month')"
   ]
  },
  {
   "cell_type": "markdown",
   "id": "8c4811e2",
   "metadata": {},
   "source": [
    "### Ejercicio 9:\n",
    "- Agrupa los datos por la columna **`article`** y crea un nuevo DataFrame, donde las columnas sean la suma de **`quantity`** y **`total_article_price`** y la media de **`unit_price`** y el mínimo/máximo de **`year`**.\n",
    "- Encuentra cuales son los 20 elementos más vendidos y muestralos en un bar plot, usa la columna **`total_article_price`** con el parámetro `color`."
   ]
  },
  {
   "cell_type": "code",
   "execution_count": null,
   "id": "c60061ef",
   "metadata": {},
   "outputs": [],
   "source": [
    "df_article = df.groupby('article', as_index=False).agg({\n",
    "    'Quantity': 'sum',\n",
    "    'total_article_price': 'sum',\n",
    "    'unit_price': 'mean',\n",
    "    'year': 'min'\n",
    "})\n",
    "df_article_top_20 = df_article.sort_values('Quantity', ascending=False).head(20)\n",
    "df_article_top_20"
   ]
  },
  {
   "cell_type": "code",
   "execution_count": null,
   "id": "aeb7706d",
   "metadata": {},
   "outputs": [],
   "source": [
    "px.bar(df_article_top_20, x='article', y='Quantity', color='total_article_price')"
   ]
  },
  {
   "cell_type": "code",
   "execution_count": null,
   "id": "859fc20b",
   "metadata": {},
   "outputs": [],
   "source": [
    "fig = px.bar(\n",
    "    df_article_top_20, \n",
    "    x='article', \n",
    "    y='Quantity', \n",
    "    color='total_article_price',  \n",
    "    title='Top 20 Artículos Más Vendidos', \n",
    "    labels={'article': 'Artículo', 'Quantity': 'Cantidad Vendida', 'total_article_price_sum': 'Total Precio del Artículo'}\n",
    ")\n",
    "\n",
    "fig.show()"
   ]
  },
  {
   "cell_type": "markdown",
   "id": "9b3ab5e4",
   "metadata": {},
   "source": [
    "### Ejercicio 10:\n",
    "- Usando el DataFrame, crea una nueva columna **`article_new`**, si el artículo de esa fila no está entre los 20 más vendidos entonces que tenga el nombre de **`OTRO`**, si el artículo está si entre los 20 más vendidos que no se cambie el nombre.\n",
    "\n",
    "- Repite el bar plot anterior, esta vez usando todas las filas."
   ]
  },
  {
   "cell_type": "code",
   "execution_count": null,
   "id": "e8ed0532",
   "metadata": {},
   "outputs": [],
   "source": [
    "top_20 = df_article_top_20['article'].values\n",
    "top_20"
   ]
  },
  {
   "cell_type": "code",
   "execution_count": null,
   "id": "4e1997d7",
   "metadata": {},
   "outputs": [],
   "source": [
    "# apply sobre df_article['article']\n",
    "df_article['article_new'] = df_article['article'].apply(lambda article_name: article_name if article_name in top_20 else 'OTRO')\n",
    "df_article.head(7)"
   ]
  },
  {
   "cell_type": "code",
   "execution_count": null,
   "id": "f316c960",
   "metadata": {},
   "outputs": [],
   "source": [
    "df_article.head(3)"
   ]
  },
  {
   "cell_type": "code",
   "execution_count": null,
   "id": "6c547c9f",
   "metadata": {},
   "outputs": [],
   "source": [
    "df_article_top_20.reset_index(drop=True, inplace=True)\n",
    "df_article_top_20['article'].index"
   ]
  },
  {
   "cell_type": "code",
   "execution_count": null,
   "id": "31221c4f",
   "metadata": {},
   "outputs": [],
   "source": [
    "df_article_top_20['article'][df_article_top_20['article'] == 'BAGUETTE'].index[0]"
   ]
  },
  {
   "cell_type": "code",
   "execution_count": null,
   "id": "bd04fbbb",
   "metadata": {},
   "outputs": [],
   "source": [
    "# Opcional: Crear columna indicando la posición en el top 20 \n",
    "df_article['article_new2'] = df_article['article'].apply(lambda article_name: f'Top {df_article_top_20['article'][df_article_top_20['article'] == article_name].index[0]}' if article_name in top_20 else 'OTRO')\n",
    "df_article.head(20)"
   ]
  },
  {
   "cell_type": "code",
   "execution_count": null,
   "id": "afccb0f2",
   "metadata": {},
   "outputs": [],
   "source": [
    "fig = px.bar(\n",
    "    df_article.sort_values('Quantity', ascending=False), \n",
    "    x='article_new', \n",
    "    y='Quantity', \n",
    "    color='total_article_price',  \n",
    "    title='Top 20 Artículos Más Vendidos + Categoría OTROS', \n",
    "    labels={'article_new': 'Artículo', 'Quantity': 'Cantidad Vendida', 'total_article_price': 'Total Precio del Artículo'}\n",
    ")\n",
    "\n",
    "fig.show()"
   ]
  },
  {
   "cell_type": "markdown",
   "id": "39cee141",
   "metadata": {},
   "source": [
    "### Ejercicio 11:\n",
    "- Comprueba qué relación existe entre la cantidad de productos comprados y el precio total del ticket.\n",
    "- Aplica una transformación logarítmica en base 10 al precio y dibuja un box plot para cada cantidad de artículos totales.\n",
    "- Asegúrate de que, si bien el precio sufre una transformación, las anotaciones del plot representen el valor real."
   ]
  },
  {
   "cell_type": "code",
   "execution_count": null,
   "id": "1c8b7e96",
   "metadata": {},
   "outputs": [],
   "source": [
    "df.head(4)"
   ]
  },
  {
   "cell_type": "code",
   "execution_count": null,
   "id": "e0e28e77",
   "metadata": {},
   "outputs": [],
   "source": [
    "df_ticket = df_no_outliers.groupby(\"ticket_number\", as_index=False).agg(\n",
    "    {\"Quantity\": \"sum\", \"total_article_price\": \"sum\"}\n",
    ")\n",
    "df_ticket.head(4)"
   ]
  },
  {
   "cell_type": "code",
   "execution_count": null,
   "id": "5715cf75",
   "metadata": {},
   "outputs": [],
   "source": [
    "# Gráfica sin transformación logarítmica\n",
    "px.box(df_ticket, x='Quantity', y='total_article_price')"
   ]
  },
  {
   "cell_type": "code",
   "execution_count": null,
   "id": "6498d2f7",
   "metadata": {},
   "outputs": [],
   "source": [
    "px.histogram(df_ticket, x='total_article_price')"
   ]
  },
  {
   "cell_type": "code",
   "execution_count": null,
   "id": "95e0aec4",
   "metadata": {},
   "outputs": [],
   "source": [
    "# Transformación logarítmica:\n",
    "# si tiene valores 0 o negativos le puede afectar, conviene filtrarlos primero\n",
    "df_ticket = df_ticket[df_ticket['total_article_price'] > 0]\n",
    "df_ticket['price_log'] = df_ticket['total_article_price'].apply(np.log)\n",
    "df_ticket.head(4)"
   ]
  },
  {
   "cell_type": "code",
   "execution_count": null,
   "id": "6f1e06d9",
   "metadata": {},
   "outputs": [],
   "source": [
    "px.histogram(df_ticket, x='price_log')"
   ]
  },
  {
   "cell_type": "code",
   "execution_count": null,
   "id": "dcd0447d",
   "metadata": {},
   "outputs": [],
   "source": [
    "np.exp([-1 , 0, 1, 2, 3, 4, 5])"
   ]
  },
  {
   "cell_type": "code",
   "execution_count": null,
   "id": "2d0ecd90",
   "metadata": {},
   "outputs": [],
   "source": [
    "fig = px.box(df_ticket, x='Quantity', y='price_log')\n",
    "fig.update_layout(\n",
    "    yaxis= {\n",
    "        'range': [-1 , 5],\n",
    "        'tickvals': [-1, 0, 1, 2, 3, 4, 5],\n",
    "        'ticktext': [f'{x:.2f} €' for x in np.exp([-1 , 0, 1, 2, 3, 4, 5])]\n",
    "    }\n",
    ")\n",
    "# si no ponemos np.exp las etiquetas ticktext se mantendrán en la escala logarítmica: -1, 0, 1, 2, 3, 4, 5\n",
    "#np.exp revertir la transformación logarítmica para regresar a la escala original"
   ]
  },
  {
   "cell_type": "code",
   "execution_count": 37,
   "id": "e2d6db00",
   "metadata": {},
   "outputs": [],
   "source": [
    "################################################################################################################################"
   ]
  }
 ],
 "metadata": {
  "kernelspec": {
   "display_name": "Python 3",
   "language": "python",
   "name": "python3"
  },
  "language_info": {
   "codemirror_mode": {
    "name": "ipython",
    "version": 3
   },
   "file_extension": ".py",
   "mimetype": "text/x-python",
   "name": "python",
   "nbconvert_exporter": "python",
   "pygments_lexer": "ipython3",
   "version": "3.13.1"
  }
 },
 "nbformat": 4,
 "nbformat_minor": 5
}
