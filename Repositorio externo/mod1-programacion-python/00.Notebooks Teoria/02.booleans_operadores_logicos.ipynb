{
 "cells": [
  {
   "cell_type": "markdown",
   "id": "8631a289",
   "metadata": {},
   "source": [
    "## Booleans (True & False)\n",
    "\n",
    "Los **Boolans** representan uno de estos dos valores: **True** o **False**.\n",
    "\n",
    "En programación existen situaciones donde es necesario saber si una expresión es verdadera (**True**) o falsa (**False**).\n",
    "\n",
    "En python se pueden evaluar o comparar expresiones y obtener uno de los dos resultados, verdadero o falso.\n",
    "\n",
    "En python, **True** es considerado 1 y **False** es considerado 0.\n",
    "\n",
    "Este tipo de dato se representa con la palabra reservada _**bool**_."
   ]
  },
  {
   "cell_type": "code",
   "execution_count": 44,
   "id": "75f01150",
   "metadata": {},
   "outputs": [
    {
     "data": {
      "text/plain": [
       "True"
      ]
     },
     "execution_count": 44,
     "metadata": {},
     "output_type": "execute_result"
    }
   ],
   "source": [
    "True"
   ]
  },
  {
   "cell_type": "code",
   "execution_count": 45,
   "id": "8abea607",
   "metadata": {},
   "outputs": [
    {
     "data": {
      "text/plain": [
       "False"
      ]
     },
     "execution_count": 45,
     "metadata": {},
     "output_type": "execute_result"
    }
   ],
   "source": [
    "False"
   ]
  },
  {
   "cell_type": "code",
   "execution_count": 46,
   "id": "c0d8f59a",
   "metadata": {},
   "outputs": [],
   "source": [
    "verdadero = True\n",
    "falso = False"
   ]
  },
  {
   "cell_type": "code",
   "execution_count": 47,
   "id": "8bd72c44",
   "metadata": {},
   "outputs": [
    {
     "data": {
      "text/plain": [
       "bool"
      ]
     },
     "execution_count": 47,
     "metadata": {},
     "output_type": "execute_result"
    }
   ],
   "source": [
    "type(True)"
   ]
  },
  {
   "cell_type": "code",
   "execution_count": 48,
   "id": "bad45118",
   "metadata": {},
   "outputs": [
    {
     "data": {
      "text/plain": [
       "False"
      ]
     },
     "execution_count": 48,
     "metadata": {},
     "output_type": "execute_result"
    }
   ],
   "source": [
    "dato = bool(0)\n",
    "dato"
   ]
  },
  {
   "cell_type": "code",
   "execution_count": 49,
   "id": "17cbd9fb",
   "metadata": {},
   "outputs": [
    {
     "data": {
      "text/plain": [
       "True"
      ]
     },
     "execution_count": 49,
     "metadata": {},
     "output_type": "execute_result"
    }
   ],
   "source": [
    "dato = bool(1)\n",
    "dato"
   ]
  },
  {
   "cell_type": "code",
   "execution_count": 50,
   "id": "22cfcbd6",
   "metadata": {},
   "outputs": [
    {
     "data": {
      "text/plain": [
       "1"
      ]
     },
     "execution_count": 50,
     "metadata": {},
     "output_type": "execute_result"
    }
   ],
   "source": [
    "verdadero + falso"
   ]
  },
  {
   "cell_type": "code",
   "execution_count": 51,
   "id": "2637e310",
   "metadata": {},
   "outputs": [
    {
     "data": {
      "text/plain": [
       "-1"
      ]
     },
     "execution_count": 51,
     "metadata": {},
     "output_type": "execute_result"
    }
   ],
   "source": [
    "falso - verdadero"
   ]
  },
  {
   "cell_type": "markdown",
   "id": "fe1716a8",
   "metadata": {},
   "source": [
    "## Operadores de Comparación\n",
    "\n",
    "Como dice su nombre, se utiliza para comparar elementos, su resultado siempre es **True** o **False**.\n",
    "\n",
    "| Operador     | Operación     | Ejemplo |\n",
    "|--------------|---------------|---------|\n",
    "| **==**       | Igual         | x == y  |\n",
    "| **!=**       | Diferente     | x != y  |\n",
    "| **>**        | Mayor que     | x > y   |\n",
    "| **<**        | Menor que     | x < y   |\n",
    "| **>=**       | Mayor o igual | x >= y  |\n",
    "| **<=**       | Menor o igual | x <= y  |"
   ]
  },
  {
   "cell_type": "code",
   "execution_count": 70,
   "id": "910fb03a",
   "metadata": {},
   "outputs": [
    {
     "data": {
      "text/plain": [
       "True"
      ]
     },
     "execution_count": 70,
     "metadata": {},
     "output_type": "execute_result"
    }
   ],
   "source": [
    "1 == 1"
   ]
  },
  {
   "cell_type": "code",
   "execution_count": 53,
   "id": "0a2284ce",
   "metadata": {},
   "outputs": [
    {
     "data": {
      "text/plain": [
       "False"
      ]
     },
     "execution_count": 53,
     "metadata": {},
     "output_type": "execute_result"
    }
   ],
   "source": [
    "1 != 1"
   ]
  },
  {
   "cell_type": "code",
   "execution_count": 54,
   "id": "c58c75e9",
   "metadata": {},
   "outputs": [
    {
     "data": {
      "text/plain": [
       "False"
      ]
     },
     "execution_count": 54,
     "metadata": {},
     "output_type": "execute_result"
    }
   ],
   "source": [
    "a = 3\n",
    "b = 4\n",
    "\n",
    "a == b"
   ]
  },
  {
   "cell_type": "code",
   "execution_count": 55,
   "id": "586bb6ef",
   "metadata": {},
   "outputs": [
    {
     "data": {
      "text/plain": [
       "True"
      ]
     },
     "execution_count": 55,
     "metadata": {},
     "output_type": "execute_result"
    }
   ],
   "source": [
    "4 > 0"
   ]
  },
  {
   "cell_type": "code",
   "execution_count": 56,
   "id": "278a4510",
   "metadata": {},
   "outputs": [
    {
     "data": {
      "text/plain": [
       "True"
      ]
     },
     "execution_count": 56,
     "metadata": {},
     "output_type": "execute_result"
    }
   ],
   "source": [
    "3.1 < 10"
   ]
  },
  {
   "cell_type": "code",
   "execution_count": 57,
   "id": "a3f184f5",
   "metadata": {},
   "outputs": [
    {
     "data": {
      "text/plain": [
       "True"
      ]
     },
     "execution_count": 57,
     "metadata": {},
     "output_type": "execute_result"
    }
   ],
   "source": [
    "b >= a"
   ]
  },
  {
   "cell_type": "markdown",
   "id": "9dc8b7f3",
   "metadata": {},
   "source": [
    "## Operadores Lógicos\n",
    "\n",
    "Se utilizan en conjunto con los operadores de comparación, su función es unir diferentes declaraciones:\n",
    "\n",
    "| Operador          | Descripción                                                                                                   | Ejemplo                     |\n",
    "|-------------------|---------------------------------------------------------------------------------------------------------------|-----------------------------|\n",
    "| **and** o **&** | Retorna **True** si todas las declaraciones son **True**, sino, retorna **False**.                            | x > 5 **and** x < 10        |\n",
    "| **or** o **\\|** | Retorna **True** si al menos una de las declaraciones son **True**, retorna **False** si todas son **False**. | x > 5 **or** x < 10         |\n",
    "| **not** o **~** | Invierte el resultado de la operación.                                                                        | **not**(x > 5 **or** x < 10)|"
   ]
  },
  {
   "cell_type": "code",
   "execution_count": 58,
   "id": "fa41cc63",
   "metadata": {},
   "outputs": [],
   "source": [
    "a = 100\n",
    "b = 200\n",
    "c = 300\n",
    "d = 500"
   ]
  },
  {
   "cell_type": "code",
   "execution_count": 59,
   "id": "e8c4e3a6",
   "metadata": {},
   "outputs": [
    {
     "data": {
      "text/plain": [
       "True"
      ]
     },
     "execution_count": 59,
     "metadata": {},
     "output_type": "execute_result"
    }
   ],
   "source": [
    "b > a"
   ]
  },
  {
   "cell_type": "code",
   "execution_count": 60,
   "id": "3eb452fa",
   "metadata": {},
   "outputs": [
    {
     "data": {
      "text/plain": [
       "True"
      ]
     },
     "execution_count": 60,
     "metadata": {},
     "output_type": "execute_result"
    }
   ],
   "source": [
    "b < c"
   ]
  },
  {
   "cell_type": "code",
   "execution_count": 61,
   "id": "50ac8b5f",
   "metadata": {},
   "outputs": [
    {
     "data": {
      "text/plain": [
       "True"
      ]
     },
     "execution_count": 61,
     "metadata": {},
     "output_type": "execute_result"
    }
   ],
   "source": [
    "b > a and b < c"
   ]
  },
  {
   "cell_type": "code",
   "execution_count": 79,
   "id": "4c03713b",
   "metadata": {},
   "outputs": [
    {
     "name": "stdout",
     "output_type": "stream",
     "text": [
      "False\n",
      "False\n"
     ]
    }
   ],
   "source": [
    "edad = 17\n",
    "has_access = edad >= 18 and edad <= 22\n",
    "print(has_access)\n",
    "\n",
    "salary = 3400\n",
    "has_discount = salary >= 1200 and salary <= 2300\n",
    "print(has_discount)"
   ]
  },
  {
   "cell_type": "code",
   "execution_count": null,
   "id": "f7ad5928",
   "metadata": {},
   "outputs": [
    {
     "data": {
      "text/plain": [
       "True"
      ]
     },
     "execution_count": 62,
     "metadata": {},
     "output_type": "execute_result"
    }
   ],
   "source": [
    "b > a & b < c "
   ]
  },
  {
   "cell_type": "code",
   "execution_count": 63,
   "id": "58ba64db",
   "metadata": {},
   "outputs": [
    {
     "data": {
      "text/plain": [
       "True"
      ]
     },
     "execution_count": 63,
     "metadata": {},
     "output_type": "execute_result"
    }
   ],
   "source": [
    "c > a or c > d"
   ]
  },
  {
   "cell_type": "code",
   "execution_count": 88,
   "id": "a652cc65",
   "metadata": {},
   "outputs": [
    {
     "data": {
      "text/plain": [
       "True"
      ]
     },
     "execution_count": 88,
     "metadata": {},
     "output_type": "execute_result"
    }
   ],
   "source": [
    "# or: es más flexible que and, con que una de las opciones sea verdadero ya será verdadero todo el resultado\n",
    "edad = 17\n",
    "has_tutor = True\n",
    "has_discount = True\n",
    "\n",
    "\n",
    "# has_access = edad >= 18 | has_tutor | has_discount #CUIDADO necesita paréntesis\n",
    "# has_access = (edad >= 18) | has_tutor | has_discount\n",
    "has_access = edad >= 18 or has_tutor or has_discount\n",
    "has_access"
   ]
  },
  {
   "cell_type": "code",
   "execution_count": 83,
   "id": "ac7f599f",
   "metadata": {},
   "outputs": [
    {
     "data": {
      "text/plain": [
       "True"
      ]
     },
     "execution_count": 83,
     "metadata": {},
     "output_type": "execute_result"
    }
   ],
   "source": [
    "(c > a) | (c > d)"
   ]
  },
  {
   "cell_type": "code",
   "execution_count": 65,
   "id": "a888d028",
   "metadata": {},
   "outputs": [
    {
     "data": {
      "text/plain": [
       "True"
      ]
     },
     "execution_count": 65,
     "metadata": {},
     "output_type": "execute_result"
    }
   ],
   "source": [
    "b > a"
   ]
  },
  {
   "cell_type": "markdown",
   "id": "72dd9b0f",
   "metadata": {},
   "source": [
    "### Operador not"
   ]
  },
  {
   "cell_type": "code",
   "execution_count": 66,
   "id": "564c48fc",
   "metadata": {},
   "outputs": [
    {
     "data": {
      "text/plain": [
       "False"
      ]
     },
     "execution_count": 66,
     "metadata": {},
     "output_type": "execute_result"
    }
   ],
   "source": [
    "not(b > a)"
   ]
  },
  {
   "cell_type": "code",
   "execution_count": 89,
   "id": "d5612553",
   "metadata": {},
   "outputs": [
    {
     "data": {
      "text/plain": [
       "False"
      ]
     },
     "execution_count": 89,
     "metadata": {},
     "output_type": "execute_result"
    }
   ],
   "source": [
    "not has_access"
   ]
  },
  {
   "cell_type": "code",
   "execution_count": 67,
   "id": "443e7993",
   "metadata": {},
   "outputs": [],
   "source": [
    "##############################################################################################################################"
   ]
  }
 ],
 "metadata": {
  "kernelspec": {
   "display_name": "Python 3",
   "language": "python",
   "name": "python3"
  },
  "language_info": {
   "codemirror_mode": {
    "name": "ipython",
    "version": 3
   },
   "file_extension": ".py",
   "mimetype": "text/x-python",
   "name": "python",
   "nbconvert_exporter": "python",
   "pygments_lexer": "ipython3",
   "version": "3.13.0"
  }
 },
 "nbformat": 4,
 "nbformat_minor": 5
}
