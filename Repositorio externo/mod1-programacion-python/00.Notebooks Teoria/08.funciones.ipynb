{
 "cells": [
  {
   "cell_type": "markdown",
   "id": "8f80f7cc",
   "metadata": {},
   "source": [
    "## Funciones\n",
    "\n",
    "Una **función** es un bloque de código con un nombre asociado, que **recibe cero o más argumentos como entrada**, sigue una secuencia de sentencias, la cuales ejecuta una operación deseada y **devuelve un valor y/o realiza una tarea**.\n",
    "\n",
    "En python las funciones se definen con la palabra reservada **`def`** y si es necesario, se utiliza la palabra reservada **`return`**.\n",
    "\n",
    "**Sintaxis**:\n",
    "```python\n",
    "    def NombreFuncion(parametros):\n",
    "        bloque de código\n",
    "        return\n",
    "```\n",
    "\n",
    "**Ejemplo:**"
   ]
  },
  {
   "cell_type": "code",
   "execution_count": null,
   "id": "5ce0239c",
   "metadata": {},
   "outputs": [],
   "source": [
    "# El cuadrado de un número\n",
    "\n",
    "def func_cuadrado(x):\n",
    "    \n",
    "    cuadrado = x**2\n",
    "    \n",
    "    return cuadrado\n",
    "\n",
    "# Esta función toma como parametro un número \"x\" y retorna el cuadrado de \"x\""
   ]
  },
  {
   "cell_type": "code",
   "execution_count": 3,
   "id": "b0c0a303",
   "metadata": {},
   "outputs": [
    {
     "name": "stdout",
     "output_type": "stream",
     "text": [
      "100\n",
      "100\n",
      "100\n"
     ]
    }
   ],
   "source": [
    "x = 10\n",
    "\n",
    "print(func_cuadrado(x))\n",
    "print(func_cuadrado(x))\n",
    "print(func_cuadrado(x))"
   ]
  },
  {
   "cell_type": "code",
   "execution_count": null,
   "id": "164fc5b8",
   "metadata": {},
   "outputs": [],
   "source": [
    "# Datos de un usuario\n",
    "\n",
    "def func_datos():\n",
    "    \n",
    "    nombre = input(\"Ingresa tu nombre: \")\n",
    "    apellido = input(\"Ingresa tu apellido: \")\n",
    "    edad = int(input(\"Ingresa tu edad: \"))\n",
    "    lenguaje = input(\"Ingresa tu lenguaje de programación favorito: \")\n",
    "    \n",
    "    datos = [nombre, apellido, edad, lenguaje]\n",
    "    \n",
    "    return datos\n",
    "    # print(\"hola\") # código inalcanzable o dead code \n",
    "\n",
    "# Esta función no toma ningún parametro, pero retorna una lista con los datos que pregunta al usuario al ejecutarse."
   ]
  },
  {
   "cell_type": "code",
   "execution_count": 9,
   "id": "d2b301c0",
   "metadata": {},
   "outputs": [
    {
     "data": {
      "text/plain": [
       "['juan', 'perez', 30, 'python']"
      ]
     },
     "execution_count": 9,
     "metadata": {},
     "output_type": "execute_result"
    }
   ],
   "source": [
    "func_datos()"
   ]
  },
  {
   "cell_type": "code",
   "execution_count": 10,
   "id": "f1c30388",
   "metadata": {},
   "outputs": [],
   "source": [
    "lista_datos = func_datos()"
   ]
  },
  {
   "cell_type": "code",
   "execution_count": 11,
   "id": "603aa1d1",
   "metadata": {},
   "outputs": [
    {
     "data": {
      "text/plain": [
       "['ddfdf', 'dfdfd', 23, 'dfdf']"
      ]
     },
     "execution_count": 11,
     "metadata": {},
     "output_type": "execute_result"
    }
   ],
   "source": [
    "lista_datos"
   ]
  },
  {
   "cell_type": "code",
   "execution_count": null,
   "id": "8a20dc16",
   "metadata": {},
   "outputs": [],
   "source": [
    "# Número par o impar\n",
    "\n",
    "def func_par_impar():\n",
    "    \n",
    "    x = int(input(\"Ingresa un número para verificar si es par o impar: \"))\n",
    "    \n",
    "    if x % 2 == 0:\n",
    "        print(\"El numero\", x, \"es par.\")\n",
    "    \n",
    "    else:\n",
    "        print(\"El numero\", x, \"es impar.\")\n",
    "        \n",
    "# Esta función no toma ningún parametro de entrada y no retorna nada."
   ]
  },
  {
   "cell_type": "code",
   "execution_count": null,
   "id": "0e90ecf7",
   "metadata": {},
   "outputs": [],
   "source": [
    "func_par_impar()"
   ]
  },
  {
   "cell_type": "code",
   "execution_count": null,
   "id": "1a735551",
   "metadata": {},
   "outputs": [],
   "source": [
    "variable = func_par_impar()\n",
    "\n",
    "print(variable)"
   ]
  },
  {
   "cell_type": "code",
   "execution_count": null,
   "id": "a06feafd",
   "metadata": {},
   "outputs": [
    {
     "name": "stdout",
     "output_type": "stream",
     "text": [
      "tienes matricula\n"
     ]
    }
   ],
   "source": [
    "# Ejemplo de creación de funciones para simplificar las operaciones de lógica booleana\n",
    "edad = 18\n",
    "tutor = True\n",
    "beca = True\n",
    "calificacion = 8\n",
    "\n",
    "def is_eligible():\n",
    "    return edad > 0 and edad < 18 and tutor and beca and calificacion >= 9\n",
    "\n",
    "def has_suscription():\n",
    "    # return suscription_repository.findByUser(user).is_active\n",
    "    return True\n",
    "\n",
    "if is_eligible() or has_suscription():\n",
    "    print(\"tienes matricula\")"
   ]
  },
  {
   "cell_type": "markdown",
   "id": "8bcc04ee",
   "metadata": {},
   "source": [
    "### Parámetros por defecto (opcionales) y return\n",
    "\n",
    "- En python se pueden crear funciones con parámetros por defecto, estos parametros se pueden modificar al momento de llamar a la función.\n",
    "\n",
    "- Al momento de definir una función con parámetros opcionales de definen después de los obligatorios. Es decir, primero se escriben los parámetros obligatorios y de segundo los opcionales. \n",
    "\n",
    "- **return**: Cuando la función llega a la parte del **return** esta se detiene y termina su ejecución. Una función puede tener más de un **return** o no tenerlo."
   ]
  },
  {
   "cell_type": "code",
   "execution_count": null,
   "id": "4c92786f",
   "metadata": {},
   "outputs": [],
   "source": [
    "def fecha_año(dia, mes = \"enero\", año = 2000):\n",
    "    \n",
    "    print(f\"Hoy es {dia} de {mes} de {año}\")\n",
    "    \n",
    "# En esta función tenemos 2 parametros opcionales y 1 obligatorio\n",
    "# Esta función no retorna nada."
   ]
  },
  {
   "cell_type": "code",
   "execution_count": null,
   "id": "c4164783",
   "metadata": {},
   "outputs": [
    {
     "name": "stdout",
     "output_type": "stream",
     "text": [
      "Hoy es 20 de enero de 2000\n"
     ]
    }
   ],
   "source": [
    "fecha_año(20)"
   ]
  },
  {
   "cell_type": "code",
   "execution_count": 22,
   "id": "e72f207d",
   "metadata": {},
   "outputs": [
    {
     "name": "stdout",
     "output_type": "stream",
     "text": [
      "Hoy es 20 de marzo de 1990\n"
     ]
    }
   ],
   "source": [
    "fecha_año(20, \"marzo\", 1990)"
   ]
  },
  {
   "cell_type": "code",
   "execution_count": null,
   "id": "ba9d2a25",
   "metadata": {},
   "outputs": [
    {
     "name": "stdout",
     "output_type": "stream",
     "text": [
      "Hoy es 20 de junio de 2000\n"
     ]
    }
   ],
   "source": [
    "# Como solo hay 1 parametro obligatorio, puede ejecutar la función solo dandole el parametro obligatorio\n",
    "\n",
    "fecha_año(20, año=2000, mes=\"junio\")"
   ]
  },
  {
   "cell_type": "code",
   "execution_count": null,
   "id": "1ecc02a6",
   "metadata": {},
   "outputs": [],
   "source": [
    "# Se puede cambiar un parametro por defecto al momento de ejecutar la función\n",
    "\n",
    "fecha_año(20, \"Febrero\", 2020)"
   ]
  },
  {
   "cell_type": "code",
   "execution_count": null,
   "id": "2ba2770c",
   "metadata": {},
   "outputs": [],
   "source": [
    "fecha_año(dia = 20, mes = \"Febrero\", año = 2000)"
   ]
  },
  {
   "cell_type": "code",
   "execution_count": null,
   "id": "961dbfeb",
   "metadata": {},
   "outputs": [
    {
     "name": "stdout",
     "output_type": "stream",
     "text": [
      "Hoy es 10 de marzo de 2000\n",
      "Hoy es 10 de enero de 2000\n",
      "Hoy es 10 de abril de 2000\n",
      "Hoy es 10 de abril de 2000\n",
      "Hoy es 10 de abril de 2000\n"
     ]
    }
   ],
   "source": [
    "def fecha_año(dia, mes = \"enero\", año = 2000):\n",
    "    \n",
    "    print(f\"Hoy es {dia} de {mes} de {año}\")\n",
    "    \n",
    "fecha_año(10, 'marzo')\n",
    "fecha_año(10, año=2000)\n",
    "fecha_año(10, mes=\"abril\", año=2000)\n",
    "fecha_año(10, año=2000, mes=\"abril\")\n",
    "fecha_año(10, mes=\"abril\")\n"
   ]
  },
  {
   "cell_type": "code",
   "execution_count": 44,
   "id": "022abc4b",
   "metadata": {},
   "outputs": [],
   "source": [
    "def fecha_año(dia, mes = \"enero\", año = 2000):\n",
    "    # programacion defensiva\n",
    "    if dia < 0 or dia > 31:\n",
    "        raise ValueError(\"Día incorrecto\")\n",
    "    if mes not in {\"enero\", \"febrero\", \"marzo\"}:\n",
    "        raise ValueError(\"Mes incorrecto\")\n",
    "    if año < 1900 or año > 2050:\n",
    "         raise ValueError(\"Error incorrecto\")\n",
    "    \n",
    "    print(f\"Hoy es {dia} de {mes} de {año}\")\n",
    "    \n",
    "# fecha_año(455) # ValueError: Día incorrecto\n"
   ]
  },
  {
   "cell_type": "code",
   "execution_count": 45,
   "id": "837d2f72",
   "metadata": {},
   "outputs": [],
   "source": [
    "# Función que retorna el cuadrado de un número si es par.\n",
    "\n",
    "def func_cuadrado_par(x = 100):\n",
    "    \n",
    "    if x % 2 == 0:\n",
    "        return x**2\n",
    "    \n",
    "    else:\n",
    "        return x"
   ]
  },
  {
   "cell_type": "code",
   "execution_count": null,
   "id": "cbd1d7d8",
   "metadata": {},
   "outputs": [],
   "source": [
    "func_cuadrado_par(10)"
   ]
  },
  {
   "cell_type": "code",
   "execution_count": null,
   "id": "2bffb470",
   "metadata": {},
   "outputs": [],
   "source": [
    "func_cuadrado_par(7)"
   ]
  },
  {
   "cell_type": "code",
   "execution_count": null,
   "id": "6054669d",
   "metadata": {},
   "outputs": [],
   "source": [
    "func_cuadrado_par()"
   ]
  },
  {
   "cell_type": "markdown",
   "id": "8cbac4a6",
   "metadata": {},
   "source": [
    "### Retornar más de un elemento\n",
    "\n",
    "Hasta ahora hemos hecho funciones que solo retornan un elemento, número, lista... Pero podemos hacer que el **return** nos retorne varias elementos, de esta forma podemos asignar varias variables al mismo tiempo."
   ]
  },
  {
   "cell_type": "code",
   "execution_count": 46,
   "id": "8a94b301",
   "metadata": {},
   "outputs": [],
   "source": [
    "# Funcion que retorna el minimo y el maximo de una lista\n",
    "\n",
    "def min_max_lista(lista):\n",
    "    \n",
    "    minimo = min(lista)\n",
    "    maximo = max(lista)\n",
    "    \n",
    "    return minimo, maximo"
   ]
  },
  {
   "cell_type": "code",
   "execution_count": 47,
   "id": "7e55679f",
   "metadata": {},
   "outputs": [
    {
     "name": "stdout",
     "output_type": "stream",
     "text": [
      "[8005, 6743, 6023, 6459, 667, 9615, 7727, 7103, 1517, 612, 8878, 4764, 9890, 8899, 3018, 9774, 3808, 3078, 4426, 8666, 8272, 1874, 1418, 8787, 7428, 4981, 1920, 3372, 9092, 2287, 3002, 3001, 8953, 5303, 2038, 6394, 5057, 9620, 9083, 6282, 1625, 6203, 5930, 183, 9694, 9551, 6750, 3300, 6638, 1478, 8831, 3173, 1826, 291, 2079, 9108, 2748, 4148, 2840, 4249, 675, 3389, 2207, 9396, 8154, 97, 5455, 5811, 6015, 2834, 8431, 5469, 5950, 7725, 7088, 1059, 6180, 9284, 3953, 370, 6908, 4256, 5188, 634, 4378, 6873, 6482, 9531, 1222, 1093, 4299, 8572, 3092, 3114, 8232, 5406, 3751, 9508, 3743, 4706, 2139, 3977, 96, 5694, 7650, 3233, 9124, 9974, 2058, 356, 6204, 4732, 8623, 2224, 4406, 8646, 7625, 1111, 1595, 6543, 2144, 4322, 2253, 8590, 5892, 9429, 9021, 2786, 5442, 505, 3479, 1085, 5846, 6464, 6586, 3752, 5861, 5563, 6106, 2138, 3011, 7458, 5096, 7482, 7442, 1309, 1803, 8338, 7577, 928, 7566, 7317, 9673, 4705, 2365, 4968, 2245, 982, 6756, 7502, 7120, 4564, 5798, 4919, 1328, 6920, 7585, 7136, 4706, 7698, 6688, 5420, 750, 1957, 9682, 4302, 6727, 7671, 3174, 5250, 9345, 8866, 8049, 209, 1995, 4253, 3979, 7675, 8888, 7621, 3505, 4247, 5412, 4749, 1431, 5550, 4070, 6895, 5755, 1323, 5937, 4461, 4800, 8653, 6197, 4819, 5321, 6203, 6596, 596, 1742, 2676, 9139, 2841, 2477, 4888, 156, 5037, 9525, 184, 9257, 1098, 6038, 9504, 3667, 5772, 6275, 971, 163, 3810, 5882, 5958, 3520, 9025, 1785, 3740, 7755, 5743, 7529, 120, 5687, 8248, 6263, 1942, 4922, 513, 1897, 7439, 186, 7657, 9880, 9116, 368, 8306, 6790, 1655, 9923, 5563, 1545, 1072, 5421, 8623, 6637, 1534, 500, 6666, 3901, 822, 8067, 3994, 6405, 1679, 8464, 7996, 7892, 7011, 4376, 2557, 9437, 7571, 2572, 4887, 3064, 1743, 6168, 9875, 5467, 8499, 3600, 4516, 2032, 1981, 303, 2123, 2474, 144, 768, 7061, 8625, 6765, 9048, 6577, 7213, 8493, 8790, 7948, 4917, 3827, 8122, 8359, 9704, 6649, 3985, 5544, 7181, 3830, 1151, 9621, 5320, 1426, 9701, 1430, 5250, 3683, 9984, 2744, 5879, 7513, 772, 8721, 2481, 2976, 2227, 8313, 787, 856, 3307, 7680, 6486, 5023, 7074, 8597, 5989, 5425, 1359, 2323, 4862, 5399, 1484, 8146, 7482, 6261, 4334, 3545, 7519, 1689, 8343, 161, 4460, 2247, 5404, 3111, 779, 6401, 3903, 4625, 1092, 1951, 8249, 3025, 3019, 9845, 2144, 4523, 5276, 4219, 8324, 2931, 1564, 2905, 6663, 1087, 185, 5865, 1258, 6725, 6039, 2505, 7733, 4281, 8822, 2714, 1184, 9703, 4390, 3715, 3300, 9765, 166, 7766, 7558, 4649, 3943, 5946, 4342, 730, 3340, 4956, 9319, 65, 3782, 4965, 5915, 449, 5120, 6786, 4420, 1459, 7212, 42, 3869, 1978, 3252, 2899, 7827, 5255, 764, 5638, 2585, 5340, 9042, 9564, 5166, 1298, 2416, 7106, 1203, 2837, 7673, 6255, 9694, 1418, 5076, 9594, 9919, 8163, 4128, 8193, 4599, 3660, 4934, 7535, 200, 7538, 6869, 4956, 599, 9425, 6971, 3318, 1005, 6699, 9199, 8861, 7959, 7161, 8593, 4147, 6164, 2472, 357, 3360, 2563, 5833, 6899, 9672, 2081, 8498, 7501, 8243, 6166, 4286, 4289, 452, 1075, 8893, 9010, 3401, 5471, 7899, 6032, 7680, 3008, 5216, 6965, 2098, 7745, 5212, 2351, 334, 8731, 6676, 5402, 2406, 4536, 678, 8609, 9495, 5703, 2265, 736, 9247, 9761, 6691, 5764, 1647, 1114, 2060, 7955, 439, 2140, 4213, 5320, 2080, 7279, 5833, 882, 4982, 4491, 9718, 6579, 8770, 9760, 329, 544, 4870, 5606, 6088, 164, 6318, 3949, 8445, 4834, 668, 1865, 3140, 4611, 821, 8130, 148, 1380, 6380, 2373, 2019, 468, 3019, 4667, 8511, 6059, 2297, 9416, 7552, 1159, 1318, 7539, 7896, 2520, 1291, 7223, 3760, 8694, 9998, 6695, 6653, 7695, 1062, 8839, 664, 5085, 1086, 9629, 6355, 26, 7719, 3911, 4859, 3141, 3889, 1632, 3446, 5638, 1663, 7217, 7812, 5177, 7899, 9574, 4849, 4291, 9683, 9376, 2620, 8281, 6150, 4160, 7811, 3043, 3261, 40, 4515, 9494, 4814, 4059, 5794, 5354, 9268, 7041, 5142, 73, 2316, 3876, 7945, 7905, 5151, 1248, 6758, 3181, 3721, 6957, 9903, 4309, 3051, 2922, 8722, 8114, 4603, 6673, 7080, 8793, 5872, 8792, 2467, 8969, 2489, 2271, 1662, 5534, 9922, 182, 677, 9789, 6611, 4717, 6992, 260, 272, 6701, 2206, 9783, 2858, 319, 6877, 8718, 9888, 3777, 557, 3505, 7543, 888, 3072, 5485, 9965, 9578, 4155, 4259, 6011, 3478, 3775, 2023, 2098, 6310, 6882, 6519, 3396, 2975, 4460, 3695, 7760, 2479, 7274, 1721, 8062, 5758, 3368, 794, 5836, 2043, 1631, 5359, 3995, 9998, 1903, 5846, 7897, 952, 6062, 5280, 2135, 8967, 1015, 472, 6817, 7224, 1000, 312, 2683, 9776, 2914, 3750, 7231, 6465, 6548, 4890, 1170, 8396, 5090, 216, 676, 3329, 4955, 2264, 9672, 3884, 8688, 4263, 1790, 7148, 2811, 5174, 84, 8702, 9731, 4621, 684, 7604, 9256, 5005, 9063, 6036, 8754, 7215, 2559, 2257, 6726, 9326, 170, 7605, 6343, 8378, 7426, 602, 3038, 2961, 1261, 2929, 9527, 9897, 8843, 1996, 8265, 7675, 1957, 6894, 8542, 1100, 154, 1321, 999, 4075, 282, 8746, 8982, 4088, 3780, 8969, 8785, 8490, 2837, 61, 229, 4775, 4910, 1770, 7400, 65, 298, 2266, 125, 4648, 3715, 9423, 1545, 447, 4389, 6715, 4201, 5284, 1792, 1410, 3771, 7438, 8291, 9634, 9910, 5992, 3418, 3797, 3418, 6568, 8406, 9963, 9586, 6475, 1979, 4181, 5771, 5050, 7124, 2687, 3234, 5213, 3075, 7375, 2143, 8308, 6060, 5894, 9200, 5177, 5518, 6074, 4723, 3443, 6221, 8212, 4434, 5739, 9255, 4627, 6910, 2489, 7000, 1104, 407, 5878, 9448, 4386, 1975, 761, 179, 2655, 2789, 1630, 1299, 4272, 7112, 6269, 72, 1633, 3318, 3291, 1880, 8963, 4861, 4165, 2225, 421, 6352, 2271, 6060, 1012, 7963, 3303, 5726, 5413, 2736, 6678, 3720, 7385, 8662, 7881, 8280, 4979, 5191, 6117, 5603, 2982, 115, 3572, 2145, 3560, 2404, 2748, 8004, 5313, 5688, 7333, 6189, 8087, 1790, 5693, 8999, 640, 6559, 7782, 5613, 5966, 3289, 9657, 3123, 8967, 8890, 2794, 306, 5867, 5034, 2461, 6843, 8714, 4606, 4877, 8124, 3050, 4268, 404, 3980, 7014, 1175, 3285, 3648, 6837, 9692, 7638, 6067, 2350, 3909, 3987, 9995, 2998, 965, 7959, 5558, 2773, 1209, 907, 3673, 7948, 7374, 5292, 9102, 1690, 9946, 5790, 9625, 2078, 8120, 6227, 7696, 1422, 9953, 6022, 1607, 4582, 367, 3116, 4228, 206, 8633, 7853, 2906, 8224, 6006, 5708, 7402, 9039, 5505, 8242, 6723, 4388, 2006, 7658, 9482, 5969, 8707, 3803, 9770, 9545, 5167, 7378, 9411]\n"
     ]
    }
   ],
   "source": [
    "# Generamos una lista aleatoria para probar la función anterior\n",
    "\n",
    "import random\n",
    "\n",
    "lista = []\n",
    "\n",
    "for i in range(1000):\n",
    "    lista.append(random.randint(1, 10000))\n",
    "    \n",
    "print(lista)"
   ]
  },
  {
   "cell_type": "code",
   "execution_count": 48,
   "id": "5a327486",
   "metadata": {},
   "outputs": [],
   "source": [
    "minimo_lista, maximo_lista = min_max_lista(lista)"
   ]
  },
  {
   "cell_type": "code",
   "execution_count": 49,
   "id": "5ddbf07a",
   "metadata": {},
   "outputs": [
    {
     "name": "stdout",
     "output_type": "stream",
     "text": [
      "26\n",
      "9998\n"
     ]
    }
   ],
   "source": [
    "print(minimo_lista)\n",
    "print(maximo_lista)"
   ]
  },
  {
   "cell_type": "markdown",
   "id": "1c99790a",
   "metadata": {},
   "source": [
    "### Variables locales y globales\n",
    "\n",
    "- En Python las **variables locales son aquellas definidas dentro de una función**. Solamente **son accesibles desde la propia función y dejan de existir cuando esta termina su ejecución**. Los parámetros de una función también son considerados como variables locales.\n",
    "\n",
    "\n",
    "- En Python las **variables globales son aquellas definidas en el cuerpo principal del programa fuera de cualquier función**. Son **accesibles desde cualquier punto del programa, incluso desde dentro de funciones**. También se puede acceder a las variables globales de otros programas o módulos importados."
   ]
  },
  {
   "cell_type": "code",
   "execution_count": 50,
   "id": "9ecdf61b",
   "metadata": {},
   "outputs": [],
   "source": [
    "var_global = 100\n",
    "\n",
    "def suma_100(valor_inicial):\n",
    "    \n",
    "    suma = valor_inicial + var_global\n",
    "    \n",
    "    return suma"
   ]
  },
  {
   "cell_type": "code",
   "execution_count": 51,
   "id": "b3925285",
   "metadata": {},
   "outputs": [
    {
     "data": {
      "text/plain": [
       "110"
      ]
     },
     "execution_count": 51,
     "metadata": {},
     "output_type": "execute_result"
    }
   ],
   "source": [
    "suma_100(10)"
   ]
  },
  {
   "cell_type": "code",
   "execution_count": 53,
   "id": "33990fa0",
   "metadata": {},
   "outputs": [],
   "source": [
    "# En la función anterior usamos una variable fuera de la función que no esta en el parametro ni en el cuerpo de la función.\n",
    "# Si ahora intentamos imprimir por pantalla la variable \"valor_inicial\" y la variable \"suma\" nos dará error.\n",
    "# Esto es porque esas variables se crearon con la función.\n",
    "# Y cuando la función termina de ejecutarse estas variables dejan de existir.\n",
    "\n",
    "# print(valor_inicial)"
   ]
  },
  {
   "cell_type": "code",
   "execution_count": 55,
   "id": "14da27ff",
   "metadata": {},
   "outputs": [],
   "source": [
    "# La variable \"suma\" es una variable local, así que no podremos utilizarla fuera de la función.\n",
    "\n",
    "# print(suma)"
   ]
  },
  {
   "cell_type": "markdown",
   "id": "a84373ca",
   "metadata": {},
   "source": [
    "### Lambda (función anónima)\n",
    "\n",
    "Python cuenta con la función **lambda**, también llamada función anónima, su utilidad es poder crear funciones sin tener que darle un nombre. Debido a la sintaxis de la función **lambda** está es un poco limitada.\n",
    "\n",
    "Se usa principalmente para funciones cortas, puede tomar muchos parámetros y puede retornar cualquier tipo de dato (numero, tupla, lista, diccionario...).\n",
    "\n",
    "**Sintaxis**:\n",
    "```python\n",
    "lambda parametros_entrada : elementos_salida\n",
    "```"
   ]
  },
  {
   "cell_type": "code",
   "execution_count": null,
   "id": "ce2e0b0c",
   "metadata": {},
   "outputs": [
    {
     "data": {
      "text/plain": [
       "30"
      ]
     },
     "execution_count": 56,
     "metadata": {},
     "output_type": "execute_result"
    }
   ],
   "source": [
    "def suma(a, b):\n",
    "    return a + b\n",
    "\n",
    "suma(10, 20)"
   ]
  },
  {
   "cell_type": "code",
   "execution_count": null,
   "id": "fdca7a3b",
   "metadata": {},
   "outputs": [],
   "source": [
    "x = lambda a, b : a + b\n",
    "\n",
    "x(10, 20)"
   ]
  },
  {
   "cell_type": "code",
   "execution_count": null,
   "id": "26044a56",
   "metadata": {},
   "outputs": [],
   "source": [
    "y = lambda n : n**2\n",
    "\n",
    "y(10)"
   ]
  },
  {
   "cell_type": "code",
   "execution_count": null,
   "id": "563bfbbb",
   "metadata": {},
   "outputs": [],
   "source": [
    "x"
   ]
  },
  {
   "cell_type": "code",
   "execution_count": null,
   "id": "d5c1cda9",
   "metadata": {},
   "outputs": [],
   "source": [
    "y"
   ]
  },
  {
   "cell_type": "code",
   "execution_count": null,
   "id": "f583c3a7",
   "metadata": {},
   "outputs": [],
   "source": [
    "cuadrado = y(3)\n",
    "\n",
    "cuadrado"
   ]
  },
  {
   "cell_type": "markdown",
   "id": "51844126",
   "metadata": {},
   "source": [
    "**Si quisieramos que retorne más de un elemento, podemos colocar las operaciones en una lista o tupla.**"
   ]
  },
  {
   "cell_type": "code",
   "execution_count": null,
   "id": "bd2a5a9c",
   "metadata": {},
   "outputs": [],
   "source": [
    "x = lambda a, b : [a + b, a - b]\n",
    "x(10, 10)"
   ]
  },
  {
   "cell_type": "markdown",
   "id": "1c1ed8b9",
   "metadata": {},
   "source": [
    "**También podemos usar funciones dentro de _lambda_.**"
   ]
  },
  {
   "cell_type": "code",
   "execution_count": null,
   "id": "ba16ebb3",
   "metadata": {},
   "outputs": [],
   "source": [
    "z = lambda a : y(a)"
   ]
  },
  {
   "cell_type": "code",
   "execution_count": null,
   "id": "4d9ef4b8",
   "metadata": {},
   "outputs": [],
   "source": [
    "z(8)"
   ]
  },
  {
   "cell_type": "code",
   "execution_count": null,
   "id": "2aa769d1",
   "metadata": {},
   "outputs": [],
   "source": [
    "z = lambda a, b : [x(a, b), y(sum(x(a, b)))]"
   ]
  },
  {
   "cell_type": "code",
   "execution_count": null,
   "id": "8f521122",
   "metadata": {},
   "outputs": [],
   "source": [
    "z(10, 10)"
   ]
  },
  {
   "cell_type": "code",
   "execution_count": null,
   "id": "112702bc",
   "metadata": {},
   "outputs": [],
   "source": [
    "##############################################################################################################################"
   ]
  },
  {
   "cell_type": "markdown",
   "id": "a15929b3",
   "metadata": {},
   "source": [
    "## Uso de asterisco en métodos"
   ]
  },
  {
   "cell_type": "markdown",
   "id": "7d5d3f22",
   "metadata": {},
   "source": [
    "Si vemos: \n",
    "\n",
    "que se utiliza *args se admiten múltiples variables de entrada.\n",
    "\n",
    "\n",
    "En numpy por ejemplo, a partir de el asterisco, hay que especificar el nombre del parámetro. https://numpy.org/doc/2.1/reference/generated/numpy.array.html\n",
    "\n",
    "numpy.array(object, dtype=None, *, copy=True, order='K', subok=False, ndmin=0, like=None)\n",
    "\n",
    "numpy.array([1, 2], order='', ndmin='')"
   ]
  }
 ],
 "metadata": {
  "kernelspec": {
   "display_name": "Python 3",
   "language": "python",
   "name": "python3"
  },
  "language_info": {
   "codemirror_mode": {
    "name": "ipython",
    "version": 3
   },
   "file_extension": ".py",
   "mimetype": "text/x-python",
   "name": "python",
   "nbconvert_exporter": "python",
   "pygments_lexer": "ipython3",
   "version": "3.13.0"
  }
 },
 "nbformat": 4,
 "nbformat_minor": 5
}
