{
 "cells": [
  {
   "cell_type": "markdown",
   "id": "2131c4bf",
   "metadata": {},
   "source": [
    "## Sets (set)\n",
    "\n",
    "\n",
    "En python, un set es una **colección de elementos que no posee órden**, por lo tanto no tiene indice. Debido a esto no podemos elegir en que orden aparecen sus elementos.\n",
    "\n",
    "Los sets **son mutables y NO permiten elemento repetidos**, lo que es útil en situaciones que tenemos que utilizar valores únicos.\n",
    "\n",
    "Se denotan con llaves **`{}`** y son muy utilizados en la teoria de grupos.\n",
    "\n",
    "| Método                      | Descripción                                            |\n",
    "|-----------------------------|--------------------------------------------------------|\n",
    "| **.add()**                  | Agrega un elemento al set                              |\n",
    "| **.clear()**                | Vacia el set                                           |\n",
    "| **.difference()**           | Retorna los elementos no comunes de ambos sets         |\n",
    "| **.remove()**               | Elimina un elemento especifico del set                 |\n",
    "| **.pop()**                  | Elimina un elemento del set y lo retorna               |\n",
    "| **.intersection()**         | Retorna los elementos en comun de dos sets             |\n",
    "| **.union()**                | Retorna la unión de dos sets                           |\n",
    "| **.update()**               | Agrega a un set los elementos de otro objeto iterable  |"
   ]
  },
  {
   "cell_type": "code",
   "execution_count": 1,
   "id": "1fa38d79",
   "metadata": {},
   "outputs": [
    {
     "data": {
      "text/plain": [
       "{1, 2, 3, 4, 5, 6, 7, 'a', 'b', 'c', 'd', 'e'}"
      ]
     },
     "execution_count": 1,
     "metadata": {},
     "output_type": "execute_result"
    }
   ],
   "source": [
    "set_1 = {1, 2, 3, 4, 5, 6, 7, \"a\", \"b\", \"c\", \"d\", \"e\"}\n",
    "\n",
    "set_1"
   ]
  },
  {
   "cell_type": "code",
   "execution_count": 2,
   "id": "f5e17321",
   "metadata": {},
   "outputs": [
    {
     "name": "stdout",
     "output_type": "stream",
     "text": [
      "{1, 2, 3, 4, 5, 6, 7, 'c', 'd', 'a', 'b', 'e'}\n"
     ]
    }
   ],
   "source": [
    "print(set_1)"
   ]
  },
  {
   "cell_type": "code",
   "execution_count": 5,
   "id": "84a5321d",
   "metadata": {},
   "outputs": [],
   "source": [
    "# set_1[0]\n",
    "# TypeError: 'set' object is not subscriptable"
   ]
  },
  {
   "cell_type": "code",
   "execution_count": 4,
   "id": "1cbed0b1",
   "metadata": {},
   "outputs": [
    {
     "data": {
      "text/plain": [
       "{10, 5, 6, 7, 8, 9, 'e', 'f', 'g', 'h'}"
      ]
     },
     "execution_count": 4,
     "metadata": {},
     "output_type": "execute_result"
    }
   ],
   "source": [
    "set_2 = {5, 6, 7, 8, 9, 10, \"e\", \"f\", \"g\", \"h\"}\n",
    "\n",
    "set_2"
   ]
  },
  {
   "cell_type": "code",
   "execution_count": 6,
   "id": "6cf74b37",
   "metadata": {},
   "outputs": [
    {
     "name": "stdout",
     "output_type": "stream",
     "text": [
      "{5, 6, 7, 8, 9, 10, 'h', 'f', 'e', 'g'}\n"
     ]
    }
   ],
   "source": [
    "print(set_2)"
   ]
  },
  {
   "cell_type": "code",
   "execution_count": 34,
   "id": "eddec670",
   "metadata": {},
   "outputs": [
    {
     "data": {
      "text/plain": [
       "[1, 2, 3, 4, 5, 6, 7, 'a', 'b', 'c', 'd', 'e', 'Hola', 'Hola']"
      ]
     },
     "execution_count": 34,
     "metadata": {},
     "output_type": "execute_result"
    }
   ],
   "source": [
    "lista_1 = [1, 2, 3, 4, 5, 6, 7, \"a\", \"b\", \"c\", \"d\", \"e\"]\n",
    "lista_1.append(\"Hola\")\n",
    "lista_1.append(\"Hola\")\n",
    "lista_1"
   ]
  },
  {
   "cell_type": "code",
   "execution_count": 35,
   "id": "bad05b73",
   "metadata": {},
   "outputs": [
    {
     "data": {
      "text/plain": [
       "{1, 2, 3, 4, 5, 6, 7, 'Hola', 'a', 'b', 'c', 'd', 'e'}"
      ]
     },
     "execution_count": 35,
     "metadata": {},
     "output_type": "execute_result"
    }
   ],
   "source": [
    "# .add() agrega un solo elemento al set\n",
    "# set_1 = {1, 2, 3, 4, 5, 6, 7, \"a\", \"b\", \"c\", \"d\", \"e\"}\n",
    "\n",
    "set_1.add(\"Hola\")\n",
    "set_1.add(\"Hola\")\n",
    "set_1"
   ]
  },
  {
   "cell_type": "code",
   "execution_count": 40,
   "id": "3c8e3f6d",
   "metadata": {},
   "outputs": [
    {
     "name": "stdout",
     "output_type": "stream",
     "text": [
      "{1, 2, 3, 4, 5, 6, 7, 'c', 'd', 'a', 'Hola', 'b', 'e'}\n",
      "{5, 6, 7, 8, 9, 10, 'h', 'f', 'e', 'g'}\n",
      "\n",
      "\n",
      "{1, 2, 3, 4, 'c', 'd', 'a', 'Hola', 'b'}\n",
      "{8, 9, 10, 'h', 'f', 'g'}\n"
     ]
    }
   ],
   "source": [
    "# .difference() elimina los elementos en comun en ambos sets\n",
    "print(set_1)\n",
    "print(set_2)\n",
    "print(\"\\n\")\n",
    "print(set_1.difference(set_2))\n",
    "print(set_2.difference(set_1))"
   ]
  },
  {
   "cell_type": "code",
   "execution_count": null,
   "id": "cd562e09",
   "metadata": {},
   "outputs": [
    {
     "name": "stdout",
     "output_type": "stream",
     "text": [
      "True\n",
      "False\n"
     ]
    }
   ],
   "source": [
    "# Comprobar si un elemento está en el conjunto\n",
    "print(\"Hola\" in set_1)\n",
    "print(\"Adios\" in set_1)"
   ]
  },
  {
   "cell_type": "code",
   "execution_count": 44,
   "id": "fc8d34e1",
   "metadata": {},
   "outputs": [
    {
     "data": {
      "text/plain": [
       "{1, 10, 2, 3, 4, 5, 6, 7, 8, 9, 'Hola', 'a', 'b', 'c', 'd', 'e', 'f', 'g', 'h'}"
      ]
     },
     "execution_count": 44,
     "metadata": {},
     "output_type": "execute_result"
    }
   ],
   "source": [
    "# .union() retorna todos los elementos de ambos sets en uno solo\n",
    "\n",
    "set_1.union(set_2)"
   ]
  },
  {
   "cell_type": "code",
   "execution_count": 45,
   "id": "90acc8cb",
   "metadata": {},
   "outputs": [
    {
     "data": {
      "text/plain": [
       "{5, 6, 7, 'e'}"
      ]
     },
     "execution_count": 45,
     "metadata": {},
     "output_type": "execute_result"
    }
   ],
   "source": [
    "# .intersection() retorna los elementos en comun de ambos sets\n",
    "\n",
    "set_1.intersection(set_2)"
   ]
  },
  {
   "cell_type": "code",
   "execution_count": 46,
   "id": "42ab6074",
   "metadata": {},
   "outputs": [],
   "source": [
    "# .remove() elimina un unico elemento, se ejecuta in-place\n",
    "\n",
    "set_1.remove(\"Hola\")"
   ]
  },
  {
   "cell_type": "code",
   "execution_count": 47,
   "id": "35bdfa36",
   "metadata": {},
   "outputs": [
    {
     "data": {
      "text/plain": [
       "{1, 2, 3, 4, 5, 6, 7, 'a', 'b', 'c', 'd', 'e'}"
      ]
     },
     "execution_count": 47,
     "metadata": {},
     "output_type": "execute_result"
    }
   ],
   "source": [
    "set_1"
   ]
  },
  {
   "cell_type": "code",
   "execution_count": 48,
   "id": "ff18c6c3",
   "metadata": {},
   "outputs": [
    {
     "name": "stdout",
     "output_type": "stream",
     "text": [
      "{1, 2, 3, 4, 5, 6, 7, 8, 9, 10, 'h', 'd', 'a', 'f', 'b', 'e', 'g', 'c'}\n"
     ]
    }
   ],
   "source": [
    "# .update() agrega los valores del set_2 al set_1, se ejecuta in-place\n",
    "\n",
    "set_1.update(set_2)\n",
    "\n",
    "print(set_1)"
   ]
  },
  {
   "cell_type": "markdown",
   "id": "9c55e4d0",
   "metadata": {},
   "source": [
    "## Dictionaries (dict)\n",
    "\n",
    "En python, los diccionarios son una **estructura de datos** y un **tipo de dato**. La principal característica de los diccionarios es que cada elemento tiene un par de **llave y valor** (**key y value**).\n",
    "\n",
    "- La **llave** o **key** se utiliza para identificar un elemento del diccionario, funciona como un indice, normalmente las llaves son **numeros o strings**.\n",
    "\n",
    "- El **valor** o **value** es el elemento asociado a la llave, este valor puede ser cualquier tipo de dato (**numero, string, lista, tupla, diccionario...**).\n",
    "\n",
    "Al igual que los sets los diccionarios **NO tienen un orden, además las llaves son únicas, es decir, no se pueden repetir**.\n",
    "\n",
    "Los diccionarios se denotan con **`{}`** y utilizan **`:`** para separar las llaves y los valores. \n",
    "\n",
    "Este tipo de dato también se le conoce como **JSON** en otros lenguajes."
   ]
  },
  {
   "cell_type": "code",
   "execution_count": 49,
   "id": "1af88d6c",
   "metadata": {},
   "outputs": [
    {
     "name": "stdout",
     "output_type": "stream",
     "text": [
      "{'a': 1, 'b': 2, 'c': 3, 'd': 4}\n"
     ]
    }
   ],
   "source": [
    "dict_1 = {\"a\" : 1,\n",
    "          \"b\" : 2,\n",
    "          \"c\" : 3,\n",
    "          \"d\" : 4}\n",
    "\n",
    "print(dict_1)"
   ]
  },
  {
   "cell_type": "code",
   "execution_count": 66,
   "id": "ae3d0e24",
   "metadata": {},
   "outputs": [],
   "source": [
    "persona = {\n",
    "    \"nombre\": \"juan\",\n",
    "    \"dni\": \"77766655R\",\n",
    "    \"edad\": 30,\n",
    "    \"salario\": 2000.4,\n",
    "    \"telefonos\": [\"666555333\", \"777666555\"],\n",
    "    \"empresa\": {\n",
    "        \"razon_social\": \"PYTHON SL\",\n",
    "        \"cif\": \"1111111A\"\n",
    "    }\n",
    "}\n",
    "\n",
    "# clave : valor"
   ]
  },
  {
   "cell_type": "code",
   "execution_count": 78,
   "id": "f7d9e1b1",
   "metadata": {},
   "outputs": [
    {
     "name": "stdout",
     "output_type": "stream",
     "text": [
      "30\n",
      "['666555333', '777666555']\n",
      "666555333\n",
      "1111111A\n",
      "dict_keys(['nombre', 'dni', 'edad', 'salario', 'telefonos', 'empresa'])\n",
      "dict_values(['juan', '77766655R', 30, 2000.4, ['666555333', '777666555'], {'razon_social': 'PYTHON SL', 'cif': '1111111A'}])\n",
      "dict_items([('nombre', 'juan'), ('dni', '77766655R'), ('edad', 30), ('salario', 2000.4), ('telefonos', ['666555333', '777666555']), ('empresa', {'razon_social': 'PYTHON SL', 'cif': '1111111A'})])\n"
     ]
    }
   ],
   "source": [
    "print(persona[\"edad\"])\n",
    "print(persona[\"telefonos\"])\n",
    "print(persona[\"telefonos\"][0])\n",
    "print(persona[\"empresa\"][\"cif\"])\n",
    "print(persona.keys())\n",
    "print(persona.values())\n",
    "print(persona.items())"
   ]
  },
  {
   "cell_type": "markdown",
   "id": "7a797f9d",
   "metadata": {},
   "source": [
    "Para poder acceder a los elementos de un diccionario:\n",
    "- Usariamos la **llave** como si fuese un **indice**.\n",
    "- Usariamos el método **`.get()`**"
   ]
  },
  {
   "cell_type": "code",
   "execution_count": 51,
   "id": "c6119154",
   "metadata": {},
   "outputs": [
    {
     "data": {
      "text/plain": [
       "1"
      ]
     },
     "execution_count": 51,
     "metadata": {},
     "output_type": "execute_result"
    }
   ],
   "source": [
    "# Usando la llave como indice\n",
    "\n",
    "dict_1[\"a\"]"
   ]
  },
  {
   "cell_type": "code",
   "execution_count": null,
   "id": "9c5f7716",
   "metadata": {},
   "outputs": [],
   "source": [
    "dict_1[\"d\"]"
   ]
  },
  {
   "cell_type": "code",
   "execution_count": 64,
   "id": "e07b8db1",
   "metadata": {},
   "outputs": [],
   "source": [
    "# Si intento entrar en una llave que no existe me da error\n",
    "# dict_1[\"z\"]"
   ]
  },
  {
   "cell_type": "code",
   "execution_count": 59,
   "id": "a54aad51",
   "metadata": {},
   "outputs": [
    {
     "data": {
      "text/plain": [
       "1"
      ]
     },
     "execution_count": 59,
     "metadata": {},
     "output_type": "execute_result"
    }
   ],
   "source": [
    "# Usando .get()\n",
    "\n",
    "dict_1.get(\"a\")"
   ]
  },
  {
   "cell_type": "code",
   "execution_count": 60,
   "id": "47ca3174",
   "metadata": {},
   "outputs": [],
   "source": [
    "# Si usamos .get() con un elemento que no este en el diccionario, no da error pero no retorna nada\n",
    "\n",
    "dict_1.get(\"z\")"
   ]
  },
  {
   "cell_type": "markdown",
   "id": "865ff2c2",
   "metadata": {},
   "source": [
    "**Si quisieramos agregar un elemento nuevo al diccionario:**\n",
    "1. **`diccionario[llave] = valor`**\n",
    "2. **`diccionario.update({llave : valor})`**"
   ]
  },
  {
   "cell_type": "code",
   "execution_count": 62,
   "id": "19b55bca",
   "metadata": {},
   "outputs": [
    {
     "name": "stdout",
     "output_type": "stream",
     "text": [
      "{'a': 1, 'b': 2, 'c': 3, 'd': 4, 'e': 5}\n"
     ]
    }
   ],
   "source": [
    "# 1. diccionario[llave] = valor\n",
    "\n",
    "dict_1[\"e\"] = 5\n",
    "\n",
    "print(dict_1)"
   ]
  },
  {
   "cell_type": "code",
   "execution_count": 63,
   "id": "ccda9f90",
   "metadata": {},
   "outputs": [
    {
     "name": "stdout",
     "output_type": "stream",
     "text": [
      "{'a': 1, 'b': 2, 'c': 3, 'd': 4, 'e': 5, 'f': 6, 'g': 7, 'h': 8}\n"
     ]
    }
   ],
   "source": [
    "# 2. diccionario.update({llave : valor})\n",
    "\n",
    "dict_1.update({\"f\" : 6, \"g\" : 7, \"h\" : 8})\n",
    "\n",
    "print(dict_1)"
   ]
  },
  {
   "cell_type": "markdown",
   "id": "f0b76410",
   "metadata": {},
   "source": [
    "Estas formas de agregar un elemento al diccionario también funciona para **\"actualizar\"** o **\"modificar\"** el valor de una llave ya existente.\n",
    "\n",
    "**Ejemplo:**"
   ]
  },
  {
   "cell_type": "code",
   "execution_count": null,
   "id": "b8e61530",
   "metadata": {},
   "outputs": [],
   "source": [
    "dict_1[\"a\"]"
   ]
  },
  {
   "cell_type": "code",
   "execution_count": null,
   "id": "722ae789",
   "metadata": {},
   "outputs": [],
   "source": [
    "dict_1[\"a\"] = 1000"
   ]
  },
  {
   "cell_type": "code",
   "execution_count": null,
   "id": "ae7ed22c",
   "metadata": {},
   "outputs": [],
   "source": [
    "print(dict_1)"
   ]
  },
  {
   "cell_type": "markdown",
   "id": "5d1e319c",
   "metadata": {},
   "source": [
    "**Existen muchas formas para crear diccionarios:**\n",
    "1. **Podemos pedir al usuario que ingrese una llave y un valor**\n",
    "2. **Podemos utilizar los elementos de listas, strings, tuplas, etc. para crear las llaves y valores del diccionario**."
   ]
  },
  {
   "cell_type": "code",
   "execution_count": null,
   "id": "88e061b1",
   "metadata": {},
   "outputs": [],
   "source": [
    "# 1. Pedir al usuario una llave y valor\n",
    "\n",
    "llave = input(\"Ingrese una llave (key), un string: \")\n",
    "valor = int(input(\"Ingrese un valor (value), un entero: \"))\n",
    "\n",
    "diccionario_1 = {llave : valor}\n",
    "\n",
    "print(diccionario_1)"
   ]
  },
  {
   "cell_type": "code",
   "execution_count": 68,
   "id": "e07a9c07",
   "metadata": {},
   "outputs": [
    {
     "name": "stdout",
     "output_type": "stream",
     "text": [
      "{'a': 1, 'b': 2, 'c': 3, 'd': 4, 'e': 5, 'f': 6}\n"
     ]
    }
   ],
   "source": [
    "# 2. Usando 2 listas y bucles ()\n",
    "\n",
    "dict_vacio = {}\n",
    "\n",
    "lista_1 = [\"a\", \"b\", \"c\", \"d\", \"e\", \"f\"]\n",
    "lista_2 = [1, 2, 3, 4, 5, 6]\n",
    "\n",
    "for llave, valor in zip(lista_1, lista_2):\n",
    "    dict_vacio[llave] = valor\n",
    "    \n",
    "    \n",
    "print(dict_vacio)"
   ]
  },
  {
   "cell_type": "code",
   "execution_count": 69,
   "id": "3479c7a0",
   "metadata": {},
   "outputs": [
    {
     "name": "stdout",
     "output_type": "stream",
     "text": [
      "{'a': 1, 'b': 2, 'c': 3, 'd': 4, 'e': 5, 'f': 6, 'g': 7}\n"
     ]
    }
   ],
   "source": [
    "# 2. Usando strings y listas\n",
    "\n",
    "dict_vacio = {}\n",
    "\n",
    "string = \"abcdefg\"\n",
    "lista = [1, 2, 3, 4, 5, 6, 7]\n",
    "\n",
    "for llave, valor in zip(string, lista):\n",
    "    dict_vacio[llave] = valor\n",
    "    \n",
    "print(dict_vacio)"
   ]
  },
  {
   "cell_type": "markdown",
   "id": "db2e0e7f",
   "metadata": {},
   "source": [
    "**Para recorrer un diccionario tenemos diferentes formas:**\n",
    "1. Usando **`.keys()`**: Recorre solamente las llaves del diccionario.\n",
    "2. Usando **`.values()`**: Recorre solamente los valores del diccionario.\n",
    "3. Usando **`.items()`**: Recorre las llaves y los valores del diccionario."
   ]
  },
  {
   "cell_type": "code",
   "execution_count": 70,
   "id": "aa672aa6",
   "metadata": {},
   "outputs": [
    {
     "data": {
      "text/plain": [
       "{'a': 1, 'b': 2, 'c': 3, 'd': 4, 'e': 5, 'f': 6, 'g': 7, 'h': 8}"
      ]
     },
     "execution_count": 70,
     "metadata": {},
     "output_type": "execute_result"
    }
   ],
   "source": [
    "dict_1"
   ]
  },
  {
   "cell_type": "code",
   "execution_count": 71,
   "id": "e5b2bb30",
   "metadata": {},
   "outputs": [
    {
     "data": {
      "text/plain": [
       "dict_keys(['a', 'b', 'c', 'd', 'e', 'f', 'g', 'h'])"
      ]
     },
     "execution_count": 71,
     "metadata": {},
     "output_type": "execute_result"
    }
   ],
   "source": [
    "# Solo las llaves\n",
    "dict_1.keys()"
   ]
  },
  {
   "cell_type": "code",
   "execution_count": 72,
   "id": "06caba84",
   "metadata": {},
   "outputs": [
    {
     "name": "stdout",
     "output_type": "stream",
     "text": [
      "a\n",
      "b\n",
      "c\n",
      "d\n",
      "e\n",
      "f\n",
      "g\n",
      "h\n"
     ]
    }
   ],
   "source": [
    "for llave in dict_1.keys():\n",
    "    print(llave)"
   ]
  },
  {
   "cell_type": "code",
   "execution_count": 73,
   "id": "9b39e2bc",
   "metadata": {},
   "outputs": [
    {
     "data": {
      "text/plain": [
       "dict_values([1, 2, 3, 4, 5, 6, 7, 8])"
      ]
     },
     "execution_count": 73,
     "metadata": {},
     "output_type": "execute_result"
    }
   ],
   "source": [
    "# Solo los valores\n",
    "dict_1.values()"
   ]
  },
  {
   "cell_type": "code",
   "execution_count": 79,
   "id": "584f65c8",
   "metadata": {},
   "outputs": [
    {
     "name": "stdout",
     "output_type": "stream",
     "text": [
      "1\n",
      "2\n",
      "3\n",
      "4\n",
      "5\n",
      "6\n",
      "7\n",
      "8\n"
     ]
    }
   ],
   "source": [
    "for valor in dict_1.values():\n",
    "    print(valor)"
   ]
  },
  {
   "cell_type": "code",
   "execution_count": 80,
   "id": "ec05c490",
   "metadata": {},
   "outputs": [
    {
     "data": {
      "text/plain": [
       "dict_items([('a', 1), ('b', 2), ('c', 3), ('d', 4), ('e', 5), ('f', 6), ('g', 7), ('h', 8)])"
      ]
     },
     "execution_count": 80,
     "metadata": {},
     "output_type": "execute_result"
    }
   ],
   "source": [
    "# LLaves y valores\n",
    "dict_1.items()"
   ]
  },
  {
   "cell_type": "code",
   "execution_count": 81,
   "id": "4e0d1740",
   "metadata": {},
   "outputs": [
    {
     "name": "stdout",
     "output_type": "stream",
     "text": [
      "a 1\n",
      "b 2\n",
      "c 3\n",
      "d 4\n",
      "e 5\n",
      "f 6\n",
      "g 7\n",
      "h 8\n"
     ]
    }
   ],
   "source": [
    "for llave, valor in dict_1.items():\n",
    "    print(llave, valor)"
   ]
  },
  {
   "cell_type": "markdown",
   "id": "e71db0e4",
   "metadata": {},
   "source": [
    "**Al igual que las listas y las tuplas, los diccionarios pueden almacenar cualquier tipo de dato, incluso un diccionario.**"
   ]
  },
  {
   "cell_type": "code",
   "execution_count": 82,
   "id": "f79532c5",
   "metadata": {},
   "outputs": [
    {
     "data": {
      "text/plain": [
       "{1: [1, 2, 3, 4, 5], 2: [6, 7, 8, 9, 0], 3: ['a', 'b', 'c', 'd', 'e']}"
      ]
     },
     "execution_count": 82,
     "metadata": {},
     "output_type": "execute_result"
    }
   ],
   "source": [
    "dict_1 = {\n",
    "    1 : [1, 2, 3, 4, 5], \n",
    "    2 : [6, 7, 8, 9, 0], \n",
    "    3 : [\"a\", \"b\", \"c\", \"d\", \"e\"]\n",
    "}\n",
    "\n",
    "dict_1"
   ]
  },
  {
   "cell_type": "markdown",
   "id": "1dc738d1",
   "metadata": {},
   "source": [
    "### Diccionarios anidados"
   ]
  },
  {
   "cell_type": "code",
   "execution_count": null,
   "id": "fb0667f1",
   "metadata": {},
   "outputs": [],
   "source": [
    "# Diccionarios anidados\n",
    "\n",
    "dict_2 = {\n",
    "    1: {\"nombre\": \"pablo\", \"apellido\": \"rodriguez\"},\n",
    "    2: {\"nombre\": \"juan\", \"apellido\": \"perez\"},\n",
    "}\n",
    "\n",
    "dict_2"
   ]
  },
  {
   "cell_type": "markdown",
   "id": "11400c76",
   "metadata": {},
   "source": [
    "Cuando tenemos un **diccionario anidado**, para poder acceder a los elementos de los diccionarios más internos debemos ir entrando en cada llave hasta llegar al elemento que queramos\n",
    "\n",
    "**Ejemplo:**"
   ]
  },
  {
   "cell_type": "code",
   "execution_count": null,
   "id": "e2d92a04",
   "metadata": {},
   "outputs": [],
   "source": [
    "dict_2[1]"
   ]
  },
  {
   "cell_type": "code",
   "execution_count": null,
   "id": "e1ba74be",
   "metadata": {},
   "outputs": [],
   "source": [
    "dict_2[1][\"nombre\"]"
   ]
  },
  {
   "cell_type": "code",
   "execution_count": null,
   "id": "5fd2a983",
   "metadata": {},
   "outputs": [],
   "source": [
    "dict_2.get(1).get(\"nombre\")"
   ]
  },
  {
   "cell_type": "code",
   "execution_count": null,
   "id": "b92f8af1",
   "metadata": {},
   "outputs": [],
   "source": [
    "dict_2[1][\"apellido\"]"
   ]
  },
  {
   "cell_type": "code",
   "execution_count": null,
   "id": "03bda6eb",
   "metadata": {},
   "outputs": [],
   "source": [
    "dict_2[2]"
   ]
  },
  {
   "cell_type": "code",
   "execution_count": null,
   "id": "2db22675",
   "metadata": {},
   "outputs": [],
   "source": [
    "dict_2[2][\"nombre\"]"
   ]
  },
  {
   "cell_type": "code",
   "execution_count": null,
   "id": "192c27a1",
   "metadata": {},
   "outputs": [],
   "source": [
    "dict_2.get(2).get(\"nombre\")"
   ]
  },
  {
   "cell_type": "markdown",
   "id": "217f78bf",
   "metadata": {},
   "source": [
    "**Existe una función que nos ayuda a contar el número de elementos de un objeto, la función retorna un objeto parecido a los diccionarios.**\n",
    "\n",
    "```python\n",
    "from collections import Counter\n",
    "```"
   ]
  },
  {
   "cell_type": "code",
   "execution_count": 85,
   "id": "41f2169d",
   "metadata": {},
   "outputs": [],
   "source": [
    "from collections import Counter "
   ]
  },
  {
   "cell_type": "code",
   "execution_count": 86,
   "id": "a5492fb3",
   "metadata": {},
   "outputs": [
    {
     "name": "stdout",
     "output_type": "stream",
     "text": [
      "aaaabbbbcccccddddddeeeeeeeffffffffffgggggggggggggggghhhhhhhhhhhhhhhhhhhhhh\n"
     ]
    }
   ],
   "source": [
    "string = \"aaaabbbbcccccddddddeeeeeeeffffffffffgggggggggggggggghhhhhhhhhhhhhhhhhhhhhh\"\n",
    "print(string)"
   ]
  },
  {
   "cell_type": "code",
   "execution_count": 87,
   "id": "7d272b35",
   "metadata": {},
   "outputs": [
    {
     "data": {
      "text/plain": [
       "Counter({'h': 22, 'g': 16, 'f': 10, 'e': 7, 'd': 6, 'c': 5, 'a': 4, 'b': 4})"
      ]
     },
     "execution_count": 87,
     "metadata": {},
     "output_type": "execute_result"
    }
   ],
   "source": [
    "Counter(string)"
   ]
  },
  {
   "cell_type": "code",
   "execution_count": 88,
   "id": "b4c7b5d0",
   "metadata": {},
   "outputs": [
    {
     "data": {
      "text/plain": [
       "Counter({'h': 22, 'g': 16, 'f': 10, 'e': 7, 'd': 6, 'c': 5, 'a': 4, 'b': 4})"
      ]
     },
     "execution_count": 88,
     "metadata": {},
     "output_type": "execute_result"
    }
   ],
   "source": [
    "counter_letras = Counter(string)\n",
    "\n",
    "counter_letras"
   ]
  },
  {
   "cell_type": "code",
   "execution_count": 89,
   "id": "7f66b619",
   "metadata": {},
   "outputs": [
    {
     "data": {
      "text/plain": [
       "22"
      ]
     },
     "execution_count": 89,
     "metadata": {},
     "output_type": "execute_result"
    }
   ],
   "source": [
    "counter_letras[\"h\"]"
   ]
  },
  {
   "cell_type": "code",
   "execution_count": 90,
   "id": "3b0ef66d",
   "metadata": {},
   "outputs": [
    {
     "data": {
      "text/plain": [
       "Counter({3: 9, 4: 9, 2: 8, 1: 7})"
      ]
     },
     "execution_count": 90,
     "metadata": {},
     "output_type": "execute_result"
    }
   ],
   "source": [
    "lista = [1, 1, 1, 1, 1, 1, 1, 2, 2, 2, 2, 2, 2, 2, 2, 3, 3, 3, 3, 3, 3, 3, 3, 3, 4, 4, 4, 4, 4, 4, 4, 4, 4]\n",
    "\n",
    "counter_numeros = Counter(lista)\n",
    "\n",
    "counter_numeros"
   ]
  },
  {
   "cell_type": "code",
   "execution_count": null,
   "id": "0685f19b",
   "metadata": {},
   "outputs": [],
   "source": [
    "##############################################################################################################################"
   ]
  }
 ],
 "metadata": {
  "kernelspec": {
   "display_name": "Python 3",
   "language": "python",
   "name": "python3"
  },
  "language_info": {
   "codemirror_mode": {
    "name": "ipython",
    "version": 3
   },
   "file_extension": ".py",
   "mimetype": "text/x-python",
   "name": "python",
   "nbconvert_exporter": "python",
   "pygments_lexer": "ipython3",
   "version": "3.13.0"
  }
 },
 "nbformat": 4,
 "nbformat_minor": 5
}
