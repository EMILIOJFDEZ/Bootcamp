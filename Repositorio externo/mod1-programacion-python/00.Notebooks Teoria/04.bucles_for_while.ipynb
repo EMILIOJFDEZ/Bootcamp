{
 "cells": [
  {
   "cell_type": "markdown",
   "id": "66258df1",
   "metadata": {},
   "source": [
    "## Bluces\n",
    "\n",
    "### for\n",
    "\n",
    "Los bucles _**for**_ son utilizados cuando se quiere **repetir un bloque de código un número determinado de veces** por lo que en algún momento el bucle se detiene.\n",
    "\n",
    "En python, podemos usar los bucles _**for**_ para recorrer cualquier objeto iterable (tuplas, listas, diccionarios, strings, ...) y para hacerlo \"creamos\" una variable para el bucle.\n",
    "\n",
    "Existe la función _**range()**_ que crea objetos iterables que podemos usar en el bucle.\n",
    "\n",
    "**Dentro del bucle podemos escribir cualquier tipo de codigo que queramos.**"
   ]
  },
  {
   "cell_type": "code",
   "execution_count": 4,
   "id": "6c984daf",
   "metadata": {},
   "outputs": [
    {
     "name": "stdout",
     "output_type": "stream",
     "text": [
      "p\n",
      "a\n",
      "t\n",
      "r\n",
      "i\n",
      "c\n",
      "i\n",
      "a\n"
     ]
    }
   ],
   "source": [
    "for letra in \"patricia\":\n",
    "    print(letra)"
   ]
  },
  {
   "cell_type": "code",
   "execution_count": 1,
   "id": "4e541db3",
   "metadata": {},
   "outputs": [
    {
     "name": "stdout",
     "output_type": "stream",
     "text": [
      "p\n",
      "a\n",
      "t\n",
      "r\n",
      "i\n",
      "c\n",
      "i\n",
      "a\n"
     ]
    }
   ],
   "source": [
    "nombre = \"patricia\"\n",
    "for i in nombre:\n",
    "    print(i)"
   ]
  },
  {
   "cell_type": "code",
   "execution_count": 5,
   "id": "66262aa2",
   "metadata": {},
   "outputs": [
    {
     "name": "stdout",
     "output_type": "stream",
     "text": [
      "0\n",
      "1\n",
      "2\n",
      "3\n",
      "4\n",
      "5\n",
      "6\n",
      "7\n",
      "8\n",
      "9\n"
     ]
    }
   ],
   "source": [
    "for i in range(10):\n",
    "    print(i)"
   ]
  },
  {
   "cell_type": "code",
   "execution_count": 6,
   "id": "91747f20",
   "metadata": {},
   "outputs": [
    {
     "name": "stdout",
     "output_type": "stream",
     "text": [
      "5\n",
      "6\n",
      "7\n",
      "8\n",
      "9\n",
      "10\n",
      "11\n",
      "12\n",
      "13\n",
      "14\n"
     ]
    }
   ],
   "source": [
    "for i in range(5, 15):\n",
    "    print(i)"
   ]
  },
  {
   "cell_type": "code",
   "execution_count": 13,
   "id": "726bdad2",
   "metadata": {},
   "outputs": [
    {
     "name": "stdout",
     "output_type": "stream",
     "text": [
      "5\n",
      "7\n",
      "9\n",
      "11\n",
      "13\n"
     ]
    }
   ],
   "source": [
    "# start stop step\n",
    "for i in range(5, 15, 2):\n",
    "    print(i)"
   ]
  },
  {
   "cell_type": "code",
   "execution_count": 11,
   "id": "e64dbcac",
   "metadata": {},
   "outputs": [
    {
     "name": "stdout",
     "output_type": "stream",
     "text": [
      "1\n",
      "10\n",
      "100\n",
      "1000\n",
      "10000\n",
      "100000\n"
     ]
    }
   ],
   "source": [
    "lista = [1, 10, 100, 1000, 10000, 100000]\n",
    "\n",
    "for numero in lista:\n",
    "    print(numero)"
   ]
  },
  {
   "cell_type": "code",
   "execution_count": 14,
   "id": "793ce0d0",
   "metadata": {},
   "outputs": [
    {
     "name": "stdout",
     "output_type": "stream",
     "text": [
      "H\n",
      "o\n",
      "l\n",
      "a\n",
      " \n",
      "M\n",
      "u\n",
      "n\n",
      "d\n",
      "o\n"
     ]
    }
   ],
   "source": [
    "string = \"Hola Mundo\"\n",
    "\n",
    "for i in string:\n",
    "    print(i)"
   ]
  },
  {
   "cell_type": "code",
   "execution_count": 17,
   "id": "734e2ed1",
   "metadata": {
    "scrolled": true
   },
   "outputs": [
    {
     "name": "stdout",
     "output_type": "stream",
     "text": [
      "El numero 0 es par.\n",
      "El numero 1 es impar.\n",
      "El numero 2 es par.\n",
      "El numero 3 es impar.\n",
      "El numero 4 es par.\n",
      "El numero 5 es impar.\n",
      "El numero 6 es par.\n",
      "El numero 7 es impar.\n",
      "El numero 8 es par.\n",
      "El numero 9 es impar.\n",
      "El numero 10 es par.\n",
      "El numero 11 es impar.\n",
      "El numero 12 es par.\n",
      "El numero 13 es impar.\n",
      "El numero 14 es par.\n",
      "El numero 15 es impar.\n",
      "El numero 16 es par.\n",
      "El numero 17 es impar.\n",
      "El numero 18 es par.\n",
      "El numero 19 es impar.\n",
      "El numero 20 es par.\n",
      "El numero 21 es impar.\n",
      "El numero 22 es par.\n",
      "El numero 23 es impar.\n",
      "El numero 24 es par.\n",
      "El numero 25 es impar.\n",
      "El numero 26 es par.\n",
      "El numero 27 es impar.\n",
      "El numero 28 es par.\n",
      "El numero 29 es impar.\n"
     ]
    }
   ],
   "source": [
    "for i in range(30):\n",
    "    if i % 2 == 0:\n",
    "        print(\"El numero\", i, \"es par.\")\n",
    "    else:\n",
    "        print(\"El numero\", i, \"es impar.\")"
   ]
  },
  {
   "cell_type": "code",
   "execution_count": 18,
   "id": "3346e08a",
   "metadata": {},
   "outputs": [
    {
     "name": "stdout",
     "output_type": "stream",
     "text": [
      "Consonante. H\n",
      "Vocal. o\n",
      "Consonante. l\n",
      "Vocal. a\n",
      "Consonante.  \n",
      "Consonante. m\n",
      "Vocal. u\n",
      "Consonante. n\n",
      "Consonante. d\n",
      "Vocal. o\n"
     ]
    }
   ],
   "source": [
    "string = \"Hola mundo\"\n",
    "\n",
    "for letra in string:\n",
    "    \n",
    "    if letra == \"a\" or letra == \"e\" or letra == \"i\" or letra == \"o\" or letra == \"u\":\n",
    "        print(\"Vocal.\", letra)\n",
    "    \n",
    "    else:\n",
    "        print(\"Consonante.\", letra)"
   ]
  },
  {
   "cell_type": "markdown",
   "id": "054f8cdd",
   "metadata": {},
   "source": [
    "**Esta forma de recorrer bucles _for_ sobre objetos iterables tiene una sintaxis única, es decir, solo se puede hacer en python.**\n",
    "\n",
    "**Si quisieramos recorrer un bucle como lo hacen en otros lenguajes podemos hacer uso de los indices de los elementos usando las funciones _range()_ y _len()_.**"
   ]
  },
  {
   "cell_type": "code",
   "execution_count": 21,
   "id": "dbaa68e0",
   "metadata": {},
   "outputs": [
    {
     "name": "stdout",
     "output_type": "stream",
     "text": [
      "H\n",
      "o\n",
      "l\n",
      "a\n",
      " \n",
      "M\n",
      "u\n",
      "n\n",
      "d\n",
      "o\n"
     ]
    }
   ],
   "source": [
    "string = \"Hola Mundo\"\n",
    "\n",
    "for i in range(len(string)):\n",
    "    print(string[i])"
   ]
  },
  {
   "cell_type": "code",
   "execution_count": 22,
   "id": "1f81a698",
   "metadata": {},
   "outputs": [
    {
     "name": "stdout",
     "output_type": "stream",
     "text": [
      "1\n",
      "10\n",
      "100\n",
      "1000\n",
      "10000\n",
      "100000\n"
     ]
    }
   ],
   "source": [
    "lista = [1, 10, 100, 1000, 10000, 100000]\n",
    "\n",
    "for i in range(len(lista)):\n",
    "    print(lista[i])"
   ]
  },
  {
   "cell_type": "code",
   "execution_count": null,
   "id": "af5990d0",
   "metadata": {},
   "outputs": [
    {
     "name": "stdout",
     "output_type": "stream",
     "text": [
      "1\n",
      "2\n",
      "3\n"
     ]
    }
   ],
   "source": [
    "names = [\"n1\", \"n2\", \"n3\"]\n",
    "\n",
    "# Bucle for anidado con if\n",
    "for name in names: # itera sobre una lista\n",
    "    for char in name: # itera sobre un nombre\n",
    "        if char != 'n': # comprueba una letra\n",
    "            print(char)\n"
   ]
  },
  {
   "cell_type": "markdown",
   "id": "6e94fbe3",
   "metadata": {},
   "source": [
    "### for y lists\n",
    "\n",
    "Los bucles _**for**_ se usan en conjunto con las listas para agregar o quitar elementos."
   ]
  },
  {
   "cell_type": "code",
   "execution_count": null,
   "id": "ebb632a2",
   "metadata": {},
   "outputs": [
    {
     "data": {
      "text/plain": [
       "[0, 1, 2, 3, 4, 5, 6, 7, 8, 9]"
      ]
     },
     "execution_count": 26,
     "metadata": {},
     "output_type": "execute_result"
    }
   ],
   "source": [
    "#lista = []  # Lista vacia\n",
    "lista = list()\n",
    "\n",
    "for i in range(10):\n",
    "    lista.append(i)\n",
    "    \n",
    "lista"
   ]
  },
  {
   "cell_type": "code",
   "execution_count": null,
   "id": "2f9b6ed6",
   "metadata": {},
   "outputs": [
    {
     "name": "stdout",
     "output_type": "stream",
     "text": [
      "notas_publicadas: [5, 8, 6, 10]\n",
      "notas_revisar: [4]\n"
     ]
    }
   ],
   "source": [
    "notas_sin_publicar = [5, 8, 6, 4, 10]\n",
    "notas_publicadas = []\n",
    "notas_revisar = []\n",
    "\n",
    "for nota in notas_sin_publicar:\n",
    "    if nota >= 5:\n",
    "        notas_publicadas.append(nota)\n",
    "    else:\n",
    "        notas_revisar.append(nota)\n",
    "        \n",
    "print(f\"notas_publicadas: {notas_publicadas}\")\n",
    "print(f\"notas_revisar: {notas_revisar}\")"
   ]
  },
  {
   "cell_type": "code",
   "execution_count": 28,
   "id": "3cd3987a",
   "metadata": {},
   "outputs": [
    {
     "name": "stdout",
     "output_type": "stream",
     "text": [
      "['H', 'o', 'l', 'a', ' ', 'M', 'u', 'n', 'd', 'o', '!', '!', '!', '!', '!', '!']\n"
     ]
    }
   ],
   "source": [
    "lista = []\n",
    "\n",
    "string = \"Hola Mundo!!!!!!\"\n",
    "\n",
    "for letra in string:\n",
    "    lista.append(letra)\n",
    "    \n",
    "    \n",
    "print(lista)"
   ]
  },
  {
   "cell_type": "code",
   "execution_count": null,
   "id": "c9d93429",
   "metadata": {},
   "outputs": [
    {
     "name": "stdout",
     "output_type": "stream",
     "text": [
      "['H', 'O', 'L', 'A', ' ', 'M', 'U', 'N', 'D', 'O', '!', '!', '!', '!', '!', '!']\n"
     ]
    }
   ],
   "source": [
    "lista = []\n",
    "\n",
    "string = \"Hola Mundo!!!!!!\"\n",
    "\n",
    "for letra in string:\n",
    "    lista.append(letra.upper())\n",
    "    \n",
    "    \n",
    "print(lista)"
   ]
  },
  {
   "cell_type": "code",
   "execution_count": 30,
   "id": "8cd47172",
   "metadata": {},
   "outputs": [
    {
     "data": {
      "text/plain": [
       "['c',\n",
       " 'd',\n",
       " 'e',\n",
       " 'n',\n",
       " ' ',\n",
       " 'c',\n",
       " 'o',\n",
       " 'n',\n",
       " ' ',\n",
       " 'v',\n",
       " 'r',\n",
       " 'i',\n",
       " 's',\n",
       " ' ',\n",
       " 'l',\n",
       " 'e',\n",
       " 't',\n",
       " 'r',\n",
       " 's',\n",
       " ' ']"
      ]
     },
     "execution_count": 30,
     "metadata": {},
     "output_type": "execute_result"
    }
   ],
   "source": [
    "# También podemos usar condicionales\n",
    "\n",
    "lista = []\n",
    "\n",
    "string = \"cadena con varias letras a\"\n",
    "\n",
    "for letra in string:\n",
    "    if letra != \"a\":\n",
    "        lista.append(letra)\n",
    "        \n",
    "lista"
   ]
  },
  {
   "cell_type": "code",
   "execution_count": 33,
   "id": "d150decf",
   "metadata": {},
   "outputs": [
    {
     "data": {
      "text/plain": [
       "0"
      ]
     },
     "execution_count": 33,
     "metadata": {},
     "output_type": "execute_result"
    }
   ],
   "source": [
    "lista.count('a')"
   ]
  },
  {
   "cell_type": "markdown",
   "id": "43483695",
   "metadata": {},
   "source": [
    "### while\n",
    "\n",
    "Los bucles _**while**_ son bucles que se ejecutan siempre que se cumpla una condición, si la condición dejase de cumplirse el bucle se detendría.\n",
    "\n",
    "La principal diferencia con el bucle _**for**_ es que el bucle _**while**_ necesita una condición para poder ejecutarse y no se detendrá hasta que la condición sea **False**, es decir, puede ejecutarse un número variable de veces o incluso nunca detenerse."
   ]
  },
  {
   "cell_type": "code",
   "execution_count": 2,
   "id": "4320dfb3",
   "metadata": {},
   "outputs": [
    {
     "name": "stdout",
     "output_type": "stream",
     "text": [
      "El valor de i es: 0\n",
      "Es menor a 5.\n",
      "******************************\n",
      "El valor de i es: 1\n",
      "Es menor a 5.\n",
      "******************************\n",
      "El valor de i es: 2\n",
      "Es menor a 5.\n",
      "******************************\n",
      "El valor de i es: 3\n",
      "Es menor a 5.\n",
      "******************************\n",
      "El valor de i es: 4\n",
      "Es menor a 5.\n",
      "******************************\n"
     ]
    }
   ],
   "source": [
    "i = 0\n",
    "\n",
    "while i < 5:\n",
    "    print(\"El valor de i es:\", i)\n",
    "    print(\"Es menor a 5.\")\n",
    "    print(\"***\"*10)\n",
    "    \n",
    "    i += 1"
   ]
  },
  {
   "cell_type": "code",
   "execution_count": null,
   "id": "178d523d",
   "metadata": {},
   "outputs": [],
   "source": [
    "# No ejecutar, bucle infinito\n",
    "\n",
    "i = 0\n",
    "\n",
    "while i < 5:\n",
    "    print(\"El valor de i es:\", i)\n",
    "    print(\"Es menor a 5.\")\n",
    "    print(\"***\"*10)"
   ]
  },
  {
   "cell_type": "code",
   "execution_count": 4,
   "id": "de288bed",
   "metadata": {},
   "outputs": [
    {
     "name": "stdout",
     "output_type": "stream",
     "text": [
      "i es par 0\n",
      "i es par 2\n",
      "i es par 4\n"
     ]
    }
   ],
   "source": [
    "i = 0\n",
    "nombre = \"Daniel\"\n",
    "\n",
    "while (i < 10) and (nombre == \"Daniel\"):\n",
    "    \n",
    "    if i % 2 == 0:\n",
    "        print(\"i es par\", i)\n",
    "        \n",
    "        nombre = input(\"Ingrese un nombre: \")\n",
    "    \n",
    "    i += 1"
   ]
  },
  {
   "cell_type": "markdown",
   "id": "63c52966",
   "metadata": {},
   "source": [
    "### break\n",
    "\n",
    "La palabra reservada _**break**_ detiene un bucle y continua con el código que va después del bucle."
   ]
  },
  {
   "cell_type": "code",
   "execution_count": 5,
   "id": "712bcbfa",
   "metadata": {},
   "outputs": [
    {
     "name": "stdout",
     "output_type": "stream",
     "text": [
      "0\n",
      "1\n",
      "2\n",
      "3\n",
      "4\n",
      "5\n",
      "6\n",
      "7\n",
      "8\n",
      "9\n",
      "10\n"
     ]
    }
   ],
   "source": [
    "for i in range(100000000):\n",
    "    print(i)\n",
    "    if i == 10:\n",
    "        break"
   ]
  },
  {
   "cell_type": "code",
   "execution_count": null,
   "id": "1e46fe63",
   "metadata": {},
   "outputs": [],
   "source": [
    "i = 0\n",
    "\n",
    "while i < 10000000000:\n",
    "    \n",
    "    i += 1\n",
    "    print(i)\n",
    "    \n",
    "    if i == 10:\n",
    "        break"
   ]
  },
  {
   "cell_type": "code",
   "execution_count": null,
   "id": "bdddfd88",
   "metadata": {},
   "outputs": [
    {
     "name": "stdout",
     "output_type": "stream",
     "text": [
      "\n",
      "Bienvenido a app:\n",
      "1. Ver productos\n",
      "2. Crear producto\n",
      "3. Salir\n",
      "\n"
     ]
    }
   ],
   "source": [
    "menu = \"\"\"\n",
    "Bienvenido a app:\n",
    "1. Ver productos\n",
    "2. Crear producto\n",
    "3. Salir\n",
    "\"\"\"\n",
    "\n",
    "option = 0\n",
    "while True: # bucle infinito\n",
    "    print(menu)\n",
    "    option = int(input(\"Introduce una opción\"))\n",
    "    if option == 1:\n",
    "        print('Mostrando productos...')\n",
    "    elif option == 2:\n",
    "        print('Has elegido crear un producto')\n",
    "    elif option == 3:\n",
    "        break # rompería el bucle"
   ]
  },
  {
   "cell_type": "code",
   "execution_count": 12,
   "id": "e2f5ad43",
   "metadata": {},
   "outputs": [
    {
     "name": "stdout",
     "output_type": "stream",
     "text": [
      "option2\n",
      "option2\n"
     ]
    }
   ],
   "source": [
    "# si son comparaciones de igualdad se puede usar el match\n",
    "# utilizando match en lugar de elif podemos simplificar las comparaciones\n",
    "option = 2\n",
    "match option:\n",
    "    case 1:\n",
    "        print(\"option1\")\n",
    "    case 2:\n",
    "        print(\"option2\")\n",
    "        \n",
    "day = \"Martes\"\n",
    "match day:\n",
    "    case \"Lunes\":\n",
    "        print(\"option1\")\n",
    "    case \"Martes\":\n",
    "        print(\"option2\")"
   ]
  },
  {
   "cell_type": "markdown",
   "id": "1d857128",
   "metadata": {},
   "source": [
    "### Bucles anidados\n",
    "\n",
    "Como muchas cosas en Python, se pueden anidar bucles. Dependiendo del bucle, esto puede alargar el tiempo de ejecución."
   ]
  },
  {
   "cell_type": "code",
   "execution_count": null,
   "id": "896f3dae",
   "metadata": {},
   "outputs": [
    {
     "name": "stdout",
     "output_type": "stream",
     "text": [
      "0 0\n",
      "0 1\n",
      "0 2\n",
      "0 3\n",
      "0 4\n",
      "1 0\n",
      "1 1\n",
      "1 2\n",
      "1 3\n",
      "1 4\n",
      "2 0\n",
      "2 1\n",
      "2 2\n",
      "2 3\n",
      "2 4\n",
      "3 0\n",
      "3 1\n",
      "3 2\n",
      "3 3\n",
      "3 4\n",
      "4 0\n",
      "4 1\n",
      "4 2\n",
      "4 3\n",
      "4 4\n"
     ]
    }
   ],
   "source": [
    "for i in range(5):\n",
    "    for j in range(5):\n",
    "        print(i, j)"
   ]
  },
  {
   "cell_type": "code",
   "execution_count": null,
   "id": "56b8989b",
   "metadata": {},
   "outputs": [],
   "source": [
    "string_1 = \"hola\"\n",
    "string_2 = \"mundo\"\n",
    "\n",
    "for i in string_1:\n",
    "    \n",
    "    for j in string_2:\n",
    "        \n",
    "        print(i, j)"
   ]
  },
  {
   "cell_type": "markdown",
   "id": "da4d983f",
   "metadata": {},
   "source": [
    "### zip y enumerate\n",
    "\n",
    "- _**zip**_: Esta función toma como argumento objetos iterables para recorrerlos al mismo tiempo en un bucle."
   ]
  },
  {
   "cell_type": "code",
   "execution_count": null,
   "id": "91c0739e",
   "metadata": {},
   "outputs": [
    {
     "name": "stdout",
     "output_type": "stream",
     "text": [
      "a 1\n",
      "b 2\n",
      "c 3\n",
      "d 4\n",
      "e 5\n"
     ]
    }
   ],
   "source": [
    "lista_1 = [\"a\", \"b\", \"c\", \"d\", \"e\"]\n",
    "lista_2 = [1, 2, 3, 4, 5]\n",
    "\n",
    "for i, j in zip(lista_1, lista_2):\n",
    "    print(i, j)"
   ]
  },
  {
   "cell_type": "markdown",
   "id": "3608202c",
   "metadata": {},
   "source": [
    "**Si alguna de las dos listas es mas grande que otra, el bucle con zip se detendrá cuando la lista mas corta termine.**"
   ]
  },
  {
   "cell_type": "code",
   "execution_count": 15,
   "id": "53135e57",
   "metadata": {},
   "outputs": [
    {
     "name": "stdout",
     "output_type": "stream",
     "text": [
      "a 1\n",
      "b 2\n",
      "c 3\n",
      "d 4\n",
      "e 5\n"
     ]
    }
   ],
   "source": [
    "lista_1 = [\"a\", \"b\", \"c\", \"d\", \"e\"]\n",
    "lista_2 = [1, 2, 3, 4, 5, 6, 7, 8, 9, 10, 11, 12, 13, 14, 15]\n",
    "\n",
    "for i, j in zip(lista_1, lista_2):\n",
    "    print(i, j)"
   ]
  },
  {
   "cell_type": "code",
   "execution_count": 23,
   "id": "fef82d9c",
   "metadata": {},
   "outputs": [
    {
     "name": "stdout",
     "output_type": "stream",
     "text": [
      "0 0\n",
      "0 1\n",
      "0 2\n",
      "0 3\n",
      "0 4\n",
      "1 0\n",
      "1 1\n",
      "1 2\n",
      "1 3\n",
      "1 4\n",
      "2 0\n",
      "2 1\n",
      "2 2\n",
      "2 3\n",
      "2 4\n",
      "3 0\n",
      "3 1\n",
      "3 2\n",
      "3 3\n",
      "3 4\n",
      "4 0\n",
      "4 1\n",
      "4 2\n",
      "4 3\n",
      "4 4\n"
     ]
    }
   ],
   "source": [
    "for i in range(5):\n",
    "    for j in range(5):\n",
    "        print(i, j)\n",
    "        \n",
    "# 5 x 5 = 25 iteraciones"
   ]
  },
  {
   "cell_type": "code",
   "execution_count": 22,
   "id": "2020879c",
   "metadata": {},
   "outputs": [
    {
     "name": "stdout",
     "output_type": "stream",
     "text": [
      "0 0\n",
      "1 1\n",
      "2 2\n",
      "3 3\n",
      "4 4\n"
     ]
    }
   ],
   "source": [
    "for i, j in zip(range(5), range(5)):\n",
    "    print(i, j)\n",
    "    \n",
    "# 5 iteraciones"
   ]
  },
  {
   "cell_type": "code",
   "execution_count": null,
   "id": "f8ddd18f",
   "metadata": {},
   "outputs": [
    {
     "name": "stdout",
     "output_type": "stream",
     "text": [
      " 1a\n",
      " 2b\n",
      " 3c\n",
      " 4d\n",
      " 5e\n"
     ]
    }
   ],
   "source": [
    "for i, j in zip(lista_2, lista_1):\n",
    "    print(f\"{i}{j}\")"
   ]
  },
  {
   "cell_type": "code",
   "execution_count": 27,
   "id": "5a2131f0",
   "metadata": {},
   "outputs": [
    {
     "name": "stdout",
     "output_type": "stream",
     "text": [
      "-10\n",
      "-9\n",
      "-8\n",
      "-7\n",
      "-6\n"
     ]
    }
   ],
   "source": [
    "for i in range(-10, -5):\n",
    "    print(i)"
   ]
  },
  {
   "cell_type": "markdown",
   "id": "44ebcc4c",
   "metadata": {},
   "source": [
    "- _**enumerate**_: Esta función \"crea\" un índice utilizando un objeto iterable, se usa en conjunto con los bucles para tener un tipo de \"contador\"."
   ]
  },
  {
   "cell_type": "code",
   "execution_count": null,
   "id": "7680395c",
   "metadata": {},
   "outputs": [
    {
     "name": "stdout",
     "output_type": "stream",
     "text": [
      "n\n",
      "o\n",
      "m\n",
      "b\n",
      "r\n",
      "e\n"
     ]
    }
   ],
   "source": [
    "for letra in \"nombre\":\n",
    "    print(letra)"
   ]
  },
  {
   "cell_type": "code",
   "execution_count": 31,
   "id": "9d0ab404",
   "metadata": {},
   "outputs": [
    {
     "name": "stdout",
     "output_type": "stream",
     "text": [
      "0 a\n",
      "1 b\n",
      "2 c\n",
      "3 d\n",
      "4 e\n"
     ]
    }
   ],
   "source": [
    "lista = [\"a\", \"b\", \"c\", \"d\", \"e\"]\n",
    "\n",
    "for enum, letra in enumerate(lista):\n",
    "    print(enum, letra)"
   ]
  },
  {
   "cell_type": "code",
   "execution_count": null,
   "id": "3c8c7f70",
   "metadata": {},
   "outputs": [
    {
     "name": "stdout",
     "output_type": "stream",
     "text": [
      " a A\n",
      " b B\n",
      " c C\n",
      " d D\n",
      " e E\n"
     ]
    }
   ],
   "source": [
    "lista = [\"a\", \"b\", \"c\", \"d\", \"e\"]\n",
    "lista2 = [\"A\", \"B\", \"C\", \"D\", \"E\"]\n",
    "\n",
    "for enum, letra in enumerate(lista):\n",
    "    # podemos acceder por posición utilizando corchetes con enum, es el índice lista[enum] equivale a poner lista[1] con la posición que toque en cada iteración\n",
    "    print(f\" {lista[enum]} {lista2[enum]}\")"
   ]
  },
  {
   "cell_type": "markdown",
   "id": "530d1aa9",
   "metadata": {},
   "source": [
    "**Si quisieramos, podriamos comenzar el contador en otro número**"
   ]
  },
  {
   "cell_type": "code",
   "execution_count": null,
   "id": "09afdeb2",
   "metadata": {},
   "outputs": [],
   "source": [
    "lista = [\"a\", \"b\", \"c\", \"d\", \"e\"]\n",
    "\n",
    "for enum, letra in enumerate(lista, start = 100):\n",
    "    print(enum, letra)"
   ]
  },
  {
   "cell_type": "code",
   "execution_count": null,
   "id": "b698cbd7",
   "metadata": {},
   "outputs": [],
   "source": [
    "##############################################################################################################################"
   ]
  }
 ],
 "metadata": {
  "kernelspec": {
   "display_name": "Python 3",
   "language": "python",
   "name": "python3"
  },
  "language_info": {
   "codemirror_mode": {
    "name": "ipython",
    "version": 3
   },
   "file_extension": ".py",
   "mimetype": "text/x-python",
   "name": "python",
   "nbconvert_exporter": "python",
   "pygments_lexer": "ipython3",
   "version": "3.13.0"
  }
 },
 "nbformat": 4,
 "nbformat_minor": 5
}
