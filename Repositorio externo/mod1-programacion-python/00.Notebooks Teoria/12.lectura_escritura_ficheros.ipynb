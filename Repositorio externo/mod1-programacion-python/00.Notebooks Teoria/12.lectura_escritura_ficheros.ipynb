{
 "cells": [
  {
   "cell_type": "markdown",
   "id": "32512ffb",
   "metadata": {},
   "source": [
    "## Lectura y Escritura de archivos\n",
    "\n",
    "En python para leer y escribir un archivo (o fichero) usamos la función **open**. Ésta función toma como parametros el **path** o ruta de un archivo y el modo de apertura, que pueden ser cualquiera de los siguientes (por defecto es **r**):\n",
    "\n",
    "\n",
    "|Modo  |Descripción                                                          |\n",
    "|------|---------------------------------------------------------------------|\n",
    "|**r** |Abre el fichero en modo lectura.                                     |\n",
    "|**r+**|Abre el fichero en modo lectura y escritura. Sobreescribe el archivo.|\n",
    "|**w** |Abre el fichero solo en modo escritura. Sobreescribe el archivo.     |\n",
    "|**a** |Añade una linea al final del fichero en caso de que ya exista.       |\n",
    "|**x** |Crea un nuevo archivo y lo abre para escritura.                      |\n",
    "|**br**|Abre ficheros binarios en modo lectura (imagenes).                   |\n",
    "|**bw**|Abre ficheros binarios en modo escritura. Sobreescribe el archivo.   |\n",
    "|**b+**|Abre ficheros binarios en modo lectura y escritura.                  |\n",
    "\n",
    "Para usar la función _**open**_ tenemos principalmente 2 formas:\n",
    "1. Usando _**open()**_ y el método _**.close()**_:\n",
    " \n",
    "```python\n",
    "    file = open(path, mode)\n",
    "    data = file.read()\n",
    "    file.close()\n",
    "```\n",
    "2. Usando la función _**with open()**_:\n",
    "```python\n",
    "    with open(path, mode) as file:\n",
    "        data = file.read()\n",
    "```\n",
    "\n",
    "Cuando solo usamos la función _**open()**_ tenemos que \"cerrar\" el archivo \"manualmente\", en cambio si usamos _**with open()**_ no tenemos que preocuparnos por esto, ya que su principal función es abrir y cerrar el archivo, por lo que es más recomendado usar la segunda forma, además de que simplifica el código.\n",
    "\n",
    "Un tercer parametro puede ser indicado a la función _**open()**_ y este es el _**encoding**_, por defecto no usa ninguno encoding, esto tiene un uso especial si tenemos ficheros con caracteres especiales, como los acentos o la letra **ñ**. El encoding más usado para esto sería _**utf-8**_.\n",
    "\n",
    "\n",
    "### Escritura de archivos\n",
    "\n",
    "Para escribir archivos usamos los siguientes métodos:\n",
    "\n",
    "|Método                   |Descripción                                                 |\n",
    "|-------------------------|------------------------------------------------------------|\n",
    "|**file.write(string)**   |Inserta la cadena \"string\" en una sola linea al archivo.    |\n",
    "|**file.writelines(list)**|Inserta las cadenas de la lista \"list\" al final del archivo.|\n",
    "\n",
    "**Aunque no es obligatorio, es buena práctica agregar el salto de linea `\\n` en cada string que agregemos al fichero.**\n",
    "\n",
    "\n",
    "### Lectura de archivos\n",
    "\n",
    "Para leer archivos usamos los siguientes métodos:\n",
    "\n",
    "|Método              |Descripción                                                                                                |\n",
    "|--------------------|-----------------------------------------------------------------------------------------------------------|\n",
    "|**file.read(n)**    |Lee los primero \"n\" caracteres del archivo, si no se especifica \"n\" lee todo el archivo en una sola cadena.|\n",
    "|**file.readline(n)**|Lee una sola linea del archivo, si se especifica \"n\", leerá los primeros n-caracteres de esa linea.        |\n",
    "|**file.readlines()**|Lee todo el archivo y retorna en una lista cada linea del archivo.                                         |"
   ]
  },
  {
   "cell_type": "code",
   "execution_count": 4,
   "id": "f536fa17",
   "metadata": {},
   "outputs": [
    {
     "data": {
      "text/plain": [
       "'1) Primera linea.\\n2) Segundalinea.\\n3) Tercera linea.\\n4) Cuarta linea.\\n5) Quinta linea.\\n6) Sexta linea.\\n7) Septima linea.\\n8) Octava linea.\\n9) Novena linea.\\n10) Decima linea.\\n'"
      ]
     },
     "execution_count": 4,
     "metadata": {},
     "output_type": "execute_result"
    }
   ],
   "source": [
    "# Sintaxis 1\n",
    "# Leer todo el archivo con .read()\n",
    "# Subir de nivel ..\n",
    "file = open(\"../Data/ejemplo_1.txt\", \"r\")\n",
    "data = file.read()\n",
    "file.close()\n",
    "\n",
    "data\n",
    "\n",
    "# Nos retorna un string"
   ]
  },
  {
   "cell_type": "code",
   "execution_count": 2,
   "id": "fcd0c2f6",
   "metadata": {},
   "outputs": [
    {
     "name": "stdout",
     "output_type": "stream",
     "text": [
      "1) Primera linea.\n",
      "2) Segundalinea.\n",
      "3) Tercera linea.\n",
      "4) Cuarta linea.\n",
      "5) Quinta linea.\n",
      "6) Sexta linea.\n",
      "7) Septima linea.\n",
      "8) Octava linea.\n",
      "9) Novena linea.\n",
      "10) Decima linea.\n",
      "\n"
     ]
    }
   ],
   "source": [
    "print(data)"
   ]
  },
  {
   "cell_type": "code",
   "execution_count": 7,
   "id": "10e49770",
   "metadata": {},
   "outputs": [
    {
     "data": {
      "text/plain": [
       "'1) Primera linea.\\n2) Segundalinea.\\n3) Tercera linea.\\n4) Cuarta linea.\\n5) Quinta linea.\\n6) Sexta linea.\\n7) Septima linea.\\n8) Octava linea.\\n9) Novena linea.\\n10) Decima linea.\\n'"
      ]
     },
     "execution_count": 7,
     "metadata": {},
     "output_type": "execute_result"
    }
   ],
   "source": [
    "# Sintaxis 2\n",
    "# Leer todo el archivo con .read()\n",
    "# La keyword with cierra el recurso automáticamente para evitar .close manualmente\n",
    "with open(\"../Data/ejemplo_1.txt\", \"r\") as file:\n",
    "    data_1 = file.read()\n",
    "    \n",
    "data_1\n",
    "\n",
    "# Nos retorna un string"
   ]
  },
  {
   "cell_type": "code",
   "execution_count": 8,
   "id": "5f991f80",
   "metadata": {},
   "outputs": [
    {
     "name": "stdout",
     "output_type": "stream",
     "text": [
      "1) Primera linea.\n",
      "2) Segundalinea.\n",
      "3) Tercera linea.\n",
      "4) Cuarta linea.\n",
      "5) Quinta linea.\n",
      "6) Sexta linea.\n",
      "7) Septima linea.\n",
      "8) Octava linea.\n",
      "9) Novena linea.\n",
      "10) Decima linea.\n",
      "\n"
     ]
    }
   ],
   "source": [
    "print(data_1)"
   ]
  },
  {
   "cell_type": "code",
   "execution_count": 9,
   "id": "4f3d4499",
   "metadata": {},
   "outputs": [
    {
     "data": {
      "text/plain": [
       "'1) Primera linea.\\n'"
      ]
     },
     "execution_count": 9,
     "metadata": {},
     "output_type": "execute_result"
    }
   ],
   "source": [
    "# Sintaxis 2\n",
    "# Leer una línea del archivo con .readline()\n",
    "\n",
    "with open(\"../Data/ejemplo_1.txt\", \"r\") as file:\n",
    "    data = file.readline()\n",
    "    \n",
    "data\n",
    "\n",
    "# Con .readline() solo leemos una linea y nos retorna en forma de string"
   ]
  },
  {
   "cell_type": "code",
   "execution_count": 10,
   "id": "50efb33b",
   "metadata": {},
   "outputs": [
    {
     "data": {
      "text/plain": [
       "['1) Primera linea.\\n',\n",
       " '2) Segundalinea.\\n',\n",
       " '3) Tercera linea.\\n',\n",
       " '4) Cuarta linea.\\n',\n",
       " '5) Quinta linea.\\n',\n",
       " '6) Sexta linea.\\n',\n",
       " '7) Septima linea.\\n',\n",
       " '8) Octava linea.\\n',\n",
       " '9) Novena linea.\\n',\n",
       " '10) Decima linea.\\n']"
      ]
     },
     "execution_count": 10,
     "metadata": {},
     "output_type": "execute_result"
    }
   ],
   "source": [
    "# Sintaxis 2\n",
    "# Leer todo el archivo con .readlines() nos devuelve una lista con todas las líneas\n",
    "\n",
    "with open(\"../Data/ejemplo_1.txt\", \"r\") as file:\n",
    "    data = file.readlines()\n",
    "    \n",
    "data\n",
    "\n",
    "# Nos retorna una lista"
   ]
  },
  {
   "cell_type": "code",
   "execution_count": 11,
   "id": "e19a701b",
   "metadata": {},
   "outputs": [
    {
     "data": {
      "text/plain": [
       "'1) Primera linea.\\n2) Segundalinea.\\n3) Tercera linea.\\n4) Cuarta linea.\\n5) Quinta linea.\\n6) Sexta linea.\\n7) Septima linea.\\n8) Octava linea.\\n9) Novena linea.\\n10) Decima linea.\\n'"
      ]
     },
     "execution_count": 11,
     "metadata": {},
     "output_type": "execute_result"
    }
   ],
   "source": [
    "data_1"
   ]
  },
  {
   "cell_type": "code",
   "execution_count": null,
   "id": "1f7bdae0",
   "metadata": {},
   "outputs": [],
   "source": [
    "# df = pd.read_csv('archivo.csv')\n",
    "# DataFrame de Pandas leería automáticamente un CSV en forma de tabla\n",
    "# df.describe()"
   ]
  },
  {
   "cell_type": "code",
   "execution_count": 14,
   "id": "fc5605fe",
   "metadata": {},
   "outputs": [],
   "source": [
    "# Vamos a crear un archivo llamado \"ejemplo_2.txt\", que sea identico a \"ejemplo_1.txt\"\n",
    "\n",
    "# se cambia el modo de \"r\" (read) a \"w\" (write)\n",
    "# Lo guarda en la misma carpeta en la que está el script o notebook que estamos ejecutando\n",
    "with open(\"ejemplo_2.txt\", \"w\") as file:\n",
    "    file.write(data_1)"
   ]
  },
  {
   "cell_type": "code",
   "execution_count": 15,
   "id": "17bbe207",
   "metadata": {},
   "outputs": [],
   "source": [
    "# Vamos a agregar al archivo de \"ejemplo_2.txt\" el string \"Nueva linea\"\n",
    "\n",
    "with open(\"ejemplo_2.txt\", \"w\") as file:\n",
    "    file.write(\"Nueva linea\\n\")"
   ]
  },
  {
   "cell_type": "code",
   "execution_count": 23,
   "id": "249759f5",
   "metadata": {},
   "outputs": [],
   "source": [
    "# Si hay acentos o carácteres especiales conviene especificar encoding utf-8\n",
    "# el modo w sobrescribe el contenido del archivo\n",
    "with open(\"ejemplo_2.txt\", \"w\", encoding=\"utf-8\") as file:\n",
    "    file.write(\"Nueva linea\\nOtra línea\")"
   ]
  },
  {
   "cell_type": "code",
   "execution_count": 20,
   "id": "111484d8",
   "metadata": {},
   "outputs": [
    {
     "name": "stdout",
     "output_type": "stream",
     "text": [
      "Nueva linea\n",
      "Otra línea\n"
     ]
    }
   ],
   "source": [
    "# Veamos el resultado    \n",
    "    \n",
    "with open(\"ejemplo_2.txt\", \"r\", encoding=\"utf-8\") as file:\n",
    "    print(file.read())\n",
    "    \n",
    "    \n",
    "# Como el modo \"w\" sobreescribe el archivo, se pierde la información\n",
    "# Para no perder la información se usa \"a\""
   ]
  },
  {
   "cell_type": "code",
   "execution_count": 31,
   "id": "b313b0db",
   "metadata": {},
   "outputs": [
    {
     "name": "stdout",
     "output_type": "stream",
     "text": [
      "Nueva linea\n",
      "Otra lÃ­neaNuevo intento\n",
      "Nuevo intento\n",
      "Nuevo intento\n",
      "Nuevo intento\n",
      "Nuevo intento\n",
      "Nuevo intento\n",
      "Nuevo intento\n",
      "Nuevo intento\n",
      "\n"
     ]
    }
   ],
   "source": [
    "# Vamos a agregar al archivo \"Nuevo intento\", esta vez intentando no sobreescribir el archivo\n",
    "\n",
    "with open(\"ejemplo_2.txt\", \"a\") as file:\n",
    "    file.write(\"Nuevo intento\\n\")\n",
    "    \n",
    "with open(\"ejemplo_2.txt\", \"r\") as file:\n",
    "    print(file.read())"
   ]
  },
  {
   "cell_type": "code",
   "execution_count": null,
   "id": "34f990f9",
   "metadata": {},
   "outputs": [],
   "source": [
    "# Intentemos abrir un archivo que no existe\n",
    "\n",
    "# Lanza error\n",
    "# with open(\"ejemplo_3.txt\", \"r\") as file:\n",
    "#     data = file.read()\n",
    "    \n",
    "# data"
   ]
  },
  {
   "cell_type": "code",
   "execution_count": 34,
   "id": "4b837886",
   "metadata": {},
   "outputs": [
    {
     "name": "stdout",
     "output_type": "stream",
     "text": [
      "No existe el archivo\n"
     ]
    }
   ],
   "source": [
    "try:\n",
    "    with open(\"ejemplo_3.txt\", \"r\") as file:\n",
    "        data = file.read()\n",
    "except FileNotFoundError:\n",
    "    print(\"No existe el archivo\")"
   ]
  },
  {
   "cell_type": "code",
   "execution_count": 36,
   "id": "4328d999",
   "metadata": {},
   "outputs": [],
   "source": [
    "nombres = [\"n1\", \"n2\", \"n3\"]\n",
    "\n",
    "with open(\"nombres.txt\", \"w\", encoding=\"utf-8\") as file:\n",
    "    for nombre in nombres:\n",
    "        file.write(f\"{nombre}\\n\")"
   ]
  },
  {
   "cell_type": "code",
   "execution_count": 38,
   "id": "2c31b84d",
   "metadata": {},
   "outputs": [],
   "source": [
    "# Guardar productos en un archivo csv\n",
    "\n",
    "# Se puede instalar la extensión Edit CSV de vscode para ver el CSV en forma de tabla\n",
    "with open(\"personas.csv\", \"w\", encoding=\"utf-8\") as file:\n",
    "    file.write(\"nombre,apellido\")\n",
    "    file.write(\"\\n\")\n",
    "    file.write(\"juan,garcia\")\n",
    "    file.write(\"\\n\")\n",
    "    file.write(\"noelia,apellido\")"
   ]
  },
  {
   "cell_type": "code",
   "execution_count": 41,
   "id": "5c9e9037",
   "metadata": {},
   "outputs": [],
   "source": [
    "personas = [\"juan,garcia\\n\", \"noelia,apellido\\n\"]\n",
    "with open(\"personas.csv\", \"w\", encoding=\"utf-8\") as file:\n",
    "    file.write(\"nombre,apellido\")\n",
    "    file.write(\"\\n\")\n",
    "    file.writelines(personas)"
   ]
  },
  {
   "cell_type": "code",
   "execution_count": null,
   "id": "443f849c",
   "metadata": {},
   "outputs": [],
   "source": [
    "# en bases de datos veremos cómo crear múltiples tablas con asociaciones: onetoone, onetomany, manytoone, manytomany"
   ]
  },
  {
   "cell_type": "markdown",
   "id": "c09de3cf",
   "metadata": {},
   "source": [
    "### Libreria pickle\n",
    "\n",
    "_**pickle**_ es una libreria que viene por defecto en python, esta libreria escribe y lee ficheros en modo binario. Estos archivos tiene extensión _**.pkl**_.\n",
    "\n",
    "La principal ventaja de usar _**pickle**_ es que podemos guardar de forma binaria cualquier objeto en python y este objeto conserva sus propiedades. En los ejemplos anteriores todo se guardaba como cadena de caracteres. Además, los archivos binarios ocupan menos espacio en memoria.\n",
    "\n",
    "|Funcion             |Descripción                                                                                                  |\n",
    "|--------------------|-------------------------------------------------------------------------------------------------------------|\n",
    "|**.dump(obj, file)**|Toma como parametro el objeto que se quiere guardar y el objeto file, guarda el objeto en un archivo binario.|\n",
    "|**.load(file)**     |Toma como parametro el objeto file y lee el fichero binario.                                                 |"
   ]
  },
  {
   "cell_type": "code",
   "execution_count": null,
   "id": "5ad4c2a2",
   "metadata": {},
   "outputs": [],
   "source": [
    "import pickle"
   ]
  },
  {
   "cell_type": "code",
   "execution_count": null,
   "id": "6a608b57",
   "metadata": {},
   "outputs": [],
   "source": [
    "lista = [0, 1, 2, 3, 4, 5, 6, 7, 8, 9]\n",
    "lista"
   ]
  },
  {
   "cell_type": "code",
   "execution_count": null,
   "id": "075ec231",
   "metadata": {},
   "outputs": [],
   "source": [
    "with open(\"ejemplo_binario.pkl\", \"bw\") as file:\n",
    "    pickle.dump(lista, file)"
   ]
  },
  {
   "cell_type": "code",
   "execution_count": null,
   "id": "f8a6c05b",
   "metadata": {},
   "outputs": [],
   "source": [
    "with open(\"ejemplo_binario.pkl\", \"br\") as file:\n",
    "    lista_2 = pickle.load(file)\n",
    "    \n",
    "lista_2"
   ]
  },
  {
   "cell_type": "code",
   "execution_count": null,
   "id": "89eb279b",
   "metadata": {},
   "outputs": [],
   "source": [
    "type(lista_2)"
   ]
  },
  {
   "cell_type": "markdown",
   "id": "f67847e8",
   "metadata": {},
   "source": [
    "### Libreria os\n",
    "\n",
    "El modulo _**os**_ nos permite realizar operaciones dependiente del Sistema Operativo, con este modulo vamos a ser capaces de recorrer los distintos directorios y ficheros del sistema.\n",
    "\n",
    "|Funciones                      |Descripción                                                                                    |\n",
    "|-------------------------------|-----------------------------------------------------------------------------------------------|\n",
    "|**os.getcwd()**                |Nos retorna la ruta en la que estamos trabajando en forma de string.                           |\n",
    "|**os.chdir(path)**             |Nos permite cambiar de ruta de trabajo, tiene como parametro la ruta a la que queremos cambiar.|\n",
    "|**os.listdir()**               |Nos retorna una lista con el nombre de los directorios y ficheros de esa ruta.                 |\n",
    "|**os.mkdir(path)**             |Crea un nuevo directorio en la ruta que le indiquemos.                                         |\n",
    "|**os.rmdir(path)**             |Elimina el directorio de la ruta que le indiquemos.                                            |\n",
    "|**os.rename(nombre1, nombre2)**|Renombra un archivo/directorio, toma 2 parametros, el nombre del objeto y el nuevo nombre.     |\n",
    "|**os.stat(path)**              |Retorna la información de ese archivo/fichero.                                                 |"
   ]
  },
  {
   "cell_type": "code",
   "execution_count": null,
   "id": "807218cf",
   "metadata": {},
   "outputs": [],
   "source": [
    "import os"
   ]
  },
  {
   "cell_type": "code",
   "execution_count": null,
   "id": "b66cfdd3",
   "metadata": {},
   "outputs": [],
   "source": [
    "os.getcwd()"
   ]
  },
  {
   "cell_type": "code",
   "execution_count": null,
   "id": "8f4c14e7",
   "metadata": {},
   "outputs": [],
   "source": [
    "os.chdir(\"..\")"
   ]
  },
  {
   "cell_type": "code",
   "execution_count": null,
   "id": "57a3932f",
   "metadata": {},
   "outputs": [],
   "source": [
    "os.getcwd()"
   ]
  },
  {
   "cell_type": "code",
   "execution_count": null,
   "id": "5de9d68d",
   "metadata": {
    "scrolled": true
   },
   "outputs": [],
   "source": [
    "os.listdir()"
   ]
  },
  {
   "cell_type": "code",
   "execution_count": null,
   "id": "8137df93",
   "metadata": {},
   "outputs": [],
   "source": [
    "os.mkdir(\"prueba_os\")"
   ]
  },
  {
   "cell_type": "code",
   "execution_count": null,
   "id": "a6aebc4a",
   "metadata": {},
   "outputs": [],
   "source": [
    "os.listdir()"
   ]
  },
  {
   "cell_type": "code",
   "execution_count": null,
   "id": "9eda6119",
   "metadata": {},
   "outputs": [],
   "source": [
    "os.rmdir(\"prueba_os\")"
   ]
  },
  {
   "cell_type": "code",
   "execution_count": null,
   "id": "bec966f4",
   "metadata": {},
   "outputs": [],
   "source": [
    "os.listdir()"
   ]
  },
  {
   "cell_type": "code",
   "execution_count": null,
   "id": "6305d5b9-de3d-49ae-acb2-cbfd238e6455",
   "metadata": {
    "tags": []
   },
   "outputs": [],
   "source": [
    "os.chdir(\"Notebooks Teoria\")"
   ]
  },
  {
   "cell_type": "code",
   "execution_count": null,
   "id": "ce3e26e7-1949-4000-8a8c-d736ec5744c3",
   "metadata": {
    "tags": []
   },
   "outputs": [],
   "source": [
    "os.listdir()"
   ]
  },
  {
   "cell_type": "code",
   "execution_count": null,
   "id": "67c19c7a",
   "metadata": {},
   "outputs": [],
   "source": [
    "os.rename(\"prueba_rename.txt\", \"archivo_prueba.txt\")"
   ]
  },
  {
   "cell_type": "code",
   "execution_count": null,
   "id": "e65f28a6",
   "metadata": {},
   "outputs": [],
   "source": [
    "os.listdir()"
   ]
  },
  {
   "cell_type": "code",
   "execution_count": null,
   "id": "c7383233",
   "metadata": {},
   "outputs": [],
   "source": [
    "os.stat(\"00.introduccion_python.ipynb\")"
   ]
  },
  {
   "cell_type": "code",
   "execution_count": null,
   "id": "e3bceaf4",
   "metadata": {
    "tags": []
   },
   "outputs": [],
   "source": [
    "################################################################################################################################"
   ]
  }
 ],
 "metadata": {
  "kernelspec": {
   "display_name": "Python 3",
   "language": "python",
   "name": "python3"
  },
  "language_info": {
   "codemirror_mode": {
    "name": "ipython",
    "version": 3
   },
   "file_extension": ".py",
   "mimetype": "text/x-python",
   "name": "python",
   "nbconvert_exporter": "python",
   "pygments_lexer": "ipython3",
   "version": "3.13.0"
  }
 },
 "nbformat": 4,
 "nbformat_minor": 5
}
