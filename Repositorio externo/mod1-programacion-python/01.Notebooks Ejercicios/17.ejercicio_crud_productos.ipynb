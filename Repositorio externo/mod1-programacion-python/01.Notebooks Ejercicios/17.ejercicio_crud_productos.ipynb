{
 "cells": [
  {
   "cell_type": "markdown",
   "metadata": {},
   "source": [
    "## CRUD de objetos Product"
   ]
  },
  {
   "cell_type": "markdown",
   "metadata": {},
   "source": [
    "Normalmente se pueden crear archivos separados para clase Clase python:\n",
    "\n",
    "* product.py\n",
    "* manufacturer.py\n",
    "\n",
    "* programa.py: \n",
    "    * from product import Product\n",
    "    * from manufacturer impor Manufacturer\n",
    "\n",
    "Streamlit: crear aplicaciones web orientadas a datos\n",
    "\n",
    "Backend: flask, django, fastapi\n",
    "Frontend: angular, react, vuejs"
   ]
  },
  {
   "cell_type": "code",
   "execution_count": 32,
   "metadata": {},
   "outputs": [
    {
     "name": "stdout",
     "output_type": "stream",
     "text": [
      "Producto creado correctamente\n",
      "Ordenador ASUS A55A\n",
      "450.55\n",
      "Producto por defecto\n",
      "IVA calculado 94.6155\n",
      "94.62\n",
      "94.62\n"
     ]
    }
   ],
   "source": [
    "# self equivale this\n",
    "    \n",
    "class Product:\n",
    "    # atributos de clase, con valores comunes para todos los productos\n",
    "    title = \"Producto por defecto\"\n",
    "    iva = 0.21\n",
    "    \n",
    "    # Método constructor:\n",
    "    def __init__(self, title, price): # atributos de instancia\n",
    "        self.title = title\n",
    "        self.price = price\n",
    "        print(\"Producto creado correctamente\")\n",
    "        \n",
    "    def __str__(self):\n",
    "        return f\"Product: title={self.title}, price={self.price}\"\n",
    "    \n",
    "    \n",
    "    def calcular_iva(self):\n",
    "        \"\"\"Calcula el IVA de este producto en base a su precio y lo devuelve\n",
    "\n",
    "        Returns:\n",
    "            float: Impuesto del valor añadido calculado redondeado a dos decimales\n",
    "        \"\"\"\n",
    "        iva = self.price * self.iva\n",
    "        print(f\"IVA calculado {iva}\")\n",
    "        return round(iva, 2)\n",
    "        \n",
    "        \n",
    "ordenador_asus = Product(\"Ordenador ASUS A55A\", 450.55)\n",
    "print(ordenador_asus.title)\n",
    "print(ordenador_asus.price)\n",
    "print(Product.title) # No es un objeto\n",
    "iva = ordenador_asus.calcular_iva()\n",
    "print(f\"{iva:.2f}\")\n",
    "print(iva)\n",
    "\n",
    "# Product.__init__() missing 1 required positional argument: 'title'\n",
    "# ordenador = Product()\n",
    "# print(ordenador)"
   ]
  },
  {
   "cell_type": "code",
   "execution_count": 27,
   "metadata": {},
   "outputs": [
    {
     "name": "stdout",
     "output_type": "stream",
     "text": [
      "Product: title=Ordenador ASUS A55A, price=450.55\n",
      "\n",
      "Product: title=Ordenador ASUS A55A, price=450.55\n",
      "\n"
     ]
    }
   ],
   "source": [
    "print(ordenador_asus)\n",
    "print(ordenador_asus)"
   ]
  },
  {
   "cell_type": "markdown",
   "metadata": {},
   "source": [
    "Crear una lista de 3 productos con datos ficticios\n",
    "\n",
    "Crear un menú para interactuar con la lista de productos"
   ]
  },
  {
   "cell_type": "code",
   "execution_count": 33,
   "metadata": {},
   "outputs": [
    {
     "name": "stdout",
     "output_type": "stream",
     "text": [
      "Producto creado correctamente\n",
      "Producto creado correctamente\n",
      "Producto creado correctamente\n"
     ]
    }
   ],
   "source": [
    "product1 = Product(\"Smartphone\", 640)\n",
    "product2 = Product(\"Lámpara\", 640)\n",
    "product3 = Product(\"Ordenador\", 640)\n",
    "\n",
    "products = [product1, product2, product3]"
   ]
  },
  {
   "cell_type": "code",
   "execution_count": 59,
   "metadata": {},
   "outputs": [
    {
     "name": "stdout",
     "output_type": "stream",
     "text": [
      "Producto creado correctamente\n",
      "Producto creado correctamente\n",
      "Producto creado correctamente\n",
      "Producto creado correctamente\n",
      "Producto creado correctamente\n"
     ]
    }
   ],
   "source": [
    "# equivalente al anterior\n",
    "products = [\n",
    "    Product(\"Smartphone\", 640),\n",
    "    Product(\"Lámpara\", 40),\n",
    "    Product(\"Ordenador\", 790),\n",
    "    Product(\"Microfono\", 453),\n",
    "    Product(\"Pantalla monitor\", 367)\n",
    "]"
   ]
  },
  {
   "cell_type": "code",
   "execution_count": 60,
   "metadata": {},
   "outputs": [],
   "source": [
    "menu = \"\"\"Te damos la bienvenida a la app de productos, estas son las opciones:\n",
    "          1 - Ver todos los productos\n",
    "          2 - Ver todos los productos ordenados por precio\n",
    "          3 - Ver un producto por titulo\n",
    "          4 - Crear nuevo producto\n",
    "          5 - Actualizar producto existente\n",
    "          6 - Borrar un producto por su id\n",
    "          7 - Borrar todos los productos\n",
    "          8 - Salir\n",
    "          \"\"\""
   ]
  },
  {
   "cell_type": "code",
   "execution_count": 65,
   "metadata": {},
   "outputs": [
    {
     "name": "stdout",
     "output_type": "stream",
     "text": [
      "Product: title=Ordenador, price=790\n",
      "Product: title=Smartphone, price=640\n",
      "Product: title=Microfono, price=453\n",
      "Product: title=Pantalla monitor, price=367\n",
      "Product: title=Lámpara, price=40\n"
     ]
    },
    {
     "ename": "ValueError",
     "evalue": "invalid literal for int() with base 10: ''",
     "output_type": "error",
     "traceback": [
      "\u001b[1;31m---------------------------------------------------------------------------\u001b[0m",
      "\u001b[1;31mValueError\u001b[0m                                Traceback (most recent call last)",
      "Cell \u001b[1;32mIn[65], line 2\u001b[0m\n\u001b[0;32m      1\u001b[0m \u001b[38;5;28;01mwhile\u001b[39;00m \u001b[38;5;28;01mTrue\u001b[39;00m:\n\u001b[1;32m----> 2\u001b[0m     option \u001b[38;5;241m=\u001b[39m \u001b[38;5;28;43mint\u001b[39;49m\u001b[43m(\u001b[49m\u001b[38;5;28;43minput\u001b[39;49m\u001b[43m(\u001b[49m\u001b[43mmenu\u001b[49m\u001b[43m)\u001b[49m\u001b[43m)\u001b[49m\n\u001b[0;32m      3\u001b[0m     \u001b[38;5;28;01mmatch\u001b[39;00m option:\n\u001b[0;32m      4\u001b[0m         \u001b[38;5;28;01mcase\u001b[39;00m \u001b[38;5;241m1\u001b[39m: \u001b[38;5;66;03m# find_all_products\u001b[39;00m\n\u001b[0;32m      5\u001b[0m             \u001b[38;5;66;03m# Comprobar si la lista está vacía mostrar un mensaje y saltar a la siguiente iteración\u001b[39;00m\n",
      "\u001b[1;31mValueError\u001b[0m: invalid literal for int() with base 10: ''"
     ]
    }
   ],
   "source": [
    "def obtener_precio(product):\n",
    "    return product.price\n",
    "\n",
    "while True:\n",
    "    option = int(input(menu))\n",
    "    match option:\n",
    "        case 1: # find_all_products\n",
    "            # Comprobar si la lista está vacía mostrar un mensaje y saltar a la siguiente iteración\n",
    "            if not products: # alternativa: len(products) == 0\n",
    "                print(\"No hay productos disponibles.\")\n",
    "                continue\n",
    "            \n",
    "            for product in products:\n",
    "                print(product)\n",
    "                \n",
    "            print(\"\\n\")\n",
    "        case 2: # find_all_products_sort_by_price_desc productos ordenados por precio mayor a menor\n",
    "            \n",
    "            # products_sorted_by_price = sorted(products, key=obtener_precio) # asc: menos a más\n",
    "            # products_sorted_by_price = sorted(products, key=obtener_precio, reverse=True) # desc: más a menos\n",
    "            products_sorted_by_price = sorted(products, key=lambda p : p.price, reverse=True) # desc\n",
    "            # products_sorted_by_price = sorted(products, key=lambda p : p.price) # asc\n",
    "\n",
    "            for product in products_sorted_by_price:\n",
    "                print(product)\n",
    "                \n",
    "        case 3: # find_product_by_title\n",
    "            title = input(\"Introduce el título del producto\")\n",
    "            # bucle for que itere los productos y compruebe el titulo, si coincide imprime todo el producto\n",
    "            for product in products:\n",
    "                if title.lower() == product.title.lower():\n",
    "                    print(product)\n",
    "                    break # salir del bucle porque ya encontramos lo que salimos\n",
    "\n",
    "        case 4:\n",
    "            print(\"Has elegido la opción 3\")\n",
    "            title = input(\"Introduce título del nuevo producto\")\n",
    "            price = float(input(\"Introduce precio del nuevo producto\"))\n",
    "            quantity = int(input(\"Introduce cantidad del nuevo producto\"))\n",
    "            # crear el producto\n",
    "            new_product = Product(title, price)\n",
    "            # guardar el nuevo producto en la lista de productos\n",
    "            products.append(new_product)\n",
    "            \n",
    "        case 5:\n",
    "            title = input(\"Introduce el título del producto a actualizar\")\n",
    "            nuevo_titulo = input(\"Introduce el nuevo título\")\n",
    "            nuevo_precio = float(input(\"Introduce el nuevo precio\"))\n",
    "            actualizado = False\n",
    "            \n",
    "            for product in products:\n",
    "                if title.lower() == product.title.lower():\n",
    "                    product.title = nuevo_titulo\n",
    "                    product.price = nuevo_precio\n",
    "                    actualizado = True\n",
    "                    break\n",
    "            \n",
    "            # mostrar un mensaje de cómo fue la operación\n",
    "            if actualizado:\n",
    "                print(\"Producto actualizado correctamente\")\n",
    "            else: \n",
    "                print(\"No ha sido posible actualizar el producto.\")\n",
    "                \n",
    "        case 6:\n",
    "            title = input(\"Introduce el título del producto a borrar\")\n",
    "            # Opción 1: .remove\n",
    "            # for product in products:\n",
    "            #    if title.lower() == product.title.lower():\n",
    "            #        products.remove(product)\n",
    "            #        print(\"Producto eliminado correctamente\")\n",
    "            #        break\n",
    "            \n",
    "            # Opción 2: del products[1]\n",
    "            for i, product in enumerate(products):\n",
    "                if title.lower() == product.title.lower():\n",
    "                    del products[i]\n",
    "                    print(\"Producto eliminado correctamente\")\n",
    "                    break\n",
    "            \n",
    "        case 7: \n",
    "            print(\"Borrando lista de productos\")\n",
    "            products.clear()\n",
    "            print(\"Productos eliminados OK.\")\n",
    "            \n",
    "        case 8:\n",
    "            print(\"Hasta pronto.\")\n",
    "            break      \n",
    "        case _:\n",
    "            print(\"Opción incorrecta\")\n",
    "\n",
    "\n",
    "# Agregar opción en menú para Ver los productos ordenados por precio descendente\n"
   ]
  },
  {
   "cell_type": "code",
   "execution_count": null,
   "metadata": {},
   "outputs": [],
   "source": [
    "# Funciones para CRUD de productos\n",
    "# from product_crud import print_products\n",
    "import product_crud as crud"
   ]
  },
  {
   "cell_type": "code",
   "execution_count": null,
   "metadata": {},
   "outputs": [],
   "source": [
    "def obtener_precio(product):\n",
    "    return product.price\n",
    "\n",
    "while True:\n",
    "    option = int(input(menu))\n",
    "    match option:\n",
    "        case 1: \n",
    "           crud.print_products(products)\n",
    "        case 2: \n",
    "            crud.print_products_sorted_by_price_desc(products)\n",
    "        case 3: \n",
    "            crud.print_product_by_title(products)\n",
    "        case 4:\n",
    "            crud.create_product(products)\n",
    "        case 5:\n",
    "            crud.update_product(products)\n",
    "        case 6:\n",
    "            crud.delete_product_by_title(products)\n",
    "        case 7: \n",
    "            crud.delete_products(products)\n",
    "        case 8:\n",
    "            print(\"Hasta pronto.\")\n",
    "            break      \n",
    "        case _:\n",
    "            print(\"Opción incorrecta\")\n",
    "\n",
    "\n",
    "# Agregar opción en menú para Ver los productos ordenados por precio descendente\n"
   ]
  }
 ],
 "metadata": {
  "kernelspec": {
   "display_name": "Python 3",
   "language": "python",
   "name": "python3"
  },
  "language_info": {
   "codemirror_mode": {
    "name": "ipython",
    "version": 3
   },
   "file_extension": ".py",
   "mimetype": "text/x-python",
   "name": "python",
   "nbconvert_exporter": "python",
   "pygments_lexer": "ipython3",
   "version": "3.13.0"
  }
 },
 "nbformat": 4,
 "nbformat_minor": 2
}
