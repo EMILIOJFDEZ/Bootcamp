{
 "cells": [
  {
   "cell_type": "code",
   "execution_count": 2,
   "metadata": {},
   "outputs": [],
   "source": [
    "class Usuario:\n",
    "    def __init__(self, nombre, edad, salario, estudiante):\n",
    "        self.nombre = nombre\n",
    "        self.edad = edad\n",
    "        self.salario = salario\n",
    "        self.estudiante = estudiante"
   ]
  },
  {
   "cell_type": "code",
   "execution_count": 4,
   "metadata": {},
   "outputs": [],
   "source": [
    "usuario = Usuario('juan', 30, 2000, True)"
   ]
  },
  {
   "cell_type": "code",
   "execution_count": null,
   "metadata": {},
   "outputs": [],
   "source": [
    "# input_reader.py\n",
    "def read_int(message):\n",
    "    \n",
    "    while True:\n",
    "        try:\n",
    "            number = int(input(message))\n",
    "            return number\n",
    "        except ValueError:\n",
    "            print(\"Número incorrecto, prueba de nuevo\")\n",
    "            \n",
    "def read_float(message):\n",
    "    \n",
    "    while True:\n",
    "        try:\n",
    "            number = float(input(message))\n",
    "            return number\n",
    "        except ValueError:\n",
    "            print(\"Número incorrecto, prueba de nuevo\")\n",
    "            \n",
    "def read_date(message):\n",
    "    \n",
    "    cont = 0\n",
    "    while True:\n",
    "        # if cont == 4: #si llega a 4 intentos salimos del bucle devolviendo u nvalor por defecto\n",
    "        #     return datetime.datetime()\n",
    "        try:\n",
    "            # Cambiar aquí y pasar fecha\n",
    "            # usar datetime\n",
    "            number = float(input(message))\n",
    "            return number\n",
    "        except ValueError:\n",
    "            print(\"Fecha incorrecta, prueba de nuevo\")   \n",
    "            cont += 1  \n",
    "            \n",
    "def read_boolean(message):\n",
    "    \n",
    "    while True:\n",
    "        try:\n",
    "            number = bool(input(message))\n",
    "            return number\n",
    "        except ValueError:\n",
    "            print(\"Número incorrecto, prueba de nuevo\")    \n",
    "\n",
    "# app.py\n",
    "if option == 2:\n",
    "    edad = read_int(\"introduce tu edad\")\n",
    "    salary = read_float(\"introduce tu salario\")\n",
    "    birthdate = read_date(\"introduce tu fecha de nacimiento ISO: YYYY-MM-DD\")\n",
    "    student = read_boolean(\"introduce tu status estudiante (Si o No)\")\n",
    "    usuario = Usuario(edad, salary, birthdate, student)"
   ]
  }
 ],
 "metadata": {
  "kernelspec": {
   "display_name": "venv",
   "language": "python",
   "name": "python3"
  },
  "language_info": {
   "codemirror_mode": {
    "name": "ipython",
    "version": 3
   },
   "file_extension": ".py",
   "mimetype": "text/x-python",
   "name": "python",
   "nbconvert_exporter": "python",
   "pygments_lexer": "ipython3",
   "version": "3.13.0"
  }
 },
 "nbformat": 4,
 "nbformat_minor": 2
}
