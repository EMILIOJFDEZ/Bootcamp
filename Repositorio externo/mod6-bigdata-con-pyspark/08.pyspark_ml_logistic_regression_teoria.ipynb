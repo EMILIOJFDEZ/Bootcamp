{
 "cells": [
  {
   "cell_type": "code",
   "execution_count": 10,
   "metadata": {
    "_cell_guid": "b1076dfc-b9ad-4769-8c92-a6c4dae69d19",
    "_uuid": "8f2839f25d086af736a60e9eeb907d3b93b6e0e5",
    "execution": {
     "iopub.execute_input": "2021-11-29T14:12:28.382710Z",
     "iopub.status.busy": "2021-11-29T14:12:28.382028Z",
     "iopub.status.idle": "2021-11-29T14:12:37.109361Z",
     "shell.execute_reply": "2021-11-29T14:12:37.108344Z",
     "shell.execute_reply.started": "2021-11-29T14:12:28.382665Z"
    }
   },
   "outputs": [],
   "source": [
    "!pip install pyspark"
   ]
  },
  {
   "cell_type": "code",
   "execution_count": 11,
   "metadata": {
    "execution": {
     "iopub.execute_input": "2021-11-29T14:12:37.113521Z",
     "iopub.status.busy": "2021-11-29T14:12:37.113261Z",
     "iopub.status.idle": "2021-11-29T14:12:37.120557Z",
     "shell.execute_reply": "2021-11-29T14:12:37.119709Z",
     "shell.execute_reply.started": "2021-11-29T14:12:37.113491Z"
    }
   },
   "outputs": [],
   "source": [
    "from pyspark.sql import SparkSession\n",
    "from pyspark.ml.classification import LogisticRegression\n",
    "\n",
    "spark = SparkSession.builder.appName(\"LogisticRegression\").getOrCreate()"
   ]
  },
  {
   "cell_type": "markdown",
   "metadata": {},
   "source": [
    "## Logistic Regression"
   ]
  },
  {
   "cell_type": "code",
   "execution_count": 12,
   "metadata": {
    "execution": {
     "iopub.execute_input": "2021-11-29T14:12:37.122428Z",
     "iopub.status.busy": "2021-11-29T14:12:37.121923Z",
     "iopub.status.idle": "2021-11-29T14:12:39.335651Z",
     "shell.execute_reply": "2021-11-29T14:12:39.334740Z",
     "shell.execute_reply.started": "2021-11-29T14:12:37.122389Z"
    }
   },
   "outputs": [],
   "source": [
    "# Load training data\n",
    "data = spark.read.format(\"libsvm\").load(\"/kaggle/input/pyspark-ml-logistic-regression/sample_libsvm_data.txt\")\n",
    "\n",
    "log_reg = LogisticRegression()\n",
    "\n",
    "# Fit the model\n",
    "model = log_reg.fit(data)\n",
    "\n",
    "summary = model.summary"
   ]
  },
  {
   "cell_type": "code",
   "execution_count": 13,
   "metadata": {
    "execution": {
     "iopub.execute_input": "2021-11-29T14:12:39.338093Z",
     "iopub.status.busy": "2021-11-29T14:12:39.337061Z",
     "iopub.status.idle": "2021-11-29T14:12:39.497527Z",
     "shell.execute_reply": "2021-11-29T14:12:39.496594Z",
     "shell.execute_reply.started": "2021-11-29T14:12:39.338043Z"
    }
   },
   "outputs": [],
   "source": [
    "summary.predictions.show()"
   ]
  },
  {
   "cell_type": "code",
   "execution_count": 14,
   "metadata": {
    "execution": {
     "iopub.execute_input": "2021-11-29T14:12:39.500496Z",
     "iopub.status.busy": "2021-11-29T14:12:39.500195Z",
     "iopub.status.idle": "2021-11-29T14:12:39.695082Z",
     "shell.execute_reply": "2021-11-29T14:12:39.694078Z",
     "shell.execute_reply.started": "2021-11-29T14:12:39.500465Z"
    }
   },
   "outputs": [],
   "source": [
    "model.evaluate(data)"
   ]
  },
  {
   "cell_type": "code",
   "execution_count": 15,
   "metadata": {
    "execution": {
     "iopub.execute_input": "2021-11-29T14:12:39.697803Z",
     "iopub.status.busy": "2021-11-29T14:12:39.697130Z",
     "iopub.status.idle": "2021-11-29T14:12:40.068645Z",
     "shell.execute_reply": "2021-11-29T14:12:40.067551Z",
     "shell.execute_reply.started": "2021-11-29T14:12:39.697745Z"
    }
   },
   "outputs": [],
   "source": [
    "y_hat = model.evaluate(data)\n",
    "\n",
    "y_hat.predictions.show()"
   ]
  },
  {
   "cell_type": "code",
   "execution_count": 16,
   "metadata": {
    "execution": {
     "iopub.execute_input": "2021-11-29T14:12:40.070220Z",
     "iopub.status.busy": "2021-11-29T14:12:40.069890Z",
     "iopub.status.idle": "2021-11-29T14:12:40.206758Z",
     "shell.execute_reply": "2021-11-29T14:12:40.205830Z",
     "shell.execute_reply.started": "2021-11-29T14:12:40.070179Z"
    }
   },
   "outputs": [],
   "source": [
    "y_hat = y_hat.predictions.select(\"label\", \"prediction\")\n",
    "y_hat.show()"
   ]
  },
  {
   "cell_type": "markdown",
   "metadata": {},
   "source": [
    "_**Documentacion:** https://spark.apache.org/docs/latest/api/python/reference/api/pyspark.mllib.evaluation.MulticlassMetrics.html_"
   ]
  },
  {
   "cell_type": "code",
   "execution_count": 17,
   "metadata": {
    "execution": {
     "iopub.execute_input": "2021-11-29T14:12:40.208273Z",
     "iopub.status.busy": "2021-11-29T14:12:40.207975Z",
     "iopub.status.idle": "2021-11-29T14:12:40.217208Z",
     "shell.execute_reply": "2021-11-29T14:12:40.216320Z",
     "shell.execute_reply.started": "2021-11-29T14:12:40.208232Z"
    }
   },
   "outputs": [],
   "source": [
    "from pyspark.mllib.evaluation import MulticlassMetrics"
   ]
  },
  {
   "cell_type": "code",
   "execution_count": 18,
   "metadata": {
    "execution": {
     "iopub.execute_input": "2021-11-29T14:12:40.219678Z",
     "iopub.status.busy": "2021-11-29T14:12:40.218803Z",
     "iopub.status.idle": "2021-11-29T14:12:41.676066Z",
     "shell.execute_reply": "2021-11-29T14:12:41.675166Z",
     "shell.execute_reply.started": "2021-11-29T14:12:40.219632Z"
    }
   },
   "outputs": [],
   "source": [
    "metrics = MulticlassMetrics(y_hat.rdd)\n",
    "\n",
    "# Confusion Matrix\n",
    "print(\"Confusion Matrix:\")\n",
    "print(metrics.confusionMatrix().toArray())\n",
    "\n",
    "# Precision\n",
    "print(\"Precision label 0\")\n",
    "print(metrics.precision(label = 0.0))\n",
    "\n",
    "print(\"Precision label 1\")\n",
    "print(metrics.precision(label = 1.0))\n",
    "\n",
    "# Recall\n",
    "print(\"Recall label 0\")\n",
    "print(metrics.recall(label = 0.0))\n",
    "\n",
    "print(\"Recall label 1\")\n",
    "print(metrics.recall(label = 1.0))\n",
    "\n",
    "# F1-Score\n",
    "print(\"F1-Score label 0\")\n",
    "print(metrics.fMeasure(label = 0.0))\n",
    "\n",
    "print(\"F1-Score label 1\")\n",
    "print(metrics.fMeasure(label = 1.0))\n",
    "\n",
    "# Accuracy\n",
    "print(\"Accuracy\")\n",
    "print(metrics.accuracy)\n",
    "\n",
    "# Falsos Positivos\n",
    "print(\"Falsos positivos label 0\")\n",
    "print(metrics.falsePositiveRate(label = 0.0))\n",
    "\n",
    "print(\"Falsos positivos label 1\")\n",
    "print(metrics.falsePositiveRate(label = 1.0))"
   ]
  },
  {
   "cell_type": "markdown",
   "metadata": {},
   "source": [
    "### Evaluators\n",
    "\n",
    "**Documentacion:** Binary <br> https://spark.apache.org/docs/latest/api/python/pyspark.ml.html#pyspark.ml.evaluation.BinaryClassificationEvaluator\n",
    "\n",
    "**Documentacion:** MultiClass <br>\n",
    "https://spark.apache.org/docs/latest/api/python/pyspark.ml.html#pyspark.ml.evaluation.MulticlassClassificationEvaluator"
   ]
  },
  {
   "cell_type": "code",
   "execution_count": 19,
   "metadata": {
    "execution": {
     "iopub.execute_input": "2021-11-29T14:12:41.678706Z",
     "iopub.status.busy": "2021-11-29T14:12:41.678422Z",
     "iopub.status.idle": "2021-11-29T14:12:41.684501Z",
     "shell.execute_reply": "2021-11-29T14:12:41.683435Z",
     "shell.execute_reply.started": "2021-11-29T14:12:41.678666Z"
    }
   },
   "outputs": [],
   "source": [
    "from pyspark.ml.evaluation import BinaryClassificationEvaluator\n",
    "from pyspark.ml.evaluation import MulticlassClassificationEvaluator"
   ]
  },
  {
   "cell_type": "code",
   "execution_count": 20,
   "metadata": {
    "execution": {
     "iopub.execute_input": "2021-11-29T14:12:41.687075Z",
     "iopub.status.busy": "2021-11-29T14:12:41.686457Z",
     "iopub.status.idle": "2021-11-29T14:12:41.713784Z",
     "shell.execute_reply": "2021-11-29T14:12:41.712581Z",
     "shell.execute_reply.started": "2021-11-29T14:12:41.687026Z"
    }
   },
   "outputs": [],
   "source": [
    "evaluator = BinaryClassificationEvaluator(rawPredictionCol = \"prediction\", labelCol = \"label\")\n",
    "\n",
    "evaluator.metricName\n",
    "\n",
    "# Por defecto la metrica es la curva ROC"
   ]
  },
  {
   "cell_type": "code",
   "execution_count": 21,
   "metadata": {
    "execution": {
     "iopub.execute_input": "2021-11-29T14:12:41.717958Z",
     "iopub.status.busy": "2021-11-29T14:12:41.717122Z",
     "iopub.status.idle": "2021-11-29T14:12:42.252983Z",
     "shell.execute_reply": "2021-11-29T14:12:42.252074Z",
     "shell.execute_reply.started": "2021-11-29T14:12:41.717901Z"
    }
   },
   "outputs": [],
   "source": [
    "# Sin parametros de metricas\n",
    "evaluator.evaluate(dataset = y_hat)"
   ]
  },
  {
   "cell_type": "code",
   "execution_count": 22,
   "metadata": {
    "execution": {
     "iopub.execute_input": "2021-11-29T14:12:42.254557Z",
     "iopub.status.busy": "2021-11-29T14:12:42.254229Z",
     "iopub.status.idle": "2021-11-29T14:12:42.618847Z",
     "shell.execute_reply": "2021-11-29T14:12:42.617885Z",
     "shell.execute_reply.started": "2021-11-29T14:12:42.254503Z"
    }
   },
   "outputs": [],
   "source": [
    "# Con parametros\n",
    "evaluator.evaluate(dataset = y_hat, params = {evaluator.metricName: \"areaUnderROC\"})"
   ]
  },
  {
   "cell_type": "code",
   "execution_count": 23,
   "metadata": {
    "execution": {
     "iopub.execute_input": "2021-11-29T14:12:42.624599Z",
     "iopub.status.busy": "2021-11-29T14:12:42.623823Z",
     "iopub.status.idle": "2021-11-29T14:12:43.032352Z",
     "shell.execute_reply": "2021-11-29T14:12:43.031614Z",
     "shell.execute_reply.started": "2021-11-29T14:12:42.624541Z"
    }
   },
   "outputs": [],
   "source": [
    "# Area Under Precision-Recall, esta metrica puede resultar util cuando las clases estan desbalanceadas\n",
    "evaluator.evaluate(dataset = y_hat, params = {evaluator.metricName: \"areaUnderPR\"})"
   ]
  },
  {
   "cell_type": "code",
   "execution_count": 24,
   "metadata": {
    "execution": {
     "iopub.execute_input": "2021-11-29T14:12:43.036479Z",
     "iopub.status.busy": "2021-11-29T14:12:43.036213Z",
     "iopub.status.idle": "2021-11-29T14:12:43.349620Z",
     "shell.execute_reply": "2021-11-29T14:12:43.348659Z",
     "shell.execute_reply.started": "2021-11-29T14:12:43.036450Z"
    }
   },
   "outputs": [],
   "source": [
    "# MultiClass\n",
    "evaluator_m = MulticlassClassificationEvaluator(predictionCol = \"prediction\", labelCol = \"label\", metricName = \"accuracy\")\n",
    "\n",
    "accuracy = evaluator.evaluate(y_hat)\n",
    "\n",
    "accuracy"
   ]
  },
  {
   "cell_type": "code",
   "execution_count": null,
   "metadata": {},
   "outputs": [],
   "source": [
    "################################################################################################################################"
   ]
  }
 ],
 "metadata": {
  "kernelspec": {
   "display_name": "Python 3 (ipykernel)",
   "language": "python",
   "name": "python3"
  },
  "language_info": {
   "codemirror_mode": {
    "name": "ipython",
    "version": 3
   },
   "file_extension": ".py",
   "mimetype": "text/x-python",
   "name": "python",
   "nbconvert_exporter": "python",
   "pygments_lexer": "ipython3",
   "version": "3.9.12"
  }
 },
 "nbformat": 4,
 "nbformat_minor": 4
}
