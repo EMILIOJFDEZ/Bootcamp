{
 "cells": [
  {
   "cell_type": "code",
   "execution_count": null,
   "metadata": {},
   "outputs": [],
   "source": [
    "from sklearn.datasets import load_breast_cancer\n",
    "import pandas as pd\n",
    "import matplotlib.pyplot as plt\n",
    "\n",
    "data = load_breast_cancer()\n",
    "df_pandas = pd.DataFrame(data.data, columns=data.feature_names)\n",
    "df_pandas.head()"
   ]
  },
  {
   "cell_type": "code",
   "execution_count": null,
   "metadata": {},
   "outputs": [],
   "source": [
    "from pyspark.sql import SparkSession\n",
    "\n",
    "# Crear sesión de Spark\n",
    "spark = SparkSession.builder.appName(\"PCA_Breast_Cancer\").getOrCreate()\n",
    "\n",
    "# Convertir a DataFrame de PySpark\n",
    "df_spark = spark.createDataFrame(df_pandas)\n",
    "\n",
    "# Mostrar el esquema\n",
    "df_spark.printSchema()"
   ]
  },
  {
   "cell_type": "code",
   "execution_count": null,
   "metadata": {},
   "outputs": [],
   "source": [
    "from pyspark.ml.feature import VectorAssembler\n",
    "\n",
    "# Unir todas las columnas en un solo vector de características\n",
    "feature_columns = df_spark.columns  # Todas las columnas del dataset\n",
    "vector_assembler = VectorAssembler(inputCols=feature_columns, outputCol=\"features\")\n",
    "\n",
    "# Transformar el DataFrame\n",
    "df_vector = vector_assembler.transform(df_spark)\n",
    "\n",
    "# Seleccionar solo la columna \"features\" para PCA\n",
    "df_vector.select(\"features\").show(truncate=False)"
   ]
  },
  {
   "cell_type": "code",
   "execution_count": null,
   "metadata": {},
   "outputs": [],
   "source": [
    "from pyspark.ml.feature import PCA\n",
    "\n",
    "# Aplicar PCA para reducir a 3 componentes principales\n",
    "pca = PCA(k=3, inputCol=\"features\", outputCol=\"pca_features\")\n",
    "pca_model = pca.fit(df_vector)\n",
    "\n",
    "# Transformar los datos\n",
    "df_pca = pca_model.transform(df_vector)\n",
    "\n",
    "# Mostrar las primeras filas con los nuevos componentes\n",
    "df_pca.show()"
   ]
  },
  {
   "cell_type": "code",
   "execution_count": null,
   "metadata": {},
   "outputs": [],
   "source": [
    "explained_variance = pca_model.explainedVariance\n",
    "print(\"Varianza explicada por cada componente principal:\", explained_variance)"
   ]
  },
  {
   "cell_type": "code",
   "execution_count": null,
   "metadata": {},
   "outputs": [],
   "source": [
    "df_pandas_pca = df_pca.select(\"pca_features\").toPandas()\n",
    "df_pandas_pca.head()"
   ]
  },
  {
   "cell_type": "code",
   "execution_count": null,
   "metadata": {},
   "outputs": [],
   "source": [
    "import pandas as pd\n",
    "\n",
    "# Supongamos que ya tenemos el DataFrame con la columna \"pca_features\"\n",
    "df_pandas_pca_expanded = df_pandas_pca[\"pca_features\"].apply(pd.Series)\n",
    "\n",
    "# Renombrar las columnas para mayor claridad\n",
    "df_pandas_pca_expanded.columns = [f\"PCA_{i+1}\" for i in range(df_pandas_pca_expanded.shape[1])]\n",
    "\n",
    "# Mostrar las primeras filas\n",
    "df_pandas_pca_expanded.head()"
   ]
  },
  {
   "cell_type": "code",
   "execution_count": null,
   "metadata": {},
   "outputs": [],
   "source": [
    "df_pandas_pca_expanded['target'] = data.target\n",
    "df_pandas_pca_expanded.head()"
   ]
  },
  {
   "cell_type": "code",
   "execution_count": null,
   "metadata": {},
   "outputs": [],
   "source": [
    "plt.figure(figsize=(8,6))\n",
    "maligno = df_pandas_pca_expanded[df_pandas_pca_expanded[\"target\"] == 0]\n",
    "benigno = df_pandas_pca_expanded[df_pandas_pca_expanded[\"target\"] == 1]\n",
    "\n",
    "plt.scatter(maligno[\"PCA_1\"], maligno[\"PCA_2\"], c=\"red\", label=\"Maligno (0)\", alpha=0.5)\n",
    "plt.scatter(benigno[\"PCA_1\"], benigno[\"PCA_2\"], c=\"blue\", label=\"Benigno (1)\", alpha=0.5)\n",
    "plt.xlabel(\"Componente Principal 1\")\n",
    "plt.ylabel(\"Componente Principal 2\")\n",
    "plt.title(\"Proyección PCA (2D) - Breast Cancer Dataset\")\n",
    "plt.legend()\n",
    "plt.show()"
   ]
  },
  {
   "cell_type": "code",
   "execution_count": null,
   "metadata": {},
   "outputs": [],
   "source": [
    "fig = plt.figure(figsize=(8,6))\n",
    "ax = fig.add_subplot(111, projection='3d')\n",
    "\n",
    "ax.scatter(maligno[\"PCA_1\"], maligno[\"PCA_2\"], maligno[\"PCA_3\"], \n",
    "           c=\"red\", label=\"Maligno (0)\", alpha=0.5)\n",
    "\n",
    "ax.scatter(benigno[\"PCA_1\"], benigno[\"PCA_2\"], benigno[\"PCA_3\"], \n",
    "           c=\"blue\", label=\"Benigno (1)\", alpha=0.5)\n",
    "\n",
    "ax.set_xlabel(\"PCA1\")\n",
    "ax.set_ylabel(\"PCA2\")\n",
    "ax.set_zlabel(\"PCA3\")\n",
    "ax.set_title(\"Proyección PCA (3D) - Breast Cancer Dataset\")\n",
    "ax.legend()\n",
    "plt.show()"
   ]
  }
 ],
 "metadata": {
  "kernelspec": {
   "display_name": "Python 3 (ipykernel)",
   "language": "python",
   "name": "python3"
  },
  "language_info": {
   "codemirror_mode": {
    "name": "ipython",
    "version": 3
   },
   "file_extension": ".py",
   "mimetype": "text/x-python",
   "name": "python",
   "nbconvert_exporter": "python",
   "pygments_lexer": "ipython3",
   "version": "3.11.6"
  }
 },
 "nbformat": 4,
 "nbformat_minor": 2
}
