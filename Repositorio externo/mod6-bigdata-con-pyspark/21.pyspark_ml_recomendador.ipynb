{
 "cells": [
  {
   "cell_type": "markdown",
   "id": "9701e70c",
   "metadata": {},
   "source": [
    "## PySpark - Recomendadores - Filtrado Colaborativo"
   ]
  },
  {
   "cell_type": "code",
   "execution_count": null,
   "id": "25f74087",
   "metadata": {
    "execution": {
     "iopub.execute_input": "2023-02-22T13:09:43.124017Z",
     "iopub.status.busy": "2023-02-22T13:09:43.123552Z",
     "iopub.status.idle": "2023-02-22T13:09:54.333732Z",
     "shell.execute_reply": "2023-02-22T13:09:54.331953Z",
     "shell.execute_reply.started": "2023-02-22T13:09:43.123978Z"
    }
   },
   "outputs": [],
   "source": [
    "!pip install pyspark"
   ]
  },
  {
   "cell_type": "code",
   "execution_count": null,
   "id": "be8f51de",
   "metadata": {
    "execution": {
     "iopub.execute_input": "2023-02-22T13:09:54.336786Z",
     "iopub.status.busy": "2023-02-22T13:09:54.336389Z",
     "iopub.status.idle": "2023-02-22T13:09:54.346241Z",
     "shell.execute_reply": "2023-02-22T13:09:54.344766Z",
     "shell.execute_reply.started": "2023-02-22T13:09:54.336752Z"
    }
   },
   "outputs": [],
   "source": [
    "from pyspark.sql import SparkSession\n",
    "\n",
    "spark = SparkSession.builder.appName(\"recomendador\").getOrCreate()"
   ]
  },
  {
   "cell_type": "code",
   "execution_count": null,
   "id": "13c7118c",
   "metadata": {
    "execution": {
     "iopub.execute_input": "2023-02-22T13:09:54.348822Z",
     "iopub.status.busy": "2023-02-22T13:09:54.348332Z",
     "iopub.status.idle": "2023-02-22T13:09:54.365400Z",
     "shell.execute_reply": "2023-02-22T13:09:54.364480Z",
     "shell.execute_reply.started": "2023-02-22T13:09:54.348758Z"
    }
   },
   "outputs": [],
   "source": [
    "from pyspark.ml.recommendation import ALS\n",
    "from pyspark.ml.evaluation import RegressionEvaluator"
   ]
  },
  {
   "cell_type": "markdown",
   "id": "8ca6d65f",
   "metadata": {},
   "source": [
    "### Alternating Least Squares - ALS\n",
    "\n",
    "ALS se utiliza para resolver el problema de la factorización matricial en sistemas de recomendación.\n",
    "El objetivo de la factorización matricial en este contexto es encontrar dos matrices, una de **usuarios** y otra de **ítems**, que cuando se multiplican entre sí, aproximan la matriz de valoraciones (o interacciones) entre usuarios e ítems.\n",
    "\n",
    "El algoritmo ALS busca encontrar estas dos matrices de manera iterativa, y lo hace a través de dos pasos que se alternan en cada iteración:\n",
    "\n",
    "- Fijar la matriz de usuarios y resolver para la matriz de ítems. En este paso, se utiliza la regresión lineal para ajustar una matriz de ítems que pueda explicar la matriz de valoraciones conocidas. Para hacerlo, se utiliza la matriz de usuarios fija para predecir la matriz de valoraciones que debería haber para cada ítem. Una vez que se tienen estas predicciones, se ajusta la matriz de ítems para que las predicciones se ajusten lo mejor posible a la matriz de valoraciones conocida.\n",
    "\n",
    "- Fijar la matriz de ítems y resolver para la matriz de usuarios. En este paso, se utiliza el mismo proceso que en el paso anterior, pero ahora se fija la matriz de ítems y se ajusta la matriz de usuarios para que las predicciones de valoraciones se ajusten lo mejor posible a la matriz de valoraciones conocida.\n",
    "\n",
    "Estos dos pasos se repiten iterativamente hasta que se alcanza un punto de convergencia, es decir, hasta que las matrices de usuarios e ítems que se obtienen en una iteración no son muy diferentes de las obtenidas en la iteración anterior.\n",
    "\n",
    "Es importante destacar que el algoritmo ALS no es determinista, es decir, que puede arrojar resultados ligeramente diferentes en cada ejecución, ya que en cada iteración se utilizan valores aleatorios para inicializar las matrices de usuarios e ítems.\n"
   ]
  },
  {
   "cell_type": "code",
   "execution_count": null,
   "id": "1b9b2bb3",
   "metadata": {
    "execution": {
     "iopub.execute_input": "2023-02-22T13:09:54.369304Z",
     "iopub.status.busy": "2023-02-22T13:09:54.368847Z",
     "iopub.status.idle": "2023-02-22T13:10:17.387746Z",
     "shell.execute_reply": "2023-02-22T13:10:17.386749Z",
     "shell.execute_reply.started": "2023-02-22T13:09:54.369261Z"
    }
   },
   "outputs": [],
   "source": [
    "df = spark.read.csv(path        = \"/kaggle/input/pyspark-ml-recomendador/ratings.csv\",\n",
    "                    inferSchema = True,\n",
    "                    header      = True)"
   ]
  },
  {
   "cell_type": "code",
   "execution_count": null,
   "id": "c8dfd9a7",
   "metadata": {
    "execution": {
     "iopub.execute_input": "2023-02-22T13:10:17.389325Z",
     "iopub.status.busy": "2023-02-22T13:10:17.388958Z",
     "iopub.status.idle": "2023-02-22T13:10:17.484461Z",
     "shell.execute_reply": "2023-02-22T13:10:17.482986Z",
     "shell.execute_reply.started": "2023-02-22T13:10:17.389291Z"
    }
   },
   "outputs": [],
   "source": [
    "df.show(5, truncate = False)"
   ]
  },
  {
   "cell_type": "code",
   "execution_count": null,
   "id": "13bfd0c3",
   "metadata": {
    "execution": {
     "iopub.execute_input": "2023-02-22T13:10:17.488185Z",
     "iopub.status.busy": "2023-02-22T13:10:17.486932Z",
     "iopub.status.idle": "2023-02-22T13:10:17.494949Z",
     "shell.execute_reply": "2023-02-22T13:10:17.493906Z",
     "shell.execute_reply.started": "2023-02-22T13:10:17.488140Z"
    }
   },
   "outputs": [],
   "source": [
    "# Eliminamos esta columna porque no la necesitamos y ahorramos espacio.\n",
    "\n",
    "df = df.drop(\"timestamp\")"
   ]
  },
  {
   "cell_type": "code",
   "execution_count": null,
   "id": "26453341",
   "metadata": {
    "execution": {
     "iopub.execute_input": "2023-02-22T13:10:17.496347Z",
     "iopub.status.busy": "2023-02-22T13:10:17.496001Z",
     "iopub.status.idle": "2023-02-22T13:10:22.678417Z",
     "shell.execute_reply": "2023-02-22T13:10:22.677099Z",
     "shell.execute_reply.started": "2023-02-22T13:10:17.496311Z"
    }
   },
   "outputs": [],
   "source": [
    "df.count()"
   ]
  },
  {
   "cell_type": "code",
   "execution_count": null,
   "id": "30661235",
   "metadata": {
    "execution": {
     "iopub.execute_input": "2023-02-22T13:10:22.681191Z",
     "iopub.status.busy": "2023-02-22T13:10:22.680686Z",
     "iopub.status.idle": "2023-02-22T13:10:42.308151Z",
     "shell.execute_reply": "2023-02-22T13:10:42.306880Z",
     "shell.execute_reply.started": "2023-02-22T13:10:22.681144Z"
    }
   },
   "outputs": [],
   "source": [
    "# Cortamos el df porque no se puede ejecutar por el tamaño en Kaggle.\n",
    "\n",
    "print(f'Tamaño original: {df.count()}')\n",
    "\n",
    "df = df.filter(df[\"userId\"] < 10000)\n",
    "\n",
    "print(f'Tamaño nuevo: {df.filter(df[\"userId\"] < 10000).count()}')"
   ]
  },
  {
   "cell_type": "code",
   "execution_count": null,
   "id": "42c93ab4",
   "metadata": {
    "execution": {
     "iopub.execute_input": "2023-02-22T13:10:42.310551Z",
     "iopub.status.busy": "2023-02-22T13:10:42.309470Z",
     "iopub.status.idle": "2023-02-22T13:10:42.390331Z",
     "shell.execute_reply": "2023-02-22T13:10:42.389449Z",
     "shell.execute_reply.started": "2023-02-22T13:10:42.310500Z"
    }
   },
   "outputs": [],
   "source": [
    "df.show()"
   ]
  },
  {
   "cell_type": "code",
   "execution_count": null,
   "id": "13ec17c5",
   "metadata": {
    "execution": {
     "iopub.execute_input": "2023-02-22T13:10:42.394241Z",
     "iopub.status.busy": "2023-02-22T13:10:42.393913Z",
     "iopub.status.idle": "2023-02-22T13:10:52.947499Z",
     "shell.execute_reply": "2023-02-22T13:10:52.946541Z",
     "shell.execute_reply.started": "2023-02-22T13:10:42.394212Z"
    }
   },
   "outputs": [],
   "source": [
    "df.describe().show()"
   ]
  },
  {
   "cell_type": "code",
   "execution_count": null,
   "id": "95ebbb22",
   "metadata": {
    "execution": {
     "iopub.execute_input": "2023-02-22T13:10:52.948760Z",
     "iopub.status.busy": "2023-02-22T13:10:52.948454Z",
     "iopub.status.idle": "2023-02-22T13:10:52.965186Z",
     "shell.execute_reply": "2023-02-22T13:10:52.963959Z",
     "shell.execute_reply.started": "2023-02-22T13:10:52.948731Z"
    }
   },
   "outputs": [],
   "source": [
    "train, test = df.randomSplit([0.8, 0.2], seed = 42)"
   ]
  },
  {
   "cell_type": "code",
   "execution_count": null,
   "id": "4d5d6536",
   "metadata": {
    "execution": {
     "iopub.execute_input": "2023-02-22T13:10:52.969959Z",
     "iopub.status.busy": "2023-02-22T13:10:52.969600Z",
     "iopub.status.idle": "2023-02-22T13:10:52.976026Z",
     "shell.execute_reply": "2023-02-22T13:10:52.975040Z",
     "shell.execute_reply.started": "2023-02-22T13:10:52.969927Z"
    }
   },
   "outputs": [],
   "source": [
    "# Eliminamos el df original para ahorrar espacio.\n",
    "\n",
    "del df"
   ]
  },
  {
   "cell_type": "code",
   "execution_count": null,
   "id": "6ea5987b",
   "metadata": {
    "execution": {
     "iopub.execute_input": "2023-02-22T13:10:52.978354Z",
     "iopub.status.busy": "2023-02-22T13:10:52.977195Z",
     "iopub.status.idle": "2023-02-22T13:11:17.560930Z",
     "shell.execute_reply": "2023-02-22T13:11:17.559600Z",
     "shell.execute_reply.started": "2023-02-22T13:10:52.978315Z"
    }
   },
   "outputs": [],
   "source": [
    "als = ALS(maxIter           = 10,\n",
    "          regParam          = 0.01,\n",
    "          userCol           = \"userId\",\n",
    "          itemCol           = \"movieId\",\n",
    "          ratingCol         = \"rating\",\n",
    "          coldStartStrategy = \"drop\")\n",
    "\n",
    "model  = als.fit(train)"
   ]
  },
  {
   "cell_type": "code",
   "execution_count": null,
   "id": "8831cb3f",
   "metadata": {
    "execution": {
     "iopub.execute_input": "2023-02-22T13:11:17.563378Z",
     "iopub.status.busy": "2023-02-22T13:11:17.562591Z",
     "iopub.status.idle": "2023-02-22T13:11:17.622003Z",
     "shell.execute_reply": "2023-02-22T13:11:17.620650Z",
     "shell.execute_reply.started": "2023-02-22T13:11:17.563330Z"
    }
   },
   "outputs": [],
   "source": [
    "predictions = model.transform(test)"
   ]
  },
  {
   "cell_type": "code",
   "execution_count": null,
   "id": "28dfe364",
   "metadata": {
    "execution": {
     "iopub.execute_input": "2023-02-22T13:11:17.623853Z",
     "iopub.status.busy": "2023-02-22T13:11:17.623402Z",
     "iopub.status.idle": "2023-02-22T13:11:29.732768Z",
     "shell.execute_reply": "2023-02-22T13:11:29.731560Z",
     "shell.execute_reply.started": "2023-02-22T13:11:17.623790Z"
    }
   },
   "outputs": [],
   "source": [
    "predictions.show()"
   ]
  },
  {
   "cell_type": "code",
   "execution_count": null,
   "id": "a7d32d5d",
   "metadata": {
    "execution": {
     "iopub.execute_input": "2023-02-22T13:11:29.735149Z",
     "iopub.status.busy": "2023-02-22T13:11:29.734130Z",
     "iopub.status.idle": "2023-02-22T13:11:41.594531Z",
     "shell.execute_reply": "2023-02-22T13:11:41.591610Z",
     "shell.execute_reply.started": "2023-02-22T13:11:29.735101Z"
    }
   },
   "outputs": [],
   "source": [
    "evaluator = RegressionEvaluator(metricName    = \"rmse\",\n",
    "                                labelCol      = \"rating\",\n",
    "                                predictionCol = \"prediction\")\n",
    "\n",
    "rmse = evaluator.evaluate(predictions)\n",
    "\n",
    "print(f\"RMSE: {rmse}\")"
   ]
  },
  {
   "cell_type": "code",
   "execution_count": null,
   "id": "71a9e1d9",
   "metadata": {
    "execution": {
     "iopub.execute_input": "2023-02-22T13:11:41.595971Z",
     "iopub.status.busy": "2023-02-22T13:11:41.595611Z",
     "iopub.status.idle": "2023-02-22T13:11:53.987743Z",
     "shell.execute_reply": "2023-02-22T13:11:53.986432Z",
     "shell.execute_reply.started": "2023-02-22T13:11:41.595939Z"
    }
   },
   "outputs": [],
   "source": [
    "usuario_activo = test.filter(test[\"userId\"] == 42).select([\"movieId\", \"userId\"])\n",
    "\n",
    "usuario_activo.show()"
   ]
  },
  {
   "cell_type": "code",
   "execution_count": null,
   "id": "56430f07",
   "metadata": {
    "execution": {
     "iopub.execute_input": "2023-02-22T13:51:42.368937Z",
     "iopub.status.busy": "2023-02-22T13:51:42.368470Z",
     "iopub.status.idle": "2023-02-22T13:51:56.534064Z",
     "shell.execute_reply": "2023-02-22T13:51:56.532865Z",
     "shell.execute_reply.started": "2023-02-22T13:51:42.368897Z"
    }
   },
   "outputs": [],
   "source": [
    "recommendations = model.transform(usuario_activo)\n",
    "\n",
    "recommendations.orderBy(\"prediction\", ascending = False).show()"
   ]
  },
  {
   "cell_type": "code",
   "execution_count": null,
   "id": "9c943835",
   "metadata": {
    "execution": {
     "iopub.execute_input": "2023-02-22T13:12:05.889530Z",
     "iopub.status.busy": "2023-02-22T13:12:05.888883Z",
     "iopub.status.idle": "2023-02-22T13:12:05.896777Z",
     "shell.execute_reply": "2023-02-22T13:12:05.894497Z",
     "shell.execute_reply.started": "2023-02-22T13:12:05.889476Z"
    }
   },
   "outputs": [],
   "source": [
    "################################################################################################################################"
   ]
  }
 ],
 "metadata": {
  "kernelspec": {
   "display_name": "Python 3 (ipykernel)",
   "language": "python",
   "name": "python3"
  },
  "language_info": {
   "codemirror_mode": {
    "name": "ipython",
    "version": 3
   },
   "file_extension": ".py",
   "mimetype": "text/x-python",
   "name": "python",
   "nbconvert_exporter": "python",
   "pygments_lexer": "ipython3",
   "version": "3.9.12"
  }
 },
 "nbformat": 4,
 "nbformat_minor": 5
}
