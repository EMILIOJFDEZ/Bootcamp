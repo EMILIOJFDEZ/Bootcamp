{
 "cells": [
  {
   "cell_type": "markdown",
   "metadata": {},
   "source": [
    "## PySpark - Natural Language Processing"
   ]
  },
  {
   "cell_type": "code",
   "execution_count": null,
   "metadata": {
    "_cell_guid": "b1076dfc-b9ad-4769-8c92-a6c4dae69d19",
    "_uuid": "8f2839f25d086af736a60e9eeb907d3b93b6e0e5",
    "execution": {
     "iopub.execute_input": "2021-11-30T12:53:36.014032Z",
     "iopub.status.busy": "2021-11-30T12:53:36.013651Z",
     "iopub.status.idle": "2021-11-30T12:54:34.042198Z",
     "shell.execute_reply": "2021-11-30T12:54:34.041277Z",
     "shell.execute_reply.started": "2021-11-30T12:53:36.013988Z"
    }
   },
   "outputs": [],
   "source": [
    "!pip install pyspark"
   ]
  },
  {
   "cell_type": "code",
   "execution_count": null,
   "metadata": {
    "execution": {
     "iopub.execute_input": "2021-11-30T12:54:34.045957Z",
     "iopub.status.busy": "2021-11-30T12:54:34.045585Z",
     "iopub.status.idle": "2021-11-30T12:54:39.710179Z",
     "shell.execute_reply": "2021-11-30T12:54:39.709461Z",
     "shell.execute_reply.started": "2021-11-30T12:54:34.045909Z"
    }
   },
   "outputs": [],
   "source": [
    "from pyspark.sql import SparkSession\n",
    "\n",
    "spark = SparkSession.builder.appName(\"NLP\").getOrCreate()"
   ]
  },
  {
   "cell_type": "markdown",
   "metadata": {},
   "source": [
    "## Tokenizer\n",
    "\n",
    "_**Documentacion Tokenizer:** https://spark.apache.org/docs/latest/api/python/reference/api/pyspark.ml.feature.Tokenizer.html_\n",
    "\n",
    "_**Documentacion RegexTokenizer:** https://spark.apache.org/docs/3.1.1/api/python/reference/api/pyspark.ml.feature.RegexTokenizer.html_"
   ]
  },
  {
   "cell_type": "code",
   "execution_count": null,
   "metadata": {
    "execution": {
     "iopub.execute_input": "2021-11-30T12:54:39.711463Z",
     "iopub.status.busy": "2021-11-30T12:54:39.711249Z",
     "iopub.status.idle": "2021-11-30T12:54:39.848115Z",
     "shell.execute_reply": "2021-11-30T12:54:39.846976Z",
     "shell.execute_reply.started": "2021-11-30T12:54:39.711433Z"
    }
   },
   "outputs": [],
   "source": [
    "from pyspark.ml.feature import Tokenizer\n",
    "from pyspark.ml.feature import RegexTokenizer\n",
    "\n",
    "from pyspark.sql.functions import col\n",
    "from pyspark.sql.functions import udf\n",
    "\n",
    "from pyspark.sql.types import IntegerType"
   ]
  },
  {
   "cell_type": "code",
   "execution_count": null,
   "metadata": {
    "execution": {
     "iopub.execute_input": "2021-11-30T12:54:39.850881Z",
     "iopub.status.busy": "2021-11-30T12:54:39.850521Z",
     "iopub.status.idle": "2021-11-30T12:54:42.532110Z",
     "shell.execute_reply": "2021-11-30T12:54:42.531286Z",
     "shell.execute_reply.started": "2021-11-30T12:54:39.850837Z"
    }
   },
   "outputs": [],
   "source": [
    "data = spark.createDataFrame(data = [(0, \"Hola mundo me gusta python y pyspark\"),\n",
    "                                     (1, \"PySpark no me convence mucho\"),\n",
    "                                     (2, \"Logistic,regression,models,decision,trees,gradient,boosting,classifier\")],\n",
    "                             schema = [\"id\", \"sentence\"])"
   ]
  },
  {
   "cell_type": "code",
   "execution_count": null,
   "metadata": {
    "execution": {
     "iopub.execute_input": "2021-11-30T12:54:42.533260Z",
     "iopub.status.busy": "2021-11-30T12:54:42.533066Z",
     "iopub.status.idle": "2021-11-30T12:54:42.570582Z",
     "shell.execute_reply": "2021-11-30T12:54:42.569983Z",
     "shell.execute_reply.started": "2021-11-30T12:54:42.533236Z"
    }
   },
   "outputs": [],
   "source": [
    "tokenizer = Tokenizer(inputCol = \"sentence\",\n",
    "                      outputCol = \"words\")\n",
    "\n",
    "regex_tokenizer = RegexTokenizer(inputCol = \"sentence\",\n",
    "                                 outputCol = \"words\",\n",
    "                                 pattern = \"\\\\W\")\n",
    "\n",
    "count_token = udf(f = lambda words: len(words),\n",
    "                  returnType = IntegerType())"
   ]
  },
  {
   "cell_type": "code",
   "execution_count": null,
   "metadata": {
    "execution": {
     "iopub.execute_input": "2021-11-30T12:54:42.571576Z",
     "iopub.status.busy": "2021-11-30T12:54:42.571398Z",
     "iopub.status.idle": "2021-11-30T12:54:46.364892Z",
     "shell.execute_reply": "2021-11-30T12:54:46.363955Z",
     "shell.execute_reply.started": "2021-11-30T12:54:42.571553Z"
    }
   },
   "outputs": [],
   "source": [
    "tokenized = tokenizer.transform(data)\n",
    "\n",
    "tokenized.select(\"sentence\", \"words\").withColumn(\"tokens\", count_token(col(\"words\"))).show(truncate = False)"
   ]
  },
  {
   "cell_type": "code",
   "execution_count": null,
   "metadata": {
    "execution": {
     "iopub.execute_input": "2021-11-30T12:54:46.366220Z",
     "iopub.status.busy": "2021-11-30T12:54:46.365928Z",
     "iopub.status.idle": "2021-11-30T12:54:46.991446Z",
     "shell.execute_reply": "2021-11-30T12:54:46.990464Z",
     "shell.execute_reply.started": "2021-11-30T12:54:46.366179Z"
    }
   },
   "outputs": [],
   "source": [
    "regex_tokenized = regex_tokenizer.transform(data)\n",
    "\n",
    "regex_tokenized.select(\"sentence\", \"words\").withColumn(\"tokens\", count_token(col(\"words\"))).show(truncate = False)"
   ]
  },
  {
   "cell_type": "markdown",
   "metadata": {},
   "source": [
    "### StopWords\n",
    "_**Documentacion:** https://spark.apache.org/docs/latest/api/python/reference/api/pyspark.ml.feature.StopWordsRemover.html_"
   ]
  },
  {
   "cell_type": "code",
   "execution_count": null,
   "metadata": {
    "execution": {
     "iopub.execute_input": "2021-11-30T12:54:46.994740Z",
     "iopub.status.busy": "2021-11-30T12:54:46.992650Z",
     "iopub.status.idle": "2021-11-30T12:54:47.621843Z",
     "shell.execute_reply": "2021-11-30T12:54:47.621016Z",
     "shell.execute_reply.started": "2021-11-30T12:54:46.994686Z"
    }
   },
   "outputs": [],
   "source": [
    "from pyspark.ml.feature import StopWordsRemover\n",
    "\n",
    "remover = StopWordsRemover(inputCol = \"words\",\n",
    "                           outputCol = \"filtered\")\n",
    "\n",
    "remover.transform(regex_tokenized).select(\"words\", \"filtered\").show(truncate = False)"
   ]
  },
  {
   "cell_type": "markdown",
   "metadata": {},
   "source": [
    "## n-grams\n",
    "_**Documentacion:** https://spark.apache.org/docs/3.1.1/api/python/reference/api/pyspark.ml.feature.NGram.html_"
   ]
  },
  {
   "cell_type": "code",
   "execution_count": null,
   "metadata": {
    "execution": {
     "iopub.execute_input": "2021-11-30T12:54:47.623219Z",
     "iopub.status.busy": "2021-11-30T12:54:47.622934Z",
     "iopub.status.idle": "2021-11-30T12:54:47.996601Z",
     "shell.execute_reply": "2021-11-30T12:54:47.996004Z",
     "shell.execute_reply.started": "2021-11-30T12:54:47.623182Z"
    }
   },
   "outputs": [],
   "source": [
    "from pyspark.ml.feature import NGram\n",
    "\n",
    "n_gram = NGram(n = 2,\n",
    "               inputCol = \"words\",\n",
    "               outputCol = \"n_gram\")\n",
    "\n",
    "n_gram_data = n_gram.transform(regex_tokenized)\n",
    "\n",
    "n_gram_data.select(\"n_gram\").show(truncate = False)"
   ]
  },
  {
   "cell_type": "markdown",
   "metadata": {},
   "source": [
    "### TF-IDF\n",
    "_**Documentacion HashingTF:** https://spark.apache.org/docs/latest/api/python/reference/api/pyspark.mllib.feature.HashingTF.html_ \n",
    "\n",
    "_**Documentacion IDF:** https://spark.apache.org/docs/latest/api/python/reference/api/pyspark.mllib.feature.IDF.html_"
   ]
  },
  {
   "cell_type": "code",
   "execution_count": null,
   "metadata": {
    "execution": {
     "iopub.execute_input": "2021-11-30T12:54:47.998900Z",
     "iopub.status.busy": "2021-11-30T12:54:47.998642Z",
     "iopub.status.idle": "2021-11-30T12:54:48.295385Z",
     "shell.execute_reply": "2021-11-30T12:54:48.294455Z",
     "shell.execute_reply.started": "2021-11-30T12:54:47.998871Z"
    }
   },
   "outputs": [],
   "source": [
    "from pyspark.ml.feature import HashingTF\n",
    "from pyspark.ml.feature import IDF\n",
    "\n",
    "tokenizer = Tokenizer(inputCol = \"sentence\", outputCol = \"words\")\n",
    "words_data = tokenizer.transform(data)\n",
    "words_data.show(truncate = False)"
   ]
  },
  {
   "cell_type": "code",
   "execution_count": null,
   "metadata": {
    "execution": {
     "iopub.execute_input": "2021-11-30T12:55:04.759295Z",
     "iopub.status.busy": "2021-11-30T12:55:04.759013Z",
     "iopub.status.idle": "2021-11-30T12:55:05.053742Z",
     "shell.execute_reply": "2021-11-30T12:55:05.052841Z",
     "shell.execute_reply.started": "2021-11-30T12:55:04.759268Z"
    }
   },
   "outputs": [],
   "source": [
    "hashingTF = HashingTF(inputCol = \"words\",\n",
    "                      outputCol = \"raw_features\",\n",
    "                      numFeatures = 20)\n",
    "\n",
    "featurized_data = hashingTF.transform(words_data)\n",
    "\n",
    "featurized_data.select(\"words\", \"raw_features\").show(truncate = False)"
   ]
  },
  {
   "cell_type": "code",
   "execution_count": null,
   "metadata": {
    "execution": {
     "iopub.execute_input": "2021-11-30T12:55:52.397438Z",
     "iopub.status.busy": "2021-11-30T12:55:52.397181Z",
     "iopub.status.idle": "2021-11-30T12:55:52.807575Z",
     "shell.execute_reply": "2021-11-30T12:55:52.806709Z",
     "shell.execute_reply.started": "2021-11-30T12:55:52.397411Z"
    }
   },
   "outputs": [],
   "source": [
    "idf = IDF(inputCol = \"raw_features\",\n",
    "          outputCol = \"features\")\n",
    "\n",
    "rescaled_data = idf.fit(featurized_data).transform(featurized_data)\n",
    "\n",
    "rescaled_data.select(\"raw_features\", \"features\").show(truncate = False)"
   ]
  },
  {
   "cell_type": "markdown",
   "metadata": {},
   "source": [
    "## CountVectorizer\n",
    "\n",
    "_**Documentacion:** https://spark.apache.org/docs/latest/api/python/reference/api/pyspark.ml.feature.CountVectorizer.html_"
   ]
  },
  {
   "cell_type": "code",
   "execution_count": null,
   "metadata": {
    "execution": {
     "iopub.execute_input": "2021-11-30T12:54:49.706200Z",
     "iopub.status.busy": "2021-11-30T12:54:49.705906Z",
     "iopub.status.idle": "2021-11-30T12:54:50.657987Z",
     "shell.execute_reply": "2021-11-30T12:54:50.657063Z",
     "shell.execute_reply.started": "2021-11-30T12:54:49.706160Z"
    }
   },
   "outputs": [],
   "source": [
    "from pyspark.ml.feature import CountVectorizer\n",
    "\n",
    "df = spark.createDataFrame(data = [(0, \"a b c\".split(\" \")),\n",
    "                                   (1, \"a b b c a\".split(\" \"))],\n",
    "                           schema = [\"id\", \"words\"])\n",
    "\n",
    "cv = CountVectorizer(inputCol = \"words\",\n",
    "                     outputCol = \"features\",\n",
    "                     vocabSize = 3,\n",
    "                     minDF = 2.0)\n",
    "\n",
    "model = cv.fit(df)\n",
    "\n",
    "result = model.transform(df)\n",
    "result.show(truncate = False)"
   ]
  },
  {
   "cell_type": "code",
   "execution_count": null,
   "metadata": {},
   "outputs": [],
   "source": [
    "################################################################################################################################"
   ]
  }
 ],
 "metadata": {
  "kernelspec": {
   "display_name": "Python 3 (ipykernel)",
   "language": "python",
   "name": "python3"
  },
  "language_info": {
   "codemirror_mode": {
    "name": "ipython",
    "version": 3
   },
   "file_extension": ".py",
   "mimetype": "text/x-python",
   "name": "python",
   "nbconvert_exporter": "python",
   "pygments_lexer": "ipython3",
   "version": "3.9.12"
  }
 },
 "nbformat": 4,
 "nbformat_minor": 4
}
