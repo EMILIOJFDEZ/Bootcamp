{
 "cells": [
  {
   "cell_type": "markdown",
   "metadata": {},
   "source": [
    "## Clustering"
   ]
  },
  {
   "cell_type": "code",
   "execution_count": null,
   "metadata": {
    "_cell_guid": "b1076dfc-b9ad-4769-8c92-a6c4dae69d19",
    "_uuid": "8f2839f25d086af736a60e9eeb907d3b93b6e0e5",
    "execution": {
     "iopub.execute_input": "2023-02-22T15:04:47.164162Z",
     "iopub.status.busy": "2023-02-22T15:04:47.163732Z",
     "iopub.status.idle": "2023-02-22T15:04:58.728362Z",
     "shell.execute_reply": "2023-02-22T15:04:58.726685Z",
     "shell.execute_reply.started": "2023-02-22T15:04:47.164129Z"
    }
   },
   "outputs": [],
   "source": [
    "!pip install pyspark"
   ]
  },
  {
   "cell_type": "code",
   "execution_count": null,
   "metadata": {
    "execution": {
     "iopub.execute_input": "2023-02-22T15:04:58.731220Z",
     "iopub.status.busy": "2023-02-22T15:04:58.730842Z",
     "iopub.status.idle": "2023-02-22T15:04:58.745706Z",
     "shell.execute_reply": "2023-02-22T15:04:58.744121Z",
     "shell.execute_reply.started": "2023-02-22T15:04:58.731188Z"
    }
   },
   "outputs": [],
   "source": [
    "from pyspark.sql import SparkSession\n",
    "spark = SparkSession.builder.appName(\"Clustering\").getOrCreate()"
   ]
  },
  {
   "cell_type": "code",
   "execution_count": null,
   "metadata": {
    "execution": {
     "iopub.execute_input": "2023-02-22T15:04:58.748339Z",
     "iopub.status.busy": "2023-02-22T15:04:58.747730Z",
     "iopub.status.idle": "2023-02-22T15:04:58.923988Z",
     "shell.execute_reply": "2023-02-22T15:04:58.922689Z",
     "shell.execute_reply.started": "2023-02-22T15:04:58.748294Z"
    }
   },
   "outputs": [],
   "source": [
    "data = spark.read.csv(path = \"/kaggle/input/pyspark-ml-clustering/seeds_dataset.csv\",\n",
    "                      header = True, inferSchema = True)"
   ]
  },
  {
   "cell_type": "code",
   "execution_count": null,
   "metadata": {
    "execution": {
     "iopub.execute_input": "2023-02-22T15:04:58.931428Z",
     "iopub.status.busy": "2023-02-22T15:04:58.930935Z",
     "iopub.status.idle": "2023-02-22T15:04:59.010516Z",
     "shell.execute_reply": "2023-02-22T15:04:59.008837Z",
     "shell.execute_reply.started": "2023-02-22T15:04:58.931379Z"
    }
   },
   "outputs": [],
   "source": [
    "data.show()"
   ]
  },
  {
   "cell_type": "code",
   "execution_count": null,
   "metadata": {
    "execution": {
     "iopub.execute_input": "2023-02-22T15:04:59.012514Z",
     "iopub.status.busy": "2023-02-22T15:04:59.012002Z",
     "iopub.status.idle": "2023-02-22T15:04:59.047461Z",
     "shell.execute_reply": "2023-02-22T15:04:59.046154Z",
     "shell.execute_reply.started": "2023-02-22T15:04:59.012473Z"
    }
   },
   "outputs": [],
   "source": [
    "from pyspark.ml.linalg import Vectors\n",
    "from pyspark.ml.feature import VectorAssembler\n",
    "\n",
    "assembler = VectorAssembler(inputCols = data.columns,\n",
    "                            outputCol = \"features\")\n",
    "\n",
    "data = assembler.transform(data)"
   ]
  },
  {
   "cell_type": "code",
   "execution_count": null,
   "metadata": {
    "execution": {
     "iopub.execute_input": "2023-02-22T15:04:59.049204Z",
     "iopub.status.busy": "2023-02-22T15:04:59.048854Z",
     "iopub.status.idle": "2023-02-22T15:04:59.128226Z",
     "shell.execute_reply": "2023-02-22T15:04:59.127364Z",
     "shell.execute_reply.started": "2023-02-22T15:04:59.049172Z"
    }
   },
   "outputs": [],
   "source": [
    "data.show()"
   ]
  },
  {
   "cell_type": "markdown",
   "metadata": {},
   "source": [
    "## StandardScaler\n",
    "_**Documentación:** https://spark.apache.org/docs/latest/api/python/reference/api/pyspark.ml.feature.StandardScaler.html_"
   ]
  },
  {
   "cell_type": "code",
   "execution_count": null,
   "metadata": {
    "execution": {
     "iopub.execute_input": "2023-02-22T15:04:59.129504Z",
     "iopub.status.busy": "2023-02-22T15:04:59.129186Z",
     "iopub.status.idle": "2023-02-22T15:04:59.384335Z",
     "shell.execute_reply": "2023-02-22T15:04:59.383074Z",
     "shell.execute_reply.started": "2023-02-22T15:04:59.129475Z"
    }
   },
   "outputs": [],
   "source": [
    "from pyspark.ml.feature import StandardScaler\n",
    "\n",
    "scaler = StandardScaler(inputCol = \"features\",\n",
    "                        outputCol = \"scaled_features\",\n",
    "                        withStd = True,\n",
    "                        withMean = False)\n",
    "\n",
    "data = scaler.fit(data).transform(data)\n",
    "\n",
    "data.show()"
   ]
  },
  {
   "cell_type": "code",
   "execution_count": null,
   "metadata": {
    "execution": {
     "iopub.execute_input": "2023-02-22T15:04:59.386123Z",
     "iopub.status.busy": "2023-02-22T15:04:59.385659Z",
     "iopub.status.idle": "2023-02-22T15:04:59.479210Z",
     "shell.execute_reply": "2023-02-22T15:04:59.477651Z",
     "shell.execute_reply.started": "2023-02-22T15:04:59.386079Z"
    }
   },
   "outputs": [],
   "source": [
    "data.select(\"scaled_features\").show(truncate = False)"
   ]
  },
  {
   "cell_type": "markdown",
   "metadata": {},
   "source": [
    "## K-Means\n",
    "\n",
    "_**Documentación:** https://spark.apache.org/docs/latest/api/python/reference/api/pyspark.ml.clustering.KMeans.html_"
   ]
  },
  {
   "cell_type": "code",
   "execution_count": null,
   "metadata": {
    "execution": {
     "iopub.execute_input": "2023-02-22T15:04:59.481444Z",
     "iopub.status.busy": "2023-02-22T15:04:59.480980Z",
     "iopub.status.idle": "2023-02-22T15:05:00.335483Z",
     "shell.execute_reply": "2023-02-22T15:05:00.334514Z",
     "shell.execute_reply.started": "2023-02-22T15:04:59.481402Z"
    }
   },
   "outputs": [],
   "source": [
    "from pyspark.ml.clustering import KMeans\n",
    "\n",
    "kmeans = KMeans(featuresCol = \"scaled_features\",\n",
    "                predictionCol = \"cluster\", \n",
    "                k = 3,\n",
    "                distanceMeasure = \"euclidean\")\n",
    "\n",
    "model = kmeans.fit(data)"
   ]
  },
  {
   "cell_type": "code",
   "execution_count": null,
   "metadata": {
    "execution": {
     "iopub.execute_input": "2023-02-22T15:05:00.341908Z",
     "iopub.status.busy": "2023-02-22T15:05:00.341503Z",
     "iopub.status.idle": "2023-02-22T15:05:00.450089Z",
     "shell.execute_reply": "2023-02-22T15:05:00.448834Z",
     "shell.execute_reply.started": "2023-02-22T15:05:00.341873Z"
    }
   },
   "outputs": [],
   "source": [
    "cluster = model.transform(data)\n",
    "\n",
    "cluster.show()"
   ]
  },
  {
   "cell_type": "code",
   "execution_count": null,
   "metadata": {
    "execution": {
     "iopub.execute_input": "2023-02-22T15:05:00.452169Z",
     "iopub.status.busy": "2023-02-22T15:05:00.451442Z",
     "iopub.status.idle": "2023-02-22T15:05:00.473117Z",
     "shell.execute_reply": "2023-02-22T15:05:00.472123Z",
     "shell.execute_reply.started": "2023-02-22T15:05:00.452123Z"
    }
   },
   "outputs": [],
   "source": [
    "centers = model.clusterCenters()\n",
    "centers"
   ]
  },
  {
   "cell_type": "code",
   "execution_count": null,
   "metadata": {
    "execution": {
     "iopub.execute_input": "2023-02-22T15:05:00.475275Z",
     "iopub.status.busy": "2023-02-22T15:05:00.474637Z",
     "iopub.status.idle": "2023-02-22T15:05:00.487426Z",
     "shell.execute_reply": "2023-02-22T15:05:00.485639Z",
     "shell.execute_reply.started": "2023-02-22T15:05:00.475240Z"
    }
   },
   "outputs": [],
   "source": [
    "summary = model.summary\n",
    "\n",
    "# Inercia: Suma de las distancias al cuadrado de todos los puntos con su centroide mas cercano\n",
    "summary.trainingCost"
   ]
  },
  {
   "cell_type": "markdown",
   "metadata": {
    "execution": {
     "iopub.execute_input": "2021-11-30T10:48:41.309099Z",
     "iopub.status.busy": "2021-11-30T10:48:41.308719Z",
     "iopub.status.idle": "2021-11-30T10:48:41.313402Z",
     "shell.execute_reply": "2021-11-30T10:48:41.312544Z",
     "shell.execute_reply.started": "2021-11-30T10:48:41.309057Z"
    }
   },
   "source": [
    "### Ejercicio:\n",
    "- Hacer el codigo para el método del codo para **KMeans** en PySpark."
   ]
  },
  {
   "cell_type": "code",
   "execution_count": null,
   "metadata": {
    "execution": {
     "iopub.execute_input": "2023-02-22T15:05:00.490267Z",
     "iopub.status.busy": "2023-02-22T15:05:00.489632Z",
     "iopub.status.idle": "2023-02-22T15:05:07.998441Z",
     "shell.execute_reply": "2023-02-22T15:05:07.997306Z",
     "shell.execute_reply.started": "2023-02-22T15:05:00.490221Z"
    }
   },
   "outputs": [],
   "source": [
    "inercias = list()\n",
    "\n",
    "for k in range(2, 11):\n",
    "    kmeans = KMeans(featuresCol = \"scaled_features\",\n",
    "                    predictionCol = \"cluster\", \n",
    "                    k = k,\n",
    "                    distanceMeasure = \"euclidean\")\n",
    "\n",
    "    model = kmeans.fit(data)\n",
    "    \n",
    "    inercia = model.summary.trainingCost\n",
    "    \n",
    "    inercias.append(inercia)"
   ]
  },
  {
   "cell_type": "code",
   "execution_count": null,
   "metadata": {
    "execution": {
     "iopub.execute_input": "2023-02-22T15:05:08.005234Z",
     "iopub.status.busy": "2023-02-22T15:05:08.002965Z",
     "iopub.status.idle": "2023-02-22T15:05:08.214476Z",
     "shell.execute_reply": "2023-02-22T15:05:08.213566Z",
     "shell.execute_reply.started": "2023-02-22T15:05:08.005182Z"
    }
   },
   "outputs": [],
   "source": [
    "import matplotlib.pyplot as plt\n",
    "\n",
    "plt.plot(range(2, 11), inercias)\n",
    "plt.xlabel(\"K's\")\n",
    "plt.ylabel(\"Inercias\")\n",
    "plt.title(\"Elbow's Method\")\n",
    "plt.show()"
   ]
  },
  {
   "cell_type": "markdown",
   "metadata": {},
   "source": [
    "## Bisecting K-Means\n",
    "\n",
    "**Bisecting K-means** es una variante de **K-Means** que busca dividir el conjunto de datos en clusters de manera jerárquica, en lugar de buscar una partición óptima de los datos. \n",
    "\n",
    "**Bisecting K-Means** se puede resumir en los siguientes pasos:\n",
    "\n",
    "1. Inicializar el algoritmo con un cluster que contenga todos los datos.\n",
    "\n",
    "2. Mientras no se hayan alcanzado el número de clusters deseados:\n",
    "\n",
    "    - Seleccionar el cluster más grande y dividirlo en dos sub-clusters utilizando el algoritmo **K-Means** con **k = 2**.\n",
    "\n",
    "    - Seleccionar el sub-cluster que tenga la mayor suma de cuadrados de las distancias de cada punto al centroide del sub-cluster (Inercia) y repetir el paso 2 hasta alcanzar el número deseado de clusters.\n",
    "\n",
    "**Bisecting K-Means** tiene la ventaja de ser más resistente a la inicialización aleatoria de los centroides, ya que cada división del cluster seleccionado se realiza utilizando el algoritmo **K-Means**, que tiene su propia inicialización aleatoria. Además, el algoritmo de **Bisecting K-Means** puede ser más eficiente que el algoritmo **K-Means** en conjuntos de datos con muchos puntos y/o muchas dimensiones, ya que divide el conjunto de datos en subconjuntos más pequeños antes de aplicar el algoritmo **K-Means**.\n",
    "\n",
    "_**Documentación**: https://spark.apache.org/docs/latest/api/python/reference/api/pyspark.ml.clustering.BisectingKMeans.html_"
   ]
  },
  {
   "cell_type": "code",
   "execution_count": null,
   "metadata": {
    "execution": {
     "iopub.execute_input": "2023-02-22T15:05:08.216507Z",
     "iopub.status.busy": "2023-02-22T15:05:08.215576Z",
     "iopub.status.idle": "2023-02-22T15:05:10.005699Z",
     "shell.execute_reply": "2023-02-22T15:05:10.004694Z",
     "shell.execute_reply.started": "2023-02-22T15:05:08.216470Z"
    }
   },
   "outputs": [],
   "source": [
    "from pyspark.ml.clustering import BisectingKMeans\n",
    "\n",
    "bkmeans = BisectingKMeans(featuresCol    = \"scaled_features\",\n",
    "                         predictionCol   = \"cluster\", \n",
    "                         k               = 3,\n",
    "                         distanceMeasure = \"euclidean\")\n",
    "\n",
    "model = bkmeans.fit(data)"
   ]
  },
  {
   "cell_type": "code",
   "execution_count": null,
   "metadata": {
    "execution": {
     "iopub.execute_input": "2023-02-22T15:05:10.007932Z",
     "iopub.status.busy": "2023-02-22T15:05:10.006875Z",
     "iopub.status.idle": "2023-02-22T15:05:10.113129Z",
     "shell.execute_reply": "2023-02-22T15:05:10.111838Z",
     "shell.execute_reply.started": "2023-02-22T15:05:10.007891Z"
    }
   },
   "outputs": [],
   "source": [
    "cluster = model.transform(data)\n",
    "\n",
    "cluster.show()"
   ]
  },
  {
   "cell_type": "code",
   "execution_count": null,
   "metadata": {
    "execution": {
     "iopub.execute_input": "2023-02-22T15:05:10.116887Z",
     "iopub.status.busy": "2023-02-22T15:05:10.116403Z",
     "iopub.status.idle": "2023-02-22T15:05:10.131353Z",
     "shell.execute_reply": "2023-02-22T15:05:10.130467Z",
     "shell.execute_reply.started": "2023-02-22T15:05:10.116841Z"
    }
   },
   "outputs": [],
   "source": [
    "centers = model.clusterCenters()\n",
    "centers"
   ]
  },
  {
   "cell_type": "code",
   "execution_count": null,
   "metadata": {
    "execution": {
     "iopub.execute_input": "2023-02-22T15:05:10.135003Z",
     "iopub.status.busy": "2023-02-22T15:05:10.134571Z",
     "iopub.status.idle": "2023-02-22T15:05:10.145362Z",
     "shell.execute_reply": "2023-02-22T15:05:10.143833Z",
     "shell.execute_reply.started": "2023-02-22T15:05:10.134968Z"
    }
   },
   "outputs": [],
   "source": [
    "summary = model.summary\n",
    "\n",
    "# Inercia: Suma de las distancias al cuadrado de todos los puntos con su centroide mas cercano\n",
    "summary.trainingCost"
   ]
  },
  {
   "cell_type": "markdown",
   "metadata": {},
   "source": [
    "### Ejercicio:\n",
    "- Hacer el codigo para el método del codo para **Bisecting K-Means** en PySpark."
   ]
  },
  {
   "cell_type": "code",
   "execution_count": null,
   "metadata": {
    "execution": {
     "iopub.execute_input": "2023-02-22T15:05:10.148493Z",
     "iopub.status.busy": "2023-02-22T15:05:10.147678Z",
     "iopub.status.idle": "2023-02-22T15:05:30.900130Z",
     "shell.execute_reply": "2023-02-22T15:05:30.898881Z",
     "shell.execute_reply.started": "2023-02-22T15:05:10.148457Z"
    }
   },
   "outputs": [],
   "source": [
    "binercias = list()\n",
    "\n",
    "for k in range(2, 11):\n",
    "    kmeans = BisectingKMeans(featuresCol     = \"scaled_features\",\n",
    "                             predictionCol   = \"cluster\", \n",
    "                             k               = k,\n",
    "                             distanceMeasure = \"euclidean\")\n",
    "\n",
    "    model = kmeans.fit(data)\n",
    "    \n",
    "    binercia = model.summary.trainingCost\n",
    "    \n",
    "    binercias.append(binercia)"
   ]
  },
  {
   "cell_type": "code",
   "execution_count": null,
   "metadata": {
    "execution": {
     "iopub.execute_input": "2023-02-22T15:05:30.902099Z",
     "iopub.status.busy": "2023-02-22T15:05:30.901609Z",
     "iopub.status.idle": "2023-02-22T15:05:31.102602Z",
     "shell.execute_reply": "2023-02-22T15:05:31.101007Z",
     "shell.execute_reply.started": "2023-02-22T15:05:30.902055Z"
    }
   },
   "outputs": [],
   "source": [
    "plt.plot(range(2, 11), binercias)\n",
    "plt.xlabel(\"K's\")\n",
    "plt.ylabel(\"Inercias\")\n",
    "plt.title(\"Elbow's Method\")\n",
    "plt.show()"
   ]
  },
  {
   "cell_type": "markdown",
   "metadata": {},
   "source": [
    "### Comparación"
   ]
  },
  {
   "cell_type": "code",
   "execution_count": null,
   "metadata": {
    "execution": {
     "iopub.execute_input": "2023-02-22T15:06:02.645705Z",
     "iopub.status.busy": "2023-02-22T15:06:02.645268Z",
     "iopub.status.idle": "2023-02-22T15:06:02.893238Z",
     "shell.execute_reply": "2023-02-22T15:06:02.891702Z",
     "shell.execute_reply.started": "2023-02-22T15:06:02.645667Z"
    }
   },
   "outputs": [],
   "source": [
    "plt.plot(range(2, 11), inercias, color = \"red\", label = \"K-Means\")\n",
    "plt.plot(range(2, 11), binercias, color = \"blue\", label = \"Bisecting K-Means\")\n",
    "plt.xlabel(\"K's\")\n",
    "plt.ylabel(\"Inercias\")\n",
    "plt.title(\"Elbow's Method\")\n",
    "plt.legend()\n",
    "plt.show()"
   ]
  },
  {
   "cell_type": "code",
   "execution_count": null,
   "metadata": {},
   "outputs": [],
   "source": [
    "################################################################################################################################"
   ]
  }
 ],
 "metadata": {
  "kernelspec": {
   "display_name": "Python 3 (ipykernel)",
   "language": "python",
   "name": "python3"
  },
  "language_info": {
   "codemirror_mode": {
    "name": "ipython",
    "version": 3
   },
   "file_extension": ".py",
   "mimetype": "text/x-python",
   "name": "python",
   "nbconvert_exporter": "python",
   "pygments_lexer": "ipython3",
   "version": "3.9.12"
  }
 },
 "nbformat": 4,
 "nbformat_minor": 4
}
