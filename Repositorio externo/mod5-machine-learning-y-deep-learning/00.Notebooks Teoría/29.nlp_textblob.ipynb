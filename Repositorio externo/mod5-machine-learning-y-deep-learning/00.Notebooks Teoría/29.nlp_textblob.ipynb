{
 "cells": [
  {
   "cell_type": "markdown",
   "id": "c89abe49",
   "metadata": {},
   "source": [
    "## TextBlob\n",
    "\n",
    "**TextBlob** es una libreria para procesar datos textuales. Proporciona una API simple para realizar tareas comunes de **NLP**, como análisis de sentimientos, clasificación, traducción.\n",
    "\n",
    "**TextBlob** esta construido a partir de **NLTK**.\n",
    "\n",
    "```python\n",
    "pip install textblob\n",
    "```\n",
    "\n",
    "_**Documentación:** https://textblob.readthedocs.io/en/dev/_"
   ]
  },
  {
   "cell_type": "code",
   "execution_count": null,
   "id": "2d2119e1-53dc-42fa-8be5-27c65c7ea314",
   "metadata": {},
   "outputs": [],
   "source": [
    "!pip install textblob"
   ]
  },
  {
   "cell_type": "code",
   "execution_count": 7,
   "id": "6ce5907e",
   "metadata": {},
   "outputs": [],
   "source": [
    "import textblob # Para ver la versión\n",
    "from textblob import TextBlob"
   ]
  },
  {
   "cell_type": "code",
   "execution_count": 8,
   "id": "4ab8ac71",
   "metadata": {},
   "outputs": [],
   "source": [
    "texto = \"\"\"The titular threat of The Blob has always struck me as the ultimate movie\n",
    "            monster: an insatiably hungry, amoeba-like mass able to penetrate\n",
    "            virtually any safeguard, capable of--as a doomed doctor chillingly\n",
    "            describes it--\"assimilating flesh on contact.\n",
    "            Snide comparisons to gelatin be damned, it's a concept with the most\n",
    "            devastating of potential consequences, not unlike the grey goo scenario\n",
    "            proposed by technological theorists fearful of\n",
    "            artificial intelligence run rampant.\"\"\"\n",
    "\n",
    "\n",
    "# TextBlob() transforma un texto a un objeto TextBlob\n",
    "blob = TextBlob(texto)"
   ]
  },
  {
   "cell_type": "code",
   "execution_count": 9,
   "id": "7490ef3c",
   "metadata": {},
   "outputs": [
    {
     "data": {
      "text/plain": [
       "textblob.blob.TextBlob"
      ]
     },
     "execution_count": 9,
     "metadata": {},
     "output_type": "execute_result"
    }
   ],
   "source": [
    "type(blob)"
   ]
  },
  {
   "cell_type": "code",
   "execution_count": 10,
   "id": "8e272c23",
   "metadata": {},
   "outputs": [
    {
     "name": "stdout",
     "output_type": "stream",
     "text": [
      "['The', 'titular', 'threat', 'of', 'The', 'Blob', 'has', 'always', 'struck', 'me', 'as', 'the', 'ultimate', 'movie', 'monster', 'an', 'insatiably', 'hungry', 'amoeba-like', 'mass', 'able', 'to', 'penetrate', 'virtually', 'any', 'safeguard', 'capable', 'of', 'as', 'a', 'doomed', 'doctor', 'chillingly', 'describes', 'it', 'assimilating', 'flesh', 'on', 'contact', 'Snide', 'comparisons', 'to', 'gelatin', 'be', 'damned', 'it', \"'s\", 'a', 'concept', 'with', 'the', 'most', 'devastating', 'of', 'potential', 'consequences', 'not', 'unlike', 'the', 'grey', 'goo', 'scenario', 'proposed', 'by', 'technological', 'theorists', 'fearful', 'of', 'artificial', 'intelligence', 'run', 'rampant']\n"
     ]
    }
   ],
   "source": [
    "# Tokenizar\n",
    "\n",
    "print(blob.words)"
   ]
  },
  {
   "cell_type": "code",
   "execution_count": 11,
   "id": "caa9ce77",
   "metadata": {
    "scrolled": true
   },
   "outputs": [
    {
     "data": {
      "text/plain": [
       "[('The', 'DT'),\n",
       " ('titular', 'JJ'),\n",
       " ('threat', 'NN'),\n",
       " ('of', 'IN'),\n",
       " ('The', 'DT'),\n",
       " ('Blob', 'NNP'),\n",
       " ('has', 'VBZ'),\n",
       " ('always', 'RB'),\n",
       " ('struck', 'VBN'),\n",
       " ('me', 'PRP'),\n",
       " ('as', 'IN'),\n",
       " ('the', 'DT'),\n",
       " ('ultimate', 'JJ'),\n",
       " ('movie', 'NN'),\n",
       " ('monster', 'NN'),\n",
       " ('an', 'DT'),\n",
       " ('insatiably', 'RB'),\n",
       " ('hungry', 'JJ'),\n",
       " ('amoeba-like', 'JJ'),\n",
       " ('mass', 'NN'),\n",
       " ('able', 'JJ'),\n",
       " ('to', 'TO'),\n",
       " ('penetrate', 'VB'),\n",
       " ('virtually', 'RB'),\n",
       " ('any', 'DT'),\n",
       " ('safeguard', 'NN'),\n",
       " ('capable', 'JJ'),\n",
       " ('of', 'IN'),\n",
       " ('as', 'IN'),\n",
       " ('a', 'DT'),\n",
       " ('doomed', 'JJ'),\n",
       " ('doctor', 'NN'),\n",
       " ('chillingly', 'RB'),\n",
       " ('describes', 'VBZ'),\n",
       " ('it', 'PRP'),\n",
       " ('assimilating', 'VBG'),\n",
       " ('flesh', 'NN'),\n",
       " ('on', 'IN'),\n",
       " ('contact', 'NN'),\n",
       " ('Snide', 'JJ'),\n",
       " ('comparisons', 'NNS'),\n",
       " ('to', 'TO'),\n",
       " ('gelatin', 'VB'),\n",
       " ('be', 'VB'),\n",
       " ('damned', 'VBN'),\n",
       " ('it', 'PRP'),\n",
       " (\"'s\", 'VBZ'),\n",
       " ('a', 'DT'),\n",
       " ('concept', 'NN'),\n",
       " ('with', 'IN'),\n",
       " ('the', 'DT'),\n",
       " ('most', 'RBS'),\n",
       " ('devastating', 'JJ'),\n",
       " ('of', 'IN'),\n",
       " ('potential', 'JJ'),\n",
       " ('consequences', 'NNS'),\n",
       " ('not', 'RB'),\n",
       " ('unlike', 'IN'),\n",
       " ('the', 'DT'),\n",
       " ('grey', 'NN'),\n",
       " ('goo', 'NN'),\n",
       " ('scenario', 'NN'),\n",
       " ('proposed', 'VBN'),\n",
       " ('by', 'IN'),\n",
       " ('technological', 'JJ'),\n",
       " ('theorists', 'NNS'),\n",
       " ('fearful', 'NN'),\n",
       " ('of', 'IN'),\n",
       " ('artificial', 'JJ'),\n",
       " ('intelligence', 'NN'),\n",
       " ('run', 'NN'),\n",
       " ('rampant', 'NN')]"
      ]
     },
     "execution_count": 11,
     "metadata": {},
     "output_type": "execute_result"
    }
   ],
   "source": [
    "# Part-of-speech Tagging\n",
    "\n",
    "blob.tags"
   ]
  },
  {
   "cell_type": "markdown",
   "id": "8b5126bb",
   "metadata": {},
   "source": [
    "| Tag | Meaning |\n",
    "|-----|---------|\n",
    "|**`CC`**| Coordinating conjunction|\n",
    "|**`CD`**| Cardinal number|\n",
    "|**`DT`**| Determiner|\n",
    "|**`EX`**| Existential there|\n",
    "|**`FW`**| Foreign word|\n",
    "|**`IN`**| Preposition or subordinating conjunction|\n",
    "|**`JJ`**| Adjective|\n",
    "|**`JJR`**| Adjective, comparative|\n",
    "|**`JJS`**| Adjective, superlative|\n",
    "|**`LS`**| List item marker|\n",
    "|**`MD`**| Modal|\n",
    "|**`NN`**| Noun, singular or mass|\n",
    "|**`NNS`**| Noun, plural|\n",
    "|**`NNP`**| Proper noun, singular|\n",
    "|**`NNPS`**| Proper noun, plural|\n",
    "|**`PDT`**| Predeterminer|\n",
    "|**`POS`**| Possessive ending|\n",
    "|**`PRP`**| Personal pronoun|\n",
    "|**`PRP$`**| \tPossessive pronoun|\n",
    "|**`RB`**| Adverb|\n",
    "|**`RBR`**| Adverb, comparative|\n",
    "|**`RBS`**| Adverb, superlative|\n",
    "|**`RP`**| Particle|\n",
    "|**`SYM`**| Symbol|\n",
    "|**`TO`**| to|\n",
    "|**`UH`**| Interjection|\n",
    "|**`VB`**| Verb, base form|\n",
    "|**`VBD`**| Verb, past tense|\n",
    "|**`VBG`**| Verb, gerund or present participle|\n",
    "|**`VBN`**| Verb, past participle|\n",
    "|**`VBP`**| Verb, non-3rd person singular present|\n",
    "|**`VBZ`**| Verb, 3rd person singular present|\n",
    "|**`WDT`**| Wh-determiner|\n",
    "|**`WP`**| Wh-pronoun|\n",
    "|**`WP$`**| Possessive wh-pronoun|\n",
    "|**`WRB`**| Wh-adverb|"
   ]
  },
  {
   "cell_type": "code",
   "execution_count": 12,
   "id": "048b1299",
   "metadata": {},
   "outputs": [
    {
     "data": {
      "text/plain": [
       "WordList(['titular threat', 'blob', 'ultimate movie monster', 'amoeba-like mass', 'snide', 'potential consequences', 'grey goo scenario', 'technological theorists fearful', 'artificial intelligence run rampant'])"
      ]
     },
     "execution_count": 12,
     "metadata": {},
     "output_type": "execute_result"
    }
   ],
   "source": [
    "# Pronombres (Nouns)\n",
    "\n",
    "blob.noun_phrases "
   ]
  },
  {
   "cell_type": "code",
   "execution_count": 13,
   "id": "83558ef3",
   "metadata": {},
   "outputs": [
    {
     "data": {
      "text/plain": [
       "[Sentence(\"The titular threat of The Blob has always struck me as the ultimate movie\n",
       "             monster: an insatiably hungry, amoeba-like mass able to penetrate\n",
       "             virtually any safeguard, capable of--as a doomed doctor chillingly\n",
       "             describes it--\"assimilating flesh on contact.\"),\n",
       " Sentence(\"Snide comparisons to gelatin be damned, it's a concept with the most\n",
       "             devastating of potential consequences, not unlike the grey goo scenario\n",
       "             proposed by technological theorists fearful of\n",
       "             artificial intelligence run rampant.\")]"
      ]
     },
     "execution_count": 13,
     "metadata": {},
     "output_type": "execute_result"
    }
   ],
   "source": [
    "# Oraciones (sentences)\n",
    "\n",
    "blob.sentences"
   ]
  },
  {
   "cell_type": "code",
   "execution_count": 14,
   "id": "758cb2db",
   "metadata": {},
   "outputs": [
    {
     "data": {
      "text/plain": [
       "TextBlob(\"The titular threat of The Blob has always struck me as the ultimate movie\n",
       "            monster: an insatiably hungry, amoeba-like mass able to penetrate\n",
       "            virtually any safeguard, capable of--as a doomed doctor chillingly\n",
       "            describes it--\"assimilating flesh on contact.\n",
       "            Snide comparisons to gelatin be damned, it's a concept with the most\n",
       "            devastating of potential consequences, not unlike the grey goo scenario\n",
       "            proposed by technological theorists fearful of\n",
       "            artificial intelligence run rampant.\")"
      ]
     },
     "execution_count": 14,
     "metadata": {},
     "output_type": "execute_result"
    }
   ],
   "source": [
    "blob"
   ]
  },
  {
   "cell_type": "markdown",
   "id": "54a9c4dc",
   "metadata": {},
   "source": [
    "### Polaridad y Subjetividad"
   ]
  },
  {
   "cell_type": "code",
   "execution_count": 15,
   "id": "560fd8df",
   "metadata": {},
   "outputs": [
    {
     "name": "stdout",
     "output_type": "stream",
     "text": [
      "Sentiment(polarity=0.06000000000000001, subjectivity=0.605)\n",
      "----------------------------------------------------------------------------------------------------\n",
      "Sentiment(polarity=-0.34166666666666673, subjectivity=0.7666666666666666)\n",
      "----------------------------------------------------------------------------------------------------\n"
     ]
    }
   ],
   "source": [
    "for sentence in blob.sentences:\n",
    "    print(sentence.sentiment)\n",
    "    print(\"-\"*100)"
   ]
  },
  {
   "cell_type": "markdown",
   "id": "7aa4dfc3",
   "metadata": {},
   "source": [
    "### Lematización"
   ]
  },
  {
   "cell_type": "code",
   "execution_count": 16,
   "id": "5d3f9927",
   "metadata": {},
   "outputs": [
    {
     "data": {
      "text/plain": [
       "'octopus'"
      ]
     },
     "execution_count": 16,
     "metadata": {},
     "output_type": "execute_result"
    }
   ],
   "source": [
    "from textblob import Word\n",
    "\n",
    "w = Word(\"octopi\")\n",
    "w.lemmatize()"
   ]
  },
  {
   "cell_type": "code",
   "execution_count": 17,
   "id": "775e0180",
   "metadata": {},
   "outputs": [
    {
     "data": {
      "text/plain": [
       "'go'"
      ]
     },
     "execution_count": 17,
     "metadata": {},
     "output_type": "execute_result"
    }
   ],
   "source": [
    "w = Word(\"went\")\n",
    "w.lemmatize(\"v\") # \"verb\""
   ]
  },
  {
   "cell_type": "code",
   "execution_count": 19,
   "id": "716a2f32",
   "metadata": {},
   "outputs": [
    {
     "data": {
      "text/plain": [
       "'went'"
      ]
     },
     "execution_count": 19,
     "metadata": {},
     "output_type": "execute_result"
    }
   ],
   "source": [
    "w.lemmatize()"
   ]
  },
  {
   "cell_type": "markdown",
   "id": "5b790ea4",
   "metadata": {},
   "source": [
    "### Corrector"
   ]
  },
  {
   "cell_type": "code",
   "execution_count": 20,
   "id": "0dc3598f",
   "metadata": {},
   "outputs": [
    {
     "name": "stdout",
     "output_type": "stream",
     "text": [
      "Alice in wonderland is an amazing book\n"
     ]
    }
   ],
   "source": [
    "b = TextBlob(\"Alici in wonderland is an amzingg bouk\")\n",
    "print(b.correct())"
   ]
  },
  {
   "cell_type": "code",
   "execution_count": 21,
   "id": "9bdab0ce",
   "metadata": {},
   "outputs": [
    {
     "name": "stdout",
     "output_type": "stream",
     "text": [
      "Lie in wunderland is an amazing bulk\n"
     ]
    }
   ],
   "source": [
    "# .correct() falla muy fácil\n",
    "\n",
    "b = TextBlob(\"Alic in wunderland is an amzingg buuk\")\n",
    "print(b.correct())"
   ]
  },
  {
   "cell_type": "markdown",
   "id": "1d393569",
   "metadata": {},
   "source": [
    "### Conteo de palabras"
   ]
  },
  {
   "cell_type": "code",
   "execution_count": 22,
   "id": "912ff33a",
   "metadata": {},
   "outputs": [],
   "source": [
    "with open(\"../Data/alice_in_wonderland.txt\") as f:\n",
    "    blob = TextBlob(f.read())"
   ]
  },
  {
   "cell_type": "code",
   "execution_count": 23,
   "id": "cdd3edb5",
   "metadata": {},
   "outputs": [
    {
     "data": {
      "text/plain": [
       "396"
      ]
     },
     "execution_count": 23,
     "metadata": {},
     "output_type": "execute_result"
    }
   ],
   "source": [
    "blob.words.count(\"Alice\", case_sensitive = True)"
   ]
  },
  {
   "cell_type": "code",
   "execution_count": 24,
   "id": "fe7c3b53",
   "metadata": {},
   "outputs": [
    {
     "data": {
      "text/plain": [
       "399"
      ]
     },
     "execution_count": 24,
     "metadata": {},
     "output_type": "execute_result"
    }
   ],
   "source": [
    "blob.words.count(\"Alice\", case_sensitive = False)"
   ]
  },
  {
   "cell_type": "markdown",
   "id": "0420d0d3",
   "metadata": {},
   "source": [
    "### N-gramas"
   ]
  },
  {
   "cell_type": "code",
   "execution_count": 25,
   "id": "9350c4ff",
   "metadata": {},
   "outputs": [],
   "source": [
    "texto = \"The quick brown fox jumps over the lazy dog.\""
   ]
  },
  {
   "cell_type": "code",
   "execution_count": 26,
   "id": "7b59c08e",
   "metadata": {},
   "outputs": [],
   "source": [
    "blob = TextBlob(texto)"
   ]
  },
  {
   "cell_type": "code",
   "execution_count": 28,
   "id": "e0a8ecca",
   "metadata": {},
   "outputs": [
    {
     "data": {
      "text/plain": [
       "[WordList(['The', 'quick', 'brown']),\n",
       " WordList(['quick', 'brown', 'fox']),\n",
       " WordList(['brown', 'fox', 'jumps']),\n",
       " WordList(['fox', 'jumps', 'over']),\n",
       " WordList(['jumps', 'over', 'the']),\n",
       " WordList(['over', 'the', 'lazy']),\n",
       " WordList(['the', 'lazy', 'dog'])]"
      ]
     },
     "execution_count": 28,
     "metadata": {},
     "output_type": "execute_result"
    }
   ],
   "source": [
    "blob.ngrams(n = 3)"
   ]
  },
  {
   "cell_type": "code",
   "execution_count": 29,
   "id": "f54ac0bf",
   "metadata": {},
   "outputs": [
    {
     "data": {
      "text/plain": [
       "9"
      ]
     },
     "execution_count": 29,
     "metadata": {},
     "output_type": "execute_result"
    }
   ],
   "source": [
    "len(blob.words)"
   ]
  },
  {
   "cell_type": "code",
   "execution_count": 30,
   "id": "20e7d6c3",
   "metadata": {},
   "outputs": [
    {
     "data": {
      "text/plain": [
       "7"
      ]
     },
     "execution_count": 30,
     "metadata": {},
     "output_type": "execute_result"
    }
   ],
   "source": [
    "len(blob.ngrams(n = 3))"
   ]
  },
  {
   "cell_type": "code",
   "execution_count": 31,
   "id": "4f1ee562",
   "metadata": {},
   "outputs": [
    {
     "name": "stdout",
     "output_type": "stream",
     "text": [
      "Sentiment(polarity=0.04166666666666666, subjectivity=0.75)\n",
      "----------------------------------------------------------------------------------------------------\n"
     ]
    }
   ],
   "source": [
    "for sentence in blob.sentences:\n",
    "    print(sentence.sentiment)\n",
    "    print(\"-\"*100)"
   ]
  },
  {
   "cell_type": "markdown",
   "id": "531adf98",
   "metadata": {},
   "source": [
    "### POS y NEG"
   ]
  },
  {
   "cell_type": "code",
   "execution_count": 32,
   "id": "9ca4f57e",
   "metadata": {},
   "outputs": [],
   "source": [
    "from textblob.sentiments import NaiveBayesAnalyzer\n",
    "\n",
    "with open(\"../Data/alice_in_wonderland.txt\") as file:\n",
    "    texto = file.read()\n",
    "    \n",
    "blob = TextBlob(\"I'm feeling good\", analyzer = NaiveBayesAnalyzer())"
   ]
  },
  {
   "cell_type": "code",
   "execution_count": null,
   "id": "8ccd50ef",
   "metadata": {
    "scrolled": true
   },
   "outputs": [],
   "source": [
    "for sent in blob.sentences:\n",
    "    print(sent.sentiment)\n",
    "    print(\"-\"*100)"
   ]
  },
  {
   "cell_type": "code",
   "execution_count": 34,
   "id": "06e5628a",
   "metadata": {},
   "outputs": [
    {
     "data": {
      "text/plain": [
       "Sentiment(classification='pos', p_pos=0.5706365032741384, p_neg=0.42936349672586166)"
      ]
     },
     "execution_count": 34,
     "metadata": {},
     "output_type": "execute_result"
    }
   ],
   "source": [
    "blob = TextBlob(\"I'm feeling good\", analyzer = NaiveBayesAnalyzer())\n",
    "blob.sentiment"
   ]
  },
  {
   "cell_type": "code",
   "execution_count": null,
   "id": "1ad84074-ab4a-475b-8a2d-2205d7036bb9",
   "metadata": {},
   "outputs": [],
   "source": []
  },
  {
   "cell_type": "code",
   "execution_count": null,
   "id": "46333352-475e-4302-aa6c-258e8e1a1770",
   "metadata": {},
   "outputs": [],
   "source": []
  },
  {
   "cell_type": "code",
   "execution_count": null,
   "id": "d06019dd-ae5b-48a3-be6e-fd548aa7a14f",
   "metadata": {},
   "outputs": [],
   "source": []
  },
  {
   "cell_type": "code",
   "execution_count": null,
   "id": "406bb5f5-9e85-48f8-813d-d7c29ce58291",
   "metadata": {},
   "outputs": [],
   "source": []
  },
  {
   "cell_type": "code",
   "execution_count": null,
   "id": "11dcc6a4",
   "metadata": {},
   "outputs": [],
   "source": [
    "################################################################################################################################"
   ]
  }
 ],
 "metadata": {
  "kernelspec": {
   "display_name": "Python 3 (ipykernel)",
   "language": "python",
   "name": "python3"
  },
  "language_info": {
   "codemirror_mode": {
    "name": "ipython",
    "version": 3
   },
   "file_extension": ".py",
   "mimetype": "text/x-python",
   "name": "python",
   "nbconvert_exporter": "python",
   "pygments_lexer": "ipython3",
   "version": "3.11.7"
  }
 },
 "nbformat": 4,
 "nbformat_minor": 5
}
