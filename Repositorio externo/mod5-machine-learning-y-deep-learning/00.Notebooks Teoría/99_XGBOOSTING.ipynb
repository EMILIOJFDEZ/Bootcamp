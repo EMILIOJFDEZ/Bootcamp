{
 "cells": [
  {
   "cell_type": "markdown",
   "id": "e4799cc3-7897-434c-9509-5ad980f723c5",
   "metadata": {},
   "source": [
    "### Utilizar el algoritmo de XGBOOSTING.\n",
    "\n",
    "(Buscar en internet como utilizarlo)\n",
    "\n",
    "### Lo vamos a probar en el dataset del titanic \n",
    "\n",
    "### Escribir en un google docs en que se basa el XGBOOST y en que se diferencia del gradient boosting\n",
    "\n",
    "### Vamos a intentar obtener el accuracy más alto posible (hiperparametrización)"
   ]
  },
  {
   "cell_type": "code",
   "execution_count": null,
   "id": "c2151dba-5cc0-4ca6-affd-2441893f1834",
   "metadata": {},
   "outputs": [],
   "source": []
  },
  {
   "cell_type": "code",
   "execution_count": null,
   "id": "5f9d98a2-6297-41de-9268-b150c30b9745",
   "metadata": {},
   "outputs": [],
   "source": []
  },
  {
   "cell_type": "code",
   "execution_count": null,
   "id": "4f76a964-0c1c-4519-9659-b596d1fe6eeb",
   "metadata": {},
   "outputs": [],
   "source": []
  },
  {
   "cell_type": "code",
   "execution_count": null,
   "id": "4d38a9c4-ebdd-40c2-a2b3-46569cc38f1f",
   "metadata": {},
   "outputs": [],
   "source": []
  }
 ],
 "metadata": {
  "kernelspec": {
   "display_name": "Python 3",
   "language": "python",
   "name": "python3"
  },
  "language_info": {
   "codemirror_mode": {
    "name": "ipython",
    "version": 3
   },
   "file_extension": ".py",
   "mimetype": "text/x-python",
   "name": "python",
   "nbconvert_exporter": "python",
   "pygments_lexer": "ipython3",
   "version": "3.9.4"
  }
 },
 "nbformat": 4,
 "nbformat_minor": 5
}
