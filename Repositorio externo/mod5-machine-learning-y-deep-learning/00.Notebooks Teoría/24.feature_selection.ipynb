{
 "cells": [
  {
   "cell_type": "markdown",
   "id": "ae167c1d",
   "metadata": {},
   "source": [
    "## Feature Selection"
   ]
  },
  {
   "cell_type": "markdown",
   "id": "4f4d4ea3",
   "metadata": {},
   "source": [
    "**Feature Selection** es el proceso de seleccionar el mejor conjunto de columnas para entrenar modelos de predicción.\n",
    "\n",
    "Los principales objetivos del Feature Selection son:\n",
    "- Simplificar modelos.\n",
    "- Reducir el tiempo de entrenamiento de modelos de predicción.\n",
    "- Evitar overfitting."
   ]
  },
  {
   "cell_type": "code",
   "execution_count": 1,
   "id": "85340490",
   "metadata": {},
   "outputs": [],
   "source": [
    "import numpy as np\n",
    "import pandas as pd\n",
    "\n",
    "import matplotlib # Para ver la versión\n",
    "import matplotlib.pyplot as plt\n",
    "import seaborn as sns\n",
    "\n",
    "import sklearn # Para ver la versión"
   ]
  },
  {
   "cell_type": "code",
   "execution_count": 2,
   "id": "7785f07a-09a6-4764-b5a0-3b7ca9cf49b8",
   "metadata": {},
   "outputs": [
    {
     "name": "stdout",
     "output_type": "stream",
     "text": [
      "numpy==1.20.3\n",
      "pandas==1.2.4\n",
      "matplotlib==3.4.2\n",
      "seaborn==0.11.1\n",
      "scikit-learn==1.5.1\n"
     ]
    }
   ],
   "source": [
    "# Versiones\n",
    "\n",
    "print(f\"numpy=={np.__version__}\")\n",
    "print(f\"pandas=={pd.__version__}\")\n",
    "print(f\"matplotlib=={matplotlib.__version__}\")\n",
    "print(f\"seaborn=={sns.__version__}\")\n",
    "print(f\"scikit-learn=={sklearn.__version__}\")"
   ]
  },
  {
   "cell_type": "code",
   "execution_count": 3,
   "id": "f2f330e0",
   "metadata": {},
   "outputs": [
    {
     "data": {
      "text/plain": [
       "(6497, 13)"
      ]
     },
     "execution_count": 3,
     "metadata": {},
     "output_type": "execute_result"
    }
   ],
   "source": [
    "# Datos\n",
    "\n",
    "df1 = pd.read_csv(\"../Data/winequality_red.csv\", sep = \";\")\n",
    "df2 = pd.read_csv(\"../Data/winequality_white.csv\", sep = \";\")\n",
    "\n",
    "df1[\"wine\"] = 0\n",
    "df2[\"wine\"] = 1\n",
    "\n",
    "df = pd.concat([df1, df2], ignore_index = True)\n",
    "\n",
    "df.shape"
   ]
  },
  {
   "cell_type": "code",
   "execution_count": 4,
   "id": "7c272168",
   "metadata": {},
   "outputs": [
    {
     "data": {
      "text/plain": [
       "Index(['fixed acidity', 'volatile acidity', 'citric acid', 'residual sugar',\n",
       "       'chlorides', 'free sulfur dioxide', 'total sulfur dioxide', 'density',\n",
       "       'pH', 'sulphates', 'alcohol', 'quality', 'wine'],\n",
       "      dtype='object')"
      ]
     },
     "execution_count": 4,
     "metadata": {},
     "output_type": "execute_result"
    }
   ],
   "source": [
    "df.columns"
   ]
  },
  {
   "cell_type": "code",
   "execution_count": 5,
   "id": "2632988d",
   "metadata": {},
   "outputs": [
    {
     "data": {
      "text/html": [
       "<div>\n",
       "<style scoped>\n",
       "    .dataframe tbody tr th:only-of-type {\n",
       "        vertical-align: middle;\n",
       "    }\n",
       "\n",
       "    .dataframe tbody tr th {\n",
       "        vertical-align: top;\n",
       "    }\n",
       "\n",
       "    .dataframe thead th {\n",
       "        text-align: right;\n",
       "    }\n",
       "</style>\n",
       "<table border=\"1\" class=\"dataframe\">\n",
       "  <thead>\n",
       "    <tr style=\"text-align: right;\">\n",
       "      <th></th>\n",
       "      <th>fixed acidity</th>\n",
       "      <th>volatile acidity</th>\n",
       "      <th>citric acid</th>\n",
       "      <th>residual sugar</th>\n",
       "      <th>chlorides</th>\n",
       "      <th>free sulfur dioxide</th>\n",
       "      <th>total sulfur dioxide</th>\n",
       "      <th>density</th>\n",
       "      <th>pH</th>\n",
       "      <th>sulphates</th>\n",
       "      <th>alcohol</th>\n",
       "      <th>quality</th>\n",
       "      <th>wine</th>\n",
       "    </tr>\n",
       "  </thead>\n",
       "  <tbody>\n",
       "    <tr>\n",
       "      <th>0</th>\n",
       "      <td>7.4</td>\n",
       "      <td>0.70</td>\n",
       "      <td>0.00</td>\n",
       "      <td>1.9</td>\n",
       "      <td>0.076</td>\n",
       "      <td>11.0</td>\n",
       "      <td>34.0</td>\n",
       "      <td>0.9978</td>\n",
       "      <td>3.51</td>\n",
       "      <td>0.56</td>\n",
       "      <td>9.4</td>\n",
       "      <td>5</td>\n",
       "      <td>0</td>\n",
       "    </tr>\n",
       "    <tr>\n",
       "      <th>1</th>\n",
       "      <td>7.8</td>\n",
       "      <td>0.88</td>\n",
       "      <td>0.00</td>\n",
       "      <td>2.6</td>\n",
       "      <td>0.098</td>\n",
       "      <td>25.0</td>\n",
       "      <td>67.0</td>\n",
       "      <td>0.9968</td>\n",
       "      <td>3.20</td>\n",
       "      <td>0.68</td>\n",
       "      <td>9.8</td>\n",
       "      <td>5</td>\n",
       "      <td>0</td>\n",
       "    </tr>\n",
       "    <tr>\n",
       "      <th>2</th>\n",
       "      <td>7.8</td>\n",
       "      <td>0.76</td>\n",
       "      <td>0.04</td>\n",
       "      <td>2.3</td>\n",
       "      <td>0.092</td>\n",
       "      <td>15.0</td>\n",
       "      <td>54.0</td>\n",
       "      <td>0.9970</td>\n",
       "      <td>3.26</td>\n",
       "      <td>0.65</td>\n",
       "      <td>9.8</td>\n",
       "      <td>5</td>\n",
       "      <td>0</td>\n",
       "    </tr>\n",
       "    <tr>\n",
       "      <th>3</th>\n",
       "      <td>11.2</td>\n",
       "      <td>0.28</td>\n",
       "      <td>0.56</td>\n",
       "      <td>1.9</td>\n",
       "      <td>0.075</td>\n",
       "      <td>17.0</td>\n",
       "      <td>60.0</td>\n",
       "      <td>0.9980</td>\n",
       "      <td>3.16</td>\n",
       "      <td>0.58</td>\n",
       "      <td>9.8</td>\n",
       "      <td>6</td>\n",
       "      <td>0</td>\n",
       "    </tr>\n",
       "    <tr>\n",
       "      <th>4</th>\n",
       "      <td>7.4</td>\n",
       "      <td>0.70</td>\n",
       "      <td>0.00</td>\n",
       "      <td>1.9</td>\n",
       "      <td>0.076</td>\n",
       "      <td>11.0</td>\n",
       "      <td>34.0</td>\n",
       "      <td>0.9978</td>\n",
       "      <td>3.51</td>\n",
       "      <td>0.56</td>\n",
       "      <td>9.4</td>\n",
       "      <td>5</td>\n",
       "      <td>0</td>\n",
       "    </tr>\n",
       "  </tbody>\n",
       "</table>\n",
       "</div>"
      ],
      "text/plain": [
       "   fixed acidity  volatile acidity  citric acid  residual sugar  chlorides  \\\n",
       "0            7.4              0.70         0.00             1.9      0.076   \n",
       "1            7.8              0.88         0.00             2.6      0.098   \n",
       "2            7.8              0.76         0.04             2.3      0.092   \n",
       "3           11.2              0.28         0.56             1.9      0.075   \n",
       "4            7.4              0.70         0.00             1.9      0.076   \n",
       "\n",
       "   free sulfur dioxide  total sulfur dioxide  density    pH  sulphates  \\\n",
       "0                 11.0                  34.0   0.9978  3.51       0.56   \n",
       "1                 25.0                  67.0   0.9968  3.20       0.68   \n",
       "2                 15.0                  54.0   0.9970  3.26       0.65   \n",
       "3                 17.0                  60.0   0.9980  3.16       0.58   \n",
       "4                 11.0                  34.0   0.9978  3.51       0.56   \n",
       "\n",
       "   alcohol  quality  wine  \n",
       "0      9.4        5     0  \n",
       "1      9.8        5     0  \n",
       "2      9.8        5     0  \n",
       "3      9.8        6     0  \n",
       "4      9.4        5     0  "
      ]
     },
     "execution_count": 5,
     "metadata": {},
     "output_type": "execute_result"
    }
   ],
   "source": [
    "df.head()"
   ]
  },
  {
   "cell_type": "code",
   "execution_count": 6,
   "id": "6788e843",
   "metadata": {},
   "outputs": [
    {
     "data": {
      "text/html": [
       "<div>\n",
       "<style scoped>\n",
       "    .dataframe tbody tr th:only-of-type {\n",
       "        vertical-align: middle;\n",
       "    }\n",
       "\n",
       "    .dataframe tbody tr th {\n",
       "        vertical-align: top;\n",
       "    }\n",
       "\n",
       "    .dataframe thead th {\n",
       "        text-align: right;\n",
       "    }\n",
       "</style>\n",
       "<table border=\"1\" class=\"dataframe\">\n",
       "  <thead>\n",
       "    <tr style=\"text-align: right;\">\n",
       "      <th></th>\n",
       "      <th>fixed acidity</th>\n",
       "      <th>volatile acidity</th>\n",
       "      <th>citric acid</th>\n",
       "      <th>residual sugar</th>\n",
       "      <th>chlorides</th>\n",
       "      <th>free sulfur dioxide</th>\n",
       "      <th>total sulfur dioxide</th>\n",
       "      <th>density</th>\n",
       "      <th>pH</th>\n",
       "      <th>sulphates</th>\n",
       "      <th>alcohol</th>\n",
       "      <th>quality</th>\n",
       "      <th>wine</th>\n",
       "    </tr>\n",
       "  </thead>\n",
       "  <tbody>\n",
       "    <tr>\n",
       "      <th>0</th>\n",
       "      <td>0.297521</td>\n",
       "      <td>0.413333</td>\n",
       "      <td>0.000000</td>\n",
       "      <td>0.019939</td>\n",
       "      <td>0.111296</td>\n",
       "      <td>0.034722</td>\n",
       "      <td>0.064516</td>\n",
       "      <td>0.206092</td>\n",
       "      <td>0.612403</td>\n",
       "      <td>0.191011</td>\n",
       "      <td>0.202899</td>\n",
       "      <td>0.333333</td>\n",
       "      <td>0.0</td>\n",
       "    </tr>\n",
       "    <tr>\n",
       "      <th>1</th>\n",
       "      <td>0.330579</td>\n",
       "      <td>0.533333</td>\n",
       "      <td>0.000000</td>\n",
       "      <td>0.030675</td>\n",
       "      <td>0.147841</td>\n",
       "      <td>0.083333</td>\n",
       "      <td>0.140553</td>\n",
       "      <td>0.186813</td>\n",
       "      <td>0.372093</td>\n",
       "      <td>0.258427</td>\n",
       "      <td>0.260870</td>\n",
       "      <td>0.333333</td>\n",
       "      <td>0.0</td>\n",
       "    </tr>\n",
       "    <tr>\n",
       "      <th>2</th>\n",
       "      <td>0.330579</td>\n",
       "      <td>0.453333</td>\n",
       "      <td>0.024096</td>\n",
       "      <td>0.026074</td>\n",
       "      <td>0.137874</td>\n",
       "      <td>0.048611</td>\n",
       "      <td>0.110599</td>\n",
       "      <td>0.190669</td>\n",
       "      <td>0.418605</td>\n",
       "      <td>0.241573</td>\n",
       "      <td>0.260870</td>\n",
       "      <td>0.333333</td>\n",
       "      <td>0.0</td>\n",
       "    </tr>\n",
       "    <tr>\n",
       "      <th>3</th>\n",
       "      <td>0.611570</td>\n",
       "      <td>0.133333</td>\n",
       "      <td>0.337349</td>\n",
       "      <td>0.019939</td>\n",
       "      <td>0.109635</td>\n",
       "      <td>0.055556</td>\n",
       "      <td>0.124424</td>\n",
       "      <td>0.209948</td>\n",
       "      <td>0.341085</td>\n",
       "      <td>0.202247</td>\n",
       "      <td>0.260870</td>\n",
       "      <td>0.500000</td>\n",
       "      <td>0.0</td>\n",
       "    </tr>\n",
       "    <tr>\n",
       "      <th>4</th>\n",
       "      <td>0.297521</td>\n",
       "      <td>0.413333</td>\n",
       "      <td>0.000000</td>\n",
       "      <td>0.019939</td>\n",
       "      <td>0.111296</td>\n",
       "      <td>0.034722</td>\n",
       "      <td>0.064516</td>\n",
       "      <td>0.206092</td>\n",
       "      <td>0.612403</td>\n",
       "      <td>0.191011</td>\n",
       "      <td>0.202899</td>\n",
       "      <td>0.333333</td>\n",
       "      <td>0.0</td>\n",
       "    </tr>\n",
       "  </tbody>\n",
       "</table>\n",
       "</div>"
      ],
      "text/plain": [
       "   fixed acidity  volatile acidity  citric acid  residual sugar  chlorides  \\\n",
       "0       0.297521          0.413333     0.000000        0.019939   0.111296   \n",
       "1       0.330579          0.533333     0.000000        0.030675   0.147841   \n",
       "2       0.330579          0.453333     0.024096        0.026074   0.137874   \n",
       "3       0.611570          0.133333     0.337349        0.019939   0.109635   \n",
       "4       0.297521          0.413333     0.000000        0.019939   0.111296   \n",
       "\n",
       "   free sulfur dioxide  total sulfur dioxide   density        pH  sulphates  \\\n",
       "0             0.034722              0.064516  0.206092  0.612403   0.191011   \n",
       "1             0.083333              0.140553  0.186813  0.372093   0.258427   \n",
       "2             0.048611              0.110599  0.190669  0.418605   0.241573   \n",
       "3             0.055556              0.124424  0.209948  0.341085   0.202247   \n",
       "4             0.034722              0.064516  0.206092  0.612403   0.191011   \n",
       "\n",
       "    alcohol   quality  wine  \n",
       "0  0.202899  0.333333   0.0  \n",
       "1  0.260870  0.333333   0.0  \n",
       "2  0.260870  0.333333   0.0  \n",
       "3  0.260870  0.500000   0.0  \n",
       "4  0.202899  0.333333   0.0  "
      ]
     },
     "execution_count": 6,
     "metadata": {},
     "output_type": "execute_result"
    }
   ],
   "source": [
    "from sklearn.preprocessing import MinMaxScaler\n",
    "\n",
    "x_scaler = MinMaxScaler()\n",
    "x_scaler.set_output(transform=\"pandas\")\n",
    "\n",
    "df = x_scaler.fit_transform(df)\n",
    "\n",
    "df.head()"
   ]
  },
  {
   "cell_type": "markdown",
   "id": "6ffb63b1",
   "metadata": {},
   "source": [
    "### Eliminar columnas con poca varianza\n",
    "\n",
    "Elimina todas las columnas cuya variación no alcanza un threshold. Por defecto elimina todas las columnas de varianza cero, es decir, las columnas que tienen el mismo valor en todas las filas."
   ]
  },
  {
   "cell_type": "code",
   "execution_count": null,
   "id": "c4afc6cd",
   "metadata": {},
   "outputs": [],
   "source": [
    "from sklearn.feature_selection import VarianceThreshold\n",
    "\n",
    "X = df.drop(\"wine\", axis = 1)\n",
    "y = df[\"wine\"]\n",
    "\n",
    "feature_names = np.array(X.columns)\n",
    "\n",
    "# threshold : p(1 - p)\n",
    "\n",
    "p = 0.01\n",
    "thresh = p * (1 - p)\n",
    "\n",
    "print(thresh)\n",
    "\n",
    "f_selection = VarianceThreshold(threshold = thresh)\n",
    "f_selection.fit(X)\n",
    "\n",
    "X_fs = f_selection.transform(X)\n",
    "\n",
    "X_fs.shape\n",
    "\n",
    "# Nota: Se usan todas las columnas exceptuando la columna objetivo"
   ]
  },
  {
   "cell_type": "code",
   "execution_count": null,
   "id": "0527b40b",
   "metadata": {},
   "outputs": [],
   "source": [
    "# Columnas\n",
    "feature_names[f_selection.get_support()]"
   ]
  },
  {
   "cell_type": "code",
   "execution_count": null,
   "id": "127ca877",
   "metadata": {},
   "outputs": [],
   "source": [
    "f_selection.get_support()"
   ]
  },
  {
   "cell_type": "code",
   "execution_count": null,
   "id": "7b0c6914",
   "metadata": {},
   "outputs": [],
   "source": [
    "df.drop(\"wine\", axis = 1).var()"
   ]
  },
  {
   "cell_type": "markdown",
   "id": "c0b5ece6",
   "metadata": {},
   "source": [
    "### Feature Selection Univariable\n",
    "\n",
    "Funciona seleccionando las mejores columnas basadas en pruebas estadísticas de una sola variable (columna).\n",
    "\n",
    "- **SelectKBest** se queda con las K-columnas que tenga mayor metrica.\n",
    "\n",
    "- **SelectPercentile** se queda con las columnas dentro de un percentil especificado.\n",
    "\n",
    "Estos algoritmos funcionan con metricas específicas:\n",
    "\n",
    "- **Para regresion:** f_regression, mutual_info_regression\n",
    "\n",
    "- **Para clasificacion:** chi2, f_classif, mutual_info_classif\n",
    "\n",
    "Los métodos **f_regression** y **f_classif** calculan el grado de dependencia lineal entre dos variables aleatorias.\n",
    "\n",
    "Los métodos **mutual_info_regression** y **mutual_info_classif** calculan dependencia estadística, requieren más muestras (filas) para ser mas precisos."
   ]
  },
  {
   "cell_type": "code",
   "execution_count": 8,
   "id": "2b053550",
   "metadata": {},
   "outputs": [
    {
     "data": {
      "text/plain": [
       "(6497, 6)"
      ]
     },
     "execution_count": 8,
     "metadata": {},
     "output_type": "execute_result"
    }
   ],
   "source": [
    "# SelectKBest\n",
    "\n",
    "from sklearn.feature_selection import SelectKBest\n",
    "from sklearn.feature_selection import chi2\n",
    "\n",
    "X = df.drop(\"wine\", axis = 1)\n",
    "y = df[\"wine\"]\n",
    "\n",
    "feature_names = np.array(X.columns)\n",
    "\n",
    "k = 6\n",
    "\n",
    "f_selection = SelectKBest(score_func = chi2,\n",
    "                          k          = k)\n",
    "f_selection.fit(X, y)\n",
    "X_fs = f_selection.transform(X)\n",
    "\n",
    "X_fs.shape\n",
    "# Se queda con las mejores k columnas"
   ]
  },
  {
   "cell_type": "code",
   "execution_count": 9,
   "id": "497b650e",
   "metadata": {},
   "outputs": [
    {
     "data": {
      "text/plain": [
       "array(['fixed acidity', 'volatile acidity', 'residual sugar', 'chlorides',\n",
       "       'total sulfur dioxide', 'sulphates'], dtype=object)"
      ]
     },
     "execution_count": 9,
     "metadata": {},
     "output_type": "execute_result"
    }
   ],
   "source": [
    "# Columnas\n",
    "feature_names[f_selection.get_support()]"
   ]
  },
  {
   "cell_type": "code",
   "execution_count": 10,
   "id": "c431428b",
   "metadata": {},
   "outputs": [
    {
     "data": {
      "text/plain": [
       "(6497, 3)"
      ]
     },
     "execution_count": 10,
     "metadata": {},
     "output_type": "execute_result"
    }
   ],
   "source": [
    "# SelectPercentile\n",
    "\n",
    "from sklearn.feature_selection import SelectPercentile\n",
    "from sklearn.feature_selection import f_classif\n",
    "\n",
    "X = df.drop(\"wine\", axis = 1)\n",
    "y = df[\"wine\"]\n",
    "\n",
    "feature_names = np.array(X.columns)\n",
    "\n",
    "perc = 20\n",
    "\n",
    "f_selection = SelectPercentile(score_func = f_classif,\n",
    "                               percentile = perc)\n",
    "f_selection.fit(X, y)\n",
    "X_fs = f_selection.transform(X)\n",
    "\n",
    "X_fs.shape\n",
    "# Se queda con las mejores columnas dentro del percentile"
   ]
  },
  {
   "cell_type": "code",
   "execution_count": 12,
   "id": "6d53d864-7c51-44ca-9059-ae592e8c9a67",
   "metadata": {},
   "outputs": [
    {
     "data": {
      "text/plain": [
       "2.4000000000000004"
      ]
     },
     "execution_count": 12,
     "metadata": {},
     "output_type": "execute_result"
    }
   ],
   "source": [
    "12 * 0.2"
   ]
  },
  {
   "cell_type": "code",
   "execution_count": null,
   "id": "92617ef5",
   "metadata": {},
   "outputs": [],
   "source": [
    "np.percentile(a = f_selection.score_func(X, y)[0], q = 80)"
   ]
  },
  {
   "cell_type": "code",
   "execution_count": null,
   "id": "7082accf",
   "metadata": {},
   "outputs": [],
   "source": [
    "f_selection.score_func(X, y)[0]"
   ]
  },
  {
   "cell_type": "code",
   "execution_count": null,
   "id": "16a1683e",
   "metadata": {},
   "outputs": [],
   "source": [
    "np.where(f_selection.score_func(X, y)[0] > np.percentile(a = f_selection.score_func(X, y)[0], q = 80))"
   ]
  },
  {
   "cell_type": "code",
   "execution_count": null,
   "id": "383d98e4",
   "metadata": {},
   "outputs": [],
   "source": [
    "# Columnas\n",
    "feature_names[f_selection.get_support()]"
   ]
  },
  {
   "cell_type": "code",
   "execution_count": null,
   "id": "aed68214",
   "metadata": {},
   "outputs": [],
   "source": [
    "f_selection.get_support()"
   ]
  },
  {
   "cell_type": "markdown",
   "id": "987a8f33",
   "metadata": {},
   "source": [
    "### Feature selection con SelectFromModel\n",
    "\n",
    "**SelectFromModel** es un transformador que se puede utilizar junto con cualquier clasificador que asigne importancia a cada columna a través de un atributo específico como **coef_**, **feature_importances_** o **important_getter**. Las columnas que se consideren sin importancia se eliminan si la importancia está por debajo de un threshold.\n",
    "También se puede utilizar el parámetro **max_features** para seleccionar el numero de columnas."
   ]
  },
  {
   "cell_type": "markdown",
   "id": "38a5cd07",
   "metadata": {},
   "source": [
    "### Tree-based feature selection"
   ]
  },
  {
   "cell_type": "code",
   "execution_count": 25,
   "id": "ca55ca29",
   "metadata": {},
   "outputs": [
    {
     "data": {
      "text/plain": [
       "array([0.0915392 , 0.16545257, 0.03757984, 0.06729617, 0.1115784 ,\n",
       "       0.04898554, 0.24394766, 0.09107023, 0.04202397, 0.07135919,\n",
       "       0.01756481, 0.01160239])"
      ]
     },
     "execution_count": 25,
     "metadata": {},
     "output_type": "execute_result"
    }
   ],
   "source": [
    "from sklearn.ensemble import ExtraTreesClassifier\n",
    "from sklearn.feature_selection import SelectFromModel\n",
    "\n",
    "X = df.drop(\"wine\", axis = 1)\n",
    "y = df[\"wine\"]\n",
    "\n",
    "feature_names = np.array(X.columns)\n",
    "\n",
    "clf = ExtraTreesClassifier(n_estimators = 200)\n",
    "clf = clf.fit(X, y)\n",
    "\n",
    "clf.feature_importances_"
   ]
  },
  {
   "cell_type": "code",
   "execution_count": 20,
   "id": "e7f4f5ab-2e09-4600-99a4-edb24fc01025",
   "metadata": {},
   "outputs": [],
   "source": [
    "cols_delete = feature_names[clf.feature_importances_ < 0.02]"
   ]
  },
  {
   "cell_type": "code",
   "execution_count": 22,
   "id": "e9fcc281-156f-41e6-9e3d-c38ce14286ad",
   "metadata": {},
   "outputs": [],
   "source": [
    "X_new = X.drop(cols_delete, axis = 1)"
   ]
  },
  {
   "cell_type": "code",
   "execution_count": 23,
   "id": "2e2745ad-c2b3-4d21-b7c2-20719626c5a6",
   "metadata": {},
   "outputs": [],
   "source": [
    "clf = ExtraTreesClassifier(n_estimators = 200)\n",
    "clf = clf.fit(X_new, y)"
   ]
  },
  {
   "cell_type": "code",
   "execution_count": null,
   "id": "6262996c-513f-41b4-a73b-5d5dc028e129",
   "metadata": {},
   "outputs": [],
   "source": []
  },
  {
   "cell_type": "code",
   "execution_count": null,
   "id": "f6f2d75a",
   "metadata": {},
   "outputs": [],
   "source": [
    "model = SelectFromModel(estimator    = clf,\n",
    "                        prefit       = True,\n",
    "                        threshold    = None,\n",
    "                        max_features = 6)\n",
    "\n",
    "X_fs = model.transform(X)\n",
    "X_fs.shape"
   ]
  },
  {
   "cell_type": "code",
   "execution_count": null,
   "id": "6f5389d1",
   "metadata": {},
   "outputs": [],
   "source": [
    "# Columnas\n",
    "feature_names[model.get_support()]"
   ]
  },
  {
   "cell_type": "markdown",
   "id": "30669f14",
   "metadata": {},
   "source": [
    "### Feature impotrance cumsum based selection"
   ]
  },
  {
   "cell_type": "code",
   "execution_count": null,
   "id": "b57a5e6e",
   "metadata": {},
   "outputs": [],
   "source": [
    "max_importance = 0.8 # Suma de importances a lograr\n",
    "\n",
    "# Importances\n",
    "importances = clf.feature_importances_\n",
    "\n",
    "# Suma acumulativa de las importances ordenadas de mayor a menor\n",
    "indices = np.argsort(importances)[::-1]\n",
    "cumsum = np.cumsum(importances[indices])\n",
    "\n",
    "# Filtrado de las mejores columnas que sumen hasta el max_impotrance\n",
    "n_features = np.argmax(cumsum >= max_importance) + 1\n",
    "selected_indices = indices[:n_features]\n",
    "\n",
    "# Columnas\n",
    "feature_names[selected_indices]"
   ]
  },
  {
   "cell_type": "markdown",
   "id": "69e27c07",
   "metadata": {},
   "source": [
    "### Mapa de Correlacion"
   ]
  },
  {
   "cell_type": "code",
   "execution_count": null,
   "id": "6c22b561",
   "metadata": {},
   "outputs": [],
   "source": [
    "fig, ax = plt.subplots(figsize = (15, 8))\n",
    "\n",
    "sns.heatmap(df.corr(), annot = True);"
   ]
  },
  {
   "cell_type": "code",
   "execution_count": null,
   "id": "99eeaaac",
   "metadata": {},
   "outputs": [],
   "source": [
    "################################################################################################################################"
   ]
  }
 ],
 "metadata": {
  "kernelspec": {
   "display_name": "Python 3",
   "language": "python",
   "name": "python3"
  },
  "language_info": {
   "codemirror_mode": {
    "name": "ipython",
    "version": 3
   },
   "file_extension": ".py",
   "mimetype": "text/x-python",
   "name": "python",
   "nbconvert_exporter": "python",
   "pygments_lexer": "ipython3",
   "version": "3.9.4"
  }
 },
 "nbformat": 4,
 "nbformat_minor": 5
}
