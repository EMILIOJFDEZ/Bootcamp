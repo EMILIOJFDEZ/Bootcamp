{
 "cells": [
  {
   "cell_type": "markdown",
   "id": "56b48e87",
   "metadata": {},
   "source": [
    "### RNN"
   ]
  },
  {
   "cell_type": "code",
   "execution_count": null,
   "id": "2deef60e",
   "metadata": {},
   "outputs": [],
   "source": [
    "import numpy as np\n",
    "import pandas as pd\n",
    "\n",
    "import matplotlib # Para ver la versión\n",
    "import matplotlib.pyplot as plt\n",
    "\n",
    "import tensorflow as tf # Para ver la versión\n",
    "import keras # Para ver la versión\n",
    "\n",
    "from keras.models import Sequential\n",
    "from keras.layers import Input, Dense, SimpleRNN, Dropout, LSTM\n",
    "\n",
    "import sklearn # Para ver la versión\n",
    "\n",
    "from sklearn.preprocessing import MinMaxScaler\n",
    "\n",
    "plt.rcParams[\"figure.figsize\"] = (20, 8)"
   ]
  },
  {
   "cell_type": "code",
   "execution_count": null,
   "id": "8932cc45-2d7e-48c1-a9dc-bdbc27d2a996",
   "metadata": {},
   "outputs": [],
   "source": [
    "# Versiones\n",
    "\n",
    "print(f\"numpy=={np.__version__}\")\n",
    "print(f\"pandas=={pd.__version__}\")\n",
    "print(f\"matplotlib=={matplotlib.__version__}\")\n",
    "print(f\"tensorflow=={tf.__version__}\")\n",
    "print(f\"keras=={keras.__version__}\")\n",
    "print(f\"scikit-learn=={sklearn.__version__}\")\n",
    "\n",
    "# Unidades de procesamiento\n",
    "print(\"\\nUnidades de procesamiento:\")\n",
    "for device in tf.config.list_physical_devices():\n",
    "    print(f\"\\t- {device.name}\")"
   ]
  },
  {
   "cell_type": "code",
   "execution_count": null,
   "id": "cbeb8eed",
   "metadata": {},
   "outputs": [],
   "source": [
    "df = pd.read_csv(\"../Data/power_usage_2016_to_2020.csv\")\n",
    "\n",
    "df"
   ]
  },
  {
   "cell_type": "code",
   "execution_count": null,
   "id": "8f4d6b89",
   "metadata": {},
   "outputs": [],
   "source": [
    "df.info()"
   ]
  },
  {
   "cell_type": "code",
   "execution_count": null,
   "id": "29feef36",
   "metadata": {},
   "outputs": [],
   "source": [
    "# Preprocesamiento\n",
    "\n",
    "datos = df.drop([\"StartDate\", \"day_of_week\", \"notes\"], axis = 1)\n",
    "\n",
    "scaler = MinMaxScaler()\n",
    "datos = scaler.fit_transform(datos)\n",
    "\n",
    "\n",
    "datos.shape"
   ]
  },
  {
   "cell_type": "code",
   "execution_count": null,
   "id": "1c71ce65",
   "metadata": {},
   "outputs": [],
   "source": [
    "plt.plot(datos)\n",
    "plt.show()"
   ]
  },
  {
   "cell_type": "code",
   "execution_count": null,
   "id": "a3db0091",
   "metadata": {},
   "outputs": [],
   "source": [
    "df[\"Year\"] = df[\"StartDate\"].map(lambda x : x[:4]) # obtenemos la columna año\n",
    "df.head()"
   ]
  },
  {
   "cell_type": "code",
   "execution_count": null,
   "id": "fe257f49",
   "metadata": {},
   "outputs": [],
   "source": [
    "df_2016 = df[df[\"Year\"] != \"2020\"] #Filtramos por el año 2019\n",
    "df_2020 = df[df[\"Year\"] == \"2020\"]\n",
    "df_2016.reset_index(drop = True, inplace = True)\n",
    "df_2016"
   ]
  },
  {
   "cell_type": "code",
   "execution_count": null,
   "id": "50d3ab96",
   "metadata": {},
   "outputs": [],
   "source": [
    "# Preprocesamiento\n",
    "\n",
    "datos = df.drop([\"StartDate\", \"day_of_week\", \"notes\", \"Year\"], axis = 1)\n",
    "\n",
    "scaler = MinMaxScaler()\n",
    "datos = scaler.fit_transform(datos)\n",
    "\n",
    "datos.shape"
   ]
  },
  {
   "cell_type": "code",
   "execution_count": null,
   "id": "90b6c0ff",
   "metadata": {},
   "outputs": [],
   "source": [
    "plt.plot(datos)\n",
    "plt.show()"
   ]
  },
  {
   "cell_type": "code",
   "execution_count": null,
   "id": "075b0ac1",
   "metadata": {},
   "outputs": [],
   "source": [
    "df_2016[\"day_month_year\"] = df_2016[\"StartDate\"].map(lambda x : x[: 10]).values\n",
    "df_2016.head(30)"
   ]
  },
  {
   "cell_type": "code",
   "execution_count": null,
   "id": "9a79b23c",
   "metadata": {},
   "outputs": [],
   "source": [
    "datos = df_2016.groupby(\"day_month_year\")[\"Value (kWh)\"].sum().values\n",
    "\n",
    "datos"
   ]
  },
  {
   "cell_type": "code",
   "execution_count": null,
   "id": "943b0014",
   "metadata": {},
   "outputs": [],
   "source": [
    "scaler = MinMaxScaler()\n",
    "\n",
    "datos = scaler.fit_transform(datos.reshape(-1, 1))\n",
    "\n",
    "datos.shape"
   ]
  },
  {
   "cell_type": "code",
   "execution_count": null,
   "id": "2a84d75c",
   "metadata": {},
   "outputs": [],
   "source": [
    "plt.plot(datos)\n",
    "plt.show()"
   ]
  },
  {
   "cell_type": "code",
   "execution_count": null,
   "id": "17ca14bf",
   "metadata": {},
   "outputs": [],
   "source": [
    "T = 20 # Segmentos\n",
    "X = list()\n",
    "y = list()\n",
    "\n",
    "for t in range(len(datos) - T):\n",
    "    \n",
    "    # Toma valores de X de t en t con stride de 1\n",
    "    x = datos[t : t + T]\n",
    "    X.append(x)\n",
    "    \n",
    "    # Toma los valores de t en t\n",
    "    y_ = datos[t + T]\n",
    "    y.append(y_)\n",
    "\n",
    "# Transformamos a np.array y ajustamos las dimensiones\n",
    "# Para entrar en el modelo debe de tener 3 dimensiones\n",
    "X = np.array(X).reshape(-1, T, 1)\n",
    "y = np.array(y)\n",
    "N = len(X)\n",
    "\n",
    "print(f\"X: {X.shape}\\ty: {y.shape}\")"
   ]
  },
  {
   "cell_type": "markdown",
   "id": "b343d513",
   "metadata": {},
   "source": [
    "### Año 2020"
   ]
  },
  {
   "cell_type": "code",
   "execution_count": null,
   "id": "003fc278",
   "metadata": {
    "scrolled": true
   },
   "outputs": [],
   "source": [
    "df_2020[\"day_month_year\"] = df_2020[\"StartDate\"].map(lambda x : x[: 10]).values\n",
    "df_2020.head(30)"
   ]
  },
  {
   "cell_type": "code",
   "execution_count": null,
   "id": "2deaf773",
   "metadata": {
    "scrolled": true
   },
   "outputs": [],
   "source": [
    "datos_2020 = df_2020.groupby(\"day_month_year\")[\"Value (kWh)\"].sum().values\n",
    "\n",
    "datos_2020"
   ]
  },
  {
   "cell_type": "code",
   "execution_count": null,
   "id": "d9b58182",
   "metadata": {},
   "outputs": [],
   "source": [
    "datos_2020 = scaler.transform(datos_2020.reshape(-1, 1))\n",
    "\n",
    "datos_2020.shape"
   ]
  },
  {
   "cell_type": "code",
   "execution_count": null,
   "id": "610054ef",
   "metadata": {},
   "outputs": [],
   "source": [
    "plt.plot(datos_2020)\n",
    "plt.show()"
   ]
  },
  {
   "cell_type": "code",
   "execution_count": null,
   "id": "851b78e9",
   "metadata": {},
   "outputs": [],
   "source": [
    "T = 20 # Segmentos\n",
    "X_test = list()\n",
    "y_test = list()\n",
    "\n",
    "for t in range(len(datos_2020) - T):\n",
    "    \n",
    "    # Toma valores de X_test de t en t con stride de 1\n",
    "    x_test = datos_2020[t : t + T]\n",
    "    X_test.append(x_test)\n",
    "    \n",
    "    # Toma los valores de t en t\n",
    "    y_test_ = datos_2020[t + T]\n",
    "    y_test.append(y_test_)\n",
    "\n",
    "# Transformamos a np.array y ajustamos las dimensiones\n",
    "# Para entrar en el modelo debe de tener 3 dimensiones\n",
    "X_test = np.array(X_test).reshape(-1, T, 1)\n",
    "y_test = np.array(y_test)\n",
    "N = len(X_test)\n",
    "\n",
    "print(f\"X_test: {X_test.shape}\\ty_test: {y_test.shape}\")"
   ]
  },
  {
   "cell_type": "markdown",
   "id": "87f12f49",
   "metadata": {},
   "source": [
    "### RNN"
   ]
  },
  {
   "cell_type": "code",
   "execution_count": null,
   "id": "410ac2b7",
   "metadata": {},
   "outputs": [],
   "source": [
    "model = Sequential()\n",
    "\n",
    "model.add(Input(shape = (T, 1)))\n",
    "\n",
    "model.add(SimpleRNN(units = 512, activation = \"relu\"))\n",
    "\n",
    "\n",
    "model.add(Dense(units = 256, activation = \"relu\"))\n",
    "model.add(Dense(units = 128, activation = \"relu\")) \n",
    "model.add(Dense(units = 64, activation = \"relu\")) \n",
    "model.add(Dense(units = 32, activation = \"relu\")) \n",
    "model.add(Dense(units = 1))\n",
    "\n",
    "model.compile(optimizer = \"adam\", loss = \"mse\")\n",
    "\n",
    "model.summary()"
   ]
  },
  {
   "cell_type": "code",
   "execution_count": null,
   "id": "9515c546",
   "metadata": {
    "scrolled": true
   },
   "outputs": [],
   "source": [
    "history = model.fit(x = X,\n",
    "                    y = y,\n",
    "                    validation_data = (X_test, y_test),\n",
    "                    epochs = 100)"
   ]
  },
  {
   "cell_type": "code",
   "execution_count": null,
   "id": "c93553ae",
   "metadata": {},
   "outputs": [],
   "source": [
    "# loss\n",
    "plt.plot(history.history[\"loss\"], label = \"loss\")\n",
    "plt.plot(history.history[\"val_loss\"], label = \"val_loss\")\n",
    "plt.legend()\n",
    "# plt.ylim(0, 1)\n",
    "plt.show()"
   ]
  },
  {
   "cell_type": "markdown",
   "id": "50918c8a",
   "metadata": {},
   "source": [
    "### Predicciones"
   ]
  },
  {
   "cell_type": "code",
   "execution_count": null,
   "id": "32a6b1c5",
   "metadata": {
    "scrolled": true
   },
   "outputs": [],
   "source": [
    "# \"1 - Step Predictions\"\n",
    "\n",
    "# Toma un valor y predice el siguiente\n",
    "\n",
    "validation_target = y_test\n",
    "validation_predictions = list()\n",
    "\n",
    "i = 0\n",
    "\n",
    "while len(validation_predictions) < len(validation_target):\n",
    "    \n",
    "    # Predice el siguiente valor de X[i]\n",
    "    p = model.predict(X[i].reshape(1, -1, 1))[0, 0]\n",
    "    i += 1\n",
    "    \n",
    "    validation_predictions.append(p)\n"
   ]
  },
  {
   "cell_type": "code",
   "execution_count": null,
   "id": "f366f942",
   "metadata": {},
   "outputs": [],
   "source": [
    "plt.plot(validation_target, label = \"forecast target\")\n",
    "plt.plot(validation_predictions, label = \"forecast prediction\")\n",
    "plt.legend()\n",
    "plt.show()"
   ]
  },
  {
   "cell_type": "code",
   "execution_count": null,
   "id": "dbc9c0a2",
   "metadata": {
    "scrolled": true
   },
   "outputs": [],
   "source": [
    "# \"Multiple - Step Predictions\"\n",
    "\n",
    "# Toma el último valor de una serie y predice el siguiente\n",
    "# Usa esa predicción para seguir haciendo predicciones.\n",
    "\n",
    "validation_target = y_test\n",
    "validation_predictions = list()\n",
    "\n",
    "last_x = X[0]\n",
    "\n",
    "while len(validation_predictions) < len(validation_target):\n",
    "    \n",
    "    # En la primera iteración predice el siguiente valor de usando X\n",
    "    # En las siguientes iteraciones usa el valor predicho anterior para predecir el siguiente\n",
    "    p = model.predict(last_x.reshape(1, -1, 1))[0, 0]\n",
    "    \n",
    "    validation_predictions.append(p)\n",
    "    print(f\"Valor: {last_x[-1][0]}\\tPredicción: {p}\")\n",
    "    # Desplaza los elementos en last_x hacia atras, dejando el primer elemento al final\n",
    "    last_x = np.roll(last_x, -1)\n",
    "    \n",
    "    # Cambia el último elemento a la predicción\n",
    "    last_x[-1] = p"
   ]
  },
  {
   "cell_type": "code",
   "execution_count": null,
   "id": "b8b9dc2e",
   "metadata": {},
   "outputs": [],
   "source": [
    "plt.plot(validation_target, label = \"forecast target\")\n",
    "plt.plot(validation_predictions, label = \"forecast prediction\")\n",
    "plt.legend()\n",
    "plt.show()"
   ]
  },
  {
   "cell_type": "code",
   "execution_count": null,
   "id": "2d363d9c",
   "metadata": {},
   "outputs": [],
   "source": [
    "################################################################################################################################"
   ]
  }
 ],
 "metadata": {
  "kernelspec": {
   "display_name": "Python 3 (ipykernel)",
   "language": "python",
   "name": "python3"
  },
  "language_info": {
   "codemirror_mode": {
    "name": "ipython",
    "version": 3
   },
   "file_extension": ".py",
   "mimetype": "text/x-python",
   "name": "python",
   "nbconvert_exporter": "python",
   "pygments_lexer": "ipython3",
   "version": "3.12.3"
  }
 },
 "nbformat": 4,
 "nbformat_minor": 5
}
