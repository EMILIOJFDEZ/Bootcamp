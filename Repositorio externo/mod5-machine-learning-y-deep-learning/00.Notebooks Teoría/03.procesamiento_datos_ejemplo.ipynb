{
 "cells": [
  {
   "cell_type": "markdown",
   "id": "44d8a15e",
   "metadata": {},
   "source": [
    "## Procesamiento de Datos\n",
    "\n",
    "El procesamiento de datos en data science se refiere al conjunto de técnicas, métodos y procesos utilizados para transformar datos brutos en información significativa y útil. Es una parte fundamental del ciclo de vida de los datos y juega un papel crucial en el análisis de datos y la generación de conocimiento.\n",
    "\n",
    "El procesamiento de datos en data science implica varias etapas, que pueden incluir:\n",
    "\n",
    "1. **Limpieza de datos:** Identificar y corregir errores, inconsistencias o valores atípicos en los datos. Esto puede incluir la eliminación de datos duplicados, el manejo de valores perdidos (**NaN's**) y la estandarización de formatos.\n",
    "<br>\n",
    "\n",
    "2. **Transformación de datos:** Convertir los datos en un formato más adecuado para su análisis. Esto puede incluir la normalización de datos, la codificación de variables categóricas, la creación de nuevas características y la agregación de datos.\n",
    "<br>\n",
    "\n",
    "3. **Análisis exploratorio de datos (EDA):** Explorar y visualizar datos para comprender patrones, tendencias y relaciones. Esto incluye la estadísticas descriptivas y la creación de gráficos o visualizaciones.\n",
    "<br>\n",
    "\n",
    "El objetivo del procesamiento de datos es preparar datos para aplicar técnicas de modelado estadístico o Machine Learning, lo que implica la transformación de variables, la creación de nuevas características y la preparación de conjuntos de datos para entrenar y evaluar modelos.\n",
    "\n",
    "Estas etapas de procesamiento de datos no necesariamente siguen un orden, también es normal ver que algunas etapas se entrelazan."
   ]
  },
  {
   "cell_type": "code",
   "execution_count": 1,
   "id": "6310635d-ca96-457d-aedf-e7cd87309fbb",
   "metadata": {},
   "outputs": [
    {
     "name": "stdout",
     "output_type": "stream",
     "text": [
      "Requirement already satisfied: scikit-learn in /Users/federicollanes/miniforge3/envs/fede/lib/python3.9/site-packages (1.5.1)\n",
      "Requirement already satisfied: joblib>=1.2.0 in /Users/federicollanes/miniforge3/envs/fede/lib/python3.9/site-packages (from scikit-learn) (1.4.2)\n",
      "Requirement already satisfied: threadpoolctl>=3.1.0 in /Users/federicollanes/miniforge3/envs/fede/lib/python3.9/site-packages (from scikit-learn) (3.5.0)\n",
      "^C\n",
      "\u001b[31mERROR: Operation cancelled by user\u001b[0m\n"
     ]
    }
   ],
   "source": [
    "!pip install scikit-learn"
   ]
  },
  {
   "cell_type": "code",
   "execution_count": 2,
   "id": "3878fd48",
   "metadata": {},
   "outputs": [],
   "source": [
    "import numpy as np\n",
    "import pandas as pd\n",
    "\n",
    "import matplotlib # Para ver la versión\n",
    "import matplotlib.pyplot as plt\n",
    "import seaborn as sns\n",
    "\n",
    "import sklearn # Para ver la versión"
   ]
  },
  {
   "cell_type": "code",
   "execution_count": 3,
   "id": "6959f1df-b650-4025-8a03-ba92cc6d7982",
   "metadata": {},
   "outputs": [
    {
     "name": "stdout",
     "output_type": "stream",
     "text": [
      "numpy==1.20.3\n",
      "pandas==1.2.4\n",
      "matplotlib==3.4.2\n",
      "seaborn==0.11.1\n",
      "scikit-learn==1.5.1\n"
     ]
    }
   ],
   "source": [
    "# Versiones\n",
    "\n",
    "print(f\"numpy=={np.__version__}\")\n",
    "print(f\"pandas=={pd.__version__}\")\n",
    "print(f\"matplotlib=={matplotlib.__version__}\")\n",
    "print(f\"seaborn=={sns.__version__}\")\n",
    "print(f\"scikit-learn=={sklearn.__version__}\")"
   ]
  },
  {
   "cell_type": "markdown",
   "id": "1a2cc181",
   "metadata": {},
   "source": [
    "### Procesamiento de Datos: Titanic\n",
    "\n",
    "Para este ejemplo vamos a utilizar el dataset de titanic, pasaremos por las cuatro etapas descritas anteriormente.\n",
    "\n",
    "El objetivo del procesamiento de datos es preparar el **DataFrame** para ser usado con un modelo predictivo de **Machine Learning**. Donde el modelo predictivo tendrá como finalidad predecir si una persona sobrevive o no (columna _Survived_) dependiendo de sus atributos.\n",
    "\n",
    "Esto significa que todas las columnas y filas deben tener valores numéricos (cardinales, ordinales o booleanos en formato numerico).\n",
    "\n",
    "- **Números Cardinales**: se utilizan para contar cantidades.\n",
    "- **Números Ordinales**: se utilizan para indicar posición u orden relativo de un elemento en una secuencia.\n",
    "- **Booleanos**: Verdadero o Falso, 1 ó 0 respectivamente."
   ]
  },
  {
   "cell_type": "code",
   "execution_count": 43,
   "id": "0d190f3f",
   "metadata": {},
   "outputs": [
    {
     "data": {
      "text/html": [
       "<div>\n",
       "<style scoped>\n",
       "    .dataframe tbody tr th:only-of-type {\n",
       "        vertical-align: middle;\n",
       "    }\n",
       "\n",
       "    .dataframe tbody tr th {\n",
       "        vertical-align: top;\n",
       "    }\n",
       "\n",
       "    .dataframe thead th {\n",
       "        text-align: right;\n",
       "    }\n",
       "</style>\n",
       "<table border=\"1\" class=\"dataframe\">\n",
       "  <thead>\n",
       "    <tr style=\"text-align: right;\">\n",
       "      <th></th>\n",
       "      <th>PassengerId</th>\n",
       "      <th>Name</th>\n",
       "      <th>Sex</th>\n",
       "      <th>Age</th>\n",
       "      <th>Pclass</th>\n",
       "      <th>Ticket</th>\n",
       "      <th>Fare</th>\n",
       "      <th>Sibsp</th>\n",
       "      <th>Parch</th>\n",
       "      <th>Embarked</th>\n",
       "      <th>Embark_Town</th>\n",
       "      <th>Survived</th>\n",
       "    </tr>\n",
       "  </thead>\n",
       "  <tbody>\n",
       "    <tr>\n",
       "      <th>0</th>\n",
       "      <td>1</td>\n",
       "      <td>Braund, Mr. Owen Harris</td>\n",
       "      <td>male</td>\n",
       "      <td>22.0</td>\n",
       "      <td>3</td>\n",
       "      <td>A/5 21171</td>\n",
       "      <td>7.2500</td>\n",
       "      <td>1</td>\n",
       "      <td>0</td>\n",
       "      <td>C</td>\n",
       "      <td>Cherbourg</td>\n",
       "      <td>0</td>\n",
       "    </tr>\n",
       "    <tr>\n",
       "      <th>1</th>\n",
       "      <td>2</td>\n",
       "      <td>Cumings, Mrs. John Bradley (Florence Briggs Th...</td>\n",
       "      <td>female</td>\n",
       "      <td>38.0</td>\n",
       "      <td>1</td>\n",
       "      <td>PC 17599</td>\n",
       "      <td>71.2833</td>\n",
       "      <td>0</td>\n",
       "      <td>0</td>\n",
       "      <td>S</td>\n",
       "      <td>Southampton</td>\n",
       "      <td>1</td>\n",
       "    </tr>\n",
       "    <tr>\n",
       "      <th>2</th>\n",
       "      <td>3</td>\n",
       "      <td>Heikkinen, Miss. Laina</td>\n",
       "      <td>female</td>\n",
       "      <td>26.0</td>\n",
       "      <td>3</td>\n",
       "      <td>STON/O2. 3101282</td>\n",
       "      <td>7.9250</td>\n",
       "      <td>1</td>\n",
       "      <td>0</td>\n",
       "      <td>S</td>\n",
       "      <td>Southampton</td>\n",
       "      <td>1</td>\n",
       "    </tr>\n",
       "    <tr>\n",
       "      <th>3</th>\n",
       "      <td>4</td>\n",
       "      <td>Futrelle, Mrs. Jacques Heath (Lily May Peel)</td>\n",
       "      <td>female</td>\n",
       "      <td>35.0</td>\n",
       "      <td>1</td>\n",
       "      <td>113803</td>\n",
       "      <td>53.1000</td>\n",
       "      <td>0</td>\n",
       "      <td>0</td>\n",
       "      <td>S</td>\n",
       "      <td>Southampton</td>\n",
       "      <td>1</td>\n",
       "    </tr>\n",
       "    <tr>\n",
       "      <th>4</th>\n",
       "      <td>5</td>\n",
       "      <td>Allen, Mr. William Henry</td>\n",
       "      <td>male</td>\n",
       "      <td>35.0</td>\n",
       "      <td>3</td>\n",
       "      <td>373450</td>\n",
       "      <td>8.0500</td>\n",
       "      <td>0</td>\n",
       "      <td>0</td>\n",
       "      <td>Q</td>\n",
       "      <td>Queenstown</td>\n",
       "      <td>0</td>\n",
       "    </tr>\n",
       "    <tr>\n",
       "      <th>...</th>\n",
       "      <td>...</td>\n",
       "      <td>...</td>\n",
       "      <td>...</td>\n",
       "      <td>...</td>\n",
       "      <td>...</td>\n",
       "      <td>...</td>\n",
       "      <td>...</td>\n",
       "      <td>...</td>\n",
       "      <td>...</td>\n",
       "      <td>...</td>\n",
       "      <td>...</td>\n",
       "      <td>...</td>\n",
       "    </tr>\n",
       "    <tr>\n",
       "      <th>885</th>\n",
       "      <td>886</td>\n",
       "      <td>Rice, Mrs. William (Margaret Norton)</td>\n",
       "      <td>female</td>\n",
       "      <td>39.0</td>\n",
       "      <td>3</td>\n",
       "      <td>382652</td>\n",
       "      <td>29.1250</td>\n",
       "      <td>0</td>\n",
       "      <td>0</td>\n",
       "      <td>S</td>\n",
       "      <td>Southampton</td>\n",
       "      <td>0</td>\n",
       "    </tr>\n",
       "    <tr>\n",
       "      <th>886</th>\n",
       "      <td>887</td>\n",
       "      <td>Montvila, Rev. Juozas</td>\n",
       "      <td>male</td>\n",
       "      <td>27.0</td>\n",
       "      <td>2</td>\n",
       "      <td>211536</td>\n",
       "      <td>13.0000</td>\n",
       "      <td>0</td>\n",
       "      <td>0</td>\n",
       "      <td>S</td>\n",
       "      <td>Southampton</td>\n",
       "      <td>0</td>\n",
       "    </tr>\n",
       "    <tr>\n",
       "      <th>887</th>\n",
       "      <td>888</td>\n",
       "      <td>Graham, Miss. Margaret Edith</td>\n",
       "      <td>female</td>\n",
       "      <td>19.0</td>\n",
       "      <td>1</td>\n",
       "      <td>112053</td>\n",
       "      <td>30.0000</td>\n",
       "      <td>1</td>\n",
       "      <td>2</td>\n",
       "      <td>S</td>\n",
       "      <td>Southampton</td>\n",
       "      <td>1</td>\n",
       "    </tr>\n",
       "    <tr>\n",
       "      <th>888</th>\n",
       "      <td>889</td>\n",
       "      <td>Johnston, Miss. Catherine Helen \"Carrie\"</td>\n",
       "      <td>female</td>\n",
       "      <td>NaN</td>\n",
       "      <td>3</td>\n",
       "      <td>W./C. 6607</td>\n",
       "      <td>23.4500</td>\n",
       "      <td>0</td>\n",
       "      <td>0</td>\n",
       "      <td>C</td>\n",
       "      <td>Cherbourg</td>\n",
       "      <td>0</td>\n",
       "    </tr>\n",
       "    <tr>\n",
       "      <th>889</th>\n",
       "      <td>890</td>\n",
       "      <td>Behr, Mr. Karl Howell</td>\n",
       "      <td>male</td>\n",
       "      <td>26.0</td>\n",
       "      <td>1</td>\n",
       "      <td>111369</td>\n",
       "      <td>30.0000</td>\n",
       "      <td>0</td>\n",
       "      <td>0</td>\n",
       "      <td>Q</td>\n",
       "      <td>Queenstown</td>\n",
       "      <td>1</td>\n",
       "    </tr>\n",
       "  </tbody>\n",
       "</table>\n",
       "<p>890 rows × 12 columns</p>\n",
       "</div>"
      ],
      "text/plain": [
       "     PassengerId                                               Name     Sex  \\\n",
       "0              1                            Braund, Mr. Owen Harris    male   \n",
       "1              2  Cumings, Mrs. John Bradley (Florence Briggs Th...  female   \n",
       "2              3                             Heikkinen, Miss. Laina  female   \n",
       "3              4       Futrelle, Mrs. Jacques Heath (Lily May Peel)  female   \n",
       "4              5                           Allen, Mr. William Henry    male   \n",
       "..           ...                                                ...     ...   \n",
       "885          886               Rice, Mrs. William (Margaret Norton)  female   \n",
       "886          887                              Montvila, Rev. Juozas    male   \n",
       "887          888                       Graham, Miss. Margaret Edith  female   \n",
       "888          889           Johnston, Miss. Catherine Helen \"Carrie\"  female   \n",
       "889          890                              Behr, Mr. Karl Howell    male   \n",
       "\n",
       "      Age  Pclass            Ticket     Fare  Sibsp  Parch Embarked  \\\n",
       "0    22.0       3         A/5 21171   7.2500      1      0        C   \n",
       "1    38.0       1          PC 17599  71.2833      0      0        S   \n",
       "2    26.0       3  STON/O2. 3101282   7.9250      1      0        S   \n",
       "3    35.0       1            113803  53.1000      0      0        S   \n",
       "4    35.0       3            373450   8.0500      0      0        Q   \n",
       "..    ...     ...               ...      ...    ...    ...      ...   \n",
       "885  39.0       3            382652  29.1250      0      0        S   \n",
       "886  27.0       2            211536  13.0000      0      0        S   \n",
       "887  19.0       1            112053  30.0000      1      2        S   \n",
       "888   NaN       3        W./C. 6607  23.4500      0      0        C   \n",
       "889  26.0       1            111369  30.0000      0      0        Q   \n",
       "\n",
       "     Embark_Town  Survived  \n",
       "0      Cherbourg         0  \n",
       "1    Southampton         1  \n",
       "2    Southampton         1  \n",
       "3    Southampton         1  \n",
       "4     Queenstown         0  \n",
       "..           ...       ...  \n",
       "885  Southampton         0  \n",
       "886  Southampton         0  \n",
       "887  Southampton         1  \n",
       "888    Cherbourg         0  \n",
       "889   Queenstown         1  \n",
       "\n",
       "[890 rows x 12 columns]"
      ]
     },
     "execution_count": 43,
     "metadata": {},
     "output_type": "execute_result"
    }
   ],
   "source": [
    "df = pd.read_csv(\"../Data/titanic.csv\")\n",
    "\n",
    "df"
   ]
  },
  {
   "cell_type": "code",
   "execution_count": 44,
   "id": "702a192c-c6c5-4a9e-b0c9-9d38ac9e590e",
   "metadata": {},
   "outputs": [
    {
     "data": {
      "text/plain": [
       "Sex\n",
       "female    0.742038\n",
       "male      0.189236\n",
       "Name: Survived, dtype: float64"
      ]
     },
     "execution_count": 44,
     "metadata": {},
     "output_type": "execute_result"
    }
   ],
   "source": [
    "df.groupby(\"Sex\")['Survived'].mean()"
   ]
  },
  {
   "cell_type": "markdown",
   "id": "738336e4",
   "metadata": {},
   "source": [
    "### 01. Recopilación de Datos \n",
    "\n",
    "En este ejemplo los datos los obtenemos a través de un **.csv**, además vamos a utilizar _**pandas**_ para conocer mejor las características del **DataFrame**:\n",
    "\n",
    "- Número de elementos (filas).\n",
    "- Numero de atributos (columnas).\n",
    "- Validar los tipos de datos de cada atributo.\n",
    "- Información estadística descriptiva.\n",
    "- Conocer el número de NaN's."
   ]
  },
  {
   "cell_type": "code",
   "execution_count": 5,
   "id": "78187d35",
   "metadata": {},
   "outputs": [
    {
     "data": {
      "text/plain": [
       "(890, 12)"
      ]
     },
     "execution_count": 5,
     "metadata": {},
     "output_type": "execute_result"
    }
   ],
   "source": [
    "# .shape nos da el número de filas y columnas\n",
    "\n",
    "df.shape"
   ]
  },
  {
   "cell_type": "code",
   "execution_count": 6,
   "id": "9c6d0f7d",
   "metadata": {},
   "outputs": [
    {
     "data": {
      "text/html": [
       "<div>\n",
       "<style scoped>\n",
       "    .dataframe tbody tr th:only-of-type {\n",
       "        vertical-align: middle;\n",
       "    }\n",
       "\n",
       "    .dataframe tbody tr th {\n",
       "        vertical-align: top;\n",
       "    }\n",
       "\n",
       "    .dataframe thead th {\n",
       "        text-align: right;\n",
       "    }\n",
       "</style>\n",
       "<table border=\"1\" class=\"dataframe\">\n",
       "  <thead>\n",
       "    <tr style=\"text-align: right;\">\n",
       "      <th></th>\n",
       "      <th>PassengerId</th>\n",
       "      <th>Age</th>\n",
       "      <th>Pclass</th>\n",
       "      <th>Fare</th>\n",
       "      <th>Sibsp</th>\n",
       "      <th>Parch</th>\n",
       "      <th>Survived</th>\n",
       "    </tr>\n",
       "  </thead>\n",
       "  <tbody>\n",
       "    <tr>\n",
       "      <th>count</th>\n",
       "      <td>890.000000</td>\n",
       "      <td>713.000000</td>\n",
       "      <td>890.000000</td>\n",
       "      <td>890.000000</td>\n",
       "      <td>890.000000</td>\n",
       "      <td>890.000000</td>\n",
       "      <td>890.000000</td>\n",
       "    </tr>\n",
       "    <tr>\n",
       "      <th>mean</th>\n",
       "      <td>445.500000</td>\n",
       "      <td>29.695891</td>\n",
       "      <td>2.307865</td>\n",
       "      <td>32.231685</td>\n",
       "      <td>0.522472</td>\n",
       "      <td>0.382022</td>\n",
       "      <td>0.384270</td>\n",
       "    </tr>\n",
       "    <tr>\n",
       "      <th>std</th>\n",
       "      <td>257.065167</td>\n",
       "      <td>14.536439</td>\n",
       "      <td>0.836220</td>\n",
       "      <td>49.714597</td>\n",
       "      <td>1.103247</td>\n",
       "      <td>0.806409</td>\n",
       "      <td>0.486696</td>\n",
       "    </tr>\n",
       "    <tr>\n",
       "      <th>min</th>\n",
       "      <td>1.000000</td>\n",
       "      <td>0.420000</td>\n",
       "      <td>1.000000</td>\n",
       "      <td>0.000000</td>\n",
       "      <td>0.000000</td>\n",
       "      <td>0.000000</td>\n",
       "      <td>0.000000</td>\n",
       "    </tr>\n",
       "    <tr>\n",
       "      <th>25%</th>\n",
       "      <td>223.250000</td>\n",
       "      <td>20.000000</td>\n",
       "      <td>2.000000</td>\n",
       "      <td>7.925000</td>\n",
       "      <td>0.000000</td>\n",
       "      <td>0.000000</td>\n",
       "      <td>0.000000</td>\n",
       "    </tr>\n",
       "    <tr>\n",
       "      <th>50%</th>\n",
       "      <td>445.500000</td>\n",
       "      <td>28.000000</td>\n",
       "      <td>3.000000</td>\n",
       "      <td>14.454200</td>\n",
       "      <td>0.000000</td>\n",
       "      <td>0.000000</td>\n",
       "      <td>0.000000</td>\n",
       "    </tr>\n",
       "    <tr>\n",
       "      <th>75%</th>\n",
       "      <td>667.750000</td>\n",
       "      <td>38.000000</td>\n",
       "      <td>3.000000</td>\n",
       "      <td>31.000000</td>\n",
       "      <td>1.000000</td>\n",
       "      <td>0.000000</td>\n",
       "      <td>1.000000</td>\n",
       "    </tr>\n",
       "    <tr>\n",
       "      <th>max</th>\n",
       "      <td>890.000000</td>\n",
       "      <td>80.000000</td>\n",
       "      <td>3.000000</td>\n",
       "      <td>512.329200</td>\n",
       "      <td>8.000000</td>\n",
       "      <td>6.000000</td>\n",
       "      <td>1.000000</td>\n",
       "    </tr>\n",
       "  </tbody>\n",
       "</table>\n",
       "</div>"
      ],
      "text/plain": [
       "       PassengerId         Age      Pclass        Fare       Sibsp  \\\n",
       "count   890.000000  713.000000  890.000000  890.000000  890.000000   \n",
       "mean    445.500000   29.695891    2.307865   32.231685    0.522472   \n",
       "std     257.065167   14.536439    0.836220   49.714597    1.103247   \n",
       "min       1.000000    0.420000    1.000000    0.000000    0.000000   \n",
       "25%     223.250000   20.000000    2.000000    7.925000    0.000000   \n",
       "50%     445.500000   28.000000    3.000000   14.454200    0.000000   \n",
       "75%     667.750000   38.000000    3.000000   31.000000    1.000000   \n",
       "max     890.000000   80.000000    3.000000  512.329200    8.000000   \n",
       "\n",
       "            Parch    Survived  \n",
       "count  890.000000  890.000000  \n",
       "mean     0.382022    0.384270  \n",
       "std      0.806409    0.486696  \n",
       "min      0.000000    0.000000  \n",
       "25%      0.000000    0.000000  \n",
       "50%      0.000000    0.000000  \n",
       "75%      0.000000    1.000000  \n",
       "max      6.000000    1.000000  "
      ]
     },
     "execution_count": 6,
     "metadata": {},
     "output_type": "execute_result"
    }
   ],
   "source": [
    "# .describe() nos da un DataFrame con la información estadística de las columnas\n",
    "\n",
    "df.describe()"
   ]
  },
  {
   "cell_type": "code",
   "execution_count": 7,
   "id": "50ddb592",
   "metadata": {},
   "outputs": [
    {
     "name": "stdout",
     "output_type": "stream",
     "text": [
      "<class 'pandas.core.frame.DataFrame'>\n",
      "RangeIndex: 890 entries, 0 to 889\n",
      "Data columns (total 12 columns):\n",
      " #   Column       Non-Null Count  Dtype  \n",
      "---  ------       --------------  -----  \n",
      " 0   PassengerId  890 non-null    int64  \n",
      " 1   Name         890 non-null    object \n",
      " 2   Sex          890 non-null    object \n",
      " 3   Age          713 non-null    float64\n",
      " 4   Pclass       890 non-null    int64  \n",
      " 5   Ticket       890 non-null    object \n",
      " 6   Fare         890 non-null    float64\n",
      " 7   Sibsp        890 non-null    int64  \n",
      " 8   Parch        890 non-null    int64  \n",
      " 9   Embarked     888 non-null    object \n",
      " 10  Embark_Town  888 non-null    object \n",
      " 11  Survived     890 non-null    int64  \n",
      "dtypes: float64(2), int64(5), object(5)\n",
      "memory usage: 83.6+ KB\n"
     ]
    }
   ],
   "source": [
    "# .info() nos da el tipo de variables de cada columna y si hay algun valor NaN\n",
    "\n",
    "df.info()"
   ]
  },
  {
   "cell_type": "code",
   "execution_count": 8,
   "id": "a6f4bc72",
   "metadata": {},
   "outputs": [
    {
     "data": {
      "text/plain": [
       "PassengerId      0\n",
       "Name             0\n",
       "Sex              0\n",
       "Age            177\n",
       "Pclass           0\n",
       "Ticket           0\n",
       "Fare             0\n",
       "Sibsp            0\n",
       "Parch            0\n",
       "Embarked         2\n",
       "Embark_Town      2\n",
       "Survived         0\n",
       "dtype: int64"
      ]
     },
     "execution_count": 8,
     "metadata": {},
     "output_type": "execute_result"
    }
   ],
   "source": [
    "# Numero de NaN's\n",
    "\n",
    "df.isna().sum()"
   ]
  },
  {
   "cell_type": "code",
   "execution_count": 9,
   "id": "2f2ca7dd",
   "metadata": {},
   "outputs": [
    {
     "data": {
      "text/plain": [
       "PassengerId    0.000000\n",
       "Name           0.000000\n",
       "Sex            0.000000\n",
       "Age            0.198876\n",
       "Pclass         0.000000\n",
       "Ticket         0.000000\n",
       "Fare           0.000000\n",
       "Sibsp          0.000000\n",
       "Parch          0.000000\n",
       "Embarked       0.002247\n",
       "Embark_Town    0.002247\n",
       "Survived       0.000000\n",
       "dtype: float64"
      ]
     },
     "execution_count": 9,
     "metadata": {},
     "output_type": "execute_result"
    }
   ],
   "source": [
    "# Porcentaje de NaN's en cada columna\n",
    "\n",
    "df.isnull().mean()"
   ]
  },
  {
   "cell_type": "code",
   "execution_count": 10,
   "id": "686b6230",
   "metadata": {},
   "outputs": [
    {
     "data": {
      "image/png": "[encoded data removed]",
      "text/plain": [
       "<Figure size 864x504 with 2 Axes>"
      ]
     },
     "metadata": {
      "needs_background": "light"
     },
     "output_type": "display_data"
    }
   ],
   "source": [
    "# Visualización de NaN's\n",
    "\n",
    "plt.figure(figsize = (12, 7))\n",
    "\n",
    "sns.heatmap(df.isna())\n",
    "plt.show()"
   ]
  },
  {
   "cell_type": "markdown",
   "id": "855fb7d6",
   "metadata": {},
   "source": [
    "### 02. Limpieza de Datos\n",
    "\n",
    "Esta es una de las etapas más complejas del procesamiento de datos y probablemente la que más tiempo consume.\n",
    "\n",
    "En esta etapa se suelen utilizar métodos estadísticos y visualizaciones para:\n",
    "\n",
    "- Identificar y corregir errores.\n",
    "- Identificar valores atípicos (**outliers**)\n",
    "- Eliminar duplicados.\n",
    "- Manipulación de NaN's.\n",
    "- Estandarización de formatos.\n",
    "\n",
    "En esta etapa es muy importante conocer el significado de cada columna:\n",
    "\n",
    "- **PassengerId**: Identificador de pasajero.\n",
    "\n",
    "- **Name**: El nombre del pasajero.\n",
    "\n",
    "- **Sex**: El género del pasajero, masculino o femenino.\n",
    "\n",
    "- **Age**: La edad del pasajero.\n",
    "\n",
    "- **Pclass**: Representa la clase del boleto del pasajero (1, 2 o 3), donde 1 es primera clase, 2 es segunda clase y 3 es tercera clase.\n",
    "\n",
    "- **Ticket**: El número del boleto.\n",
    "\n",
    "- **Fare**: La tarifa pagada por el pasajero.\n",
    "\n",
    "- **Sibsp**: Indica la cantidad de hermanos o cónyuges que el pasajero tenía a bordo.\n",
    "\n",
    "- **Parch**: Representa la cantidad de padres o hijos que el pasajero tenía a bordo.\n",
    "\n",
    "- **Embarked**: Indica el puerto de embarque del pasajero abreviado.\n",
    "\n",
    "- **Embark_Town**: Indica el puerto de embarque del pasajero.\n",
    "\n",
    "- **Survived**: Indica si el pasajero sobrevivió o no. Es una variable binaria, donde 1 significa que sobrevivió y 0 significa que no."
   ]
  },
  {
   "cell_type": "code",
   "execution_count": 11,
   "id": "adafbaf9",
   "metadata": {},
   "outputs": [
    {
     "data": {
      "text/plain": [
       "count    890.000000\n",
       "mean     445.500000\n",
       "std      257.065167\n",
       "min        1.000000\n",
       "25%      223.250000\n",
       "50%      445.500000\n",
       "75%      667.750000\n",
       "max      890.000000\n",
       "Name: PassengerId, dtype: float64"
      ]
     },
     "execution_count": 11,
     "metadata": {},
     "output_type": "execute_result"
    }
   ],
   "source": [
    "# Columna \"PassengerId\"\n",
    "\n",
    "# En ejemplo la columna \"PassengerId\" debería tener valores únicos, uno para cada pasajero.\n",
    "# Por lo general este tipo de columnas no aportan información porque es una columna categórica \n",
    "# y todos los valores son distintos.\n",
    "\n",
    "# Su único uso es para identificar o filtrar filas.\n",
    "\n",
    "df[\"PassengerId\"].describe()"
   ]
  },
  {
   "cell_type": "code",
   "execution_count": 12,
   "id": "36853814",
   "metadata": {},
   "outputs": [
    {
     "data": {
      "text/plain": [
       "890"
      ]
     },
     "execution_count": 12,
     "metadata": {},
     "output_type": "execute_result"
    }
   ],
   "source": [
    "# Número de elemento únicos igual al número de filas\n",
    "\n",
    "df[\"PassengerId\"].nunique()\n",
    "\n",
    "# Podemos eliminar esta columna, lo haremos más adelante"
   ]
  },
  {
   "cell_type": "code",
   "execution_count": 13,
   "id": "6f6bf369",
   "metadata": {},
   "outputs": [
    {
     "data": {
      "text/plain": [
       "True"
      ]
     },
     "execution_count": 13,
     "metadata": {},
     "output_type": "execute_result"
    }
   ],
   "source": [
    "# Columna \"Name\"\n",
    "\n",
    "# En este DataFrame la columna \"Name\" cumple el mismo proposito que la columna \"PassemgerId\"\n",
    "# Podemos verificar que cada fila tiene un valor único.\n",
    "\n",
    "df[\"Name\"].unique().shape[0] == df.shape[0]"
   ]
  },
  {
   "cell_type": "code",
   "execution_count": 14,
   "id": "2bc03ddd",
   "metadata": {},
   "outputs": [
    {
     "data": {
      "text/html": [
       "<div>\n",
       "<style scoped>\n",
       "    .dataframe tbody tr th:only-of-type {\n",
       "        vertical-align: middle;\n",
       "    }\n",
       "\n",
       "    .dataframe tbody tr th {\n",
       "        vertical-align: top;\n",
       "    }\n",
       "\n",
       "    .dataframe thead th {\n",
       "        text-align: right;\n",
       "    }\n",
       "</style>\n",
       "<table border=\"1\" class=\"dataframe\">\n",
       "  <thead>\n",
       "    <tr style=\"text-align: right;\">\n",
       "      <th></th>\n",
       "      <th>PassengerId</th>\n",
       "      <th>Name</th>\n",
       "      <th>Sex</th>\n",
       "      <th>Age</th>\n",
       "      <th>Pclass</th>\n",
       "      <th>Ticket</th>\n",
       "      <th>Fare</th>\n",
       "      <th>Sibsp</th>\n",
       "      <th>Parch</th>\n",
       "      <th>Embarked</th>\n",
       "      <th>Embark_Town</th>\n",
       "      <th>Survived</th>\n",
       "      <th>Surname</th>\n",
       "    </tr>\n",
       "  </thead>\n",
       "  <tbody>\n",
       "    <tr>\n",
       "      <th>0</th>\n",
       "      <td>1</td>\n",
       "      <td>Braund, Mr. Owen Harris</td>\n",
       "      <td>male</td>\n",
       "      <td>22.0</td>\n",
       "      <td>3</td>\n",
       "      <td>A/5 21171</td>\n",
       "      <td>7.2500</td>\n",
       "      <td>1</td>\n",
       "      <td>0</td>\n",
       "      <td>C</td>\n",
       "      <td>Cherbourg</td>\n",
       "      <td>0</td>\n",
       "      <td>Braund</td>\n",
       "    </tr>\n",
       "    <tr>\n",
       "      <th>1</th>\n",
       "      <td>2</td>\n",
       "      <td>Cumings, Mrs. John Bradley (Florence Briggs Th...</td>\n",
       "      <td>female</td>\n",
       "      <td>38.0</td>\n",
       "      <td>1</td>\n",
       "      <td>PC 17599</td>\n",
       "      <td>71.2833</td>\n",
       "      <td>0</td>\n",
       "      <td>0</td>\n",
       "      <td>S</td>\n",
       "      <td>Southampton</td>\n",
       "      <td>1</td>\n",
       "      <td>Cumings</td>\n",
       "    </tr>\n",
       "    <tr>\n",
       "      <th>2</th>\n",
       "      <td>3</td>\n",
       "      <td>Heikkinen, Miss. Laina</td>\n",
       "      <td>female</td>\n",
       "      <td>26.0</td>\n",
       "      <td>3</td>\n",
       "      <td>STON/O2. 3101282</td>\n",
       "      <td>7.9250</td>\n",
       "      <td>1</td>\n",
       "      <td>0</td>\n",
       "      <td>S</td>\n",
       "      <td>Southampton</td>\n",
       "      <td>1</td>\n",
       "      <td>Heikkinen</td>\n",
       "    </tr>\n",
       "  </tbody>\n",
       "</table>\n",
       "</div>"
      ],
      "text/plain": [
       "   PassengerId                                               Name     Sex  \\\n",
       "0            1                            Braund, Mr. Owen Harris    male   \n",
       "1            2  Cumings, Mrs. John Bradley (Florence Briggs Th...  female   \n",
       "2            3                             Heikkinen, Miss. Laina  female   \n",
       "\n",
       "    Age  Pclass            Ticket     Fare  Sibsp  Parch Embarked  \\\n",
       "0  22.0       3         A/5 21171   7.2500      1      0        C   \n",
       "1  38.0       1          PC 17599  71.2833      0      0        S   \n",
       "2  26.0       3  STON/O2. 3101282   7.9250      1      0        S   \n",
       "\n",
       "   Embark_Town  Survived    Surname  \n",
       "0    Cherbourg         0     Braund  \n",
       "1  Southampton         1    Cumings  \n",
       "2  Southampton         1  Heikkinen  "
      ]
     },
     "execution_count": 14,
     "metadata": {},
     "output_type": "execute_result"
    }
   ],
   "source": [
    "# De esta columna podemos sacar información como el apellido o el sexo de cada persona.\n",
    "# Ya tenemos una columna que sexo (\"Sex\") que no tiene NaN's.\n",
    "\n",
    "# Extraer apellidos\n",
    "\n",
    "df[\"Surname\"] = df[\"Name\"].apply(lambda x : x.split(\",\")[0])\n",
    "\n",
    "df.head(3)\n",
    "\n",
    "# La columna \"Name\" también la podemos eliminar, lo haremos más adelante"
   ]
  },
  {
   "cell_type": "code",
   "execution_count": 15,
   "id": "6fa55f3e",
   "metadata": {},
   "outputs": [
    {
     "data": {
      "text/plain": [
       "male      0.647191\n",
       "female    0.352809\n",
       "Name: Sex, dtype: float64"
      ]
     },
     "execution_count": 15,
     "metadata": {},
     "output_type": "execute_result"
    }
   ],
   "source": [
    "# Columna \"Sex\"\n",
    "\n",
    "# Columna de categoria o categorica.\n",
    "\n",
    "# Para este tipo de columna en el que sabemos los posibles valores que puede contener\n",
    "# debemos verificar que todos los valores tienen el mismo formato o si existe algun valor atípico/erroneo.\n",
    "\n",
    "# Ya sabemos que esta columna no tienen NaN's.\n",
    "\n",
    "df[\"Sex\"].value_counts(normalize=True)"
   ]
  },
  {
   "cell_type": "code",
   "execution_count": 16,
   "id": "49f59bc7",
   "metadata": {},
   "outputs": [
    {
     "data": {
      "image/png": "[encoded data removed]",
      "text/plain": [
       "<Figure size 1296x504 with 2 Axes>"
      ]
     },
     "metadata": {
      "needs_background": "light"
     },
     "output_type": "display_data"
    }
   ],
   "source": [
    "# Relación de la columna \"Sex\" con la columna \"Survived\"\n",
    "\n",
    "fig, axes = plt.subplots(1, 2, figsize = (18, 7))\n",
    "\n",
    "sns.countplot(x = df[\"Sex\"], ax = axes[0]);\n",
    "sns.countplot(x = df[\"Sex\"], hue = df[\"Survived\"],  ax = axes[1]);\n",
    "\n",
    "plt.show()"
   ]
  },
  {
   "cell_type": "code",
   "execution_count": 17,
   "id": "507c20ac-0af8-4650-bd49-8d37e490b3d2",
   "metadata": {},
   "outputs": [
    {
     "data": {
      "text/plain": [
       "Southampton    643\n",
       "Cherbourg      168\n",
       "Queenstown      77\n",
       "Name: Embark_Town, dtype: int64"
      ]
     },
     "execution_count": 17,
     "metadata": {},
     "output_type": "execute_result"
    }
   ],
   "source": [
    "df[\"Embark_Town\"].value_counts()"
   ]
  },
  {
   "cell_type": "code",
   "execution_count": 18,
   "id": "66d2f3fe-c29e-465c-ac0c-27d9f898e569",
   "metadata": {},
   "outputs": [
    {
     "data": {
      "image/png": "[encoded data removed]",
      "text/plain": [
       "<Figure size 1296x504 with 2 Axes>"
      ]
     },
     "metadata": {
      "needs_background": "light"
     },
     "output_type": "display_data"
    }
   ],
   "source": [
    "# Relación de la columna \"Sex\" con la columna \"Survived\"\n",
    "\n",
    "fig, axes = plt.subplots(1, 2, figsize = (18, 7))\n",
    "\n",
    "sns.countplot(x = df[\"Embark_Town\"], ax = axes[0]);\n",
    "sns.countplot(x = df[\"Embark_Town\"], hue = df[\"Survived\"],  ax = axes[1]);\n",
    "\n",
    "plt.show()"
   ]
  },
  {
   "cell_type": "code",
   "execution_count": 19,
   "id": "52fbeba6",
   "metadata": {},
   "outputs": [],
   "source": [
    "# Ahora debemos transformar la columna a valores numéricos.\n",
    "# Para esto tenemos 3 métodos diferentes."
   ]
  },
  {
   "cell_type": "code",
   "execution_count": 20,
   "id": "9f27f3b3-3b35-423a-a688-b6ddfda579e5",
   "metadata": {},
   "outputs": [
    {
     "data": {
      "text/html": [
       "<div>\n",
       "<style scoped>\n",
       "    .dataframe tbody tr th:only-of-type {\n",
       "        vertical-align: middle;\n",
       "    }\n",
       "\n",
       "    .dataframe tbody tr th {\n",
       "        vertical-align: top;\n",
       "    }\n",
       "\n",
       "    .dataframe thead th {\n",
       "        text-align: right;\n",
       "    }\n",
       "</style>\n",
       "<table border=\"1\" class=\"dataframe\">\n",
       "  <thead>\n",
       "    <tr style=\"text-align: right;\">\n",
       "      <th></th>\n",
       "      <th>PassengerId</th>\n",
       "      <th>Name</th>\n",
       "      <th>Sex</th>\n",
       "      <th>Age</th>\n",
       "      <th>Pclass</th>\n",
       "      <th>Ticket</th>\n",
       "      <th>Fare</th>\n",
       "      <th>Sibsp</th>\n",
       "      <th>Parch</th>\n",
       "      <th>Embarked</th>\n",
       "      <th>Embark_Town</th>\n",
       "      <th>Survived</th>\n",
       "      <th>Surname</th>\n",
       "    </tr>\n",
       "  </thead>\n",
       "  <tbody>\n",
       "    <tr>\n",
       "      <th>0</th>\n",
       "      <td>1</td>\n",
       "      <td>Braund, Mr. Owen Harris</td>\n",
       "      <td>male</td>\n",
       "      <td>22.0</td>\n",
       "      <td>3</td>\n",
       "      <td>A/5 21171</td>\n",
       "      <td>7.2500</td>\n",
       "      <td>1</td>\n",
       "      <td>0</td>\n",
       "      <td>C</td>\n",
       "      <td>Cherbourg</td>\n",
       "      <td>0</td>\n",
       "      <td>Braund</td>\n",
       "    </tr>\n",
       "    <tr>\n",
       "      <th>1</th>\n",
       "      <td>2</td>\n",
       "      <td>Cumings, Mrs. John Bradley (Florence Briggs Th...</td>\n",
       "      <td>female</td>\n",
       "      <td>38.0</td>\n",
       "      <td>1</td>\n",
       "      <td>PC 17599</td>\n",
       "      <td>71.2833</td>\n",
       "      <td>0</td>\n",
       "      <td>0</td>\n",
       "      <td>S</td>\n",
       "      <td>Southampton</td>\n",
       "      <td>1</td>\n",
       "      <td>Cumings</td>\n",
       "    </tr>\n",
       "    <tr>\n",
       "      <th>2</th>\n",
       "      <td>3</td>\n",
       "      <td>Heikkinen, Miss. Laina</td>\n",
       "      <td>female</td>\n",
       "      <td>26.0</td>\n",
       "      <td>3</td>\n",
       "      <td>STON/O2. 3101282</td>\n",
       "      <td>7.9250</td>\n",
       "      <td>1</td>\n",
       "      <td>0</td>\n",
       "      <td>S</td>\n",
       "      <td>Southampton</td>\n",
       "      <td>1</td>\n",
       "      <td>Heikkinen</td>\n",
       "    </tr>\n",
       "  </tbody>\n",
       "</table>\n",
       "</div>"
      ],
      "text/plain": [
       "   PassengerId                                               Name     Sex  \\\n",
       "0            1                            Braund, Mr. Owen Harris    male   \n",
       "1            2  Cumings, Mrs. John Bradley (Florence Briggs Th...  female   \n",
       "2            3                             Heikkinen, Miss. Laina  female   \n",
       "\n",
       "    Age  Pclass            Ticket     Fare  Sibsp  Parch Embarked  \\\n",
       "0  22.0       3         A/5 21171   7.2500      1      0        C   \n",
       "1  38.0       1          PC 17599  71.2833      0      0        S   \n",
       "2  26.0       3  STON/O2. 3101282   7.9250      1      0        S   \n",
       "\n",
       "   Embark_Town  Survived    Surname  \n",
       "0    Cherbourg         0     Braund  \n",
       "1  Southampton         1    Cumings  \n",
       "2  Southampton         1  Heikkinen  "
      ]
     },
     "execution_count": 20,
     "metadata": {},
     "output_type": "execute_result"
    }
   ],
   "source": [
    "df.head(3)"
   ]
  },
  {
   "cell_type": "code",
   "execution_count": 21,
   "id": "8edd5a4c-fb91-4c51-9576-00ec8689a8a5",
   "metadata": {},
   "outputs": [],
   "source": [
    "import sklearn\n",
    "# scikit - learn"
   ]
  },
  {
   "cell_type": "markdown",
   "id": "82d3c77a",
   "metadata": {},
   "source": [
    "### Encodings\n",
    "Scikit Learn trae varios objetos que podemos utilizar para codificar nuestras variables categóricas y convertir los valores en números:\n",
    "\n",
    "1. _**LabelEncoder()**_ y _**OrdinalEncoder()**_: estos objetos permiten transformar toda la columna a números enteros, si la columna tiene _**n**_ elementos únicos, va a cambiar esos elementos por lo números desde el 0 hasta n - 1. Éste método resulta de utilidad si la categoria sigue cierto orden. El orden de la transformación depende del orden en el que los elementos aparecen en la columna, por lo que debemos primero ordenar nuestro dataframe para asegurarnos de que los números corresponden con las categorías que queremos.\n",
    "<br>\n",
    "\n",
    "2. _**OneHotEncoder()**_: este encoder se utiliza para transformar columnas categóricas en un conjunto de columnas binarias (0 o 1) que representan la presencia o ausencia de cada categoría en los datos originales. Esto es particularmente útil para codificar columnas categóricas nominales, ya que no se le asigna un peso a cada cateogría.\n",
    "\n",
    "    La principal desventaja es que este tipo de encoding puede incrementar mucho la dimensionalidad de nuestros datos, pues estamos creando una columna para cada cateogría. Podemos remediar esto ligeramente marcando en el constructor el parámetro `drop=\"first\"`, para deshacernos siempre de una dimensión redundante. Esto sin embargo puede ser negativo ya que rompe la simetría de las categorías en caso de usar el parámetro `handle_unknown=\"ignore\"`.\n",
    "<br>\n",
    "\n",
    "3. _**TargetEncoder()**_: este encoder agrupa nuestros datos por las categorías y calcula el promedio de la columna _**target**_. Luego, utiliza estos promedios en conjunto al promedio global del _**target**_ para asignarle un número a cada categoría. El parámetro `smooth=\"auto\"` (por defecto) hace la ponderación entre promedio global y promedios por categoría por nosotros, pero también podemos asignarle un número flotante para controlar cuánto peso tiene cada promedio. Un número muy pequeño como `smooth=1.0` hará que casi no se tenga en cuenta el promedio global, mientras que un número muy grande como `smooth=5000.0` le dará mucho más peso al promedio global que a los específicos de cada categoría.\n",
    "<br>\n",
    "\n",
    "Además de utilizar los objetos de Scikit Learn, podemos hacer cualquier encoding que se nos ocurra con los métodos `.map()` y `.apply()` de las Series de pandas, aplicándo una función propia creada por nosotros o un diccionario que guarda los encodings."
   ]
  },
  {
   "cell_type": "code",
   "execution_count": 22,
   "id": "8bf79445",
   "metadata": {},
   "outputs": [
    {
     "data": {
      "text/plain": [
       "0        male\n",
       "1      female\n",
       "2      female\n",
       "3      female\n",
       "4        male\n",
       "        ...  \n",
       "885    female\n",
       "886      male\n",
       "887    female\n",
       "888    female\n",
       "889      male\n",
       "Name: Sex, Length: 890, dtype: object"
      ]
     },
     "execution_count": 22,
     "metadata": {},
     "output_type": "execute_result"
    }
   ],
   "source": [
    "# Veamos como es la columna\n",
    "\n",
    "df[\"Sex\"]"
   ]
  },
  {
   "cell_type": "code",
   "execution_count": 23,
   "id": "9b9c2c1a",
   "metadata": {},
   "outputs": [
    {
     "data": {
      "text/plain": [
       "{'male': 0, 'female': 1}"
      ]
     },
     "execution_count": 23,
     "metadata": {},
     "output_type": "execute_result"
    }
   ],
   "source": [
    "# Map/Apply\n",
    "\n",
    "# Con ésta técnica vamos a generar un diccionario para reemplazar los elementos de la columna\n",
    "\n",
    "dict_sex = {x : num for num, x in enumerate(df[\"Sex\"].unique())}\n",
    "\n",
    "dict_sex"
   ]
  },
  {
   "cell_type": "code",
   "execution_count": 24,
   "id": "ffcf698e",
   "metadata": {},
   "outputs": [
    {
     "data": {
      "text/plain": [
       "0      0\n",
       "1      1\n",
       "2      1\n",
       "3      1\n",
       "4      0\n",
       "      ..\n",
       "885    1\n",
       "886    0\n",
       "887    1\n",
       "888    1\n",
       "889    0\n",
       "Name: Sex, Length: 890, dtype: int64"
      ]
     },
     "execution_count": 24,
     "metadata": {},
     "output_type": "execute_result"
    }
   ],
   "source": [
    "# Map\n",
    "\n",
    "df[\"Sex\"].map(dict_sex)"
   ]
  },
  {
   "cell_type": "code",
   "execution_count": 25,
   "id": "366799c1",
   "metadata": {},
   "outputs": [
    {
     "data": {
      "text/plain": [
       "0      0\n",
       "1      1\n",
       "2      1\n",
       "3      1\n",
       "4      0\n",
       "      ..\n",
       "885    1\n",
       "886    0\n",
       "887    1\n",
       "888    1\n",
       "889    0\n",
       "Name: Sex, Length: 890, dtype: int64"
      ]
     },
     "execution_count": 25,
     "metadata": {},
     "output_type": "execute_result"
    }
   ],
   "source": [
    "# Apply\n",
    "\n",
    "df[\"Sex\"].apply(lambda x : dict_sex[x])"
   ]
  },
  {
   "cell_type": "code",
   "execution_count": 28,
   "id": "69288005",
   "metadata": {},
   "outputs": [
    {
     "data": {
      "text/html": [
       "<div>\n",
       "<style scoped>\n",
       "    .dataframe tbody tr th:only-of-type {\n",
       "        vertical-align: middle;\n",
       "    }\n",
       "\n",
       "    .dataframe tbody tr th {\n",
       "        vertical-align: top;\n",
       "    }\n",
       "\n",
       "    .dataframe thead th {\n",
       "        text-align: right;\n",
       "    }\n",
       "</style>\n",
       "<table border=\"1\" class=\"dataframe\">\n",
       "  <thead>\n",
       "    <tr style=\"text-align: right;\">\n",
       "      <th></th>\n",
       "      <th>Sex_female</th>\n",
       "      <th>Sex_male</th>\n",
       "    </tr>\n",
       "  </thead>\n",
       "  <tbody>\n",
       "    <tr>\n",
       "      <th>0</th>\n",
       "      <td>0</td>\n",
       "      <td>1</td>\n",
       "    </tr>\n",
       "    <tr>\n",
       "      <th>1</th>\n",
       "      <td>1</td>\n",
       "      <td>0</td>\n",
       "    </tr>\n",
       "    <tr>\n",
       "      <th>2</th>\n",
       "      <td>1</td>\n",
       "      <td>0</td>\n",
       "    </tr>\n",
       "    <tr>\n",
       "      <th>3</th>\n",
       "      <td>1</td>\n",
       "      <td>0</td>\n",
       "    </tr>\n",
       "    <tr>\n",
       "      <th>4</th>\n",
       "      <td>0</td>\n",
       "      <td>1</td>\n",
       "    </tr>\n",
       "    <tr>\n",
       "      <th>...</th>\n",
       "      <td>...</td>\n",
       "      <td>...</td>\n",
       "    </tr>\n",
       "    <tr>\n",
       "      <th>885</th>\n",
       "      <td>1</td>\n",
       "      <td>0</td>\n",
       "    </tr>\n",
       "    <tr>\n",
       "      <th>886</th>\n",
       "      <td>0</td>\n",
       "      <td>1</td>\n",
       "    </tr>\n",
       "    <tr>\n",
       "      <th>887</th>\n",
       "      <td>1</td>\n",
       "      <td>0</td>\n",
       "    </tr>\n",
       "    <tr>\n",
       "      <th>888</th>\n",
       "      <td>1</td>\n",
       "      <td>0</td>\n",
       "    </tr>\n",
       "    <tr>\n",
       "      <th>889</th>\n",
       "      <td>0</td>\n",
       "      <td>1</td>\n",
       "    </tr>\n",
       "  </tbody>\n",
       "</table>\n",
       "<p>890 rows × 2 columns</p>\n",
       "</div>"
      ],
      "text/plain": [
       "     Sex_female  Sex_male\n",
       "0             0         1\n",
       "1             1         0\n",
       "2             1         0\n",
       "3             1         0\n",
       "4             0         1\n",
       "..          ...       ...\n",
       "885           1         0\n",
       "886           0         1\n",
       "887           1         0\n",
       "888           1         0\n",
       "889           0         1\n",
       "\n",
       "[890 rows x 2 columns]"
      ]
     },
     "execution_count": 28,
     "metadata": {},
     "output_type": "execute_result"
    }
   ],
   "source": [
    "# pd.get_dummies()\n",
    "\n",
    "pd.get_dummies(data = df[\"Sex\"], prefix = \"Sex\", dtype = int)"
   ]
  },
  {
   "cell_type": "code",
   "execution_count": 29,
   "id": "5d1c420f",
   "metadata": {},
   "outputs": [
    {
     "data": {
      "text/html": [
       "<div>\n",
       "<style scoped>\n",
       "    .dataframe tbody tr th:only-of-type {\n",
       "        vertical-align: middle;\n",
       "    }\n",
       "\n",
       "    .dataframe tbody tr th {\n",
       "        vertical-align: top;\n",
       "    }\n",
       "\n",
       "    .dataframe thead th {\n",
       "        text-align: right;\n",
       "    }\n",
       "</style>\n",
       "<table border=\"1\" class=\"dataframe\">\n",
       "  <thead>\n",
       "    <tr style=\"text-align: right;\">\n",
       "      <th></th>\n",
       "      <th>Sex_female</th>\n",
       "      <th>Sex_male</th>\n",
       "    </tr>\n",
       "  </thead>\n",
       "  <tbody>\n",
       "    <tr>\n",
       "      <th>0</th>\n",
       "      <td>0</td>\n",
       "      <td>1</td>\n",
       "    </tr>\n",
       "    <tr>\n",
       "      <th>1</th>\n",
       "      <td>1</td>\n",
       "      <td>0</td>\n",
       "    </tr>\n",
       "    <tr>\n",
       "      <th>2</th>\n",
       "      <td>1</td>\n",
       "      <td>0</td>\n",
       "    </tr>\n",
       "    <tr>\n",
       "      <th>3</th>\n",
       "      <td>1</td>\n",
       "      <td>0</td>\n",
       "    </tr>\n",
       "    <tr>\n",
       "      <th>4</th>\n",
       "      <td>0</td>\n",
       "      <td>1</td>\n",
       "    </tr>\n",
       "    <tr>\n",
       "      <th>...</th>\n",
       "      <td>...</td>\n",
       "      <td>...</td>\n",
       "    </tr>\n",
       "    <tr>\n",
       "      <th>885</th>\n",
       "      <td>1</td>\n",
       "      <td>0</td>\n",
       "    </tr>\n",
       "    <tr>\n",
       "      <th>886</th>\n",
       "      <td>0</td>\n",
       "      <td>1</td>\n",
       "    </tr>\n",
       "    <tr>\n",
       "      <th>887</th>\n",
       "      <td>1</td>\n",
       "      <td>0</td>\n",
       "    </tr>\n",
       "    <tr>\n",
       "      <th>888</th>\n",
       "      <td>1</td>\n",
       "      <td>0</td>\n",
       "    </tr>\n",
       "    <tr>\n",
       "      <th>889</th>\n",
       "      <td>0</td>\n",
       "      <td>1</td>\n",
       "    </tr>\n",
       "  </tbody>\n",
       "</table>\n",
       "<p>890 rows × 2 columns</p>\n",
       "</div>"
      ],
      "text/plain": [
       "     Sex_female  Sex_male\n",
       "0             0         1\n",
       "1             1         0\n",
       "2             1         0\n",
       "3             1         0\n",
       "4             0         1\n",
       "..          ...       ...\n",
       "885           1         0\n",
       "886           0         1\n",
       "887           1         0\n",
       "888           1         0\n",
       "889           0         1\n",
       "\n",
       "[890 rows x 2 columns]"
      ]
     },
     "execution_count": 29,
     "metadata": {},
     "output_type": "execute_result"
    }
   ],
   "source": [
    "# pd.get_dummies()\n",
    "\n",
    "# Cuando hacemos One-Hot Encoding podemos eliminar una columna, ya que podemos inferir el resultado de la columna\n",
    "# eliminada solo con ver los valores de las columnas restantes.\n",
    "\n",
    "# Por ejemplo, si eliminamos la columna \"Sex_female\", con ver los datos en la columna \"Sex_male\"\n",
    "# Podemos inferir cuales son los elementos en \"Sex_female\"\n",
    "\n",
    "# Esto tiene especial uso para reducir la dimensionalidad de los DataFrames.\n",
    "\n",
    "pd.get_dummies(data = df[\"Sex\"], prefix = \"Sex\", dtype = int, drop_first = False)"
   ]
  },
  {
   "cell_type": "code",
   "execution_count": 30,
   "id": "e0796f63",
   "metadata": {},
   "outputs": [
    {
     "data": {
      "text/plain": [
       "array([[0., 1.],\n",
       "       [1., 0.],\n",
       "       [1., 0.],\n",
       "       ...,\n",
       "       [1., 0.],\n",
       "       [1., 0.],\n",
       "       [0., 1.]])"
      ]
     },
     "execution_count": 30,
     "metadata": {},
     "output_type": "execute_result"
    }
   ],
   "source": [
    "# Podemos también hacer One Hot Encoding utilizando el OneHotEncoder de Scikit Learn\n",
    "from sklearn.preprocessing import OneHotEncoder\n",
    "\n",
    "# Inicializamos un objeto OneHotEncoder()\n",
    "sex_encoder = OneHotEncoder()\n",
    "\n",
    "# Lo \"entrenamos\" con los datos de la columna\n",
    "# Recibe una matriz o un DataFrame, por lo que seleccionamos nuestra columna o columnas con una lista df[[col]]\n",
    "sex_encoder.fit(df[[\"Sex\"]])\n",
    "\n",
    "# Transformamos la(s) columna(s) y las convertimos en un array\n",
    "sex_encoder.transform(df[[\"Sex\"]]).toarray()"
   ]
  },
  {
   "cell_type": "code",
   "execution_count": 31,
   "id": "3a56a2ba",
   "metadata": {},
   "outputs": [
    {
     "data": {
      "text/plain": [
       "array([[0., 1.],\n",
       "       [1., 0.],\n",
       "       [1., 0.],\n",
       "       ...,\n",
       "       [1., 0.],\n",
       "       [1., 0.],\n",
       "       [0., 1.]])"
      ]
     },
     "execution_count": 31,
     "metadata": {},
     "output_type": "execute_result"
    }
   ],
   "source": [
    "# Podemos \"entrenar\" y transformar con un solo método\n",
    "sex_encoder = OneHotEncoder()\n",
    "sex_encoder.fit_transform(df[[\"Sex\"]]).toarray()"
   ]
  },
  {
   "cell_type": "code",
   "execution_count": null,
   "id": "7a01164f",
   "metadata": {},
   "outputs": [],
   "source": [
    "# Podemos deshacernos de una dimensión con drop=\"first\" en el constructor\n",
    "sex_encoder = OneHotEncoder(drop=\"first\")\n",
    "sex_encoder.fit_transform(df[[\"Sex\"]]).toarray()"
   ]
  },
  {
   "cell_type": "code",
   "execution_count": 33,
   "id": "ab03b7a7",
   "metadata": {},
   "outputs": [
    {
     "data": {
      "text/plain": [
       "array([[0., 1.],\n",
       "       [1., 0.],\n",
       "       [1., 0.],\n",
       "       ...,\n",
       "       [1., 0.],\n",
       "       [1., 0.],\n",
       "       [0., 1.]])"
      ]
     },
     "execution_count": 33,
     "metadata": {},
     "output_type": "execute_result"
    }
   ],
   "source": [
    "# Podemos marcar handle_unknown para que cuando reciba una categoría diferente a las que ve \"entrenando\",\n",
    "# marque todas las columnas con un 0. Utilizar esto en conjunto con drop=\"first\" es una mala práctica ya que\n",
    "# puede darse el caso de que se reciba la categoría que se ha \"dropeado\". En ese caso, debemos usar \n",
    "# handle_unknown=\"error\" para que el encoder arroje una excepción si llega a suceder.\n",
    "sex_encoder = OneHotEncoder(handle_unknown=\"ignore\")\n",
    "sex_encoder.fit_transform(df[[\"Sex\"]]).toarray()"
   ]
  },
  {
   "cell_type": "code",
   "execution_count": 34,
   "id": "014771ff-a7f7-4528-8462-bb1aa8794cab",
   "metadata": {},
   "outputs": [
    {
     "data": {
      "text/plain": [
       "Index(['PassengerId', 'Name', 'Sex', 'Age', 'Pclass', 'Ticket', 'Fare',\n",
       "       'Sibsp', 'Parch', 'Embarked', 'Embark_Town', 'Survived', 'Surname'],\n",
       "      dtype='object')"
      ]
     },
     "execution_count": 34,
     "metadata": {},
     "output_type": "execute_result"
    }
   ],
   "source": [
    "df.columns"
   ]
  },
  {
   "cell_type": "code",
   "execution_count": 35,
   "id": "7c095b5f",
   "metadata": {},
   "outputs": [
    {
     "data": {
      "text/plain": [
       "array([1, 0, 0, 0, 1, 1, 1, 1, 0, 0, 0, 0, 1, 1, 0, 0, 1, 1, 0, 0, 1, 1,\n",
       "       0, 1, 0, 0, 1, 1, 0, 1, 1, 0, 0, 1, 1, 1, 1, 1, 0, 0, 0, 0, 1, 0,\n",
       "       0, 1, 1, 0, 1, 0, 1, 1, 0, 0, 1, 1, 0, 1, 0, 1, 1, 0, 1, 1, 1, 1,\n",
       "       0, 1, 0, 1, 1, 0, 1, 1, 1, 1, 1, 1, 1, 0, 1, 1, 0, 1, 0, 0, 1, 1,\n",
       "       0, 1, 1, 1, 1, 1, 1, 1, 1, 1, 0, 1, 0, 1, 1, 1, 1, 1, 0, 1, 1, 0,\n",
       "       1, 0, 1, 0, 0, 1, 1, 1, 1, 0, 1, 1, 1, 0, 1, 1, 1, 1, 0, 1, 1, 1,\n",
       "       0, 0, 1, 1, 0, 1, 1, 1, 0, 0, 0, 1, 1, 1, 1, 0, 1, 1, 1, 0, 1, 1,\n",
       "       1, 1, 0, 1, 1, 1, 1, 0, 1, 1, 1, 1, 0, 0, 1, 1, 1, 1, 0, 1, 1, 1,\n",
       "       1, 0, 1, 1, 0, 1, 1, 1, 0, 1, 0, 1, 1, 1, 0, 1, 0, 1, 0, 0, 1, 1,\n",
       "       0, 0, 1, 1, 1, 1, 1, 0, 1, 1, 0, 1, 1, 0, 1, 1, 1, 0, 0, 1, 0, 1,\n",
       "       1, 1, 1, 1, 1, 1, 1, 1, 1, 0, 0, 1, 1, 0, 1, 0, 1, 0, 1, 1, 0, 0,\n",
       "       1, 1, 1, 1, 0, 0, 1, 1, 1, 0, 1, 1, 0, 0, 0, 0, 0, 0, 1, 1, 1, 1,\n",
       "       0, 1, 1, 1, 0, 0, 1, 1, 0, 1, 0, 0, 0, 1, 1, 0, 1, 1, 1, 1, 1, 1,\n",
       "       1, 1, 1, 0, 0, 0, 1, 0, 1, 1, 1, 0, 1, 0, 0, 1, 1, 0, 1, 1, 0, 0,\n",
       "       1, 0, 0, 0, 0, 1, 1, 0, 0, 1, 0, 0, 1, 1, 0, 0, 1, 0, 1, 0, 0, 0,\n",
       "       0, 1, 1, 1, 0, 1, 1, 0, 1, 1, 1, 0, 1, 1, 1, 0, 0, 0, 1, 1, 1, 1,\n",
       "       1, 1, 1, 1, 0, 0, 0, 0, 1, 1, 0, 1, 1, 1, 0, 0, 0, 0, 1, 1, 1, 1,\n",
       "       0, 0, 0, 1, 1, 1, 0, 0, 1, 0, 1, 1, 1, 0, 1, 0, 1, 1, 1, 0, 0, 1,\n",
       "       0, 1, 1, 0, 1, 1, 0, 1, 0, 1, 1, 1, 1, 0, 1, 1, 0, 1, 1, 0, 0, 0,\n",
       "       1, 0, 1, 1, 1, 0, 1, 1, 0, 0, 1, 1, 1, 0, 0, 1, 1, 0, 0, 0, 1, 1,\n",
       "       0, 1, 1, 0, 1, 1, 0, 1, 0, 1, 1, 1, 1, 1, 1, 1, 1, 0, 0, 1, 1, 1,\n",
       "       1, 1, 1, 1, 1, 1, 1, 0, 1, 1, 0, 0, 0, 1, 1, 1, 1, 0, 1, 1, 1, 0,\n",
       "       1, 0, 0, 1, 1, 1, 1, 1, 1, 1, 1, 1, 0, 1, 0, 1, 1, 0, 0, 0, 0, 1,\n",
       "       0, 1, 1, 1, 1, 1, 1, 0, 1, 1, 0, 1, 0, 1, 0, 1, 1, 0, 1, 1, 0, 1,\n",
       "       1, 1, 0, 1, 1, 0, 0, 0, 1, 0, 1, 0, 0, 0, 0, 1, 1, 1, 0, 1, 1, 1,\n",
       "       1, 1, 1, 1, 0, 1, 0, 1, 0, 0, 1, 1, 1, 1, 0, 1, 1, 0, 1, 1, 1, 0,\n",
       "       1, 0, 1, 1, 0, 0, 0, 1, 0, 0, 1, 1, 1, 0, 1, 1, 1, 1, 1, 0, 1, 0,\n",
       "       1, 1, 0, 1, 1, 1, 0, 1, 1, 1, 1, 1, 1, 1, 0, 0, 0, 1, 0, 1, 1, 0,\n",
       "       1, 0, 0, 1, 1, 1, 1, 1, 1, 1, 1, 0, 1, 1, 1, 1, 1, 1, 0, 0, 1, 1,\n",
       "       0, 1, 1, 0, 0, 1, 0, 1, 1, 1, 1, 0, 1, 0, 1, 0, 0, 1, 1, 0, 1, 1,\n",
       "       1, 1, 1, 1, 1, 1, 1, 1, 1, 0, 0, 1, 1, 1, 1, 1, 1, 0, 0, 1, 0, 1,\n",
       "       1, 1, 1, 1, 1, 1, 1, 0, 1, 0, 1, 1, 1, 1, 1, 0, 1, 1, 0, 1, 0, 1,\n",
       "       1, 1, 0, 1, 0, 1, 0, 1, 1, 1, 1, 1, 0, 0, 1, 1, 0, 1, 1, 1, 1, 1,\n",
       "       0, 0, 1, 0, 0, 1, 1, 1, 1, 1, 0, 1, 1, 1, 1, 1, 0, 1, 1, 1, 1, 0,\n",
       "       1, 1, 0, 1, 1, 1, 0, 1, 1, 1, 1, 0, 1, 1, 1, 0, 1, 0, 1, 0, 1, 1,\n",
       "       1, 1, 0, 1, 0, 1, 1, 0, 1, 0, 0, 0, 1, 1, 1, 1, 0, 1, 1, 1, 1, 1,\n",
       "       0, 1, 1, 1, 0, 0, 1, 0, 1, 0, 1, 1, 1, 1, 1, 0, 1, 0, 1, 1, 1, 0,\n",
       "       1, 1, 0, 1, 1, 1, 0, 1, 1, 0, 1, 1, 1, 1, 1, 0, 0, 1, 1, 1, 1, 0,\n",
       "       1, 1, 1, 1, 1, 1, 0, 1, 1, 1, 1, 1, 1, 0, 1, 1, 0, 0, 0, 0, 0, 1,\n",
       "       0, 1, 1, 1, 0, 0, 1, 0, 0, 1, 1, 1, 1, 0, 1, 1, 0, 0, 1, 1, 1, 0,\n",
       "       0, 1, 0, 1, 1, 0, 1, 0, 0, 1])"
      ]
     },
     "execution_count": 35,
     "metadata": {},
     "output_type": "execute_result"
    }
   ],
   "source": [
    "# LabelEncoder()\n",
    "from sklearn.preprocessing import LabelEncoder\n",
    "\n",
    "# Inicializamos un objeto LabelEncoder()\n",
    "sex_encoder = LabelEncoder()\n",
    "\n",
    "# Lo \"entrenamos\" con los datos de la columna\n",
    "sex_encoder.fit(df[\"Sex\"].values)\n",
    "\n",
    "# Transformamos la columna\n",
    "sex_encoder.transform(df[\"Sex\"].values)\n",
    "\n",
    "# El resultado de esta transformación es un array de 0s y 1s\n",
    "# Podemos igualar la columna a este array\n",
    "\n",
    "# df[\"Sex\"] = sex_encoder.transform(df[\"Sex\"].values)"
   ]
  },
  {
   "cell_type": "code",
   "execution_count": 36,
   "id": "6ac25ef6",
   "metadata": {},
   "outputs": [
    {
     "data": {
      "text/plain": [
       "array(['female', 'male'], dtype=object)"
      ]
     },
     "execution_count": 36,
     "metadata": {},
     "output_type": "execute_result"
    }
   ],
   "source": [
    "# .inverse_transform() invierte la transformación a la categoria original.\n",
    "\n",
    "sex_encoder.inverse_transform([0, 1])"
   ]
  },
  {
   "cell_type": "code",
   "execution_count": 37,
   "id": "a5649338-76b2-4870-9f43-81f35ba213ea",
   "metadata": {},
   "outputs": [
    {
     "data": {
      "text/plain": [
       "'1.5.1'"
      ]
     },
     "execution_count": 37,
     "metadata": {},
     "output_type": "execute_result"
    }
   ],
   "source": [
    "sklearn.__version__"
   ]
  },
  {
   "cell_type": "code",
   "execution_count": null,
   "id": "43676fc7",
   "metadata": {},
   "outputs": [],
   "source": [
    "# Podemos utilizar el TargetEncoder para hacer un target encoding por la media\n",
    "from sklearn.preprocessing import TargetEncoder\n",
    "\n",
    "# Inicializamos un objeto TargetEncoder()\n",
    "sex_encoder = TargetEncoder(target_type=\"binary\")\n",
    "\n",
    "# Lo \"entrenamos\" con los datos de la columna y la transformamos\n",
    "sex_encoder.fit_transform(df[[\"Sex\"]], df[\"Survived\"])"
   ]
  },
  {
   "cell_type": "code",
   "execution_count": 51,
   "id": "2b92d50c",
   "metadata": {},
   "outputs": [
    {
     "data": {
      "text/plain": [
       "array([0, 1])"
      ]
     },
     "execution_count": 51,
     "metadata": {},
     "output_type": "execute_result"
    }
   ],
   "source": [
    "# .classes_ muestra los nombres originales de las categorias.\n",
    "\n",
    "sex_encoder.classes_"
   ]
  },
  {
   "cell_type": "code",
   "execution_count": 53,
   "id": "937777ef-573c-4874-a6fd-32f962db8258",
   "metadata": {},
   "outputs": [
    {
     "data": {
      "text/html": [
       "<div>\n",
       "<style scoped>\n",
       "    .dataframe tbody tr th:only-of-type {\n",
       "        vertical-align: middle;\n",
       "    }\n",
       "\n",
       "    .dataframe tbody tr th {\n",
       "        vertical-align: top;\n",
       "    }\n",
       "\n",
       "    .dataframe thead th {\n",
       "        text-align: right;\n",
       "    }\n",
       "</style>\n",
       "<table border=\"1\" class=\"dataframe\">\n",
       "  <thead>\n",
       "    <tr style=\"text-align: right;\">\n",
       "      <th></th>\n",
       "      <th>Sex_female</th>\n",
       "      <th>Sex_male</th>\n",
       "    </tr>\n",
       "  </thead>\n",
       "  <tbody>\n",
       "    <tr>\n",
       "      <th>0</th>\n",
       "      <td>0.0</td>\n",
       "      <td>1.0</td>\n",
       "    </tr>\n",
       "    <tr>\n",
       "      <th>1</th>\n",
       "      <td>1.0</td>\n",
       "      <td>0.0</td>\n",
       "    </tr>\n",
       "    <tr>\n",
       "      <th>2</th>\n",
       "      <td>1.0</td>\n",
       "      <td>0.0</td>\n",
       "    </tr>\n",
       "    <tr>\n",
       "      <th>3</th>\n",
       "      <td>1.0</td>\n",
       "      <td>0.0</td>\n",
       "    </tr>\n",
       "    <tr>\n",
       "      <th>4</th>\n",
       "      <td>0.0</td>\n",
       "      <td>1.0</td>\n",
       "    </tr>\n",
       "    <tr>\n",
       "      <th>...</th>\n",
       "      <td>...</td>\n",
       "      <td>...</td>\n",
       "    </tr>\n",
       "    <tr>\n",
       "      <th>885</th>\n",
       "      <td>1.0</td>\n",
       "      <td>0.0</td>\n",
       "    </tr>\n",
       "    <tr>\n",
       "      <th>886</th>\n",
       "      <td>0.0</td>\n",
       "      <td>1.0</td>\n",
       "    </tr>\n",
       "    <tr>\n",
       "      <th>887</th>\n",
       "      <td>1.0</td>\n",
       "      <td>0.0</td>\n",
       "    </tr>\n",
       "    <tr>\n",
       "      <th>888</th>\n",
       "      <td>1.0</td>\n",
       "      <td>0.0</td>\n",
       "    </tr>\n",
       "    <tr>\n",
       "      <th>889</th>\n",
       "      <td>0.0</td>\n",
       "      <td>1.0</td>\n",
       "    </tr>\n",
       "  </tbody>\n",
       "</table>\n",
       "<p>890 rows × 2 columns</p>\n",
       "</div>"
      ],
      "text/plain": [
       "     Sex_female  Sex_male\n",
       "0           0.0       1.0\n",
       "1           1.0       0.0\n",
       "2           1.0       0.0\n",
       "3           1.0       0.0\n",
       "4           0.0       1.0\n",
       "..          ...       ...\n",
       "885         1.0       0.0\n",
       "886         0.0       1.0\n",
       "887         1.0       0.0\n",
       "888         1.0       0.0\n",
       "889         0.0       1.0\n",
       "\n",
       "[890 rows x 2 columns]"
      ]
     },
     "execution_count": 53,
     "metadata": {},
     "output_type": "execute_result"
    }
   ],
   "source": [
    "sex_column"
   ]
  },
  {
   "cell_type": "code",
   "execution_count": 54,
   "id": "61b7c563",
   "metadata": {},
   "outputs": [
    {
     "data": {
      "text/html": [
       "<div>\n",
       "<style scoped>\n",
       "    .dataframe tbody tr th:only-of-type {\n",
       "        vertical-align: middle;\n",
       "    }\n",
       "\n",
       "    .dataframe tbody tr th {\n",
       "        vertical-align: top;\n",
       "    }\n",
       "\n",
       "    .dataframe thead th {\n",
       "        text-align: right;\n",
       "    }\n",
       "</style>\n",
       "<table border=\"1\" class=\"dataframe\">\n",
       "  <thead>\n",
       "    <tr style=\"text-align: right;\">\n",
       "      <th></th>\n",
       "      <th>PassengerId</th>\n",
       "      <th>Name</th>\n",
       "      <th>Sex</th>\n",
       "      <th>Age</th>\n",
       "      <th>Pclass</th>\n",
       "      <th>Ticket</th>\n",
       "      <th>Fare</th>\n",
       "      <th>Sibsp</th>\n",
       "      <th>Parch</th>\n",
       "      <th>Embarked</th>\n",
       "      <th>Embark_Town</th>\n",
       "      <th>Survived</th>\n",
       "      <th>Sex_female</th>\n",
       "      <th>Sex_male</th>\n",
       "      <th>Sex_female</th>\n",
       "      <th>Sex_male</th>\n",
       "    </tr>\n",
       "  </thead>\n",
       "  <tbody>\n",
       "    <tr>\n",
       "      <th>0</th>\n",
       "      <td>1</td>\n",
       "      <td>Braund, Mr. Owen Harris</td>\n",
       "      <td>male</td>\n",
       "      <td>22.0</td>\n",
       "      <td>3</td>\n",
       "      <td>A/5 21171</td>\n",
       "      <td>7.2500</td>\n",
       "      <td>1</td>\n",
       "      <td>0</td>\n",
       "      <td>C</td>\n",
       "      <td>Cherbourg</td>\n",
       "      <td>0</td>\n",
       "      <td>0.0</td>\n",
       "      <td>1.0</td>\n",
       "      <td>0.0</td>\n",
       "      <td>1.0</td>\n",
       "    </tr>\n",
       "    <tr>\n",
       "      <th>1</th>\n",
       "      <td>2</td>\n",
       "      <td>Cumings, Mrs. John Bradley (Florence Briggs Th...</td>\n",
       "      <td>female</td>\n",
       "      <td>38.0</td>\n",
       "      <td>1</td>\n",
       "      <td>PC 17599</td>\n",
       "      <td>71.2833</td>\n",
       "      <td>0</td>\n",
       "      <td>0</td>\n",
       "      <td>S</td>\n",
       "      <td>Southampton</td>\n",
       "      <td>1</td>\n",
       "      <td>1.0</td>\n",
       "      <td>0.0</td>\n",
       "      <td>1.0</td>\n",
       "      <td>0.0</td>\n",
       "    </tr>\n",
       "    <tr>\n",
       "      <th>2</th>\n",
       "      <td>3</td>\n",
       "      <td>Heikkinen, Miss. Laina</td>\n",
       "      <td>female</td>\n",
       "      <td>26.0</td>\n",
       "      <td>3</td>\n",
       "      <td>STON/O2. 3101282</td>\n",
       "      <td>7.9250</td>\n",
       "      <td>1</td>\n",
       "      <td>0</td>\n",
       "      <td>S</td>\n",
       "      <td>Southampton</td>\n",
       "      <td>1</td>\n",
       "      <td>1.0</td>\n",
       "      <td>0.0</td>\n",
       "      <td>1.0</td>\n",
       "      <td>0.0</td>\n",
       "    </tr>\n",
       "  </tbody>\n",
       "</table>\n",
       "</div>"
      ],
      "text/plain": [
       "   PassengerId                                               Name     Sex  \\\n",
       "0            1                            Braund, Mr. Owen Harris    male   \n",
       "1            2  Cumings, Mrs. John Bradley (Florence Briggs Th...  female   \n",
       "2            3                             Heikkinen, Miss. Laina  female   \n",
       "\n",
       "    Age  Pclass            Ticket     Fare  Sibsp  Parch Embarked  \\\n",
       "0  22.0       3         A/5 21171   7.2500      1      0        C   \n",
       "1  38.0       1          PC 17599  71.2833      0      0        S   \n",
       "2  26.0       3  STON/O2. 3101282   7.9250      1      0        S   \n",
       "\n",
       "   Embark_Town  Survived  Sex_female  Sex_male  Sex_female  Sex_male  \n",
       "0    Cherbourg         0         0.0       1.0         0.0       1.0  \n",
       "1  Southampton         1         1.0       0.0         1.0       0.0  \n",
       "2  Southampton         1         1.0       0.0         1.0       0.0  "
      ]
     },
     "execution_count": 54,
     "metadata": {},
     "output_type": "execute_result"
    }
   ],
   "source": [
    "# Para la columna \"Sex\" vamos a elegir OneHotEncoder\n",
    "# Podemos utilizar `.set_output()` para que retorne un DataFrame. Es necesario que sparse_output sea False.\n",
    "\n",
    "sex_encoder = OneHotEncoder(handle_unknown=\"ignore\", sparse_output=False)\n",
    "sex_encoder.set_output(transform=\"pandas\")\n",
    "sex_column = sex_encoder.fit_transform(df[[\"Sex\"]])\n",
    "\n",
    "# Añadimos la columna al DataFrame usando pd.concat()\n",
    "\n",
    "df = pd.concat(objs = [df, sex_column], axis = 1)\n",
    "\n",
    "df.head(3)\n",
    "\n",
    "# Ahora podemos eliminar la columna \"Sex\", lo haremos más adelante"
   ]
  },
  {
   "cell_type": "code",
   "execution_count": 58,
   "id": "2169d2dc",
   "metadata": {},
   "outputs": [
    {
     "data": {
      "text/plain": [
       "0      22.0\n",
       "1      38.0\n",
       "2      26.0\n",
       "3      35.0\n",
       "4      35.0\n",
       "       ... \n",
       "885    39.0\n",
       "886    27.0\n",
       "887    19.0\n",
       "888     NaN\n",
       "889    26.0\n",
       "Name: Age, Length: 890, dtype: float64"
      ]
     },
     "execution_count": 58,
     "metadata": {},
     "output_type": "execute_result"
    }
   ],
   "source": [
    "# Columna \"Age\"\n",
    "\n",
    "# Esta es una de las columnas con NaN's.\n",
    "\n",
    "df[\"Age\"]"
   ]
  },
  {
   "cell_type": "code",
   "execution_count": 59,
   "id": "498a9b26",
   "metadata": {},
   "outputs": [
    {
     "data": {
      "image/png": "[encoded data removed]",
      "text/plain": [
       "<Figure size 1296x504 with 2 Axes>"
      ]
     },
     "metadata": {
      "needs_background": "light"
     },
     "output_type": "display_data"
    },
    {
     "data": {
      "image/png": "[encoded data removed]",
      "text/plain": [
       "<Figure size 1296x504 with 1 Axes>"
      ]
     },
     "metadata": {
      "needs_background": "light"
     },
     "output_type": "display_data"
    }
   ],
   "source": [
    "# Relación de la columna \"Age\" con \"Survived\"\n",
    "\n",
    "fig, axes = plt.subplots(1, 2, figsize = (18, 7))\n",
    "\n",
    "sns.histplot(x = df[\"Age\"], kde = True, ax = axes[0]);\n",
    "sns.boxplot(x = df[\"Survived\"], y = df[\"Age\"], ax = axes[1]);\n",
    "plt.show()\n",
    "\n",
    "\n",
    "plt.figure(figsize = (18, 7))\n",
    "\n",
    "sns.boxplot(x = df[\"Age\"]);\n",
    "plt.show()"
   ]
  },
  {
   "cell_type": "markdown",
   "id": "8d527651",
   "metadata": {},
   "source": [
    "### Manejo de Outliers\n",
    "\n",
    "Para los outliers existen diferentes técnicas para manipularlos:\n",
    "\n",
    "1. **Rango Intercuartil (IQR)**:\n",
    "\n",
    "El rango intercuartil (**Interquartile Range - IQR**) es una medida estadística de dispersión que representa la amplitud del rango medio del conjunto de datos.\n",
    "\n",
    "- El rango intercuartil es útil porque es menos sensible a valores extremos que el rango total.\n",
    "\n",
    "$$\n",
    "IQR = Q3 - Q1\n",
    "$$\n",
    "\n",
    "Para usar el **IQR** debemos definir un umbral para outliers, estos suelen establacerse multiplicando el **IQR** por un factor constante, los más comunes suelen encontrarse entre 1.5 y 3.\n",
    "\n",
    "$$\n",
    "Lower = Q1 - K*IQR\n",
    "$$\n",
    "$$\n",
    "Upper = Q3 + K*IQR\n",
    "$$\n",
    "- Los umbrales deben definirse dependiendo de los datos de cada columna, no necesariamente funcionará el mismo umbral para todo el conjunto.\n",
    "\n",
    "2. **Transformaciones Logarítimicas**:\n",
    "\n",
    "Aplicar la transformación logarítmica a los datos puede reducir la influencia de los valores atípicos y ayudar a que la distribución sea más simétrica.\n",
    "\n",
    "$$\n",
    "log_{10}(x)\n",
    "$$\n",
    "$$\n",
    "Ln(x) = log_{e}(x)\n",
    "$$\n",
    "\n",
    "3. **Clustering**:\n",
    "\n",
    "Aplicar modulos de clustering para encontrar outliers alejados de nubes de puntos. Algunos modelos pueden ser: **DBSCAN** o **KMeans**.\n",
    "\n",
    "4. **Capping**:\n",
    "\n",
    "Sustituir outliers por un límite superior o inferior asignados de forma arbitraria.\n",
    "\n",
    "\n",
    "**En caso de que los outliers sean simplemente valores imposibles podemos considerar eliminarlos, como por ejemplo alguien con una edad de 160 años, altura negativa o fecha de nacimiento posterior a la fecha actual.**\n",
    "\n",
    "Realizaremos el manejo de outliers de la columna **Age** después de llenar los NaN's."
   ]
  },
  {
   "cell_type": "markdown",
   "id": "9e52f200",
   "metadata": {},
   "source": [
    "### Manejo de NaN's\n",
    "\n",
    "Existen diferentes estrategias cuando una columna tiene NaN's:\n",
    "\n",
    "- Eliminar filas con NaN's.\n",
    "- Eliminar la columna.\n",
    "- Imputación de Datos.\n",
    "- Crear una categoría nueva como **Unknown** o **N/A** en columnas categóricas.\n",
    "\n",
    "### Imputación de Datos\n",
    "\n",
    "La imputación de datos es la sustitución de valores NaN's en una fila por otros.\n",
    "\n",
    "En general existen 2 técnicas:\n",
    "\n",
    "1. La primera técnica consiste en rellenar estos valores con la **media** (o **mediana**) de los datos de la variable en el caso de que se trate de una **variable numérica**. Para el caso de las **variables categóricas** imputamos los NaN's con la **moda** de la variable.\n",
    "<br>\n",
    "\n",
    "2. La segunda técnica, que es más avanzada, consiste en el uso de **modelos predictivos** para estimar los NaN's. Un modelo no paramétrico muy popular para estos casos es el **K-Nearest Neighbors (KNN)**, donde se calculan los valores NaN's como la media de los valores de los **k-vecinos u observaciones mas cercanos**."
   ]
  },
  {
   "cell_type": "code",
   "execution_count": 60,
   "id": "38bb72bf",
   "metadata": {},
   "outputs": [
    {
     "data": {
      "image/png": "[encoded data removed]",
      "text/plain": [
       "<Figure size 432x288 with 1 Axes>"
      ]
     },
     "metadata": {
      "needs_background": "light"
     },
     "output_type": "display_data"
    }
   ],
   "source": [
    "# Con NaNs\n",
    "sns.histplot(df[\"Age\"])\n",
    "plt.show()"
   ]
  },
  {
   "cell_type": "code",
   "execution_count": 61,
   "id": "5b846c09",
   "metadata": {},
   "outputs": [
    {
     "data": {
      "text/plain": [
       "0      22.000000\n",
       "1      38.000000\n",
       "2      26.000000\n",
       "3      35.000000\n",
       "4      35.000000\n",
       "         ...    \n",
       "885    39.000000\n",
       "886    27.000000\n",
       "887    19.000000\n",
       "888    29.695891\n",
       "889    26.000000\n",
       "Name: Age, Length: 890, dtype: float64"
      ]
     },
     "execution_count": 61,
     "metadata": {},
     "output_type": "execute_result"
    }
   ],
   "source": [
    "# Primera técnica:\n",
    "\n",
    "# Para la imputación de los datos vamos a \"llenar\" los NaN's por la media de edad\n",
    "\n",
    "df[\"Age\"].fillna(df[\"Age\"].mean())\n",
    "\n",
    "# En este ejemplo llena TODOS los NaN's por la misma media.\n",
    "# No es in-place"
   ]
  },
  {
   "cell_type": "code",
   "execution_count": 62,
   "id": "5e92fd97",
   "metadata": {},
   "outputs": [
    {
     "data": {
      "image/png": "[encoded data removed]",
      "text/plain": [
       "<Figure size 432x288 with 1 Axes>"
      ]
     },
     "metadata": {
      "needs_background": "light"
     },
     "output_type": "display_data"
    }
   ],
   "source": [
    "# Con NaNs reemplazados por el promedio\n",
    "sns.histplot(df[\"Age\"].fillna(df[\"Age\"].mean()))\n",
    "plt.show()"
   ]
  },
  {
   "cell_type": "code",
   "execution_count": 63,
   "id": "4ef462f8",
   "metadata": {
    "scrolled": true
   },
   "outputs": [],
   "source": [
    "# Segunda técnica:\n",
    "\n",
    "# Reemplaza los NaN's de la columna \"Age\" por la media de las edades de los k-vecinos mas cercanos (KNN).\n",
    "\n",
    "from sklearn.impute import KNNImputer\n",
    "\n",
    "# KNNImputer recibe un DataFrame que solo contenga números, para este momento no tenemos el DataFrame preparado\n",
    "# Dejaremos el código para ejecutarlo más adelante"
   ]
  },
  {
   "cell_type": "code",
   "execution_count": 64,
   "id": "ac9cdade",
   "metadata": {},
   "outputs": [
    {
     "data": {
      "text/plain": [
       "3    490\n",
       "1    216\n",
       "2    184\n",
       "Name: Pclass, dtype: int64"
      ]
     },
     "execution_count": 64,
     "metadata": {},
     "output_type": "execute_result"
    }
   ],
   "source": [
    "# Columna \"Pclass\"\n",
    "\n",
    "# Columna categórica, ya está en valores numéricos y no tiene NaN's.\n",
    "\n",
    "df[\"Pclass\"].value_counts()"
   ]
  },
  {
   "cell_type": "code",
   "execution_count": 39,
   "id": "765cbfda",
   "metadata": {},
   "outputs": [
    {
     "data": {
      "image/png": "[encoded data removed]",
      "text/plain": [
       "<Figure size 1800x700 with 2 Axes>"
      ]
     },
     "metadata": {},
     "output_type": "display_data"
    }
   ],
   "source": [
    "# Relación de la columna \"Pclass\" con la columna \"Survived\"\n",
    "\n",
    "fig, axes = plt.subplots(1, 2, figsize = (18, 7))\n",
    "\n",
    "sns.countplot(x = df[\"Pclass\"], ax = axes[0]);\n",
    "sns.countplot(x = df[\"Pclass\"], hue = df[\"Survived\"],  ax = axes[1]);\n",
    "\n",
    "plt.show()"
   ]
  },
  {
   "cell_type": "code",
   "execution_count": 40,
   "id": "fbf302fa",
   "metadata": {},
   "outputs": [
    {
     "data": {
      "text/plain": [
       "Ticket\n",
       "CA. 2343    7\n",
       "1601        7\n",
       "347082      7\n",
       "347088      6\n",
       "3101295     6\n",
       "           ..\n",
       "9234        1\n",
       "19988       1\n",
       "2693        1\n",
       "PC 17612    1\n",
       "111369      1\n",
       "Name: count, Length: 680, dtype: int64"
      ]
     },
     "execution_count": 40,
     "metadata": {},
     "output_type": "execute_result"
    }
   ],
   "source": [
    "# Columna \"Ticket\"\n",
    "\n",
    "# Variable categórica con muchos elementos diferentes (534 valores únicos)\n",
    "# Probablemente no aporte mucha información el número de ticket\n",
    "\n",
    "# Vamos a usar .value_counts().to_dict() para transformar esta columna a numérica sustituyendo\n",
    "# su valor por el número de veces que se repite.\n",
    "\n",
    "df[\"Ticket\"].value_counts()"
   ]
  },
  {
   "cell_type": "code",
   "execution_count": 65,
   "id": "93fa4639",
   "metadata": {},
   "outputs": [
    {
     "data": {
      "text/plain": [
       "0      1\n",
       "1      1\n",
       "2      1\n",
       "3      2\n",
       "4      1\n",
       "      ..\n",
       "885    5\n",
       "886    1\n",
       "887    1\n",
       "888    2\n",
       "889    1\n",
       "Name: Ticket, Length: 890, dtype: int64"
      ]
     },
     "execution_count": 65,
     "metadata": {},
     "output_type": "execute_result"
    }
   ],
   "source": [
    "# Map\n",
    "ticket_map = df[\"Ticket\"].value_counts().to_dict()\n",
    "\n",
    "# Transformación\n",
    "df[\"Ticket\"] = df[\"Ticket\"].map(ticket_map)\n",
    "\n",
    "df[\"Ticket\"]"
   ]
  },
  {
   "cell_type": "code",
   "execution_count": 66,
   "id": "a427f73c",
   "metadata": {},
   "outputs": [
    {
     "data": {
      "image/png": "[encoded data removed]",
      "text/plain": [
       "<Figure size 1296x504 with 2 Axes>"
      ]
     },
     "metadata": {
      "needs_background": "light"
     },
     "output_type": "display_data"
    }
   ],
   "source": [
    "# Relación de la columna \"Ticket\" con la columna \"Survived\"\n",
    "\n",
    "fig, axes = plt.subplots(1, 2, figsize = (18, 7))\n",
    "\n",
    "sns.countplot(x = df[\"Ticket\"], ax = axes[0]);\n",
    "sns.countplot(x = df[\"Ticket\"], hue = df[\"Survived\"],  ax = axes[1]);\n",
    "\n",
    "plt.show()"
   ]
  },
  {
   "cell_type": "code",
   "execution_count": 73,
   "id": "371f2b14",
   "metadata": {},
   "outputs": [
    {
     "data": {
      "text/plain": [
       "0       7.2500\n",
       "1      71.2833\n",
       "2       7.9250\n",
       "3      53.1000\n",
       "4       8.0500\n",
       "        ...   \n",
       "885    29.1250\n",
       "886    13.0000\n",
       "887    30.0000\n",
       "888    23.4500\n",
       "889    30.0000\n",
       "Name: Fare, Length: 890, dtype: float64"
      ]
     },
     "execution_count": 73,
     "metadata": {},
     "output_type": "execute_result"
    }
   ],
   "source": [
    "# Columna \"Fare\"\n",
    "\n",
    "# Precio del ticket, ya es una columna numérica y no tiene NaN's.\n",
    "\n",
    "df[\"Fare\"]"
   ]
  },
  {
   "cell_type": "code",
   "execution_count": 74,
   "id": "96d5e383",
   "metadata": {},
   "outputs": [
    {
     "data": {
      "image/png": "[encoded data removed]",
      "text/plain": [
       "<Figure size 1296x504 with 2 Axes>"
      ]
     },
     "metadata": {
      "needs_background": "light"
     },
     "output_type": "display_data"
    },
    {
     "data": {
      "image/png": "[encoded data removed]",
      "text/plain": [
       "<Figure size 1296x504 with 1 Axes>"
      ]
     },
     "metadata": {
      "needs_background": "light"
     },
     "output_type": "display_data"
    }
   ],
   "source": [
    "# Relación de la columna \"Fare\" con \"Survived\"\n",
    "\n",
    "fig, axes = plt.subplots(1, 2, figsize = (18, 7))\n",
    "\n",
    "sns.histplot(x = df[\"Fare\"], kde = True, ax = axes[0]);\n",
    "sns.boxplot(x = df[\"Survived\"], y = df[\"Fare\"], ax = axes[1]);\n",
    "plt.show()\n",
    "\n",
    "plt.figure(figsize = (18, 7))\n",
    "\n",
    "sns.boxplot(x = df[\"Fare\"]);\n",
    "plt.show()"
   ]
  },
  {
   "cell_type": "code",
   "execution_count": 75,
   "id": "d182b246",
   "metadata": {},
   "outputs": [
    {
     "data": {
      "text/plain": [
       "0      2.110213\n",
       "1      4.280593\n",
       "2      2.188856\n",
       "3      3.990834\n",
       "4      2.202765\n",
       "         ...   \n",
       "885    3.405355\n",
       "886    2.639057\n",
       "887    3.433987\n",
       "888    3.196630\n",
       "889    3.433987\n",
       "Name: Log_Fare, Length: 890, dtype: float64"
      ]
     },
     "execution_count": 75,
     "metadata": {},
     "output_type": "execute_result"
    }
   ],
   "source": [
    "# Transformación Logarítmica\n",
    "\n",
    "df[\"Log_Fare\"] = df[\"Fare\"].apply(lambda x : np.log(x + 1))\n",
    "\n",
    "# Aplicamos np.log(x + 1) para evitar log(0)\n",
    "\n",
    "df[\"Log_Fare\"]"
   ]
  },
  {
   "cell_type": "code",
   "execution_count": 76,
   "id": "fdae0b71",
   "metadata": {},
   "outputs": [
    {
     "data": {
      "image/png": "[encoded data removed]",
      "text/plain": [
       "<Figure size 1296x504 with 2 Axes>"
      ]
     },
     "metadata": {
      "needs_background": "light"
     },
     "output_type": "display_data"
    },
    {
     "data": {
      "image/png": "[encoded data removed]",
      "text/plain": [
       "<Figure size 1296x504 with 1 Axes>"
      ]
     },
     "metadata": {
      "needs_background": "light"
     },
     "output_type": "display_data"
    }
   ],
   "source": [
    "# Relación de la columna \"Log_Fare\" con \"Survived\"\n",
    "\n",
    "fig, axes = plt.subplots(1, 2, figsize = (18, 7))\n",
    "\n",
    "sns.histplot(x = df[\"Log_Fare\"], kde = True, ax = axes[0]);\n",
    "sns.boxplot(x = df[\"Survived\"], y = df[\"Log_Fare\"], ax = axes[1]);\n",
    "plt.show()\n",
    "\n",
    "plt.figure(figsize = (18, 7))\n",
    "\n",
    "sns.boxplot(x = df[\"Log_Fare\"]);\n",
    "plt.show()\n",
    "\n",
    "# Nota: También podemos aplicar el IQR a esta transformación para eliminar outliers"
   ]
  },
  {
   "cell_type": "code",
   "execution_count": 77,
   "id": "d987efa5",
   "metadata": {},
   "outputs": [
    {
     "data": {
      "text/plain": [
       "0    608\n",
       "1    208\n",
       "2     28\n",
       "3     16\n",
       "4     18\n",
       "5      5\n",
       "8      7\n",
       "Name: Sibsp, dtype: int64"
      ]
     },
     "execution_count": 77,
     "metadata": {},
     "output_type": "execute_result"
    }
   ],
   "source": [
    "# Columna \"Sibsp\"\n",
    "\n",
    "# Columna categórica, ya es numérica y no tiene NaN's.\n",
    "\n",
    "df[\"Sibsp\"].sort_values().value_counts(sort = False)"
   ]
  },
  {
   "cell_type": "code",
   "execution_count": 78,
   "id": "e8b74a2c",
   "metadata": {},
   "outputs": [
    {
     "data": {
      "image/png": "[encoded data removed]",
      "text/plain": [
       "<Figure size 1296x504 with 2 Axes>"
      ]
     },
     "metadata": {
      "needs_background": "light"
     },
     "output_type": "display_data"
    }
   ],
   "source": [
    "# Relación de la columna \"Sibsp\" con la columna \"Survived\"\n",
    "\n",
    "fig, axes = plt.subplots(1, 2, figsize = (18, 7))\n",
    "\n",
    "sns.countplot(x = df[\"Sibsp\"], ax = axes[0]);\n",
    "sns.countplot(x = df[\"Sibsp\"], hue = df[\"Survived\"],  ax = axes[1]);\n",
    "\n",
    "plt.show()"
   ]
  },
  {
   "cell_type": "code",
   "execution_count": 79,
   "id": "f138d038",
   "metadata": {},
   "outputs": [
    {
     "data": {
      "text/plain": [
       "0    677\n",
       "1    118\n",
       "2     80\n",
       "3      5\n",
       "4      4\n",
       "5      5\n",
       "6      1\n",
       "Name: Parch, dtype: int64"
      ]
     },
     "execution_count": 79,
     "metadata": {},
     "output_type": "execute_result"
    }
   ],
   "source": [
    "# Columna \"Parch\"\n",
    "\n",
    "# Columna categórica, ya es numérica y no tiene NaN's\n",
    "\n",
    "df[\"Parch\"].sort_values().value_counts(sort = False)"
   ]
  },
  {
   "cell_type": "code",
   "execution_count": 80,
   "id": "dfae928a",
   "metadata": {},
   "outputs": [
    {
     "data": {
      "image/png": "[encoded data removed]",
      "text/plain": [
       "<Figure size 1296x504 with 2 Axes>"
      ]
     },
     "metadata": {
      "needs_background": "light"
     },
     "output_type": "display_data"
    }
   ],
   "source": [
    "# Relación de la columna \"Parch\" con la columna \"Survived\"\n",
    "\n",
    "fig, axes = plt.subplots(1, 2, figsize = (18, 7))\n",
    "\n",
    "sns.countplot(x = df[\"Parch\"], ax = axes[0]);\n",
    "sns.countplot(x = df[\"Parch\"], hue = df[\"Survived\"],  ax = axes[1]);\n",
    "\n",
    "plt.show()"
   ]
  },
  {
   "cell_type": "code",
   "execution_count": 81,
   "id": "261fb360",
   "metadata": {},
   "outputs": [
    {
     "data": {
      "text/plain": [
       "S      643\n",
       "C      168\n",
       "Q       77\n",
       "NaN      2\n",
       "Name: Embarked, dtype: int64"
      ]
     },
     "execution_count": 81,
     "metadata": {},
     "output_type": "execute_result"
    }
   ],
   "source": [
    "# Columnas \"Embarked\" y \"Embark_Town\"\n",
    "\n",
    "# Ambas columnas categóricas que representan lo mismo.\n",
    "# Debemos transformar una de las dos a númerica y eliminar la otra, por que representan la misma información\n",
    "# Ambas tienen NaN's en la mismas filas\n",
    "\n",
    "df[\"Embarked\"].value_counts(dropna = False)"
   ]
  },
  {
   "cell_type": "code",
   "execution_count": 86,
   "id": "82caa198",
   "metadata": {},
   "outputs": [
    {
     "data": {
      "image/png": "[encoded data removed]",
      "text/plain": [
       "<Figure size 1296x504 with 2 Axes>"
      ]
     },
     "metadata": {
      "needs_background": "light"
     },
     "output_type": "display_data"
    }
   ],
   "source": [
    "# Relación de la columna \"Embark_Town\" con la columna \"Survived\"\n",
    "\n",
    "fig, axes = plt.subplots(1, 2, figsize = (18, 7))\n",
    "\n",
    "sns.countplot(x = df[\"Embark_Town\"], ax = axes[0]);\n",
    "sns.countplot(x = df[\"Embark_Town\"], hue = df[\"Survived\"],  ax = axes[1]);\n",
    "\n",
    "plt.show()"
   ]
  },
  {
   "cell_type": "code",
   "execution_count": 87,
   "id": "5ec7ceb5",
   "metadata": {},
   "outputs": [
    {
     "data": {
      "text/plain": [
       "Southampton    643\n",
       "Cherbourg      168\n",
       "Queenstown      77\n",
       "NaN              2\n",
       "Name: Embark_Town, dtype: int64"
      ]
     },
     "execution_count": 87,
     "metadata": {},
     "output_type": "execute_result"
    }
   ],
   "source": [
    "# Misma información\n",
    "\n",
    "df[\"Embark_Town\"].value_counts(dropna = False)"
   ]
  },
  {
   "cell_type": "code",
   "execution_count": 88,
   "id": "7d5cbf24",
   "metadata": {},
   "outputs": [
    {
     "data": {
      "text/html": [
       "<div>\n",
       "<style scoped>\n",
       "    .dataframe tbody tr th:only-of-type {\n",
       "        vertical-align: middle;\n",
       "    }\n",
       "\n",
       "    .dataframe tbody tr th {\n",
       "        vertical-align: top;\n",
       "    }\n",
       "\n",
       "    .dataframe thead th {\n",
       "        text-align: right;\n",
       "    }\n",
       "</style>\n",
       "<table border=\"1\" class=\"dataframe\">\n",
       "  <thead>\n",
       "    <tr style=\"text-align: right;\">\n",
       "      <th></th>\n",
       "      <th>PassengerId</th>\n",
       "      <th>Name</th>\n",
       "      <th>Sex</th>\n",
       "      <th>Age</th>\n",
       "      <th>Pclass</th>\n",
       "      <th>Ticket</th>\n",
       "      <th>Fare</th>\n",
       "      <th>Sibsp</th>\n",
       "      <th>Parch</th>\n",
       "      <th>Embarked</th>\n",
       "      <th>Embark_Town</th>\n",
       "      <th>Survived</th>\n",
       "      <th>Sex_female</th>\n",
       "      <th>Sex_male</th>\n",
       "      <th>Log_Fare</th>\n",
       "      <th>Embark_Town_Cherbourg</th>\n",
       "      <th>Embark_Town_Queenstown</th>\n",
       "      <th>Embark_Town_Southampton</th>\n",
       "      <th>Embark_Town_nan</th>\n",
       "    </tr>\n",
       "  </thead>\n",
       "  <tbody>\n",
       "    <tr>\n",
       "      <th>0</th>\n",
       "      <td>1</td>\n",
       "      <td>Braund, Mr. Owen Harris</td>\n",
       "      <td>male</td>\n",
       "      <td>22.0</td>\n",
       "      <td>3</td>\n",
       "      <td>1</td>\n",
       "      <td>7.2500</td>\n",
       "      <td>1</td>\n",
       "      <td>0</td>\n",
       "      <td>C</td>\n",
       "      <td>Cherbourg</td>\n",
       "      <td>0</td>\n",
       "      <td>0.0</td>\n",
       "      <td>1.0</td>\n",
       "      <td>2.110213</td>\n",
       "      <td>1.0</td>\n",
       "      <td>0.0</td>\n",
       "      <td>0.0</td>\n",
       "      <td>0.0</td>\n",
       "    </tr>\n",
       "    <tr>\n",
       "      <th>1</th>\n",
       "      <td>2</td>\n",
       "      <td>Cumings, Mrs. John Bradley (Florence Briggs Th...</td>\n",
       "      <td>female</td>\n",
       "      <td>38.0</td>\n",
       "      <td>1</td>\n",
       "      <td>1</td>\n",
       "      <td>71.2833</td>\n",
       "      <td>0</td>\n",
       "      <td>0</td>\n",
       "      <td>S</td>\n",
       "      <td>Southampton</td>\n",
       "      <td>1</td>\n",
       "      <td>1.0</td>\n",
       "      <td>0.0</td>\n",
       "      <td>4.280593</td>\n",
       "      <td>0.0</td>\n",
       "      <td>0.0</td>\n",
       "      <td>1.0</td>\n",
       "      <td>0.0</td>\n",
       "    </tr>\n",
       "    <tr>\n",
       "      <th>2</th>\n",
       "      <td>3</td>\n",
       "      <td>Heikkinen, Miss. Laina</td>\n",
       "      <td>female</td>\n",
       "      <td>26.0</td>\n",
       "      <td>3</td>\n",
       "      <td>1</td>\n",
       "      <td>7.9250</td>\n",
       "      <td>1</td>\n",
       "      <td>0</td>\n",
       "      <td>S</td>\n",
       "      <td>Southampton</td>\n",
       "      <td>1</td>\n",
       "      <td>1.0</td>\n",
       "      <td>0.0</td>\n",
       "      <td>2.188856</td>\n",
       "      <td>0.0</td>\n",
       "      <td>0.0</td>\n",
       "      <td>1.0</td>\n",
       "      <td>0.0</td>\n",
       "    </tr>\n",
       "    <tr>\n",
       "      <th>3</th>\n",
       "      <td>4</td>\n",
       "      <td>Futrelle, Mrs. Jacques Heath (Lily May Peel)</td>\n",
       "      <td>female</td>\n",
       "      <td>35.0</td>\n",
       "      <td>1</td>\n",
       "      <td>2</td>\n",
       "      <td>53.1000</td>\n",
       "      <td>0</td>\n",
       "      <td>0</td>\n",
       "      <td>S</td>\n",
       "      <td>Southampton</td>\n",
       "      <td>1</td>\n",
       "      <td>1.0</td>\n",
       "      <td>0.0</td>\n",
       "      <td>3.990834</td>\n",
       "      <td>0.0</td>\n",
       "      <td>0.0</td>\n",
       "      <td>1.0</td>\n",
       "      <td>0.0</td>\n",
       "    </tr>\n",
       "    <tr>\n",
       "      <th>4</th>\n",
       "      <td>5</td>\n",
       "      <td>Allen, Mr. William Henry</td>\n",
       "      <td>male</td>\n",
       "      <td>35.0</td>\n",
       "      <td>3</td>\n",
       "      <td>1</td>\n",
       "      <td>8.0500</td>\n",
       "      <td>0</td>\n",
       "      <td>0</td>\n",
       "      <td>Q</td>\n",
       "      <td>Queenstown</td>\n",
       "      <td>0</td>\n",
       "      <td>0.0</td>\n",
       "      <td>1.0</td>\n",
       "      <td>2.202765</td>\n",
       "      <td>0.0</td>\n",
       "      <td>1.0</td>\n",
       "      <td>0.0</td>\n",
       "      <td>0.0</td>\n",
       "    </tr>\n",
       "    <tr>\n",
       "      <th>...</th>\n",
       "      <td>...</td>\n",
       "      <td>...</td>\n",
       "      <td>...</td>\n",
       "      <td>...</td>\n",
       "      <td>...</td>\n",
       "      <td>...</td>\n",
       "      <td>...</td>\n",
       "      <td>...</td>\n",
       "      <td>...</td>\n",
       "      <td>...</td>\n",
       "      <td>...</td>\n",
       "      <td>...</td>\n",
       "      <td>...</td>\n",
       "      <td>...</td>\n",
       "      <td>...</td>\n",
       "      <td>...</td>\n",
       "      <td>...</td>\n",
       "      <td>...</td>\n",
       "      <td>...</td>\n",
       "    </tr>\n",
       "    <tr>\n",
       "      <th>885</th>\n",
       "      <td>886</td>\n",
       "      <td>Rice, Mrs. William (Margaret Norton)</td>\n",
       "      <td>female</td>\n",
       "      <td>39.0</td>\n",
       "      <td>3</td>\n",
       "      <td>5</td>\n",
       "      <td>29.1250</td>\n",
       "      <td>0</td>\n",
       "      <td>0</td>\n",
       "      <td>S</td>\n",
       "      <td>Southampton</td>\n",
       "      <td>0</td>\n",
       "      <td>1.0</td>\n",
       "      <td>0.0</td>\n",
       "      <td>3.405355</td>\n",
       "      <td>0.0</td>\n",
       "      <td>0.0</td>\n",
       "      <td>1.0</td>\n",
       "      <td>0.0</td>\n",
       "    </tr>\n",
       "    <tr>\n",
       "      <th>886</th>\n",
       "      <td>887</td>\n",
       "      <td>Montvila, Rev. Juozas</td>\n",
       "      <td>male</td>\n",
       "      <td>27.0</td>\n",
       "      <td>2</td>\n",
       "      <td>1</td>\n",
       "      <td>13.0000</td>\n",
       "      <td>0</td>\n",
       "      <td>0</td>\n",
       "      <td>S</td>\n",
       "      <td>Southampton</td>\n",
       "      <td>0</td>\n",
       "      <td>0.0</td>\n",
       "      <td>1.0</td>\n",
       "      <td>2.639057</td>\n",
       "      <td>0.0</td>\n",
       "      <td>0.0</td>\n",
       "      <td>1.0</td>\n",
       "      <td>0.0</td>\n",
       "    </tr>\n",
       "    <tr>\n",
       "      <th>887</th>\n",
       "      <td>888</td>\n",
       "      <td>Graham, Miss. Margaret Edith</td>\n",
       "      <td>female</td>\n",
       "      <td>19.0</td>\n",
       "      <td>1</td>\n",
       "      <td>1</td>\n",
       "      <td>30.0000</td>\n",
       "      <td>1</td>\n",
       "      <td>2</td>\n",
       "      <td>S</td>\n",
       "      <td>Southampton</td>\n",
       "      <td>1</td>\n",
       "      <td>1.0</td>\n",
       "      <td>0.0</td>\n",
       "      <td>3.433987</td>\n",
       "      <td>0.0</td>\n",
       "      <td>0.0</td>\n",
       "      <td>1.0</td>\n",
       "      <td>0.0</td>\n",
       "    </tr>\n",
       "    <tr>\n",
       "      <th>888</th>\n",
       "      <td>889</td>\n",
       "      <td>Johnston, Miss. Catherine Helen \"Carrie\"</td>\n",
       "      <td>female</td>\n",
       "      <td>NaN</td>\n",
       "      <td>3</td>\n",
       "      <td>2</td>\n",
       "      <td>23.4500</td>\n",
       "      <td>0</td>\n",
       "      <td>0</td>\n",
       "      <td>C</td>\n",
       "      <td>Cherbourg</td>\n",
       "      <td>0</td>\n",
       "      <td>1.0</td>\n",
       "      <td>0.0</td>\n",
       "      <td>3.196630</td>\n",
       "      <td>1.0</td>\n",
       "      <td>0.0</td>\n",
       "      <td>0.0</td>\n",
       "      <td>0.0</td>\n",
       "    </tr>\n",
       "    <tr>\n",
       "      <th>889</th>\n",
       "      <td>890</td>\n",
       "      <td>Behr, Mr. Karl Howell</td>\n",
       "      <td>male</td>\n",
       "      <td>26.0</td>\n",
       "      <td>1</td>\n",
       "      <td>1</td>\n",
       "      <td>30.0000</td>\n",
       "      <td>0</td>\n",
       "      <td>0</td>\n",
       "      <td>Q</td>\n",
       "      <td>Queenstown</td>\n",
       "      <td>1</td>\n",
       "      <td>0.0</td>\n",
       "      <td>1.0</td>\n",
       "      <td>3.433987</td>\n",
       "      <td>0.0</td>\n",
       "      <td>1.0</td>\n",
       "      <td>0.0</td>\n",
       "      <td>0.0</td>\n",
       "    </tr>\n",
       "  </tbody>\n",
       "</table>\n",
       "<p>890 rows × 19 columns</p>\n",
       "</div>"
      ],
      "text/plain": [
       "     PassengerId                                               Name     Sex  \\\n",
       "0              1                            Braund, Mr. Owen Harris    male   \n",
       "1              2  Cumings, Mrs. John Bradley (Florence Briggs Th...  female   \n",
       "2              3                             Heikkinen, Miss. Laina  female   \n",
       "3              4       Futrelle, Mrs. Jacques Heath (Lily May Peel)  female   \n",
       "4              5                           Allen, Mr. William Henry    male   \n",
       "..           ...                                                ...     ...   \n",
       "885          886               Rice, Mrs. William (Margaret Norton)  female   \n",
       "886          887                              Montvila, Rev. Juozas    male   \n",
       "887          888                       Graham, Miss. Margaret Edith  female   \n",
       "888          889           Johnston, Miss. Catherine Helen \"Carrie\"  female   \n",
       "889          890                              Behr, Mr. Karl Howell    male   \n",
       "\n",
       "      Age  Pclass  Ticket     Fare  Sibsp  Parch Embarked  Embark_Town  \\\n",
       "0    22.0       3       1   7.2500      1      0        C    Cherbourg   \n",
       "1    38.0       1       1  71.2833      0      0        S  Southampton   \n",
       "2    26.0       3       1   7.9250      1      0        S  Southampton   \n",
       "3    35.0       1       2  53.1000      0      0        S  Southampton   \n",
       "4    35.0       3       1   8.0500      0      0        Q   Queenstown   \n",
       "..    ...     ...     ...      ...    ...    ...      ...          ...   \n",
       "885  39.0       3       5  29.1250      0      0        S  Southampton   \n",
       "886  27.0       2       1  13.0000      0      0        S  Southampton   \n",
       "887  19.0       1       1  30.0000      1      2        S  Southampton   \n",
       "888   NaN       3       2  23.4500      0      0        C    Cherbourg   \n",
       "889  26.0       1       1  30.0000      0      0        Q   Queenstown   \n",
       "\n",
       "     Survived  Sex_female  Sex_male  Log_Fare  Embark_Town_Cherbourg  \\\n",
       "0           0         0.0       1.0  2.110213                    1.0   \n",
       "1           1         1.0       0.0  4.280593                    0.0   \n",
       "2           1         1.0       0.0  2.188856                    0.0   \n",
       "3           1         1.0       0.0  3.990834                    0.0   \n",
       "4           0         0.0       1.0  2.202765                    0.0   \n",
       "..        ...         ...       ...       ...                    ...   \n",
       "885         0         1.0       0.0  3.405355                    0.0   \n",
       "886         0         0.0       1.0  2.639057                    0.0   \n",
       "887         1         1.0       0.0  3.433987                    0.0   \n",
       "888         0         1.0       0.0  3.196630                    1.0   \n",
       "889         1         0.0       1.0  3.433987                    0.0   \n",
       "\n",
       "     Embark_Town_Queenstown  Embark_Town_Southampton  Embark_Town_nan  \n",
       "0                       0.0                      0.0              0.0  \n",
       "1                       0.0                      1.0              0.0  \n",
       "2                       0.0                      1.0              0.0  \n",
       "3                       0.0                      1.0              0.0  \n",
       "4                       1.0                      0.0              0.0  \n",
       "..                      ...                      ...              ...  \n",
       "885                     0.0                      1.0              0.0  \n",
       "886                     0.0                      1.0              0.0  \n",
       "887                     0.0                      1.0              0.0  \n",
       "888                     0.0                      0.0              0.0  \n",
       "889                     1.0                      0.0              0.0  \n",
       "\n",
       "[890 rows x 19 columns]"
      ]
     },
     "execution_count": 88,
     "metadata": {},
     "output_type": "execute_result"
    }
   ],
   "source": [
    "# Vamos a utilizar pd.get_dummies() con la columna \"Embark_Town\"\n",
    "\n",
    "embark_encoder = OneHotEncoder(handle_unknown=\"ignore\", sparse_output=False)\n",
    "embark_encoder.set_output(transform=\"pandas\")\n",
    "embark_column = embark_encoder.fit_transform(df[[\"Embark_Town\"]])\n",
    "\n",
    "# Añadimos la columna al DataFrame usando pd.concat()\n",
    "\n",
    "df = pd.concat(objs = [df, embark_column], axis = 1)\n",
    "\n",
    "df"
   ]
  },
  {
   "cell_type": "code",
   "execution_count": 89,
   "id": "6bb79ab7",
   "metadata": {},
   "outputs": [
    {
     "data": {
      "text/plain": [
       "0    548\n",
       "1    342\n",
       "Name: Survived, dtype: int64"
      ]
     },
     "execution_count": 89,
     "metadata": {},
     "output_type": "execute_result"
    }
   ],
   "source": [
    "# Columna \"Survived\"\n",
    "\n",
    "# Esta es la columna que queremos predecir\n",
    "# En este caso estamos haciendo una clasificación, por lo que esta columna debe tener valores enteros\n",
    "\n",
    "df[\"Survived\"].value_counts()"
   ]
  },
  {
   "cell_type": "code",
   "execution_count": 91,
   "id": "a5e1e389",
   "metadata": {},
   "outputs": [
    {
     "data": {
      "text/html": [
       "<div>\n",
       "<style scoped>\n",
       "    .dataframe tbody tr th:only-of-type {\n",
       "        vertical-align: middle;\n",
       "    }\n",
       "\n",
       "    .dataframe tbody tr th {\n",
       "        vertical-align: top;\n",
       "    }\n",
       "\n",
       "    .dataframe thead th {\n",
       "        text-align: right;\n",
       "    }\n",
       "</style>\n",
       "<table border=\"1\" class=\"dataframe\">\n",
       "  <thead>\n",
       "    <tr style=\"text-align: right;\">\n",
       "      <th></th>\n",
       "      <th>Age</th>\n",
       "      <th>Pclass</th>\n",
       "      <th>Ticket</th>\n",
       "      <th>Sibsp</th>\n",
       "      <th>Parch</th>\n",
       "      <th>Survived</th>\n",
       "      <th>Sex_female</th>\n",
       "      <th>Sex_male</th>\n",
       "      <th>Log_Fare</th>\n",
       "      <th>Embark_Town_Cherbourg</th>\n",
       "      <th>Embark_Town_Queenstown</th>\n",
       "      <th>Embark_Town_Southampton</th>\n",
       "      <th>Embark_Town_nan</th>\n",
       "    </tr>\n",
       "  </thead>\n",
       "  <tbody>\n",
       "    <tr>\n",
       "      <th>0</th>\n",
       "      <td>22.0</td>\n",
       "      <td>3</td>\n",
       "      <td>1</td>\n",
       "      <td>1</td>\n",
       "      <td>0</td>\n",
       "      <td>0</td>\n",
       "      <td>0.0</td>\n",
       "      <td>1.0</td>\n",
       "      <td>2.110213</td>\n",
       "      <td>1.0</td>\n",
       "      <td>0.0</td>\n",
       "      <td>0.0</td>\n",
       "      <td>0.0</td>\n",
       "    </tr>\n",
       "    <tr>\n",
       "      <th>1</th>\n",
       "      <td>38.0</td>\n",
       "      <td>1</td>\n",
       "      <td>1</td>\n",
       "      <td>0</td>\n",
       "      <td>0</td>\n",
       "      <td>1</td>\n",
       "      <td>1.0</td>\n",
       "      <td>0.0</td>\n",
       "      <td>4.280593</td>\n",
       "      <td>0.0</td>\n",
       "      <td>0.0</td>\n",
       "      <td>1.0</td>\n",
       "      <td>0.0</td>\n",
       "    </tr>\n",
       "    <tr>\n",
       "      <th>2</th>\n",
       "      <td>26.0</td>\n",
       "      <td>3</td>\n",
       "      <td>1</td>\n",
       "      <td>1</td>\n",
       "      <td>0</td>\n",
       "      <td>1</td>\n",
       "      <td>1.0</td>\n",
       "      <td>0.0</td>\n",
       "      <td>2.188856</td>\n",
       "      <td>0.0</td>\n",
       "      <td>0.0</td>\n",
       "      <td>1.0</td>\n",
       "      <td>0.0</td>\n",
       "    </tr>\n",
       "    <tr>\n",
       "      <th>3</th>\n",
       "      <td>35.0</td>\n",
       "      <td>1</td>\n",
       "      <td>2</td>\n",
       "      <td>0</td>\n",
       "      <td>0</td>\n",
       "      <td>1</td>\n",
       "      <td>1.0</td>\n",
       "      <td>0.0</td>\n",
       "      <td>3.990834</td>\n",
       "      <td>0.0</td>\n",
       "      <td>0.0</td>\n",
       "      <td>1.0</td>\n",
       "      <td>0.0</td>\n",
       "    </tr>\n",
       "    <tr>\n",
       "      <th>4</th>\n",
       "      <td>35.0</td>\n",
       "      <td>3</td>\n",
       "      <td>1</td>\n",
       "      <td>0</td>\n",
       "      <td>0</td>\n",
       "      <td>0</td>\n",
       "      <td>0.0</td>\n",
       "      <td>1.0</td>\n",
       "      <td>2.202765</td>\n",
       "      <td>0.0</td>\n",
       "      <td>1.0</td>\n",
       "      <td>0.0</td>\n",
       "      <td>0.0</td>\n",
       "    </tr>\n",
       "    <tr>\n",
       "      <th>...</th>\n",
       "      <td>...</td>\n",
       "      <td>...</td>\n",
       "      <td>...</td>\n",
       "      <td>...</td>\n",
       "      <td>...</td>\n",
       "      <td>...</td>\n",
       "      <td>...</td>\n",
       "      <td>...</td>\n",
       "      <td>...</td>\n",
       "      <td>...</td>\n",
       "      <td>...</td>\n",
       "      <td>...</td>\n",
       "      <td>...</td>\n",
       "    </tr>\n",
       "    <tr>\n",
       "      <th>885</th>\n",
       "      <td>39.0</td>\n",
       "      <td>3</td>\n",
       "      <td>5</td>\n",
       "      <td>0</td>\n",
       "      <td>0</td>\n",
       "      <td>0</td>\n",
       "      <td>1.0</td>\n",
       "      <td>0.0</td>\n",
       "      <td>3.405355</td>\n",
       "      <td>0.0</td>\n",
       "      <td>0.0</td>\n",
       "      <td>1.0</td>\n",
       "      <td>0.0</td>\n",
       "    </tr>\n",
       "    <tr>\n",
       "      <th>886</th>\n",
       "      <td>27.0</td>\n",
       "      <td>2</td>\n",
       "      <td>1</td>\n",
       "      <td>0</td>\n",
       "      <td>0</td>\n",
       "      <td>0</td>\n",
       "      <td>0.0</td>\n",
       "      <td>1.0</td>\n",
       "      <td>2.639057</td>\n",
       "      <td>0.0</td>\n",
       "      <td>0.0</td>\n",
       "      <td>1.0</td>\n",
       "      <td>0.0</td>\n",
       "    </tr>\n",
       "    <tr>\n",
       "      <th>887</th>\n",
       "      <td>19.0</td>\n",
       "      <td>1</td>\n",
       "      <td>1</td>\n",
       "      <td>1</td>\n",
       "      <td>2</td>\n",
       "      <td>1</td>\n",
       "      <td>1.0</td>\n",
       "      <td>0.0</td>\n",
       "      <td>3.433987</td>\n",
       "      <td>0.0</td>\n",
       "      <td>0.0</td>\n",
       "      <td>1.0</td>\n",
       "      <td>0.0</td>\n",
       "    </tr>\n",
       "    <tr>\n",
       "      <th>888</th>\n",
       "      <td>NaN</td>\n",
       "      <td>3</td>\n",
       "      <td>2</td>\n",
       "      <td>0</td>\n",
       "      <td>0</td>\n",
       "      <td>0</td>\n",
       "      <td>1.0</td>\n",
       "      <td>0.0</td>\n",
       "      <td>3.196630</td>\n",
       "      <td>1.0</td>\n",
       "      <td>0.0</td>\n",
       "      <td>0.0</td>\n",
       "      <td>0.0</td>\n",
       "    </tr>\n",
       "    <tr>\n",
       "      <th>889</th>\n",
       "      <td>26.0</td>\n",
       "      <td>1</td>\n",
       "      <td>1</td>\n",
       "      <td>0</td>\n",
       "      <td>0</td>\n",
       "      <td>1</td>\n",
       "      <td>0.0</td>\n",
       "      <td>1.0</td>\n",
       "      <td>3.433987</td>\n",
       "      <td>0.0</td>\n",
       "      <td>1.0</td>\n",
       "      <td>0.0</td>\n",
       "      <td>0.0</td>\n",
       "    </tr>\n",
       "  </tbody>\n",
       "</table>\n",
       "<p>890 rows × 13 columns</p>\n",
       "</div>"
      ],
      "text/plain": [
       "      Age  Pclass  Ticket  Sibsp  Parch  Survived  Sex_female  Sex_male  \\\n",
       "0    22.0       3       1      1      0         0         0.0       1.0   \n",
       "1    38.0       1       1      0      0         1         1.0       0.0   \n",
       "2    26.0       3       1      1      0         1         1.0       0.0   \n",
       "3    35.0       1       2      0      0         1         1.0       0.0   \n",
       "4    35.0       3       1      0      0         0         0.0       1.0   \n",
       "..    ...     ...     ...    ...    ...       ...         ...       ...   \n",
       "885  39.0       3       5      0      0         0         1.0       0.0   \n",
       "886  27.0       2       1      0      0         0         0.0       1.0   \n",
       "887  19.0       1       1      1      2         1         1.0       0.0   \n",
       "888   NaN       3       2      0      0         0         1.0       0.0   \n",
       "889  26.0       1       1      0      0         1         0.0       1.0   \n",
       "\n",
       "     Log_Fare  Embark_Town_Cherbourg  Embark_Town_Queenstown  \\\n",
       "0    2.110213                    1.0                     0.0   \n",
       "1    4.280593                    0.0                     0.0   \n",
       "2    2.188856                    0.0                     0.0   \n",
       "3    3.990834                    0.0                     0.0   \n",
       "4    2.202765                    0.0                     1.0   \n",
       "..        ...                    ...                     ...   \n",
       "885  3.405355                    0.0                     0.0   \n",
       "886  2.639057                    0.0                     0.0   \n",
       "887  3.433987                    0.0                     0.0   \n",
       "888  3.196630                    1.0                     0.0   \n",
       "889  3.433987                    0.0                     1.0   \n",
       "\n",
       "     Embark_Town_Southampton  Embark_Town_nan  \n",
       "0                        0.0              0.0  \n",
       "1                        1.0              0.0  \n",
       "2                        1.0              0.0  \n",
       "3                        1.0              0.0  \n",
       "4                        0.0              0.0  \n",
       "..                       ...              ...  \n",
       "885                      1.0              0.0  \n",
       "886                      1.0              0.0  \n",
       "887                      1.0              0.0  \n",
       "888                      0.0              0.0  \n",
       "889                      0.0              0.0  \n",
       "\n",
       "[890 rows x 13 columns]"
      ]
     },
     "execution_count": 91,
     "metadata": {},
     "output_type": "execute_result"
    }
   ],
   "source": [
    "# Por último vamos a eliminar las columnas que no hagan falta\n",
    "\n",
    "# Decidimos eliminar \"Fare\" y quedarnos con \"Log_Fare\"\n",
    "\n",
    "df.drop([\"PassengerId\", \"Name\", \"Sex\", \"Embarked\", \"Embark_Town\", \"Fare\"], axis = 1, inplace = True)\n",
    "\n",
    "df"
   ]
  },
  {
   "cell_type": "code",
   "execution_count": 92,
   "id": "dfe8471f",
   "metadata": {},
   "outputs": [
    {
     "data": {
      "image/png": "[encoded data removed]",
      "text/plain": [
       "<Figure size 432x288 with 1 Axes>"
      ]
     },
     "metadata": {
      "needs_background": "light"
     },
     "output_type": "display_data"
    }
   ],
   "source": [
    "# Con NaNs\n",
    "sns.histplot(df[\"Age\"])\n",
    "plt.show()"
   ]
  },
  {
   "cell_type": "code",
   "execution_count": 93,
   "id": "6992b6df",
   "metadata": {},
   "outputs": [],
   "source": [
    "from sklearn.preprocessing import MinMaxScaler\n",
    "from sklearn.impute import KNNImputer\n",
    "\n",
    "# Usaremos KNNImputer para llenar los NaN's de la columna Age\n",
    "\n",
    "# Segunda técnica:\n",
    "\n",
    "# Reemplaza los NaN's de la columna \"Age\" por la media de las edades de los k-vecinos mas cercanos (KNN).\n",
    "\n",
    "# IMPORTANTE: Debemos escalar los datos antes de utilizar un algoritmo como KNN, ya que funciona por distancias\n",
    "\n",
    "scaler = MinMaxScaler()\n",
    "scaler.set_output(transform=\"pandas\")\n",
    "df = scaler.fit_transform(df)"
   ]
  },
  {
   "cell_type": "code",
   "execution_count": 95,
   "id": "8613d1d1-0cb2-4634-b93c-230af37f6695",
   "metadata": {},
   "outputs": [
    {
     "data": {
      "text/html": [
       "<div>\n",
       "<style scoped>\n",
       "    .dataframe tbody tr th:only-of-type {\n",
       "        vertical-align: middle;\n",
       "    }\n",
       "\n",
       "    .dataframe tbody tr th {\n",
       "        vertical-align: top;\n",
       "    }\n",
       "\n",
       "    .dataframe thead th {\n",
       "        text-align: right;\n",
       "    }\n",
       "</style>\n",
       "<table border=\"1\" class=\"dataframe\">\n",
       "  <thead>\n",
       "    <tr style=\"text-align: right;\">\n",
       "      <th></th>\n",
       "      <th>Age</th>\n",
       "      <th>Pclass</th>\n",
       "      <th>Ticket</th>\n",
       "      <th>Sibsp</th>\n",
       "      <th>Parch</th>\n",
       "      <th>Survived</th>\n",
       "      <th>Sex_female</th>\n",
       "      <th>Sex_male</th>\n",
       "      <th>Log_Fare</th>\n",
       "      <th>Embark_Town_Cherbourg</th>\n",
       "      <th>Embark_Town_Queenstown</th>\n",
       "      <th>Embark_Town_Southampton</th>\n",
       "      <th>Embark_Town_nan</th>\n",
       "    </tr>\n",
       "  </thead>\n",
       "  <tbody>\n",
       "    <tr>\n",
       "      <th>0</th>\n",
       "      <td>0.271174</td>\n",
       "      <td>1.0</td>\n",
       "      <td>0.000000</td>\n",
       "      <td>0.125</td>\n",
       "      <td>0.000000</td>\n",
       "      <td>0.0</td>\n",
       "      <td>0.0</td>\n",
       "      <td>1.0</td>\n",
       "      <td>0.338125</td>\n",
       "      <td>1.0</td>\n",
       "      <td>0.0</td>\n",
       "      <td>0.0</td>\n",
       "      <td>0.0</td>\n",
       "    </tr>\n",
       "    <tr>\n",
       "      <th>1</th>\n",
       "      <td>0.472229</td>\n",
       "      <td>0.0</td>\n",
       "      <td>0.000000</td>\n",
       "      <td>0.000</td>\n",
       "      <td>0.000000</td>\n",
       "      <td>1.0</td>\n",
       "      <td>1.0</td>\n",
       "      <td>0.0</td>\n",
       "      <td>0.685892</td>\n",
       "      <td>0.0</td>\n",
       "      <td>0.0</td>\n",
       "      <td>1.0</td>\n",
       "      <td>0.0</td>\n",
       "    </tr>\n",
       "    <tr>\n",
       "      <th>2</th>\n",
       "      <td>0.321438</td>\n",
       "      <td>1.0</td>\n",
       "      <td>0.000000</td>\n",
       "      <td>0.125</td>\n",
       "      <td>0.000000</td>\n",
       "      <td>1.0</td>\n",
       "      <td>1.0</td>\n",
       "      <td>0.0</td>\n",
       "      <td>0.350727</td>\n",
       "      <td>0.0</td>\n",
       "      <td>0.0</td>\n",
       "      <td>1.0</td>\n",
       "      <td>0.0</td>\n",
       "    </tr>\n",
       "    <tr>\n",
       "      <th>3</th>\n",
       "      <td>0.434531</td>\n",
       "      <td>0.0</td>\n",
       "      <td>0.166667</td>\n",
       "      <td>0.000</td>\n",
       "      <td>0.000000</td>\n",
       "      <td>1.0</td>\n",
       "      <td>1.0</td>\n",
       "      <td>0.0</td>\n",
       "      <td>0.639463</td>\n",
       "      <td>0.0</td>\n",
       "      <td>0.0</td>\n",
       "      <td>1.0</td>\n",
       "      <td>0.0</td>\n",
       "    </tr>\n",
       "    <tr>\n",
       "      <th>4</th>\n",
       "      <td>0.434531</td>\n",
       "      <td>1.0</td>\n",
       "      <td>0.000000</td>\n",
       "      <td>0.000</td>\n",
       "      <td>0.000000</td>\n",
       "      <td>0.0</td>\n",
       "      <td>0.0</td>\n",
       "      <td>1.0</td>\n",
       "      <td>0.352955</td>\n",
       "      <td>0.0</td>\n",
       "      <td>1.0</td>\n",
       "      <td>0.0</td>\n",
       "      <td>0.0</td>\n",
       "    </tr>\n",
       "    <tr>\n",
       "      <th>...</th>\n",
       "      <td>...</td>\n",
       "      <td>...</td>\n",
       "      <td>...</td>\n",
       "      <td>...</td>\n",
       "      <td>...</td>\n",
       "      <td>...</td>\n",
       "      <td>...</td>\n",
       "      <td>...</td>\n",
       "      <td>...</td>\n",
       "      <td>...</td>\n",
       "      <td>...</td>\n",
       "      <td>...</td>\n",
       "      <td>...</td>\n",
       "    </tr>\n",
       "    <tr>\n",
       "      <th>885</th>\n",
       "      <td>0.484795</td>\n",
       "      <td>1.0</td>\n",
       "      <td>0.666667</td>\n",
       "      <td>0.000</td>\n",
       "      <td>0.000000</td>\n",
       "      <td>0.0</td>\n",
       "      <td>1.0</td>\n",
       "      <td>0.0</td>\n",
       "      <td>0.545650</td>\n",
       "      <td>0.0</td>\n",
       "      <td>0.0</td>\n",
       "      <td>1.0</td>\n",
       "      <td>0.0</td>\n",
       "    </tr>\n",
       "    <tr>\n",
       "      <th>886</th>\n",
       "      <td>0.334004</td>\n",
       "      <td>0.5</td>\n",
       "      <td>0.000000</td>\n",
       "      <td>0.000</td>\n",
       "      <td>0.000000</td>\n",
       "      <td>0.0</td>\n",
       "      <td>0.0</td>\n",
       "      <td>1.0</td>\n",
       "      <td>0.422864</td>\n",
       "      <td>0.0</td>\n",
       "      <td>0.0</td>\n",
       "      <td>1.0</td>\n",
       "      <td>0.0</td>\n",
       "    </tr>\n",
       "    <tr>\n",
       "      <th>887</th>\n",
       "      <td>0.233476</td>\n",
       "      <td>0.0</td>\n",
       "      <td>0.000000</td>\n",
       "      <td>0.125</td>\n",
       "      <td>0.333333</td>\n",
       "      <td>1.0</td>\n",
       "      <td>1.0</td>\n",
       "      <td>0.0</td>\n",
       "      <td>0.550238</td>\n",
       "      <td>0.0</td>\n",
       "      <td>0.0</td>\n",
       "      <td>1.0</td>\n",
       "      <td>0.0</td>\n",
       "    </tr>\n",
       "    <tr>\n",
       "      <th>888</th>\n",
       "      <td>0.241853</td>\n",
       "      <td>1.0</td>\n",
       "      <td>0.166667</td>\n",
       "      <td>0.000</td>\n",
       "      <td>0.000000</td>\n",
       "      <td>0.0</td>\n",
       "      <td>1.0</td>\n",
       "      <td>0.0</td>\n",
       "      <td>0.512205</td>\n",
       "      <td>1.0</td>\n",
       "      <td>0.0</td>\n",
       "      <td>0.0</td>\n",
       "      <td>0.0</td>\n",
       "    </tr>\n",
       "    <tr>\n",
       "      <th>889</th>\n",
       "      <td>0.321438</td>\n",
       "      <td>0.0</td>\n",
       "      <td>0.000000</td>\n",
       "      <td>0.000</td>\n",
       "      <td>0.000000</td>\n",
       "      <td>1.0</td>\n",
       "      <td>0.0</td>\n",
       "      <td>1.0</td>\n",
       "      <td>0.550238</td>\n",
       "      <td>0.0</td>\n",
       "      <td>1.0</td>\n",
       "      <td>0.0</td>\n",
       "      <td>0.0</td>\n",
       "    </tr>\n",
       "  </tbody>\n",
       "</table>\n",
       "<p>890 rows × 13 columns</p>\n",
       "</div>"
      ],
      "text/plain": [
       "          Age  Pclass    Ticket  Sibsp     Parch  Survived  Sex_female  \\\n",
       "0    0.271174     1.0  0.000000  0.125  0.000000       0.0         0.0   \n",
       "1    0.472229     0.0  0.000000  0.000  0.000000       1.0         1.0   \n",
       "2    0.321438     1.0  0.000000  0.125  0.000000       1.0         1.0   \n",
       "3    0.434531     0.0  0.166667  0.000  0.000000       1.0         1.0   \n",
       "4    0.434531     1.0  0.000000  0.000  0.000000       0.0         0.0   \n",
       "..        ...     ...       ...    ...       ...       ...         ...   \n",
       "885  0.484795     1.0  0.666667  0.000  0.000000       0.0         1.0   \n",
       "886  0.334004     0.5  0.000000  0.000  0.000000       0.0         0.0   \n",
       "887  0.233476     0.0  0.000000  0.125  0.333333       1.0         1.0   \n",
       "888  0.241853     1.0  0.166667  0.000  0.000000       0.0         1.0   \n",
       "889  0.321438     0.0  0.000000  0.000  0.000000       1.0         0.0   \n",
       "\n",
       "     Sex_male  Log_Fare  Embark_Town_Cherbourg  Embark_Town_Queenstown  \\\n",
       "0         1.0  0.338125                    1.0                     0.0   \n",
       "1         0.0  0.685892                    0.0                     0.0   \n",
       "2         0.0  0.350727                    0.0                     0.0   \n",
       "3         0.0  0.639463                    0.0                     0.0   \n",
       "4         1.0  0.352955                    0.0                     1.0   \n",
       "..        ...       ...                    ...                     ...   \n",
       "885       0.0  0.545650                    0.0                     0.0   \n",
       "886       1.0  0.422864                    0.0                     0.0   \n",
       "887       0.0  0.550238                    0.0                     0.0   \n",
       "888       0.0  0.512205                    1.0                     0.0   \n",
       "889       1.0  0.550238                    0.0                     1.0   \n",
       "\n",
       "     Embark_Town_Southampton  Embark_Town_nan  \n",
       "0                        0.0              0.0  \n",
       "1                        1.0              0.0  \n",
       "2                        1.0              0.0  \n",
       "3                        1.0              0.0  \n",
       "4                        0.0              0.0  \n",
       "..                       ...              ...  \n",
       "885                      1.0              0.0  \n",
       "886                      1.0              0.0  \n",
       "887                      1.0              0.0  \n",
       "888                      0.0              0.0  \n",
       "889                      0.0              0.0  \n",
       "\n",
       "[890 rows x 13 columns]"
      ]
     },
     "execution_count": 95,
     "metadata": {},
     "output_type": "execute_result"
    }
   ],
   "source": [
    "# KNNImputer recibe un DataFrame que solo contenga números\n",
    "\n",
    "# Inicializamos el objeto Imputer\n",
    "imputer = KNNImputer(n_neighbors = 3)\n",
    "imputer.set_output(transform=\"pandas\")\n",
    "\n",
    "# Entrenamos el Imputer y transformamos el DataFrame\n",
    "df = imputer.fit_transform(df)\n",
    "df\n",
    "\n",
    "# El resultado de utilizar el KNNImputer es un array, pero hemos utilizado el método .set_output() para\n",
    "# que nos retorne un DataFrame de pandas.\n",
    "\n",
    "# En este ejemplo llena cada NaN's por la media en las columnas numéricas.\n",
    "# Solamente la columna \"Age\" tenia NaN's, por eso es la única que se modifica."
   ]
  },
  {
   "cell_type": "code",
   "execution_count": 96,
   "id": "90606727",
   "metadata": {},
   "outputs": [
    {
     "data": {
      "text/html": [
       "<div>\n",
       "<style scoped>\n",
       "    .dataframe tbody tr th:only-of-type {\n",
       "        vertical-align: middle;\n",
       "    }\n",
       "\n",
       "    .dataframe tbody tr th {\n",
       "        vertical-align: top;\n",
       "    }\n",
       "\n",
       "    .dataframe thead th {\n",
       "        text-align: right;\n",
       "    }\n",
       "</style>\n",
       "<table border=\"1\" class=\"dataframe\">\n",
       "  <thead>\n",
       "    <tr style=\"text-align: right;\">\n",
       "      <th></th>\n",
       "      <th>Age</th>\n",
       "      <th>Pclass</th>\n",
       "      <th>Ticket</th>\n",
       "      <th>Sibsp</th>\n",
       "      <th>Parch</th>\n",
       "      <th>Survived</th>\n",
       "      <th>Sex_female</th>\n",
       "      <th>Sex_male</th>\n",
       "      <th>Log_Fare</th>\n",
       "      <th>Embark_Town_Cherbourg</th>\n",
       "      <th>Embark_Town_Queenstown</th>\n",
       "      <th>Embark_Town_Southampton</th>\n",
       "      <th>Embark_Town_nan</th>\n",
       "    </tr>\n",
       "  </thead>\n",
       "  <tbody>\n",
       "    <tr>\n",
       "      <th>0</th>\n",
       "      <td>22.000000</td>\n",
       "      <td>3.0</td>\n",
       "      <td>1.0</td>\n",
       "      <td>1.0</td>\n",
       "      <td>0.0</td>\n",
       "      <td>0.0</td>\n",
       "      <td>0.0</td>\n",
       "      <td>1.0</td>\n",
       "      <td>2.110213</td>\n",
       "      <td>1.0</td>\n",
       "      <td>0.0</td>\n",
       "      <td>0.0</td>\n",
       "      <td>0.0</td>\n",
       "    </tr>\n",
       "    <tr>\n",
       "      <th>1</th>\n",
       "      <td>38.000000</td>\n",
       "      <td>1.0</td>\n",
       "      <td>1.0</td>\n",
       "      <td>0.0</td>\n",
       "      <td>0.0</td>\n",
       "      <td>1.0</td>\n",
       "      <td>1.0</td>\n",
       "      <td>0.0</td>\n",
       "      <td>4.280593</td>\n",
       "      <td>0.0</td>\n",
       "      <td>0.0</td>\n",
       "      <td>1.0</td>\n",
       "      <td>0.0</td>\n",
       "    </tr>\n",
       "    <tr>\n",
       "      <th>2</th>\n",
       "      <td>26.000000</td>\n",
       "      <td>3.0</td>\n",
       "      <td>1.0</td>\n",
       "      <td>1.0</td>\n",
       "      <td>0.0</td>\n",
       "      <td>1.0</td>\n",
       "      <td>1.0</td>\n",
       "      <td>0.0</td>\n",
       "      <td>2.188856</td>\n",
       "      <td>0.0</td>\n",
       "      <td>0.0</td>\n",
       "      <td>1.0</td>\n",
       "      <td>0.0</td>\n",
       "    </tr>\n",
       "    <tr>\n",
       "      <th>3</th>\n",
       "      <td>35.000000</td>\n",
       "      <td>1.0</td>\n",
       "      <td>2.0</td>\n",
       "      <td>0.0</td>\n",
       "      <td>0.0</td>\n",
       "      <td>1.0</td>\n",
       "      <td>1.0</td>\n",
       "      <td>0.0</td>\n",
       "      <td>3.990834</td>\n",
       "      <td>0.0</td>\n",
       "      <td>0.0</td>\n",
       "      <td>1.0</td>\n",
       "      <td>0.0</td>\n",
       "    </tr>\n",
       "    <tr>\n",
       "      <th>4</th>\n",
       "      <td>35.000000</td>\n",
       "      <td>3.0</td>\n",
       "      <td>1.0</td>\n",
       "      <td>0.0</td>\n",
       "      <td>0.0</td>\n",
       "      <td>0.0</td>\n",
       "      <td>0.0</td>\n",
       "      <td>1.0</td>\n",
       "      <td>2.202765</td>\n",
       "      <td>0.0</td>\n",
       "      <td>1.0</td>\n",
       "      <td>0.0</td>\n",
       "      <td>0.0</td>\n",
       "    </tr>\n",
       "    <tr>\n",
       "      <th>...</th>\n",
       "      <td>...</td>\n",
       "      <td>...</td>\n",
       "      <td>...</td>\n",
       "      <td>...</td>\n",
       "      <td>...</td>\n",
       "      <td>...</td>\n",
       "      <td>...</td>\n",
       "      <td>...</td>\n",
       "      <td>...</td>\n",
       "      <td>...</td>\n",
       "      <td>...</td>\n",
       "      <td>...</td>\n",
       "      <td>...</td>\n",
       "    </tr>\n",
       "    <tr>\n",
       "      <th>885</th>\n",
       "      <td>39.000000</td>\n",
       "      <td>3.0</td>\n",
       "      <td>5.0</td>\n",
       "      <td>0.0</td>\n",
       "      <td>0.0</td>\n",
       "      <td>0.0</td>\n",
       "      <td>1.0</td>\n",
       "      <td>0.0</td>\n",
       "      <td>3.405355</td>\n",
       "      <td>0.0</td>\n",
       "      <td>0.0</td>\n",
       "      <td>1.0</td>\n",
       "      <td>0.0</td>\n",
       "    </tr>\n",
       "    <tr>\n",
       "      <th>886</th>\n",
       "      <td>27.000000</td>\n",
       "      <td>2.0</td>\n",
       "      <td>1.0</td>\n",
       "      <td>0.0</td>\n",
       "      <td>0.0</td>\n",
       "      <td>0.0</td>\n",
       "      <td>0.0</td>\n",
       "      <td>1.0</td>\n",
       "      <td>2.639057</td>\n",
       "      <td>0.0</td>\n",
       "      <td>0.0</td>\n",
       "      <td>1.0</td>\n",
       "      <td>0.0</td>\n",
       "    </tr>\n",
       "    <tr>\n",
       "      <th>887</th>\n",
       "      <td>19.000000</td>\n",
       "      <td>1.0</td>\n",
       "      <td>1.0</td>\n",
       "      <td>1.0</td>\n",
       "      <td>2.0</td>\n",
       "      <td>1.0</td>\n",
       "      <td>1.0</td>\n",
       "      <td>0.0</td>\n",
       "      <td>3.433987</td>\n",
       "      <td>0.0</td>\n",
       "      <td>0.0</td>\n",
       "      <td>1.0</td>\n",
       "      <td>0.0</td>\n",
       "    </tr>\n",
       "    <tr>\n",
       "      <th>888</th>\n",
       "      <td>19.666667</td>\n",
       "      <td>3.0</td>\n",
       "      <td>2.0</td>\n",
       "      <td>0.0</td>\n",
       "      <td>0.0</td>\n",
       "      <td>0.0</td>\n",
       "      <td>1.0</td>\n",
       "      <td>0.0</td>\n",
       "      <td>3.196630</td>\n",
       "      <td>1.0</td>\n",
       "      <td>0.0</td>\n",
       "      <td>0.0</td>\n",
       "      <td>0.0</td>\n",
       "    </tr>\n",
       "    <tr>\n",
       "      <th>889</th>\n",
       "      <td>26.000000</td>\n",
       "      <td>1.0</td>\n",
       "      <td>1.0</td>\n",
       "      <td>0.0</td>\n",
       "      <td>0.0</td>\n",
       "      <td>1.0</td>\n",
       "      <td>0.0</td>\n",
       "      <td>1.0</td>\n",
       "      <td>3.433987</td>\n",
       "      <td>0.0</td>\n",
       "      <td>1.0</td>\n",
       "      <td>0.0</td>\n",
       "      <td>0.0</td>\n",
       "    </tr>\n",
       "  </tbody>\n",
       "</table>\n",
       "<p>890 rows × 13 columns</p>\n",
       "</div>"
      ],
      "text/plain": [
       "           Age  Pclass  Ticket  Sibsp  Parch  Survived  Sex_female  Sex_male  \\\n",
       "0    22.000000     3.0     1.0    1.0    0.0       0.0         0.0       1.0   \n",
       "1    38.000000     1.0     1.0    0.0    0.0       1.0         1.0       0.0   \n",
       "2    26.000000     3.0     1.0    1.0    0.0       1.0         1.0       0.0   \n",
       "3    35.000000     1.0     2.0    0.0    0.0       1.0         1.0       0.0   \n",
       "4    35.000000     3.0     1.0    0.0    0.0       0.0         0.0       1.0   \n",
       "..         ...     ...     ...    ...    ...       ...         ...       ...   \n",
       "885  39.000000     3.0     5.0    0.0    0.0       0.0         1.0       0.0   \n",
       "886  27.000000     2.0     1.0    0.0    0.0       0.0         0.0       1.0   \n",
       "887  19.000000     1.0     1.0    1.0    2.0       1.0         1.0       0.0   \n",
       "888  19.666667     3.0     2.0    0.0    0.0       0.0         1.0       0.0   \n",
       "889  26.000000     1.0     1.0    0.0    0.0       1.0         0.0       1.0   \n",
       "\n",
       "     Log_Fare  Embark_Town_Cherbourg  Embark_Town_Queenstown  \\\n",
       "0    2.110213                    1.0                     0.0   \n",
       "1    4.280593                    0.0                     0.0   \n",
       "2    2.188856                    0.0                     0.0   \n",
       "3    3.990834                    0.0                     0.0   \n",
       "4    2.202765                    0.0                     1.0   \n",
       "..        ...                    ...                     ...   \n",
       "885  3.405355                    0.0                     0.0   \n",
       "886  2.639057                    0.0                     0.0   \n",
       "887  3.433987                    0.0                     0.0   \n",
       "888  3.196630                    1.0                     0.0   \n",
       "889  3.433987                    0.0                     1.0   \n",
       "\n",
       "     Embark_Town_Southampton  Embark_Town_nan  \n",
       "0                        0.0              0.0  \n",
       "1                        1.0              0.0  \n",
       "2                        1.0              0.0  \n",
       "3                        1.0              0.0  \n",
       "4                        0.0              0.0  \n",
       "..                       ...              ...  \n",
       "885                      1.0              0.0  \n",
       "886                      1.0              0.0  \n",
       "887                      1.0              0.0  \n",
       "888                      0.0              0.0  \n",
       "889                      0.0              0.0  \n",
       "\n",
       "[890 rows x 13 columns]"
      ]
     },
     "execution_count": 96,
     "metadata": {},
     "output_type": "execute_result"
    }
   ],
   "source": [
    "# Invertimos el escalado\n",
    "# inverse_transform siempre retorna un array de numpy, por lo que debemos recomponer el dataframe de manera\n",
    "# manual.\n",
    "\n",
    "data = scaler.inverse_transform(df)\n",
    "df = pd.DataFrame(data, columns=df.columns)\n",
    "df"
   ]
  },
  {
   "cell_type": "code",
   "execution_count": 98,
   "id": "d216ba4d",
   "metadata": {},
   "outputs": [
    {
     "data": {
      "image/png": "[encoded data removed]",
      "text/plain": [
       "<Figure size 432x288 with 1 Axes>"
      ]
     },
     "metadata": {
      "needs_background": "light"
     },
     "output_type": "display_data"
    }
   ],
   "source": [
    "# Sin NaNs\n",
    "sns.histplot(df[\"Age\"])\n",
    "plt.show()"
   ]
  },
  {
   "cell_type": "code",
   "execution_count": 99,
   "id": "aedbd472",
   "metadata": {},
   "outputs": [
    {
     "data": {
      "image/png": "[encoded data removed]",
      "text/plain": [
       "<Figure size 1296x504 with 2 Axes>"
      ]
     },
     "metadata": {
      "needs_background": "light"
     },
     "output_type": "display_data"
    },
    {
     "data": {
      "image/png": "[encoded data removed]",
      "text/plain": [
       "<Figure size 1296x504 with 1 Axes>"
      ]
     },
     "metadata": {
      "needs_background": "light"
     },
     "output_type": "display_data"
    }
   ],
   "source": [
    "# Relación de la columna \"Age\" con \"Survived\"\n",
    "\n",
    "fig, axes = plt.subplots(1, 2, figsize = (18, 7))\n",
    "\n",
    "sns.histplot(x = df[\"Age\"], kde = True, ax = axes[0]);\n",
    "sns.boxplot(x = df[\"Survived\"], y = df[\"Age\"], ax = axes[1]);\n",
    "plt.show()\n",
    "\n",
    "plt.figure(figsize = (18, 7))\n",
    "\n",
    "sns.boxplot(x = df[\"Age\"]);\n",
    "plt.show()"
   ]
  },
  {
   "cell_type": "code",
   "execution_count": 100,
   "id": "e3892b1d",
   "metadata": {},
   "outputs": [
    {
     "name": "stdout",
     "output_type": "stream",
     "text": [
      "IQR: [-4.5, 63.5]\n",
      "df: (876, 13)\n"
     ]
    }
   ],
   "source": [
    "# Manejo de outliers Columna \"Age\"\n",
    "# Calculo de cuartiles - \"Age\"\n",
    "\n",
    "q1 = df[\"Age\"].quantile(q = 0.25)  # Q1\n",
    "q3 = df[\"Age\"].quantile(q = 0.75)  # Q3\n",
    "\n",
    "# Rango intercuartil (IQR)\n",
    "iqr = q3 - q1\n",
    "\n",
    "# Calcular los limites inferior y superior\n",
    "limite_inferior = q1 - 1.5 * iqr\n",
    "limite_superior = q3 + 1.5 * iqr\n",
    "\n",
    "print(f\"IQR: [{limite_inferior}, {limite_superior}]\")\n",
    "\n",
    "df = df[df[\"Age\"].between(limite_inferior, limite_superior)]\n",
    "\n",
    "print(f\"df: {df.shape}\")"
   ]
  },
  {
   "cell_type": "code",
   "execution_count": 101,
   "id": "7cbd747a",
   "metadata": {},
   "outputs": [
    {
     "data": {
      "image/png": "[encoded data removed]",
      "text/plain": [
       "<Figure size 1296x504 with 2 Axes>"
      ]
     },
     "metadata": {
      "needs_background": "light"
     },
     "output_type": "display_data"
    },
    {
     "data": {
      "image/png": "[encoded data removed]",
      "text/plain": [
       "<Figure size 1296x504 with 1 Axes>"
      ]
     },
     "metadata": {
      "needs_background": "light"
     },
     "output_type": "display_data"
    }
   ],
   "source": [
    "# Relación de la nueva columna \"Age\" con \"Survived\"\n",
    "\n",
    "fig, axes = plt.subplots(1, 2, figsize = (18, 7))\n",
    "\n",
    "sns.histplot(x = df[\"Age\"], kde = True, ax = axes[0]);\n",
    "sns.boxplot(x = df[\"Survived\"], y = df[\"Age\"], ax = axes[1]);\n",
    "plt.show()\n",
    "\n",
    "plt.figure(figsize = (18, 7))\n",
    "\n",
    "sns.boxplot(x = df[\"Age\"]);\n",
    "plt.show()"
   ]
  },
  {
   "cell_type": "code",
   "execution_count": 102,
   "id": "030b4359",
   "metadata": {},
   "outputs": [
    {
     "data": {
      "text/html": [
       "<div>\n",
       "<style scoped>\n",
       "    .dataframe tbody tr th:only-of-type {\n",
       "        vertical-align: middle;\n",
       "    }\n",
       "\n",
       "    .dataframe tbody tr th {\n",
       "        vertical-align: top;\n",
       "    }\n",
       "\n",
       "    .dataframe thead th {\n",
       "        text-align: right;\n",
       "    }\n",
       "</style>\n",
       "<table border=\"1\" class=\"dataframe\">\n",
       "  <thead>\n",
       "    <tr style=\"text-align: right;\">\n",
       "      <th></th>\n",
       "      <th>Age</th>\n",
       "      <th>Pclass</th>\n",
       "      <th>Ticket</th>\n",
       "      <th>Sibsp</th>\n",
       "      <th>Parch</th>\n",
       "      <th>Survived</th>\n",
       "      <th>Sex_female</th>\n",
       "      <th>Sex_male</th>\n",
       "      <th>Log_Fare</th>\n",
       "      <th>Embark_Town_Cherbourg</th>\n",
       "      <th>Embark_Town_Queenstown</th>\n",
       "      <th>Embark_Town_Southampton</th>\n",
       "      <th>Embark_Town_nan</th>\n",
       "    </tr>\n",
       "  </thead>\n",
       "  <tbody>\n",
       "    <tr>\n",
       "      <th>0</th>\n",
       "      <td>22.000000</td>\n",
       "      <td>3.0</td>\n",
       "      <td>1.0</td>\n",
       "      <td>1.0</td>\n",
       "      <td>0.0</td>\n",
       "      <td>0.0</td>\n",
       "      <td>0.0</td>\n",
       "      <td>1.0</td>\n",
       "      <td>2.110213</td>\n",
       "      <td>1.0</td>\n",
       "      <td>0.0</td>\n",
       "      <td>0.0</td>\n",
       "      <td>0.0</td>\n",
       "    </tr>\n",
       "    <tr>\n",
       "      <th>1</th>\n",
       "      <td>38.000000</td>\n",
       "      <td>1.0</td>\n",
       "      <td>1.0</td>\n",
       "      <td>0.0</td>\n",
       "      <td>0.0</td>\n",
       "      <td>1.0</td>\n",
       "      <td>1.0</td>\n",
       "      <td>0.0</td>\n",
       "      <td>4.280593</td>\n",
       "      <td>0.0</td>\n",
       "      <td>0.0</td>\n",
       "      <td>1.0</td>\n",
       "      <td>0.0</td>\n",
       "    </tr>\n",
       "    <tr>\n",
       "      <th>2</th>\n",
       "      <td>26.000000</td>\n",
       "      <td>3.0</td>\n",
       "      <td>1.0</td>\n",
       "      <td>1.0</td>\n",
       "      <td>0.0</td>\n",
       "      <td>1.0</td>\n",
       "      <td>1.0</td>\n",
       "      <td>0.0</td>\n",
       "      <td>2.188856</td>\n",
       "      <td>0.0</td>\n",
       "      <td>0.0</td>\n",
       "      <td>1.0</td>\n",
       "      <td>0.0</td>\n",
       "    </tr>\n",
       "    <tr>\n",
       "      <th>3</th>\n",
       "      <td>35.000000</td>\n",
       "      <td>1.0</td>\n",
       "      <td>2.0</td>\n",
       "      <td>0.0</td>\n",
       "      <td>0.0</td>\n",
       "      <td>1.0</td>\n",
       "      <td>1.0</td>\n",
       "      <td>0.0</td>\n",
       "      <td>3.990834</td>\n",
       "      <td>0.0</td>\n",
       "      <td>0.0</td>\n",
       "      <td>1.0</td>\n",
       "      <td>0.0</td>\n",
       "    </tr>\n",
       "    <tr>\n",
       "      <th>4</th>\n",
       "      <td>35.000000</td>\n",
       "      <td>3.0</td>\n",
       "      <td>1.0</td>\n",
       "      <td>0.0</td>\n",
       "      <td>0.0</td>\n",
       "      <td>0.0</td>\n",
       "      <td>0.0</td>\n",
       "      <td>1.0</td>\n",
       "      <td>2.202765</td>\n",
       "      <td>0.0</td>\n",
       "      <td>1.0</td>\n",
       "      <td>0.0</td>\n",
       "      <td>0.0</td>\n",
       "    </tr>\n",
       "    <tr>\n",
       "      <th>...</th>\n",
       "      <td>...</td>\n",
       "      <td>...</td>\n",
       "      <td>...</td>\n",
       "      <td>...</td>\n",
       "      <td>...</td>\n",
       "      <td>...</td>\n",
       "      <td>...</td>\n",
       "      <td>...</td>\n",
       "      <td>...</td>\n",
       "      <td>...</td>\n",
       "      <td>...</td>\n",
       "      <td>...</td>\n",
       "      <td>...</td>\n",
       "    </tr>\n",
       "    <tr>\n",
       "      <th>885</th>\n",
       "      <td>39.000000</td>\n",
       "      <td>3.0</td>\n",
       "      <td>5.0</td>\n",
       "      <td>0.0</td>\n",
       "      <td>0.0</td>\n",
       "      <td>0.0</td>\n",
       "      <td>1.0</td>\n",
       "      <td>0.0</td>\n",
       "      <td>3.405355</td>\n",
       "      <td>0.0</td>\n",
       "      <td>0.0</td>\n",
       "      <td>1.0</td>\n",
       "      <td>0.0</td>\n",
       "    </tr>\n",
       "    <tr>\n",
       "      <th>886</th>\n",
       "      <td>27.000000</td>\n",
       "      <td>2.0</td>\n",
       "      <td>1.0</td>\n",
       "      <td>0.0</td>\n",
       "      <td>0.0</td>\n",
       "      <td>0.0</td>\n",
       "      <td>0.0</td>\n",
       "      <td>1.0</td>\n",
       "      <td>2.639057</td>\n",
       "      <td>0.0</td>\n",
       "      <td>0.0</td>\n",
       "      <td>1.0</td>\n",
       "      <td>0.0</td>\n",
       "    </tr>\n",
       "    <tr>\n",
       "      <th>887</th>\n",
       "      <td>19.000000</td>\n",
       "      <td>1.0</td>\n",
       "      <td>1.0</td>\n",
       "      <td>1.0</td>\n",
       "      <td>2.0</td>\n",
       "      <td>1.0</td>\n",
       "      <td>1.0</td>\n",
       "      <td>0.0</td>\n",
       "      <td>3.433987</td>\n",
       "      <td>0.0</td>\n",
       "      <td>0.0</td>\n",
       "      <td>1.0</td>\n",
       "      <td>0.0</td>\n",
       "    </tr>\n",
       "    <tr>\n",
       "      <th>888</th>\n",
       "      <td>19.666667</td>\n",
       "      <td>3.0</td>\n",
       "      <td>2.0</td>\n",
       "      <td>0.0</td>\n",
       "      <td>0.0</td>\n",
       "      <td>0.0</td>\n",
       "      <td>1.0</td>\n",
       "      <td>0.0</td>\n",
       "      <td>3.196630</td>\n",
       "      <td>1.0</td>\n",
       "      <td>0.0</td>\n",
       "      <td>0.0</td>\n",
       "      <td>0.0</td>\n",
       "    </tr>\n",
       "    <tr>\n",
       "      <th>889</th>\n",
       "      <td>26.000000</td>\n",
       "      <td>1.0</td>\n",
       "      <td>1.0</td>\n",
       "      <td>0.0</td>\n",
       "      <td>0.0</td>\n",
       "      <td>1.0</td>\n",
       "      <td>0.0</td>\n",
       "      <td>1.0</td>\n",
       "      <td>3.433987</td>\n",
       "      <td>0.0</td>\n",
       "      <td>1.0</td>\n",
       "      <td>0.0</td>\n",
       "      <td>0.0</td>\n",
       "    </tr>\n",
       "  </tbody>\n",
       "</table>\n",
       "<p>876 rows × 13 columns</p>\n",
       "</div>"
      ],
      "text/plain": [
       "           Age  Pclass  Ticket  Sibsp  Parch  Survived  Sex_female  Sex_male  \\\n",
       "0    22.000000     3.0     1.0    1.0    0.0       0.0         0.0       1.0   \n",
       "1    38.000000     1.0     1.0    0.0    0.0       1.0         1.0       0.0   \n",
       "2    26.000000     3.0     1.0    1.0    0.0       1.0         1.0       0.0   \n",
       "3    35.000000     1.0     2.0    0.0    0.0       1.0         1.0       0.0   \n",
       "4    35.000000     3.0     1.0    0.0    0.0       0.0         0.0       1.0   \n",
       "..         ...     ...     ...    ...    ...       ...         ...       ...   \n",
       "885  39.000000     3.0     5.0    0.0    0.0       0.0         1.0       0.0   \n",
       "886  27.000000     2.0     1.0    0.0    0.0       0.0         0.0       1.0   \n",
       "887  19.000000     1.0     1.0    1.0    2.0       1.0         1.0       0.0   \n",
       "888  19.666667     3.0     2.0    0.0    0.0       0.0         1.0       0.0   \n",
       "889  26.000000     1.0     1.0    0.0    0.0       1.0         0.0       1.0   \n",
       "\n",
       "     Log_Fare  Embark_Town_Cherbourg  Embark_Town_Queenstown  \\\n",
       "0    2.110213                    1.0                     0.0   \n",
       "1    4.280593                    0.0                     0.0   \n",
       "2    2.188856                    0.0                     0.0   \n",
       "3    3.990834                    0.0                     0.0   \n",
       "4    2.202765                    0.0                     1.0   \n",
       "..        ...                    ...                     ...   \n",
       "885  3.405355                    0.0                     0.0   \n",
       "886  2.639057                    0.0                     0.0   \n",
       "887  3.433987                    0.0                     0.0   \n",
       "888  3.196630                    1.0                     0.0   \n",
       "889  3.433987                    0.0                     1.0   \n",
       "\n",
       "     Embark_Town_Southampton  Embark_Town_nan  \n",
       "0                        0.0              0.0  \n",
       "1                        1.0              0.0  \n",
       "2                        1.0              0.0  \n",
       "3                        1.0              0.0  \n",
       "4                        0.0              0.0  \n",
       "..                       ...              ...  \n",
       "885                      1.0              0.0  \n",
       "886                      1.0              0.0  \n",
       "887                      1.0              0.0  \n",
       "888                      0.0              0.0  \n",
       "889                      0.0              0.0  \n",
       "\n",
       "[876 rows x 13 columns]"
      ]
     },
     "execution_count": 102,
     "metadata": {},
     "output_type": "execute_result"
    }
   ],
   "source": [
    "# Resultado\n",
    "\n",
    "df"
   ]
  },
  {
   "cell_type": "code",
   "execution_count": 103,
   "id": "0a694a87",
   "metadata": {},
   "outputs": [],
   "source": [
    "# Reordenamos las columnas\n",
    "\n",
    "df = df[[\"Age\", \"Pclass\", \"Ticket\", \"Sibsp\", \"Parch\", \"Sex_female\", \"Sex_male\", \"Log_Fare\",\n",
    "         \"Embark_Town_Cherbourg\", \"Embark_Town_Queenstown\", \"Embark_Town_Southampton\", \"Survived\"]]"
   ]
  },
  {
   "cell_type": "code",
   "execution_count": 104,
   "id": "5a8f9982",
   "metadata": {},
   "outputs": [
    {
     "data": {
      "image/png": "[encoded data removed]",
      "text/plain": [
       "<Figure size 864x576 with 2 Axes>"
      ]
     },
     "metadata": {
      "needs_background": "light"
     },
     "output_type": "display_data"
    }
   ],
   "source": [
    "### Correlación\n",
    "\n",
    "plt.figure(figsize = (12, 8))\n",
    "\n",
    "sns.heatmap(df.corr(), annot = True)\n",
    "plt.show()"
   ]
  },
  {
   "cell_type": "code",
   "execution_count": 106,
   "id": "49caebcc",
   "metadata": {},
   "outputs": [],
   "source": [
    "# Guardamos en .csv\n",
    "\n",
    "df.to_csv(\"../Data/titanic_preprocesamiento.csv\", index = False)"
   ]
  },
  {
   "cell_type": "markdown",
   "id": "76d22f7a",
   "metadata": {},
   "source": [
    "### Feature Selection\n",
    "\n",
    "Feature Selection es un proceso en aprendizaje automático y estadísticas que implica elegir un subconjunto de características o variables relevantes de un conjunto más grande.\n",
    "\n",
    "- El objetivo de la selección de características es escoger las características más informativas y discriminativas que contribuyan más al rendimiento predictivo de un modelo.\n",
    "- Al seleccionar un subconjunto de características, se puede reducir la dimensionalidad de los datos, mejorar la interpretabilidad del modelo y potencialmente mejorar el rendimiento de generalización del modelo.\n",
    "\n",
    "Para este ejemplo vamos a usar un modelo de clasificación que nos dará esa información (**RandomForestClassifier**)."
   ]
  },
  {
   "cell_type": "code",
   "execution_count": 109,
   "id": "b59fda63",
   "metadata": {},
   "outputs": [
    {
     "name": "stdout",
     "output_type": "stream",
     "text": [
      "X: (876, 10)\n",
      "y: (876,)\n"
     ]
    }
   ],
   "source": [
    "X = df.drop([\"Survived\", \"Sex_male\"], axis = 1)\n",
    "y = df[\"Survived\"]\n",
    "\n",
    "print(f\"X: {X.shape}\")\n",
    "print(f\"y: {y.shape}\")"
   ]
  },
  {
   "cell_type": "code",
   "execution_count": 110,
   "id": "08054bfa",
   "metadata": {},
   "outputs": [
    {
     "name": "stdout",
     "output_type": "stream",
     "text": [
      "Feature Importance:\n",
      " 1. feature  0 ( 0.25005791447669673): Sex_female\n",
      " 2. feature  1 ( 0.24626296214148316): Age\n",
      " 3. feature  2 ( 0.22672863873501792): Log_Fare\n",
      " 4. feature  3 ( 0.08905179486597435): Pclass\n",
      " 5. feature  4 ( 0.06945922955791316): Ticket\n",
      " 6. feature  5 ( 0.03989025625507191): Sibsp\n",
      " 7. feature  6 ( 0.03622652361774579): Parch\n",
      " 8. feature  7 ( 0.01699048234909674): Embark_Town_Southampton\n",
      " 9. feature  8 (0.012748707403330891): Embark_Town_Queenstown\n",
      "10. feature  9 (0.012583490597669368): Embark_Town_Cherbourg\n"
     ]
    },
    {
     "data": {
      "image/png": "[encoded data removed]",
      "text/plain": [
       "<Figure size 864x576 with 1 Axes>"
      ]
     },
     "metadata": {
      "needs_background": "light"
     },
     "output_type": "display_data"
    }
   ],
   "source": [
    "from sklearn.ensemble import RandomForestClassifier\n",
    "\n",
    "# Modelo de RandomForest para obtener Feature Importance\n",
    "model = RandomForestClassifier(n_estimators = 250,\n",
    "                               random_state = 0)\n",
    "# Entrenamos el modelo\n",
    "model.fit(X, y)\n",
    "\n",
    "# Calculamos Feature Importance\n",
    "importances = model.feature_importances_\n",
    "\n",
    "df_importances = pd.DataFrame(data = zip(X.columns, importances),\n",
    "                              columns = [\"Columnas\", \"Importancia\"])\n",
    "\n",
    "df_importances = df_importances.sort_values(\"Importancia\", ascending = False)\n",
    "\n",
    "print(\"Feature Importance:\")\n",
    "\n",
    "for index, (feature, importance) in enumerate(df_importances.values):\n",
    "    \n",
    "    print(f\"{index + 1:2}. feature {index:2} ({importance:20}): {feature}\")\n",
    "\n",
    "plt.figure(figsize = (12, 8))\n",
    "\n",
    "plt.title(\"Feature Importances\")\n",
    "sns.barplot(x = df_importances[\"Importancia\"], y = df_importances[\"Columnas\"], color = \"red\")\n",
    "\n",
    "plt.grid()\n",
    "plt.show()"
   ]
  },
  {
   "cell_type": "markdown",
   "id": "d233d0cb",
   "metadata": {},
   "source": [
    "### Conclusiones\n",
    "\n",
    "- **Age** y **Log_Fare** son las variables más determinantes para predecir correctamente.\n",
    "- El lugar de **Embark** es irrelevante.\n",
    "- **Age** no está correlacionada con **Survived**, aún así es la variable más importante en el **Feature Selection**.\n",
    "- **Log_Fare**, **Sex_female**, **Sex_male** si están correlacionadas con **Survived**."
   ]
  },
  {
   "cell_type": "code",
   "execution_count": null,
   "id": "b19d5f11",
   "metadata": {},
   "outputs": [],
   "source": [
    "################################################################################################################################"
   ]
  }
 ],
 "metadata": {
  "kernelspec": {
   "display_name": "Python 3",
   "language": "python",
   "name": "python3"
  },
  "language_info": {
   "codemirror_mode": {
    "name": "ipython",
    "version": 3
   },
   "file_extension": ".py",
   "mimetype": "text/x-python",
   "name": "python",
   "nbconvert_exporter": "python",
   "pygments_lexer": "ipython3",
   "version": "3.9.4"
  }
 },
 "nbformat": 4,
 "nbformat_minor": 5
}
