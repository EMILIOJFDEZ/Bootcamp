{
 "cells": [
  {
   "cell_type": "markdown",
   "metadata": {},
   "source": [
    "## Algebra Lineal 02\n",
    "\n",
    "- Matrices.\n",
    "- Operaciones con Matrices.\n",
    "- Tipos de Matrices. "
   ]
  },
  {
   "cell_type": "markdown",
   "metadata": {},
   "source": [
    "### Matrices"
   ]
  },
  {
   "cell_type": "markdown",
   "metadata": {},
   "source": [
    "Una matriz es una tabla ordenada de elementos escalares ordenados en $m$ filas y $n$ columnas:\n",
    "\n",
    "$$\n",
    "\\Large A = \\begin{bmatrix}\n",
    "     a_{00}&      a_{01}&      a_{02}&   \\cdot \\cdot \\cdot &      a_{0(n-2)}&      a_{0(n-1)}\\\\\n",
    "     a_{10}&      a_{11}&      a_{12}&   \\cdot \\cdot \\cdot &      a_{1(n-2)}&      a_{1(n-1)}\\\\\n",
    "     a_{20}&      a_{21}&      a_{22}&   \\cdot \\cdot \\cdot &      a_{2(n-2)}&      a_{2(n-1)}\\\\\n",
    "        \\cdot \\cdot \\cdot &         \\cdot \\cdot \\cdot &         \\cdot \\cdot \\cdot &   \\cdot \\cdot \\cdot &             \\cdot \\cdot \\cdot &             \\cdot \\cdot \\cdot \\\\\n",
    " a_{(m-2)0}&  a_{(m-2)1}&  a_{(m-2)2}&   \\cdot \\cdot \\cdot &  a_{(m-2)(n-2)}&  a_{(m-2)(n-1)}\\\\\n",
    " a_{(m-1)0}&  a_{(m-1)1}&  a_{(m-1)2}&   \\cdot \\cdot \\cdot &  a_{(m-1)(n-2)}&  a_{(m-1)(n-1)}\n",
    "\\end{bmatrix}\n",
    "$$"
   ]
  },
  {
   "cell_type": "markdown",
   "metadata": {},
   "source": [
    "**Las matrices se denotan usualmente por letras mayúsculas, A, B, ..., y los elementos de las mismas por minúsculas, a, b, ...**"
   ]
  },
  {
   "cell_type": "code",
   "execution_count": 2,
   "metadata": {},
   "outputs": [],
   "source": [
    "import numpy as np\n",
    "\n",
    "import matplotlib\n",
    "import matplotlib.pyplot as plt"
   ]
  },
  {
   "cell_type": "code",
   "execution_count": 3,
   "metadata": {
    "tags": []
   },
   "outputs": [
    {
     "name": "stdout",
     "output_type": "stream",
     "text": [
      "numpy==2.1.3\n",
      "matplotlib==3.9.4\n"
     ]
    }
   ],
   "source": [
    "# Versiones\n",
    "\n",
    "print(f\"numpy=={np.__version__}\")\n",
    "print(f\"matplotlib=={matplotlib.__version__}\")"
   ]
  },
  {
   "cell_type": "code",
   "execution_count": 5,
   "metadata": {},
   "outputs": [
    {
     "data": {
      "text/plain": [
       "array([[  1,   2,   3,   4],\n",
       "       [ 10,  20,  30,  40],\n",
       "       [100, 200, 300, 400]])"
      ]
     },
     "execution_count": 5,
     "metadata": {},
     "output_type": "execute_result"
    }
   ],
   "source": [
    "# Para generar una matriz podemos crear una lista de listas y transformarlo a np.array()\n",
    "# NumPy reconocerá que tiene dos dimensiones, filas y columnas\n",
    "\n",
    "A = np.array([[  1,   2,   3,   4], \n",
    "              [ 10,  20,  30,  40], \n",
    "              [100, 200, 300, 400]])\n",
    "A"
   ]
  },
  {
   "cell_type": "code",
   "execution_count": 6,
   "metadata": {
    "tags": []
   },
   "outputs": [
    {
     "data": {
      "text/plain": [
       "(3, 4)"
      ]
     },
     "execution_count": 6,
     "metadata": {},
     "output_type": "execute_result"
    }
   ],
   "source": [
    "# Podemos ver las dimensiones de una matriz usando el atributo .shape\n",
    "# (filas, columnas)\n",
    "\n",
    "A.shape"
   ]
  },
  {
   "cell_type": "markdown",
   "metadata": {},
   "source": [
    "### Operaciones con Matrices\n",
    "\n",
    "#### Suma de Matrices\n",
    "\n",
    "La suma de matrices se define como la operación que se realiza entre dos matrices que tienen las mismas dimensiones (mismo número de filas y columnas). \n",
    "\n",
    "El resultado de esta operación es otra matriz con las mismas dimensiones.\n",
    "\n",
    "Los elementos de la matriz resultante se obtienen sumando los elementos correspondientes de cada posicion de las dos matrices.\n",
    "\n",
    "Si tenemos las matrices $A_{nxm}$ y $B_{nxm}$, esta operación se denota como: $A_{nxm} + B_{nxm} = C_{nxm}$, donde $C_{nxm}$ es la matriz resultado de la operación.\n",
    "\n",
    "$$\n",
    "\\Large {\\begin{bmatrix}\n",
    "a_{00} & a_{01}\\\\\n",
    "a_{10} & a_{11}\n",
    "\\end{bmatrix} + \\begin{bmatrix}\n",
    "b_{00} & b_{01} \\\\\n",
    "b_{10} & b_{11}\n",
    "\\end{bmatrix} = \\begin{bmatrix}\n",
    "a_{00} + b_{00} & a_{01} + b_{01} \\\\\n",
    "a_{10} + b_{01} & a_{11} + b_{11}\n",
    "\\end{bmatrix}}\n",
    "$$\n",
    "\n",
    "\n",
    "Ejemplo:\n",
    "$$\n",
    "\\Large {\\begin{bmatrix}\n",
    "7 & 8\\\\\n",
    "3 & 2\n",
    "\\end{bmatrix} + \\begin{bmatrix}\n",
    "4 & -3 \\\\\n",
    "0 & 1\n",
    "\\end{bmatrix} = \\begin{bmatrix}\n",
    "11 & 5 \\\\\n",
    "3 & 3\n",
    "\\end{bmatrix}}\n",
    "$$"
   ]
  },
  {
   "cell_type": "code",
   "execution_count": 7,
   "metadata": {
    "tags": []
   },
   "outputs": [
    {
     "name": "stdout",
     "output_type": "stream",
     "text": [
      "Matriz A:\n",
      "[[1 2 3]\n",
      " [4 5 6]\n",
      " [7 8 9]]\n",
      "Matriz B:\n",
      "[[9 8 7]\n",
      " [6 5 4]\n",
      " [3 2 1]]\n",
      "Resultado de A + B:\n",
      "[[10 10 10]\n",
      " [10 10 10]\n",
      " [10 10 10]]\n"
     ]
    }
   ],
   "source": [
    "# Creamos las matrices A y B\n",
    "# Ambas deben de ser del mismo tamaño (igual número de filas y de columnas)\n",
    "\n",
    "A = np.array([[1, 2, 3],\n",
    "              [4, 5, 6],\n",
    "              [7, 8, 9]])\n",
    "\n",
    "B = np.array([[9, 8, 7],\n",
    "              [6, 5, 4],\n",
    "              [3, 2, 1]])\n",
    "\n",
    "C = A + B\n",
    "\n",
    "print(\"Matriz A:\")\n",
    "print(A)\n",
    "print(\"Matriz B:\")\n",
    "print(B)\n",
    "print(\"Resultado de A + B:\")\n",
    "print(C)"
   ]
  },
  {
   "cell_type": "markdown",
   "metadata": {},
   "source": [
    "#### Producto escalar de Matrices\n",
    "\n",
    "Sea la matriz $A_{nxm}$ y eselescalar $k$, el producto escalar de matrices se define como multiplicar el valor $k$ por cada elemento $a_{ij}$ de la matriz $A_{nxm}$.\n",
    "\n",
    "$$\n",
    "\\Large{A = \\begin{bmatrix}\n",
    "a_{00} & a_{01}\\\\\n",
    "a_{10} & a_{11}\n",
    "\\end{bmatrix} \\longrightarrow \n",
    "k*A = \\begin{bmatrix}\n",
    "k \\cdot a_{00} & k \\cdot a_{01}\\\\\n",
    "k \\cdot a_{10} & k \\cdot a_{11}\n",
    "\\end{bmatrix}}\n",
    "$$\n",
    "\n",
    "$$\n",
    "\\Large{A = \\begin{bmatrix}\n",
    "4 & 7\\\\\n",
    "-1 & 0\n",
    "\\end{bmatrix} \\longrightarrow \n",
    "7*A = \\begin{bmatrix}\n",
    "7 \\cdot 4 & 7 \\cdot 7\\\\\n",
    "7 \\cdot -1 & 7 \\cdot 0\n",
    "\\end{bmatrix} = \\begin{bmatrix}\n",
    "28 & 49\\\\\n",
    "-7 & 0\n",
    "\\end{bmatrix}}\n",
    "$$"
   ]
  },
  {
   "cell_type": "code",
   "execution_count": 6,
   "metadata": {
    "tags": []
   },
   "outputs": [
    {
     "name": "stdout",
     "output_type": "stream",
     "text": [
      "A:\n",
      "[[1 2]\n",
      " [3 4]]\n",
      "3*A:\n",
      "[[ 3  6]\n",
      " [ 9 12]]\n"
     ]
    }
   ],
   "source": [
    "# Producto escalar de Matrices\n",
    "\n",
    "A = np.array([[1,  2], [3, 4]])\n",
    "\n",
    "print(f\"A:\")\n",
    "print(A)\n",
    "\n",
    "print(f\"3*A:\")\n",
    "print( 3 * A )"
   ]
  },
  {
   "cell_type": "markdown",
   "metadata": {},
   "source": [
    "#### Multiplicación de Matrices\n",
    "\n",
    "Sean las matrices $A_{nxm}$ y $B_{mxp}$, la multiplicación de estas matrices es una matriz $C_{nxp}$, cuyos elementos se calculan de la siguiente manera: \n",
    "$$\\large c_{ij} = \\sum_{k = 1}^{n} a_{ik}\\cdot b_{jk}$$\n",
    "\n",
    "Si tenemos las matrices $A_{nxm}$ y $B_{mxp}$, esta operación se denota como: $A_{nxm} x B_{mxp} = C_{nxp}$, donde $C_{nxp}$ es la matriz resultado de la operación.\n",
    "\n",
    "- **Para multiplicar matrices el número de columnas de la primera matriz debe de ser igual al número de filas de la segunda matriz.**\n",
    "- **El resultado es una matriz con el número de filas de la primera matriz y el número de columnas de la segunda matriz.**\n",
    "\n",
    "$$\n",
    "\\large\n",
    "\\begin{bmatrix}\n",
    "     a_{00}&a_{01}\\\\\n",
    "     a_{10}&a_{11}\\\\\n",
    "     a_{20}&a_{21}\n",
    "\\end{bmatrix} x \\begin{bmatrix}\n",
    "     b_{00}&b_{01}&b_{02}\\\\\n",
    "     b_{10}&b_{11}&b_{12}\\\\\n",
    "\\end{bmatrix} = \\begin{bmatrix}\n",
    "c_{00} = \\sum_{k = 1}^{n} a_{0k}\\cdot b_{0k} & c_{01} = \\sum_{k = 1}^{n} a_{0k}\\cdot b_{1k} & c_{02} = \\sum_{k = 1}^{n} a_{0k}\\cdot b_{2k} \\\\\n",
    "c_{10} = \\sum_{k = 1}^{n} a_{1k}\\cdot b_{0k} & c_{11} = \\sum_{k = 1}^{n} a_{1k}\\cdot b_{1k} & c_{12} = \\sum_{k = 1}^{n} a_{1k}\\cdot b_{2k} \\\\\n",
    "c_{20} = \\sum_{k = 1}^{n} a_{2k}\\cdot b_{0k} & c_{21} = \\sum_{k = 1}^{n} a_{2k}\\cdot b_{1k} & c_{22} = \\sum_{k = 1}^{n} a_{2k}\\cdot b_{2k} \n",
    "\\end{bmatrix}\n",
    "$$\n",
    "\n",
    "Ejemplo:\n",
    "\n",
    "$$\n",
    "\\Large {\\begin{bmatrix}\n",
    "1 & 2 \\\\\n",
    "4 & 5 \\\\\n",
    "7 & 8\n",
    "\\end{bmatrix}_{3x2} \\cdot  \\begin{bmatrix}\n",
    "1 & 2 & 3 \\\\\n",
    "0 & 5 & 2\n",
    "\\end{bmatrix}_{2x3} = \\begin{bmatrix}\n",
    "1 & 12 & 7 \\\\\n",
    "4 & 33 & 22 \\\\\n",
    "7 & 54 & 37\n",
    "\\end{bmatrix}_{3x3}}\n",
    "$$\n",
    "\n",
    "Para multiplicar matrices usaremos la función **np.dot()**."
   ]
  },
  {
   "cell_type": "code",
   "execution_count": 8,
   "metadata": {},
   "outputs": [
    {
     "data": {
      "text/plain": [
       "array([[1, 2],\n",
       "       [4, 5],\n",
       "       [7, 8]])"
      ]
     },
     "execution_count": 8,
     "metadata": {},
     "output_type": "execute_result"
    }
   ],
   "source": [
    "# Creamos la matriz A\n",
    "A = np.array([[1, 2],\n",
    "              [4, 5],\n",
    "              [7, 8]])\n",
    "A"
   ]
  },
  {
   "cell_type": "code",
   "execution_count": 9,
   "metadata": {},
   "outputs": [
    {
     "data": {
      "text/plain": [
       "array([[1, 2, 3],\n",
       "       [0, 5, 2]])"
      ]
     },
     "execution_count": 9,
     "metadata": {},
     "output_type": "execute_result"
    }
   ],
   "source": [
    "# Creamos la matriz B\n",
    "B = np.array([[1, 2, 3],\n",
    "              [0, 5, 2]])\n",
    "B"
   ]
  },
  {
   "cell_type": "code",
   "execution_count": 10,
   "metadata": {},
   "outputs": [
    {
     "data": {
      "text/plain": [
       "array([[ 1, 12,  7],\n",
       "       [ 4, 33, 22],\n",
       "       [ 7, 54, 37]])"
      ]
     },
     "execution_count": 10,
     "metadata": {},
     "output_type": "execute_result"
    }
   ],
   "source": [
    "# Para multiplicar matrices con NumPy usamos np\\cdot dot()\n",
    "\n",
    "C = np.dot(A, B)\n",
    "C"
   ]
  },
  {
   "cell_type": "markdown",
   "metadata": {},
   "source": [
    "### Transpuesta\n",
    "\n",
    "La traspuesta de una matriz es una operación matemática que cambia las filas por las columnas de la matriz original.\n",
    "\n",
    "Sea la matriz $A_{nxm}$. La transpuesta de la matriz $A_{nxm}$ da como resultado una matriz $A_{mxn}$.\n",
    "\n",
    "\n",
    "$$\n",
    "A = \\begin{bmatrix}\n",
    "a_{00} & a_{01}\\\\\n",
    "a_{10} & a_{11}\\\\\n",
    "a_{20} & a_{21}\n",
    "\\end{bmatrix} \\longrightarrow\n",
    "A^{T} = \\begin{bmatrix}\n",
    "a_{00} & a_{10} & a_{20}\\\\\n",
    "a_{01} & a_{11} & a_{21}\\\\\n",
    "\\end{bmatrix}\n",
    "$$\n",
    "\n",
    "$$\n",
    "A = \\begin{bmatrix}\n",
    "1 & 2\\\\\n",
    "4 & 5\\\\\n",
    "7 & 8\n",
    "\\end{bmatrix} \\longrightarrow\n",
    "A^{T} = \\begin{bmatrix}\n",
    "1 & 4 & 7\\\\\n",
    "2 & 5 & 8\\\\\n",
    "\\end{bmatrix}\n",
    "$$\n",
    "\n",
    "Para transponer una matriz usaremos el atributo **.T** de los objetos **np.array()**."
   ]
  },
  {
   "cell_type": "code",
   "execution_count": 11,
   "metadata": {
    "tags": []
   },
   "outputs": [
    {
     "data": {
      "text/plain": [
       "array([[1, 2],\n",
       "       [4, 5],\n",
       "       [7, 8]])"
      ]
     },
     "execution_count": 11,
     "metadata": {},
     "output_type": "execute_result"
    }
   ],
   "source": [
    "A = np.array([[1, 2],\n",
    "              [4, 5],\n",
    "              [7, 8]])\n",
    "A"
   ]
  },
  {
   "cell_type": "code",
   "execution_count": 13,
   "metadata": {},
   "outputs": [
    {
     "data": {
      "text/plain": [
       "(3, 2)"
      ]
     },
     "execution_count": 13,
     "metadata": {},
     "output_type": "execute_result"
    }
   ],
   "source": [
    "A.shape"
   ]
  },
  {
   "cell_type": "code",
   "execution_count": 12,
   "metadata": {
    "tags": []
   },
   "outputs": [
    {
     "data": {
      "text/plain": [
       "array([[1, 4, 7],\n",
       "       [2, 5, 8]])"
      ]
     },
     "execution_count": 12,
     "metadata": {},
     "output_type": "execute_result"
    }
   ],
   "source": [
    "A.T # no modifica la matriz original, solo devuelve la T"
   ]
  },
  {
   "cell_type": "code",
   "execution_count": 14,
   "metadata": {},
   "outputs": [
    {
     "data": {
      "text/plain": [
       "array([[1, 2],\n",
       "       [4, 5],\n",
       "       [7, 8]])"
      ]
     },
     "execution_count": 14,
     "metadata": {},
     "output_type": "execute_result"
    }
   ],
   "source": [
    "A"
   ]
  },
  {
   "cell_type": "markdown",
   "metadata": {},
   "source": [
    "### Tipos de matrices"
   ]
  },
  {
   "cell_type": "markdown",
   "metadata": {},
   "source": [
    "#### Matriz cuadrada\n",
    "\n",
    "Una matriz cuadrada es la que tiene el mismo número de filas que de columnas."
   ]
  },
  {
   "cell_type": "code",
   "execution_count": 12,
   "metadata": {},
   "outputs": [
    {
     "data": {
      "text/plain": [
       "array([[1, 2, 3],\n",
       "       [4, 5, 6],\n",
       "       [7, 8, 9]])"
      ]
     },
     "execution_count": 12,
     "metadata": {},
     "output_type": "execute_result"
    }
   ],
   "source": [
    "A = np.array([[1, 2, 3],\n",
    "              [4, 5, 6],\n",
    "              [7, 8, 9]])\n",
    "\n",
    "A"
   ]
  },
  {
   "cell_type": "markdown",
   "metadata": {},
   "source": [
    "#### Matriz identidad \n",
    "\n",
    "Es una matriz cuadrada con $1$ en la diagonal principal y ceros en las demás posiciones. Se suele denotar por $I$. \n",
    "\n",
    "Para cualquier matriz $A$, $A \\cdot  I = I \\cdot  A = A$"
   ]
  },
  {
   "cell_type": "code",
   "execution_count": 15,
   "metadata": {},
   "outputs": [
    {
     "data": {
      "text/plain": [
       "array([[1., 0., 0., 0., 0.],\n",
       "       [0., 1., 0., 0., 0.],\n",
       "       [0., 0., 1., 0., 0.],\n",
       "       [0., 0., 0., 1., 0.],\n",
       "       [0., 0., 0., 0., 1.]])"
      ]
     },
     "execution_count": 15,
     "metadata": {},
     "output_type": "execute_result"
    }
   ],
   "source": [
    "np.identity(5)"
   ]
  },
  {
   "cell_type": "code",
   "execution_count": 14,
   "metadata": {},
   "outputs": [
    {
     "data": {
      "text/plain": [
       "array([[1., 0., 0., 0., 0.],\n",
       "       [0., 1., 0., 0., 0.],\n",
       "       [0., 0., 1., 0., 0.],\n",
       "       [0., 0., 0., 1., 0.],\n",
       "       [0., 0., 0., 0., 1.]])"
      ]
     },
     "execution_count": 14,
     "metadata": {},
     "output_type": "execute_result"
    }
   ],
   "source": [
    "np.eye(5)"
   ]
  },
  {
   "cell_type": "markdown",
   "metadata": {},
   "source": [
    "#### Matriz triangular superior\n",
    "\n",
    "Una matriz cuadrada es triangular superior o simplemente una matriz triangular, si todas las entradas bajo la diagonal principal son iguales a cero."
   ]
  },
  {
   "cell_type": "code",
   "execution_count": 15,
   "metadata": {},
   "outputs": [
    {
     "data": {
      "text/plain": [
       "array([[1, 2, 3],\n",
       "       [0, 5, 6],\n",
       "       [0, 0, 9]])"
      ]
     },
     "execution_count": 15,
     "metadata": {},
     "output_type": "execute_result"
    }
   ],
   "source": [
    "np.triu([[1, 2, 3],\n",
    "         [4, 5, 6],\n",
    "         [7, 8, 9]])"
   ]
  },
  {
   "cell_type": "code",
   "execution_count": 16,
   "metadata": {},
   "outputs": [
    {
     "data": {
      "text/plain": [
       "array([[ 1, 12, 42],\n",
       "       [ 0, 25, 84],\n",
       "       [ 0,  0, 81]])"
      ]
     },
     "execution_count": 16,
     "metadata": {},
     "output_type": "execute_result"
    }
   ],
   "source": [
    "# Producto de matrices triangulares superiores\n",
    "\n",
    "np.dot(np.triu([[1, 2, 3], [4, 5, 6], [7, 8, 9]]), np.triu([[1, 2, 3], [4, 5, 6],[7, 8, 9]]))"
   ]
  },
  {
   "cell_type": "markdown",
   "metadata": {},
   "source": [
    "#### Matriz triangular inferior\n",
    "\n",
    "Una matriz cuadrada es triangular inferior, si todas las entradas sobre la diagonal principal son iguales a cero."
   ]
  },
  {
   "cell_type": "code",
   "execution_count": 17,
   "metadata": {},
   "outputs": [
    {
     "data": {
      "text/plain": [
       "array([[1, 0, 0],\n",
       "       [4, 5, 0],\n",
       "       [7, 8, 9]])"
      ]
     },
     "execution_count": 17,
     "metadata": {},
     "output_type": "execute_result"
    }
   ],
   "source": [
    "np.tril([[1, 2, 3],\n",
    "         [4, 5, 6],\n",
    "         [7, 8, 9]])"
   ]
  },
  {
   "cell_type": "code",
   "execution_count": 29,
   "metadata": {},
   "outputs": [
    {
     "data": {
      "text/plain": [
       "array([[  1,   0,   0],\n",
       "       [ 24,  25,   0],\n",
       "       [102, 112,  81]])"
      ]
     },
     "execution_count": 29,
     "metadata": {},
     "output_type": "execute_result"
    }
   ],
   "source": [
    "# Producto de matrices triangulares inferiores\n",
    "np.dot(np.tril([[1, 2, 3], [4, 5, 6], [7, 8, 9]]), np.tril([[1, 2, 3], [4, 5, 6],[7, 8, 9]]))"
   ]
  },
  {
   "cell_type": "markdown",
   "metadata": {},
   "source": [
    "#### Matrices ortogonales \n",
    "\n",
    "Se dice que una matriz real A es ortogonal si cumple la siguiente ecuación: $AA^T = A^TA = I$ "
   ]
  },
  {
   "cell_type": "code",
   "execution_count": 20,
   "metadata": {},
   "outputs": [
    {
     "data": {
      "text/plain": [
       "array([[0, 1],\n",
       "       [1, 0]])"
      ]
     },
     "execution_count": 20,
     "metadata": {},
     "output_type": "execute_result"
    }
   ],
   "source": [
    "A = np.array([[0, 1],\n",
    "              [1, 0]])\n",
    "A"
   ]
  },
  {
   "cell_type": "code",
   "execution_count": 21,
   "metadata": {},
   "outputs": [
    {
     "data": {
      "text/plain": [
       "array([[0, 1],\n",
       "       [1, 0]])"
      ]
     },
     "execution_count": 21,
     "metadata": {},
     "output_type": "execute_result"
    }
   ],
   "source": [
    "A.T"
   ]
  },
  {
   "cell_type": "code",
   "execution_count": 22,
   "metadata": {},
   "outputs": [
    {
     "data": {
      "text/plain": [
       "array([[1, 0],\n",
       "       [0, 1]])"
      ]
     },
     "execution_count": 22,
     "metadata": {},
     "output_type": "execute_result"
    }
   ],
   "source": [
    "np.dot(A, A.T)"
   ]
  },
  {
   "cell_type": "code",
   "execution_count": 23,
   "metadata": {},
   "outputs": [
    {
     "data": {
      "text/plain": [
       "array([[1, 0],\n",
       "       [0, 1]])"
      ]
     },
     "execution_count": 23,
     "metadata": {},
     "output_type": "execute_result"
    }
   ],
   "source": [
    "np.dot(A.T, A) # Es ortogonal "
   ]
  },
  {
   "cell_type": "code",
   "execution_count": 24,
   "metadata": {},
   "outputs": [
    {
     "data": {
      "text/plain": [
       "array([[ 6, -3],\n",
       "       [ 3,  6]])"
      ]
     },
     "execution_count": 24,
     "metadata": {},
     "output_type": "execute_result"
    }
   ],
   "source": [
    "B = np.array([[6, -3],\n",
    "              [3,  6]])\n",
    "B"
   ]
  },
  {
   "cell_type": "code",
   "execution_count": 25,
   "metadata": {},
   "outputs": [
    {
     "data": {
      "text/plain": [
       "array([[ 6,  3],\n",
       "       [-3,  6]])"
      ]
     },
     "execution_count": 25,
     "metadata": {},
     "output_type": "execute_result"
    }
   ],
   "source": [
    "B.T"
   ]
  },
  {
   "cell_type": "code",
   "execution_count": 26,
   "metadata": {},
   "outputs": [
    {
     "data": {
      "text/plain": [
       "array([[45,  0],\n",
       "       [ 0, 45]])"
      ]
     },
     "execution_count": 26,
     "metadata": {},
     "output_type": "execute_result"
    }
   ],
   "source": [
    "np.dot(B, B.T)"
   ]
  },
  {
   "cell_type": "code",
   "execution_count": 27,
   "metadata": {},
   "outputs": [
    {
     "data": {
      "text/plain": [
       "array([[45,  0],\n",
       "       [ 0, 45]])"
      ]
     },
     "execution_count": 27,
     "metadata": {},
     "output_type": "execute_result"
    }
   ],
   "source": [
    "np.dot(B.T, B) # No es ortogonal"
   ]
  },
  {
   "cell_type": "code",
   "execution_count": 28,
   "metadata": {},
   "outputs": [],
   "source": [
    "################################################################################################################################"
   ]
  }
 ],
 "metadata": {
  "kernelspec": {
   "display_name": "venv",
   "language": "python",
   "name": "python3"
  },
  "language_info": {
   "codemirror_mode": {
    "name": "ipython",
    "version": 3
   },
   "file_extension": ".py",
   "mimetype": "text/x-python",
   "name": "python",
   "nbconvert_exporter": "python",
   "pygments_lexer": "ipython3",
   "version": "3.13.0"
  }
 },
 "nbformat": 4,
 "nbformat_minor": 4
}
