{
 "cells": [
  {
   "cell_type": "markdown",
   "id": "d0732f0a",
   "metadata": {},
   "source": [
    "## MySQL - Python\n",
    "\n",
    "```html\n",
    "pip install mysql-connector-python\n",
    "```\n",
    "\n",
    "Es un driver (controlador) de Python para MySQL, permite conectarse a una base de datos MySQL y realizar operaciones como consultas, inserciones, actualizaciones, eliminaciones y transacciones."
   ]
  },
  {
   "cell_type": "code",
   "execution_count": null,
   "id": "1e5a17c0",
   "metadata": {},
   "outputs": [],
   "source": [
    "import pandas as pd\n",
    "\n",
    "import mysql # Para ver la versión\n",
    "import mysql.connector"
   ]
  },
  {
   "cell_type": "code",
   "execution_count": null,
   "id": "154c1995-d062-400e-93ca-e255151839ee",
   "metadata": {},
   "outputs": [],
   "source": [
    "# Versiones\n",
    "\n",
    "print(f\"pandas=={pd.__version__}\")\n",
    "print(f\"mysql-connector-python=={mysql.__version__}\")"
   ]
  },
  {
   "cell_type": "markdown",
   "id": "e24f0803",
   "metadata": {},
   "source": [
    "**En este notebook usaremos la librería de MySQL para crear una base de datos, crear tablas y poblar la tabla usando Python y archivos de texto.**"
   ]
  },
  {
   "cell_type": "markdown",
   "id": "bcc9b72a",
   "metadata": {},
   "source": [
    "### Connector"
   ]
  },
  {
   "cell_type": "code",
   "execution_count": null,
   "id": "03067db6",
   "metadata": {},
   "outputs": [],
   "source": [
    "# Inicializar Connector\n",
    "\n",
    "db = mysql.connector.connect(host     = \"localhost\",\n",
    "                             user     = \"root\",\n",
    "                             password = \"password\",\n",
    "                             database = None)\n",
    "\n",
    "# Podemos cambiar el parámetro \"database\" por una base de datos que ya exista\n",
    "# Si no tenemos ninguna podemos omitir el parámetro\n",
    "# Si la base de datos ya existe podemos inicializar el Connector para usar específicamente esa base de datos.\n",
    "\n",
    "# Finalizar Connector - Cierra la conección entre Python y MySQL\n",
    "db.close()"
   ]
  },
  {
   "cell_type": "markdown",
   "id": "e4b59073",
   "metadata": {},
   "source": [
    "### Cursor"
   ]
  },
  {
   "cell_type": "code",
   "execution_count": null,
   "id": "0ab6ff1d",
   "metadata": {},
   "outputs": [],
   "source": [
    "# Inicializar Connector\n",
    "\n",
    "db = mysql.connector.connect(host     = \"localhost\",\n",
    "                             user     = \"root\",\n",
    "                             password = \"password\",\n",
    "                             database = None)\n",
    "\n",
    "\n",
    "# Iniciar Cursor\n",
    "cursor = db.cursor()\n",
    "\n",
    "# Un cursor es un objeto que se utiliza para interactuar con los resultados de una query de SQL\n",
    "\n",
    "# Finalizar Cursor - Cierra el cursor\n",
    "cursor.close()\n",
    "\n",
    "# Finalizar Connector\n",
    "db.close()"
   ]
  },
  {
   "cell_type": "markdown",
   "id": "d096f51d",
   "metadata": {},
   "source": [
    "### CREATE DATABASE\n",
    "\n",
    "Sintaxis SQL:\n",
    "\n",
    "```mysql\n",
    "CREATE DATABASE IF NOT EXISTS database_name;\n",
    "```"
   ]
  },
  {
   "cell_type": "code",
   "execution_count": null,
   "id": "48796f01",
   "metadata": {},
   "outputs": [],
   "source": [
    "# Inicializar Connector\n",
    "\n",
    "database = \"hab_ejemplo\"\n",
    "\n",
    "db = mysql.connector.connect(host     = \"localhost\",\n",
    "                             user     = \"root\",\n",
    "                             password = \"password\",\n",
    "                             database = None)\n",
    "\n",
    "\n",
    "# Iniciar Cursor\n",
    "cursor = db.cursor()\n",
    "\n",
    "# Creamos la BBDD con la setencia de SQL y usando la variable cursor\n",
    "cursor.execute(f\"CREATE DATABASE IF NOT EXISTS {database};\")\n",
    "\n",
    "# Finalizar Cursor - Cierra el cursor\n",
    "cursor.close()\n",
    "\n",
    "# Finalizar Connector\n",
    "db.close()"
   ]
  },
  {
   "cell_type": "code",
   "execution_count": null,
   "id": "ffcc8719",
   "metadata": {},
   "outputs": [],
   "source": [
    "# Función\n",
    "\n",
    "def create_database(database, host = \"localhost\", user = \"root\", password = \"password\"):\n",
    "    \n",
    "    db = mysql.connector.connect(host     = host,\n",
    "                                 user     = user,\n",
    "                                 password = password)\n",
    "\n",
    "    cursor = db.cursor()\n",
    "    \n",
    "    cursor.execute(f\"CREATE DATABASE IF NOT EXISTS {database};\")\n",
    "    \n",
    "    cursor.close()\n",
    "    db.close()"
   ]
  },
  {
   "cell_type": "markdown",
   "id": "4ae68ff7",
   "metadata": {},
   "source": [
    "### CREATE TABLE\n",
    "\n",
    "Sintaxis SQL:\n",
    "\n",
    "```mysql\n",
    "\n",
    " CREATE TABLE [IF NOT EXISTS] table_name(\n",
    "     table_id SMALLINT UNSIGNED AUTO_INCREMENT,\n",
    "     ...\n",
    "     ...\n",
    "     field_n INT;\n",
    " );\n",
    "\n",
    "```"
   ]
  },
  {
   "cell_type": "code",
   "execution_count": null,
   "id": "518e8228",
   "metadata": {},
   "outputs": [],
   "source": [
    "# Vamos a leer el archivo \"create_table_ejemplo_01.txt\"\n",
    "# En este archivo tenemos un ejemplo de como crear una tabla\n",
    "\n",
    "with open(\"create_table_ejemplo_01.txt\", \"r\") as file:\n",
    "    query = file.read()\n",
    "    \n",
    "print(query)"
   ]
  },
  {
   "cell_type": "code",
   "execution_count": null,
   "id": "dd6bea04",
   "metadata": {
    "scrolled": true
   },
   "outputs": [],
   "source": [
    "# Ahora usaremos la variable \"query\" para crear la tabla usando el cursor\n",
    "\n",
    "database = \"hab_ejemplo\"\n",
    "\n",
    "db = mysql.connector.connect(host     = \"localhost\",\n",
    "                             user     = \"root\",\n",
    "                             password = \"password\",\n",
    "                             database = database)\n",
    "\n",
    "cursor = db.cursor()\n",
    "\n",
    "cursor.execute(query)\n",
    "\n",
    "cursor.fetchall() # Vaciamos el cursor\n",
    "cursor.close()\n",
    "db.close()"
   ]
  },
  {
   "cell_type": "code",
   "execution_count": null,
   "id": "baafcc6c",
   "metadata": {},
   "outputs": [],
   "source": [
    "# Función\n",
    "\n",
    "def execute_query(query, database, host = \"localhost\", user = \"root\", password = \"password\"):\n",
    "    \n",
    "    db = mysql.connector.connect(host     = host,\n",
    "                                 user     = user,\n",
    "                                 password = password,\n",
    "                                 database = database)\n",
    "\n",
    "    cursor = db.cursor()\n",
    "\n",
    "    cursor.execute(query)\n",
    "\n",
    "    cursor.fetchall() # Vaciamos el cursor\n",
    "    cursor.close()\n",
    "    db.close()"
   ]
  },
  {
   "cell_type": "code",
   "execution_count": null,
   "id": "7c545af3",
   "metadata": {},
   "outputs": [],
   "source": [
    "# Vamos a probar con la otra tabla \"create_table_ejemplo_02.txt\"\n",
    "\n",
    "with open(\"create_table_ejemplo_02.txt\", \"r\") as file:\n",
    "    query = file.read()\n",
    "    \n",
    "print(query)"
   ]
  },
  {
   "cell_type": "code",
   "execution_count": null,
   "id": "715cea59",
   "metadata": {},
   "outputs": [],
   "source": [
    "database = \"hab_ejemplo\"\n",
    "\n",
    "execute_query(query = query, database = database)"
   ]
  },
  {
   "cell_type": "markdown",
   "id": "e2368bf1",
   "metadata": {},
   "source": [
    "### SELECT FROM\n",
    "\n",
    "Sintaxis SQL:\n",
    "\n",
    "```mysql\n",
    " SELECT\n",
    "     *\n",
    " FROM\n",
    "     table_name;\n",
    "```"
   ]
  },
  {
   "cell_type": "code",
   "execution_count": null,
   "id": "ae5f00ae",
   "metadata": {},
   "outputs": [],
   "source": [
    "# Vamos a hacer una query sencilla para extraer los datos de esta tabla.\n",
    "# Más adelante veremos la clausula SELECT\n",
    "# El * es un \"comodín\" que significa \"Seleccionar todas las columnas\"\n",
    "\n",
    "table_name = \"persona\"\n",
    "\n",
    "query = f\"\"\"SELECT * FROM {table_name};\"\"\"\n",
    "\n",
    "print(query)"
   ]
  },
  {
   "cell_type": "code",
   "execution_count": null,
   "id": "a587f9ad",
   "metadata": {},
   "outputs": [],
   "source": [
    "# Ahora usaremos la variable \"query\" para leer la tabla usando el cursor\n",
    "\n",
    "database = \"hab_ejemplo\"\n",
    "\n",
    "db = mysql.connector.connect(host     = \"localhost\",\n",
    "                             user     = \"root\",\n",
    "                             password = \"password\",\n",
    "                             database = database)\n",
    "\n",
    "cursor = db.cursor()\n",
    "\n",
    "cursor.execute(query) # Ejecutamos la query\n",
    "column_names = cursor.column_names # Nombre de las columnas de la tabla\n",
    "\n",
    "# Guardamos los datos de la tabla\n",
    "data = cursor.fetchall()\n",
    "\n",
    "# Imprimimos el resultado\n",
    "for all_ in data:\n",
    "    print(all_)\n",
    "\n",
    "cursor.close()\n",
    "db.close()"
   ]
  },
  {
   "cell_type": "code",
   "execution_count": null,
   "id": "beafdff1",
   "metadata": {},
   "outputs": [],
   "source": [
    "# Como la tabla está vacía al imprimir la variable \"data\" no tendremos datos\n",
    "\n",
    "print(data)"
   ]
  },
  {
   "cell_type": "code",
   "execution_count": null,
   "id": "a2a7ed47",
   "metadata": {},
   "outputs": [],
   "source": [
    "# Pero como si existen las columnas en MySQL podemos imprimir los nombres de las columnas\n",
    "\n",
    "column_names"
   ]
  },
  {
   "cell_type": "code",
   "execution_count": null,
   "id": "94564da5",
   "metadata": {},
   "outputs": [],
   "source": [
    "# Con ambas variables podemos crear un DataFrame\n",
    "# En este ejemplo el DataFrame estará vacío\n",
    "\n",
    "pd.DataFrame(data = data, columns = column_names)"
   ]
  },
  {
   "cell_type": "code",
   "execution_count": null,
   "id": "dd6b6a7a",
   "metadata": {},
   "outputs": [],
   "source": [
    "# Función\n",
    "\n",
    "def select_from_table(query, database, host = \"localhost\", user = \"root\", password = \"password\"):\n",
    "\n",
    "    db = mysql.connector.connect(host     = \"localhost\",\n",
    "                                 user     = \"root\",\n",
    "                                 password = \"password\",\n",
    "                                 database = database)\n",
    "\n",
    "    cursor = db.cursor()\n",
    "\n",
    "    cursor.execute(query) # Ejecutamos la query\n",
    "    column_names = cursor.column_names # Nombre de las columnas de la tabla\n",
    "\n",
    "    # Guardamos los datos de la tabla\n",
    "    data = cursor.fetchall()\n",
    "\n",
    "    cursor.close()\n",
    "    db.close()\n",
    "    \n",
    "    return data, column_names"
   ]
  },
  {
   "cell_type": "code",
   "execution_count": null,
   "id": "581d4759",
   "metadata": {},
   "outputs": [],
   "source": [
    "# Usamos la función\n",
    "# En este ejemplo el DataFrame estará vacío\n",
    "\n",
    "table_name = \"persona\"\n",
    "\n",
    "query = f\"\"\"SELECT * FROM {table_name};\"\"\"\n",
    "\n",
    "database = \"hab_ejemplo\"\n",
    "\n",
    "data, column_names = select_from_table(query = query, database = database)\n",
    "\n",
    "pd.DataFrame(data = data, columns = column_names)"
   ]
  },
  {
   "cell_type": "markdown",
   "id": "ba50d225",
   "metadata": {},
   "source": [
    "### INSERT INTO VALUES\n",
    "\n",
    "Sintaxis SQL:\n",
    "\n",
    "```mysql\n",
    "\n",
    " INSERT INTO table_name (col1, col2, ..., coln)\n",
    " VALUES (val1, val2, ..., valn);\n",
    "\n",
    "```\n",
    "\n",
    "También se puede escribir:\n",
    "\n",
    "```mysql\n",
    "\n",
    " INSERT INTO table_name (col1, col2, ..., coln)\n",
    " VALUES (val1, val2, ..., valn),\n",
    " VALUES (val1, val2, ..., valn),\n",
    " VALUES (val1, val2, ..., valn),\n",
    " ...\n",
    " VALUES (val1, val2, ..., valn);\n",
    "\n",
    "```\n",
    "\n",
    "Para _**INSERT INTO VALUES**_ usaremos el método `.executemany()` del cursor."
   ]
  },
  {
   "cell_type": "code",
   "execution_count": null,
   "id": "b5427aef",
   "metadata": {},
   "outputs": [],
   "source": [
    "# Primero escribiremos la linea de INSERT INTO en código, usando la variable \"column_names\"\n",
    "\n",
    "insert_into = f\"INSERT INTO {table_name} ({', '.join(column_names)})\"\n",
    "\n",
    "print(insert_into)"
   ]
  },
  {
   "cell_type": "code",
   "execution_count": null,
   "id": "63a8085d",
   "metadata": {},
   "outputs": [],
   "source": [
    "# Ahora escribiremos la segunda parte, llenando con \"%s\" donde deberían ir los valores\n",
    "\n",
    "values = f\"VALUES ({', '.join(['%s' for _ in column_names])})\"\n",
    "\n",
    "print(values)\n",
    "\n",
    "# Esto lo hacemos siguendo la documentación de la librería\n",
    "# Es la forma en la que el método .executemany() del cursor funciona."
   ]
  },
  {
   "cell_type": "code",
   "execution_count": null,
   "id": "9f039490",
   "metadata": {},
   "outputs": [],
   "source": [
    "# Uniendo todo\n",
    "\n",
    "insert_into_values = f\"INSERT INTO {table_name} ({', '.join(column_names)}) VALUES ({', '.join(['%s' for _ in column_names])})\".replace(\"'\", \"\")\n",
    "\n",
    "print(insert_into_values)\n",
    "\n",
    "# El resultado de esta variable cambiará dependiendo de los nombres y la cantida de las columnas\n",
    "# Se agrega .replace(\"'\", \"\") para que no exista conflicto en MySQL al leer la query."
   ]
  },
  {
   "cell_type": "code",
   "execution_count": null,
   "id": "eb0dbcb6",
   "metadata": {},
   "outputs": [],
   "source": [
    "# Ahora llenaremos la tabla persona con los siguientes datos:\n",
    "\n",
    "df_persona = pd.read_csv(\"datos_tabla_persona.csv\")\n",
    "\n",
    "df_persona"
   ]
  },
  {
   "cell_type": "code",
   "execution_count": null,
   "id": "5d384cb0",
   "metadata": {},
   "outputs": [],
   "source": [
    "# Ejemplo de INSERT INTO VALUES \n",
    "\n",
    "database = \"hab_ejemplo\"\n",
    "table_name = \"persona\"\n",
    "\n",
    "db = mysql.connector.connect(host     = \"localhost\",\n",
    "                             user     = \"root\",\n",
    "                             password = \"password\",\n",
    "                             database = database)\n",
    "\n",
    "cursor = db.cursor()\n",
    "\n",
    "# Seleccionamos las columnas de la tabla, omitiendo la Primary Key\n",
    "cursor.execute(f\"SELECT * FROM {table_name} LIMIT 0;\")\n",
    "column_names = cursor.column_names[1:]\n",
    "cursor.fetchall()\n",
    "\n",
    "\n",
    "insert_query = f\"INSERT INTO {table_name} ({', '.join(column_names)}) VALUES ({', '.join(['%s' for _ in column_names])})\".replace(\"'\", \"\")\n",
    "values = [tuple(row) for row in df_persona.values] # Aquí \"casteamos\" cada fila en el df para que sea una tupla\n",
    "\n",
    "\n",
    "# .executemany ejecuta el query de INSERT INTO con cada uno de los elementos de \"values\"\n",
    "cursor.executemany(insert_query, values)\n",
    "\n",
    "# Guarda los resultados\n",
    "db.commit()\n",
    "\n",
    "print(f\"Añadidas: {cursor.rowcount} filas\")\n",
    "\n",
    "cursor.fetchall() # Vaciamos el cursor\n",
    "cursor.close()\n",
    "db.close()"
   ]
  },
  {
   "cell_type": "code",
   "execution_count": null,
   "id": "fa711e50",
   "metadata": {},
   "outputs": [],
   "source": [
    "# Con datos ya en la tabla podemos hacer un SELECT\n",
    "\n",
    "table_name = \"persona\"\n",
    "\n",
    "query = f\"\"\"SELECT * FROM {table_name};\"\"\"\n",
    "\n",
    "database = \"hab_ejemplo\"\n",
    "\n",
    "data, column_names = select_from_table(query = query, database = database)\n",
    "\n",
    "pd.DataFrame(data = data, columns = column_names)"
   ]
  },
  {
   "cell_type": "code",
   "execution_count": null,
   "id": "beda2eff",
   "metadata": {},
   "outputs": [],
   "source": [
    "# Función\n",
    "\n",
    "def insert_to_table(data, table, database, host = \"localhost\", user = \"root\", password = \"password\"):\n",
    "    \n",
    "    db = mysql.connector.connect(host     = host,\n",
    "                                 user     = user,\n",
    "                                 password = password,\n",
    "                                 database = database)\n",
    "    cursor = db.cursor()\n",
    "\n",
    "    # Seleccionamos las columnas de la tabla, omitiendo la Primary Key\n",
    "    cursor.execute(f\"SELECT * FROM {table} LIMIT 0;\")\n",
    "    column_names = cursor.column_names[1:]\n",
    "    cursor.fetchall()\n",
    "\n",
    "    insert_query = f\"INSERT INTO {table} ({', '.join(column_names)}) VALUES ({', '.join(['%s' for _ in column_names])})\".replace(\"'\", \"\")\n",
    "    values = [tuple(row) for row in data]\n",
    "\n",
    "    # .executemany ejecuta el query de INSERT INTO con cada uno de los elementos de \"values\"\n",
    "    cursor.executemany(insert_query, values)\n",
    "    \n",
    "    # Guarda los resultados\n",
    "    db.commit()\n",
    "\n",
    "    print(f\"Añadidas: {cursor.rowcount} filas\")\n",
    "\n",
    "    cursor.fetchall() # Vaciamos el cursor\n",
    "    cursor.close()\n",
    "    db.close()"
   ]
  },
  {
   "cell_type": "code",
   "execution_count": null,
   "id": "932a56cd",
   "metadata": {},
   "outputs": [],
   "source": [
    "# Repetimos y añadimos las mismas 10 filas\n",
    "\n",
    "data = pd.read_csv(\"datos_tabla_persona.csv\").values\n",
    "table = \"persona\"\n",
    "database = \"hab_ejemplo\"\n",
    "\n",
    "insert_to_table(data = data, table = table, database = database)"
   ]
  },
  {
   "cell_type": "code",
   "execution_count": null,
   "id": "8934b3b8",
   "metadata": {},
   "outputs": [],
   "source": [
    "# Verificamos\n",
    "\n",
    "table_name = \"persona\"\n",
    "\n",
    "query = f\"\"\"SELECT * FROM {table_name};\"\"\"\n",
    "\n",
    "database = \"hab_ejemplo\"\n",
    "\n",
    "data, column_names = select_from_table(query = query, database = database)\n",
    "\n",
    "pd.DataFrame(data = data, columns = column_names)"
   ]
  },
  {
   "cell_type": "code",
   "execution_count": null,
   "id": "bde76e39",
   "metadata": {},
   "outputs": [],
   "source": [
    "################################################################################################################################"
   ]
  }
 ],
 "metadata": {
  "kernelspec": {
   "display_name": "Python 3 (ipykernel)",
   "language": "python",
   "name": "python3"
  },
  "language_info": {
   "codemirror_mode": {
    "name": "ipython",
    "version": 3
   },
   "file_extension": ".py",
   "mimetype": "text/x-python",
   "name": "python",
   "nbconvert_exporter": "python",
   "pygments_lexer": "ipython3",
   "version": "3.12.3"
  }
 },
 "nbformat": 4,
 "nbformat_minor": 5
}
